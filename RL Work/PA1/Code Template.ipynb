{
  "cells": [
    {
      "cell_type": "code",
      "execution_count": 1,
      "metadata": {
        "id": "SpXfJ6XXLtTe"
      },
      "outputs": [],
      "source": [
        "from math import floor\n",
        "import numpy as np\n",
        "import matplotlib.pyplot as plt\n",
        "from matplotlib import colors\n",
        "\n",
        "def row_col_to_seq(row_col, num_cols):  #Converts state number to row_column format\n",
        "    return row_col[:,0] * num_cols + row_col[:,1]\n",
        "\n",
        "def seq_to_col_row(seq, num_cols): #Converts row_column format to state number\n",
        "    r = floor(seq / num_cols)\n",
        "    c = seq - r * num_cols\n",
        "    return np.array([[r, c]])\n",
        "class GridWorld:\n",
        "    \"\"\"\n",
        "    Creates a gridworld object to pass to an RL algorithm.\n",
        "    Parameters\n",
        "    ----------\n",
        "    num_rows : int\n",
        "        The number of rows in the gridworld.\n",
        "    num_cols : int\n",
        "        The number of cols in the gridworld.\n",
        "    start_state : numpy array of shape (1, 2), np.array([[row, col]])\n",
        "        The start state of the gridworld (can only be one start state)\n",
        "    goal_states : numpy arrany of shape (n, 2)\n",
        "        The goal states for the gridworld where n is the number of goal\n",
        "        states.\n",
        "    \"\"\"\n",
        "    def __init__(self, num_rows, num_cols, start_state, goal_states, wind = False):\n",
        "        self.num_rows = num_rows\n",
        "        self.num_cols = num_cols\n",
        "        self.start_state = start_state\n",
        "        self.goal_states = goal_states\n",
        "        self.obs_states = None\n",
        "        self.bad_states = None\n",
        "        self.num_bad_states = 0\n",
        "        self.p_good_trans = None\n",
        "        self.bias = None\n",
        "        self.r_step = None\n",
        "        self.r_goal = None\n",
        "        self.r_dead = None\n",
        "        self.gamma = 1 # default is no discounting\n",
        "        self.wind = wind\n",
        "\n",
        "    def add_obstructions(self, obstructed_states=None, bad_states=None, restart_states=None):\n",
        "\n",
        "        self.obs_states = obstructed_states\n",
        "        self.bad_states = bad_states\n",
        "        if bad_states is not None:\n",
        "            self.num_bad_states = bad_states.shape[0]\n",
        "        else:\n",
        "            self.num_bad_states = 0\n",
        "        self.restart_states = restart_states\n",
        "        if restart_states is not None:\n",
        "            self.num_restart_states = restart_states.shape[0]\n",
        "        else:\n",
        "            self.num_restart_states = 0\n",
        "\n",
        "    def add_transition_probability(self, p_good_transition, bias):\n",
        "\n",
        "        self.p_good_trans = p_good_transition\n",
        "        self.bias = bias\n",
        "\n",
        "    def add_rewards(self, step_reward, goal_reward, bad_state_reward=None, restart_state_reward = None):\n",
        "\n",
        "        self.r_step = step_reward\n",
        "        self.r_goal = goal_reward\n",
        "        self.r_bad = bad_state_reward\n",
        "        self.r_restart = restart_state_reward\n",
        "\n",
        "\n",
        "    def create_gridworld(self):\n",
        "\n",
        "        self.num_actions = 4\n",
        "        self.num_states = self.num_cols * self.num_rows# +1\n",
        "        self.start_state_seq = row_col_to_seq(self.start_state, self.num_cols)\n",
        "        self.goal_states_seq = row_col_to_seq(self.goal_states, self.num_cols)\n",
        "\n",
        "        # rewards structure\n",
        "        self.R = self.r_step * np.ones((self.num_states, 1))\n",
        "        #self.R[self.num_states-1] = 0\n",
        "        self.R[self.goal_states_seq] = self.r_goal\n",
        "        \n",
        "        for i in range(self.num_bad_states):\n",
        "            if self.r_bad is None:\n",
        "                raise Exception(\"Bad state specified but no reward is given\")\n",
        "            bad_state = row_col_to_seq(self.bad_states[i,:].reshape(1,-1), self.num_cols)\n",
        "            #print(\"bad states\", bad_state)\n",
        "            self.R[bad_state, :] = self.r_bad\n",
        "        for i in range(self.num_restart_states):\n",
        "            if self.r_restart is None:\n",
        "                raise Exception(\"Restart state specified but no reward is given\")\n",
        "            restart_state = row_col_to_seq(self.restart_states[i,:].reshape(1,-1), self.num_cols)\n",
        "            #print(\"restart_state\", restart_state)\n",
        "            self.R[restart_state, :] = self.r_restart\n",
        "\n",
        "        # probability model\n",
        "        if self.p_good_trans == None:\n",
        "            raise Exception(\"Must assign probability and bias terms via the add_transition_probability method.\")\n",
        "\n",
        "        self.P = np.zeros((self.num_states,self.num_states,self.num_actions))\n",
        "        for action in range(self.num_actions):\n",
        "            for state in range(self.num_states):\n",
        "\n",
        "\n",
        "                # check if the state is the goal state or an obstructed state - transition to end\n",
        "                row_col = seq_to_col_row(state, self.num_cols)\n",
        "                if self.obs_states is not None:\n",
        "                    end_states = np.vstack((self.obs_states, self.goal_states))\n",
        "                else:\n",
        "                    end_states = self.goal_states\n",
        "\n",
        "                if any(np.sum(np.abs(end_states-row_col), 1) == 0):\n",
        "                    self.P[state, state, action] = 1\n",
        "\n",
        "                # else consider stochastic effects of action\n",
        "                else:\n",
        "                    for dir in range(-1,2,1):\n",
        "                        \n",
        "                        direction = self._get_direction(action, dir)\n",
        "                        next_state = self._get_state(state, direction)\n",
        "                        if dir == 0:\n",
        "                            prob = self.p_good_trans\n",
        "                        elif dir == -1:\n",
        "                            prob = (1 - self.p_good_trans)*(self.bias)\n",
        "                        elif dir == 1:\n",
        "                            prob = (1 - self.p_good_trans)*(1-self.bias)\n",
        "\n",
        "                        self.P[state, next_state, action] += prob\n",
        "\n",
        "                # make restart states transition back to the start state with\n",
        "                # probability 1\n",
        "                if self.restart_states is not None:\n",
        "                    if any(np.sum(np.abs(self.restart_states-row_col),1)==0):\n",
        "                        next_state = row_col_to_seq(self.start_state, self.num_cols)\n",
        "                        self.P[state,:,:] = 0\n",
        "                        self.P[state,next_state,:] = 1\n",
        "        return self\n",
        "\n",
        "    def _get_direction(self, action, direction):\n",
        "\n",
        "        left = [2,3,1,0]\n",
        "        right = [3,2,0,1]\n",
        "        if direction == 0:\n",
        "            new_direction = action\n",
        "        elif direction == -1:\n",
        "            new_direction = left[action]\n",
        "        elif direction == 1:\n",
        "            new_direction = right[action]\n",
        "        else:\n",
        "            raise Exception(\"getDir received an unspecified case\")\n",
        "        return new_direction\n",
        "\n",
        "    def _get_state(self, state, direction):\n",
        "\n",
        "        row_change = [-1,1,0,0]\n",
        "        col_change = [0,0,-1,1]\n",
        "        row_col = seq_to_col_row(state, self.num_cols)\n",
        "        row_col[0,0] += row_change[direction]\n",
        "        row_col[0,1] += col_change[direction]\n",
        "\n",
        "        # check for invalid states\n",
        "        if self.obs_states is not None:\n",
        "            if (np.any(row_col < 0) or\n",
        "                np.any(row_col[:,0] > self.num_rows-1) or\n",
        "                np.any(row_col[:,1] > self.num_cols-1) or\n",
        "                np.any(np.sum(abs(self.obs_states - row_col), 1)==0)):\n",
        "                next_state = state\n",
        "            else:\n",
        "                next_state = row_col_to_seq(row_col, self.num_cols)[0]\n",
        "        else:\n",
        "            if (np.any(row_col < 0) or\n",
        "                np.any(row_col[:,0] > self.num_rows-1) or\n",
        "                np.any(row_col[:,1] > self.num_cols-1)):\n",
        "                next_state = state\n",
        "            else:\n",
        "                next_state = row_col_to_seq(row_col, self.num_cols)[0]\n",
        "\n",
        "        return next_state\n",
        "\n",
        "    def reset(self):\n",
        "      return int(self.start_state_seq)\n",
        "      \n",
        "    def step(self, state, action):\n",
        "        p, r = 0, np.random.random()\n",
        "        for next_state in range(self.num_states):\n",
        "            \n",
        "            p += self.P[state, next_state, action]\n",
        "            \n",
        "            if r <= p:\n",
        "                break\n",
        "\n",
        "        if(self.wind and np.random.random() < 0.4):\n",
        "\n",
        "          arr = self.P[next_state, :, 3]\n",
        "          next_next = np.where(arr == np.amax(arr))\n",
        "          next_next = next_next[0][0]\n",
        "          return next_next, self.R[next_next]\n",
        "        else:\n",
        "          return next_state, self.R[next_state]\n"
      ]
    },
    {
      "cell_type": "code",
      "execution_count": 2,
      "metadata": {
        "id": "BqE09JUiL1B8"
      },
      "outputs": [],
      "source": [
        "# specify world parameters\n",
        "num_cols = 10\n",
        "num_rows = 10\n",
        "obstructions = np.array([[0,7],[1,1],[1,2],[1,3],[1,7],[2,1],[2,3],\n",
        "                         [2,7],[3,1],[3,3],[3,5],[4,3],[4,5],[4,7],\n",
        "                         [5,3],[5,7],[5,9],[6,3],[6,9],[7,1],[7,6],\n",
        "                         [7,7],[7,8],[7,9],[8,1],[8,5],[8,6],[9,1]])\n",
        "bad_states = np.array([[1,9],[4,2],[4,4],[7,5],[9,9]])\n",
        "restart_states = np.array([[3,7],[8,2]])\n",
        "start_state = np.array([[3,6]])\n",
        "goal_states = np.array([[0,9],[2,2],[8,7]])\n",
        "\n",
        "# create model\n",
        "gw = GridWorld(num_rows=num_rows,\n",
        "               num_cols=num_cols,\n",
        "               start_state=start_state,\n",
        "               goal_states=goal_states, wind = False)\n",
        "gw.add_obstructions(obstructed_states=obstructions,\n",
        "                    bad_states=bad_states,\n",
        "                    restart_states=restart_states)\n",
        "gw.add_rewards(step_reward=-1,\n",
        "               goal_reward=10,\n",
        "               bad_state_reward=-6,\n",
        "               restart_state_reward=-100)\n",
        "gw.add_transition_probability(p_good_transition=0.7,\n",
        "                              bias=0.5)\n",
        "env = gw.create_gridworld()"
      ]
    },
    {
      "cell_type": "code",
      "execution_count": 3,
      "metadata": {
        "colab": {
          "base_uri": "https://localhost:8080/"
        },
        "id": "0UdRce8oMZNb",
        "outputId": "52e335f9-c5c9-44a8-ecbb-e6901b0e2068"
      },
      "outputs": [
        {
          "name": "stdout",
          "output_type": "stream",
          "text": [
            "Number of actions 4\n",
            "Number of states 100\n",
            "start state [36]\n",
            "goal state(s) [ 9 22 87]\n"
          ]
        }
      ],
      "source": [
        "print(\"Number of actions\", env.num_actions) #0 -> UP, 1-> DOWN, 2 -> LEFT, 3-> RIGHT\n",
        "print(\"Number of states\", env.num_states)\n",
        "print(\"start state\", env.start_state_seq)\n",
        "print(\"goal state(s)\", env.goal_states_seq)"
      ]
    },
    {
      "cell_type": "code",
      "execution_count": 4,
      "metadata": {
        "colab": {
          "base_uri": "https://localhost:8080/"
        },
        "id": "9hacJEN8R_Bb",
        "outputId": "ffb6415f-7f5a-4c7b-d256-ccc99eca6823"
      },
      "outputs": [
        {
          "data": {
            "text/plain": [
              "array([0.85, 0.15, 0.  , 0.  , 0.  , 0.  , 0.  , 0.  , 0.  , 0.  , 0.  ,\n",
              "       0.  , 0.  , 0.  , 0.  , 0.  , 0.  , 0.  , 0.  , 0.  , 0.  , 0.  ,\n",
              "       0.  , 0.  , 0.  , 0.  , 0.  , 0.  , 0.  , 0.  , 0.  , 0.  , 0.  ,\n",
              "       0.  , 0.  , 0.  , 0.  , 0.  , 0.  , 0.  , 0.  , 0.  , 0.  , 0.  ,\n",
              "       0.  , 0.  , 0.  , 0.  , 0.  , 0.  , 0.  , 0.  , 0.  , 0.  , 0.  ,\n",
              "       0.  , 0.  , 0.  , 0.  , 0.  , 0.  , 0.  , 0.  , 0.  , 0.  , 0.  ,\n",
              "       0.  , 0.  , 0.  , 0.  , 0.  , 0.  , 0.  , 0.  , 0.  , 0.  , 0.  ,\n",
              "       0.  , 0.  , 0.  , 0.  , 0.  , 0.  , 0.  , 0.  , 0.  , 0.  , 0.  ,\n",
              "       0.  , 0.  , 0.  , 0.  , 0.  , 0.  , 0.  , 0.  , 0.  , 0.  , 0.  ,\n",
              "       0.  ])"
            ]
          },
          "execution_count": 4,
          "metadata": {},
          "output_type": "execute_result"
        }
      ],
      "source": [
        "env.P[0,:,0]"
      ]
    },
    {
      "cell_type": "code",
      "execution_count": 5,
      "metadata": {
        "id": "z0Z_wFNfDP52"
      },
      "outputs": [],
      "source": [
        "from scipy.special import softmax\n",
        "\n",
        "seed = 42\n",
        "rg = np.random.RandomState(seed)\n",
        "\n",
        "# Epsilon greedy\n",
        "def choose_action_epsilon(env,Q, state, epsilon=0.1, rg=rg):\n",
        "    if not Q[int(state/(env.num_cols)), state%(env.num_cols)].any() or rg.rand() < epsilon:\n",
        "        return rg.choice(Q.shape[-1])\n",
        "    else:\n",
        "        return np.argmax(Q[int(state/(env.num_cols)), state%(env.num_cols)])\n",
        "\n",
        "# Softmax\n",
        "def choose_action_softmax(env,Q, state, rg=rg, temp=1):\n",
        "    return rg.choice(Q.shape[-1], p = softmax(Q[int(state/(env.num_cols)), state%(env.num_cols)] / temp))"
      ]
    },
    {
      "cell_type": "code",
      "execution_count": 6,
      "metadata": {
        "id": "9550aROEFsTy"
      },
      "outputs": [],
      "source": [
        "Q = np.zeros((env.num_rows, env.num_cols, env.num_actions))\n",
        "\n",
        "alpha = 0.4\n",
        "gamma = 0.9\n",
        "epsilon = 0.1\n",
        "timesteps = 100\n",
        "episodes = 10000"
      ]
    },
    {
      "cell_type": "code",
      "execution_count": 9,
      "metadata": {
        "id": "5xbH4s5m4euZ"
      },
      "outputs": [],
      "source": [
        "DOWN = 0\n",
        "UP = 1\n",
        "LEFT = 2\n",
        "RIGHT = 3\n",
        "def plot_Q(Q, message = \"Q plot\"):\n",
        "    plt.figure(figsize=(10,10))\n",
        "    plt.title(message)\n",
        "    plt.pcolor(Q.max(-1), edgecolors='k', linewidths=2)\n",
        "    plt.colorbar()\n",
        "    def x_direct(a):\n",
        "        if a in [UP, DOWN]:\n",
        "            return 0\n",
        "        return 1 if a == RIGHT else -1\n",
        "    def y_direct(a):\n",
        "        if a in [RIGHT, LEFT]:\n",
        "            return 0\n",
        "        return 1 if a == UP else -1\n",
        "    policy = Q.argmax(-1)\n",
        "    policyx = np.vectorize(x_direct)(policy)\n",
        "    policyy = np.vectorize(y_direct)(policy)\n",
        "    idx = np.indices(policy.shape)\n",
        "    plt.quiver(idx[1].ravel()+0.5, idx[0].ravel()+0.5, policyx.ravel(), policyy.ravel(), pivot=\"middle\", color='red')\n",
        "    plt.show()\n",
        "from IPython.display import clear_output\n",
        "clear_output(wait=True)"
      ]
    },
    {
      "cell_type": "code",
      "execution_count": 10,
      "metadata": {
        "id": "elgVvvFROUTZ"
      },
      "outputs": [],
      "source": [
        "print_freq = 100\n",
        "from tqdm import tqdm\n",
        "\n",
        "def sarsa(env,Q,gamma,choose_action,plot_heat = False,max_timesteps=100) :\n",
        "  episode_rewards = []\n",
        "  state_visit_count = np.zeros((env.num_rows, env.num_cols))\n",
        "  steps_to_completion = []\n",
        "  steps = 0\n",
        "\n",
        "  # start temp\n",
        "  temp = 1e20\n",
        "  t_grad = 0.99\n",
        "\n",
        "  for steps in tqdm(range(episodes)) :\n",
        "    timesteps=0\n",
        "    env.reset()\n",
        "    current_state = env.start_state_seq[0]\n",
        "    current_action = choose_action(env,Q,current_state)\n",
        "    rewards = []\n",
        "    tot_reward = 0 \n",
        "    while timesteps<max_timesteps :\n",
        "      timesteps+=1\n",
        "      next_state,reward = env.step(current_state,current_action)\n",
        "      next_action = choose_action(env,Q,next_state)\n",
        "      Q[int(current_state/(env.num_cols)), current_state%(env.num_cols), current_action] += alpha*(reward + gamma*Q[int(next_state/(env.num_cols)), next_state%(env.num_cols), next_action] - Q[int(current_state/(env.num_cols)), current_state%(env.num_cols), current_action])\n",
        "      rewards.append(reward[0])\n",
        "      tot_reward = tot_reward + reward[0]\n",
        "      if reward == env.r_goal :\n",
        "        break\n",
        "      current_state = next_state\n",
        "      current_action = next_action\n",
        "      state_visit_count[int(current_state/(env.num_cols)), current_state%(env.num_cols)]+=1\n",
        "    episode_rewards.append(tot_reward)\n",
        "    steps_to_completion.append(timesteps)\n",
        "    temp = temp * t_grad\n",
        "\n",
        "    if (steps+1)%print_freq == 0 and plot_heat:\n",
        "      clear_output(wait=True)\n",
        "      plot_Q(Q, message = \"Episode %d: Reward: %f, Steps: %.2f, Qmax: %.2f, Qmin: %.2f, Temp: %.2f\"%(steps+1, np.mean(episode_rewards[steps-print_freq+1:steps]),\n",
        "                                                                           np.mean(steps_to_completion[steps-print_freq+1:steps]),\n",
        "                                                                           Q.max(), Q.min(), temp))\n",
        "  return Q, episode_rewards, steps_to_completion,state_visit_count"
      ]
    },
    {
      "cell_type": "code",
      "execution_count": 9,
      "metadata": {
        "colab": {
          "base_uri": "https://localhost:8080/",
          "height": 362
        },
        "id": "irm8zk9IDPdz",
        "outputId": "6b78a94f-56f5-4f11-873f-2ec77cb78b72"
      },
      "outputs": [
        {
          "data": {
            "image/png": "[encoded data removed]",
            "text/plain": [
              "<Figure size 720x720 with 2 Axes>"
            ]
          },
          "metadata": {
            "needs_background": "light"
          },
          "output_type": "display_data"
        },
        {
          "name": "stderr",
          "output_type": "stream",
          "text": [
            "100%|██████████| 20000/20000 [03:45<00:00, 88.87it/s] \n"
          ]
        }
      ],
      "source": [
        "Q = np.zeros((env.num_rows, env.num_cols, env.num_actions))\n",
        "\n",
        "alpha = 0.4\n",
        "gamma = 0.9\n",
        "epsilon = 0.1\n",
        "timesteps = 100\n",
        "episodes = 20000\n",
        "\n",
        "Q,episode_rewards,steps_to_completion,state_visit_count = sarsa(env, Q, gamma = gamma, choose_action= choose_action_softmax,plot_heat = True)"
      ]
    },
    {
      "cell_type": "code",
      "execution_count": 10,
      "metadata": {
        "colab": {
          "base_uri": "https://localhost:8080/"
        },
        "id": "Q5ie1tEu7Iq0",
        "outputId": "b26a3acf-6988-4f25-9745-073061e9c4f5"
      },
      "outputs": [
        {
          "name": "stdout",
          "output_type": "stream",
          "text": [
            "[[1.58130e+04 2.16260e+04 2.71410e+04 3.48000e+04 4.41240e+04 5.04630e+04\n",
            "  5.46200e+04 0.00000e+00 2.69900e+03 0.00000e+00]\n",
            " [1.18060e+04 0.00000e+00 0.00000e+00 0.00000e+00 4.73670e+04 5.35540e+04\n",
            "  6.04350e+04 0.00000e+00 3.51100e+03 2.97300e+03]\n",
            " [9.30600e+03 0.00000e+00 0.00000e+00 0.00000e+00 4.32530e+04 5.66870e+04\n",
            "  7.58320e+04 0.00000e+00 2.95500e+03 4.74100e+03]\n",
            " [7.45800e+03 0.00000e+00 5.86600e+03 0.00000e+00 1.68290e+04 0.00000e+00\n",
            "  1.59791e+05 6.00000e+00 4.78400e+03 6.96000e+03]\n",
            " [4.72500e+03 4.73200e+03 5.97900e+03 0.00000e+00 1.98800e+03 0.00000e+00\n",
            "  6.87990e+04 0.00000e+00 7.83700e+03 3.83200e+03]\n",
            " [2.45900e+03 3.48800e+03 5.02500e+03 0.00000e+00 1.60510e+04 2.71330e+04\n",
            "  3.98660e+04 0.00000e+00 1.08050e+04 0.00000e+00]\n",
            " [1.35800e+03 2.61400e+03 5.55600e+03 0.00000e+00 2.35850e+04 1.56340e+04\n",
            "  2.31950e+04 1.81010e+04 1.37570e+04 0.00000e+00]\n",
            " [6.67000e+02 0.00000e+00 4.37400e+03 1.30890e+04 1.49190e+04 2.00600e+03\n",
            "  0.00000e+00 0.00000e+00 0.00000e+00 0.00000e+00]\n",
            " [4.71000e+02 0.00000e+00 9.00000e+00 7.83100e+03 1.29970e+04 0.00000e+00\n",
            "  0.00000e+00 0.00000e+00 4.28000e+02 2.30000e+01]\n",
            " [3.90000e+02 0.00000e+00 6.98000e+02 1.98200e+03 1.15550e+04 1.11170e+04\n",
            "  1.25790e+04 9.58000e+03 1.87200e+03 4.30000e+01]]\n"
          ]
        }
      ],
      "source": [
        "print(state_visit_count)"
      ]
    },
    {
      "cell_type": "code",
      "execution_count": 11,
      "metadata": {
        "colab": {
          "base_uri": "https://localhost:8080/",
          "height": 265
        },
        "id": "OyeLFRVq0sUA",
        "outputId": "caea39b5-1a65-4883-b3be-f0a51684289d"
      },
      "outputs": [
        {
          "data": {
            "image/png": "[encoded data removed]",
            "text/plain": [
              "<Figure size 432x288 with 2 Axes>"
            ]
          },
          "metadata": {
            "needs_background": "light"
          },
          "output_type": "display_data"
        }
      ],
      "source": [
        "import seaborn as sns\n",
        "plot = sns.heatmap(state_visit_count)\n",
        "plot.invert_yaxis()"
      ]
    },
    {
      "cell_type": "code",
      "execution_count": 12,
      "metadata": {
        "colab": {
          "base_uri": "https://localhost:8080/",
          "height": 282
        },
        "id": "k828P3tm0tL4",
        "outputId": "9ecf9473-d28c-4751-8763-8d256f954848"
      },
      "outputs": [
        {
          "data": {
            "text/plain": [
              "[<matplotlib.lines.Line2D at 0x178e5b3c460>]"
            ]
          },
          "execution_count": 12,
          "metadata": {},
          "output_type": "execute_result"
        },
        {
          "data": {
            "image/png": "[encoded data removed]",
            "text/plain": [
              "<Figure size 432x288 with 1 Axes>"
            ]
          },
          "metadata": {
            "needs_background": "light"
          },
          "output_type": "display_data"
        }
      ],
      "source": [
        "plt.plot(steps_to_completion)"
      ]
    },
    {
      "cell_type": "code",
      "execution_count": 13,
      "metadata": {
        "colab": {
          "base_uri": "https://localhost:8080/",
          "height": 282
        },
        "id": "Zobxi1VE96Yy",
        "outputId": "f5bcaffe-fd71-4b6c-c605-34432d9bf9c8"
      },
      "outputs": [
        {
          "data": {
            "text/plain": [
              "[<matplotlib.lines.Line2D at 0x178e5ba8f40>]"
            ]
          },
          "execution_count": 13,
          "metadata": {},
          "output_type": "execute_result"
        },
        {
          "data": {
            "image/png": "[encoded data removed]",
            "text/plain": [
              "<Figure size 432x288 with 1 Axes>"
            ]
          },
          "metadata": {
            "needs_background": "light"
          },
          "output_type": "display_data"
        }
      ],
      "source": [
        "plt.plot(episode_rewards)"
      ]
    },
    {
      "cell_type": "code",
      "execution_count": 17,
      "metadata": {
        "colab": {
          "base_uri": "https://localhost:8080/"
        },
        "id": "8AhPWIER-UYv",
        "outputId": "e396d753-1214-43fc-95f0-16dbfc798e3a"
      },
      "outputs": [
        {
          "name": "stdout",
          "output_type": "stream",
          "text": [
            "Experiment: 1\n"
          ]
        },
        {
          "name": "stderr",
          "output_type": "stream",
          "text": [
            "100%|██████████| 2000/2000 [00:19<00:00, 101.05it/s]\n"
          ]
        },
        {
          "name": "stdout",
          "output_type": "stream",
          "text": [
            "Experiment: 2\n"
          ]
        },
        {
          "name": "stderr",
          "output_type": "stream",
          "text": [
            "100%|██████████| 2000/2000 [00:19<00:00, 101.86it/s]\n"
          ]
        },
        {
          "name": "stdout",
          "output_type": "stream",
          "text": [
            "Experiment: 3\n"
          ]
        },
        {
          "name": "stderr",
          "output_type": "stream",
          "text": [
            "100%|██████████| 2000/2000 [00:21<00:00, 94.21it/s] \n"
          ]
        },
        {
          "name": "stdout",
          "output_type": "stream",
          "text": [
            "Experiment: 4\n"
          ]
        },
        {
          "name": "stderr",
          "output_type": "stream",
          "text": [
            "100%|██████████| 2000/2000 [00:20<00:00, 99.80it/s] \n"
          ]
        },
        {
          "name": "stdout",
          "output_type": "stream",
          "text": [
            "Experiment: 5\n"
          ]
        },
        {
          "name": "stderr",
          "output_type": "stream",
          "text": [
            "100%|██████████| 2000/2000 [00:19<00:00, 103.62it/s]\n"
          ]
        },
        {
          "name": "stdout",
          "output_type": "stream",
          "text": [
            "Experiment: 6\n"
          ]
        },
        {
          "name": "stderr",
          "output_type": "stream",
          "text": [
            "100%|██████████| 2000/2000 [00:17<00:00, 114.38it/s]\n"
          ]
        },
        {
          "name": "stdout",
          "output_type": "stream",
          "text": [
            "Experiment: 7\n"
          ]
        },
        {
          "name": "stderr",
          "output_type": "stream",
          "text": [
            "100%|██████████| 2000/2000 [00:13<00:00, 149.44it/s]\n"
          ]
        },
        {
          "name": "stdout",
          "output_type": "stream",
          "text": [
            "Experiment: 8\n"
          ]
        },
        {
          "name": "stderr",
          "output_type": "stream",
          "text": [
            "100%|██████████| 2000/2000 [00:11<00:00, 169.02it/s]\n"
          ]
        },
        {
          "name": "stdout",
          "output_type": "stream",
          "text": [
            "Experiment: 9\n"
          ]
        },
        {
          "name": "stderr",
          "output_type": "stream",
          "text": [
            "100%|██████████| 2000/2000 [00:12<00:00, 162.24it/s]\n"
          ]
        },
        {
          "name": "stdout",
          "output_type": "stream",
          "text": [
            "Experiment: 10\n"
          ]
        },
        {
          "name": "stderr",
          "output_type": "stream",
          "text": [
            "100%|██████████| 2000/2000 [00:12<00:00, 158.42it/s]\n"
          ]
        }
      ],
      "source": [
        "Q_avgs, reward_avgs, steps_avgs = [], [], []\n",
        "alpha = 0.4\n",
        "gamma = 0.9\n",
        "epsilon = 0.1\n",
        "timesteps = 100\n",
        "episodes = 2000\n",
        "num_expts = 10\n",
        "\n",
        "for i in range(num_expts):\n",
        "    print(\"Experiment: %d\"%(i+1))\n",
        "    Q = np.zeros((env.num_rows, env.num_cols, env.num_actions))\n",
        "    rg = np.random.RandomState(i)\n",
        "    Q, rewards, steps, _ = sarsa(env, Q,gamma,choose_action = choose_action_softmax)\n",
        "    Q_avgs.append(Q.copy())\n",
        "    reward_avgs.append(rewards)\n",
        "    steps_avgs.append(steps)"
      ]
    },
    {
      "cell_type": "code",
      "execution_count": 18,
      "metadata": {
        "colab": {
          "base_uri": "https://localhost:8080/",
          "height": 541
        },
        "id": "1MJMCFxX-UeD",
        "outputId": "5dafddd4-78be-4782-b9f9-1ba2d0897151"
      },
      "outputs": [
        {
          "data": {
            "image/png": "[encoded data removed]",
            "text/plain": [
              "<Figure size 432x288 with 1 Axes>"
            ]
          },
          "metadata": {
            "needs_background": "light"
          },
          "output_type": "display_data"
        },
        {
          "data": {
            "image/png": "[encoded data removed]",
            "text/plain": [
              "<Figure size 432x288 with 1 Axes>"
            ]
          },
          "metadata": {
            "needs_background": "light"
          },
          "output_type": "display_data"
        }
      ],
      "source": [
        "plt.xlabel('Episode')\n",
        "plt.ylabel('Number of steps to Goal')\n",
        "plt.plot(np.arange(episodes),np.average(steps_avgs, 0))\n",
        "plt.show()\n",
        "plt.xlabel('Episode')\n",
        "plt.ylabel('Total Reward')\n",
        "plt.plot(np.arange(episodes),np.average(reward_avgs, 0))\n",
        "plt.show()"
      ]
    },
    {
      "cell_type": "code",
      "execution_count": 13,
      "metadata": {
        "id": "-X4C0X_UA254"
      },
      "outputs": [],
      "source": [
        "def q_learning(env,Q,gamma,choose_action,plot_heat = False,max_timesteps=100) :\n",
        "  episode_rewards = []\n",
        "  state_visit_count = np.zeros((env.num_rows, env.num_cols))\n",
        "  steps_to_completion = []\n",
        "  steps = 0\n",
        "  while steps < episodes :\n",
        "    timesteps=0\n",
        "    env.reset()\n",
        "    current_state = env.start_state_seq[0]\n",
        "    current_action = choose_action(env,Q,current_state)\n",
        "    rewards = []\n",
        "    tot_reward = 0 \n",
        "    while timesteps<max_timesteps :\n",
        "      timesteps+=1\n",
        "      next_state,reward = env.step(current_state,current_action)\n",
        "      next_action = choose_action(env,Q,next_state)\n",
        "\n",
        "      # best next action\n",
        "      best_next_action = np.argmax(Q[next_state//env.num_rows,next_state%env.num_cols])\n",
        "      Q[int(current_state/(env.num_cols)), current_state%(env.num_cols), current_action] += alpha*(reward + gamma*Q[int(next_state/(env.num_cols)), next_state%(env.num_cols), best_next_action] - Q[int(current_state/(env.num_cols)), current_state%(env.num_cols), current_action])\n",
        "      rewards.append(reward[0])\n",
        "      tot_reward = tot_reward + reward[0]\n",
        "      # print(reward)\n",
        "      if reward == env.r_goal :\n",
        "        break\n",
        "      # print(current_state)\n",
        "      current_state = next_state\n",
        "      current_action = next_action\n",
        "      state_visit_count[int(current_state/(env.num_cols)), current_state%(env.num_cols)]+=1\n",
        "    episode_rewards.append(tot_reward)\n",
        "    steps_to_completion.append(timesteps)\n",
        "    steps+=1\n",
        "\n",
        "    if (steps+1)%10 == 0 and plot_heat:\n",
        "      clear_output(wait=True)\n",
        "      plot_Q(Q, message = \"Episode %d: Reward: %f, Steps: %.2f, Qmax: %.2f, Qmin: %.2f\"%(steps+1, np.mean(episode_rewards[steps-10+1:steps]),\n",
        "                                                                           np.mean(steps_to_completion[steps-10+1:steps]),\n",
        "                                                                           Q.max(), Q.min()))\n",
        "  return Q, episode_rewards, steps_to_completion,state_visit_count"
      ]
    },
    {
      "cell_type": "code",
      "execution_count": 14,
      "metadata": {
        "id": "0dfVKfqTBX31"
      },
      "outputs": [],
      "source": [
        "Q = np.zeros((env.num_rows, env.num_cols, env.num_actions))\n",
        "\n",
        "alpha = 0.4\n",
        "gamma = 0.9\n",
        "epsilon = 0.1\n",
        "timesteps = 100\n",
        "episodes = 10000"
      ]
    },
    {
      "cell_type": "code",
      "execution_count": 15,
      "metadata": {
        "colab": {
          "base_uri": "https://localhost:8080/",
          "height": 607
        },
        "id": "DA0rF_AABT8v",
        "outputId": "91db569f-a58d-474e-9f47-d851308dc857"
      },
      "outputs": [
        {
          "ename": "KeyboardInterrupt",
          "evalue": "",
          "output_type": "error",
          "traceback": [
            "\u001b[1;31m---------------------------------------------------------------------------\u001b[0m",
            "\u001b[1;31mAttributeError\u001b[0m                            Traceback (most recent call last)",
            "File \u001b[1;32m~\\AppData\\Local\\Programs\\Python\\Python39\\lib\\site-packages\\PIL\\ImageFile.py:495\u001b[0m, in \u001b[0;36m_save\u001b[1;34m(im, fp, tile, bufsize)\u001b[0m\n\u001b[0;32m    <a href='file:///~/AppData/Local/Programs/Python/Python39/lib/site-packages/PIL/ImageFile.py?line=493'>494</a>\u001b[0m \u001b[39mtry\u001b[39;00m:\n\u001b[1;32m--> <a href='file:///~/AppData/Local/Programs/Python/Python39/lib/site-packages/PIL/ImageFile.py?line=494'>495</a>\u001b[0m     fh \u001b[39m=\u001b[39m fp\u001b[39m.\u001b[39;49mfileno()\n\u001b[0;32m    <a href='file:///~/AppData/Local/Programs/Python/Python39/lib/site-packages/PIL/ImageFile.py?line=495'>496</a>\u001b[0m     fp\u001b[39m.\u001b[39mflush()\n",
            "\u001b[1;31mAttributeError\u001b[0m: '_idat' object has no attribute 'fileno'",
            "\nDuring handling of the above exception, another exception occurred:\n",
            "\u001b[1;31mKeyboardInterrupt\u001b[0m                         Traceback (most recent call last)",
            "\u001b[1;32mc:\\Users\\Vedant\\Dropbox\\My PC (LAPTOP-MCEA21MS)\\Downloads\\Copy_of_PA1 - Copy.ipynb Cell 18'\u001b[0m in \u001b[0;36m<module>\u001b[1;34m\u001b[0m\n\u001b[1;32m----> <a href='vscode-notebook-cell:/c%3A/Users/Vedant/Dropbox/My%20PC%20%28LAPTOP-MCEA21MS%29/Downloads/Copy_of_PA1%20-%20Copy.ipynb#ch0000017?line=0'>1</a>\u001b[0m Q,episode_rewards,steps_to_completion,state_visit_count \u001b[39m=\u001b[39m q_learning(env, Q, gamma \u001b[39m=\u001b[39;49m gamma, choose_action\u001b[39m=\u001b[39;49m choose_action_softmax,plot_heat \u001b[39m=\u001b[39;49m \u001b[39mTrue\u001b[39;49;00m)\n",
            "\u001b[1;32mc:\\Users\\Vedant\\Dropbox\\My PC (LAPTOP-MCEA21MS)\\Downloads\\Copy_of_PA1 - Copy.ipynb Cell 16'\u001b[0m in \u001b[0;36mq_learning\u001b[1;34m(env, Q, gamma, choose_action, plot_heat, max_timesteps)\u001b[0m\n\u001b[0;32m     <a href='vscode-notebook-cell:/c%3A/Users/Vedant/Dropbox/My%20PC%20%28LAPTOP-MCEA21MS%29/Downloads/Copy_of_PA1%20-%20Copy.ipynb#ch0000015?line=33'>34</a>\u001b[0m   \u001b[39mif\u001b[39;00m (steps\u001b[39m+\u001b[39m\u001b[39m1\u001b[39m)\u001b[39m%\u001b[39m\u001b[39m10\u001b[39m \u001b[39m==\u001b[39m \u001b[39m0\u001b[39m \u001b[39mand\u001b[39;00m plot_heat:\n\u001b[0;32m     <a href='vscode-notebook-cell:/c%3A/Users/Vedant/Dropbox/My%20PC%20%28LAPTOP-MCEA21MS%29/Downloads/Copy_of_PA1%20-%20Copy.ipynb#ch0000015?line=34'>35</a>\u001b[0m     clear_output(wait\u001b[39m=\u001b[39m\u001b[39mTrue\u001b[39;00m)\n\u001b[1;32m---> <a href='vscode-notebook-cell:/c%3A/Users/Vedant/Dropbox/My%20PC%20%28LAPTOP-MCEA21MS%29/Downloads/Copy_of_PA1%20-%20Copy.ipynb#ch0000015?line=35'>36</a>\u001b[0m     plot_Q(Q, message \u001b[39m=\u001b[39;49m \u001b[39m\"\u001b[39;49m\u001b[39mEpisode \u001b[39;49m\u001b[39m%d\u001b[39;49;00m\u001b[39m: Reward: \u001b[39;49m\u001b[39m%f\u001b[39;49;00m\u001b[39m, Steps: \u001b[39;49m\u001b[39m%.2f\u001b[39;49;00m\u001b[39m, Qmax: \u001b[39;49m\u001b[39m%.2f\u001b[39;49;00m\u001b[39m, Qmin: \u001b[39;49m\u001b[39m%.2f\u001b[39;49;00m\u001b[39m\"\u001b[39;49m\u001b[39m%\u001b[39;49m(steps\u001b[39m+\u001b[39;49m\u001b[39m1\u001b[39;49m, np\u001b[39m.\u001b[39;49mmean(episode_rewards[steps\u001b[39m-\u001b[39;49m\u001b[39m10\u001b[39;49m\u001b[39m+\u001b[39;49m\u001b[39m1\u001b[39;49m:steps]),\n\u001b[0;32m     <a href='vscode-notebook-cell:/c%3A/Users/Vedant/Dropbox/My%20PC%20%28LAPTOP-MCEA21MS%29/Downloads/Copy_of_PA1%20-%20Copy.ipynb#ch0000015?line=36'>37</a>\u001b[0m                                                                          np\u001b[39m.\u001b[39;49mmean(steps_to_completion[steps\u001b[39m-\u001b[39;49m\u001b[39m10\u001b[39;49m\u001b[39m+\u001b[39;49m\u001b[39m1\u001b[39;49m:steps]),\n\u001b[0;32m     <a href='vscode-notebook-cell:/c%3A/Users/Vedant/Dropbox/My%20PC%20%28LAPTOP-MCEA21MS%29/Downloads/Copy_of_PA1%20-%20Copy.ipynb#ch0000015?line=37'>38</a>\u001b[0m                                                                          Q\u001b[39m.\u001b[39;49mmax(), Q\u001b[39m.\u001b[39;49mmin()))\n\u001b[0;32m     <a href='vscode-notebook-cell:/c%3A/Users/Vedant/Dropbox/My%20PC%20%28LAPTOP-MCEA21MS%29/Downloads/Copy_of_PA1%20-%20Copy.ipynb#ch0000015?line=38'>39</a>\u001b[0m \u001b[39mreturn\u001b[39;00m Q, episode_rewards, steps_to_completion,state_visit_count\n",
            "\u001b[1;32mc:\\Users\\Vedant\\Dropbox\\My PC (LAPTOP-MCEA21MS)\\Downloads\\Copy_of_PA1 - Copy.ipynb Cell 7'\u001b[0m in \u001b[0;36mplot_Q\u001b[1;34m(Q, message)\u001b[0m\n\u001b[0;32m     <a href='vscode-notebook-cell:/c%3A/Users/Vedant/Dropbox/My%20PC%20%28LAPTOP-MCEA21MS%29/Downloads/Copy_of_PA1%20-%20Copy.ipynb#ch0000006?line=20'>21</a>\u001b[0m idx \u001b[39m=\u001b[39m np\u001b[39m.\u001b[39mindices(policy\u001b[39m.\u001b[39mshape)\n\u001b[0;32m     <a href='vscode-notebook-cell:/c%3A/Users/Vedant/Dropbox/My%20PC%20%28LAPTOP-MCEA21MS%29/Downloads/Copy_of_PA1%20-%20Copy.ipynb#ch0000006?line=21'>22</a>\u001b[0m plt\u001b[39m.\u001b[39mquiver(idx[\u001b[39m1\u001b[39m]\u001b[39m.\u001b[39mravel()\u001b[39m+\u001b[39m\u001b[39m0.5\u001b[39m, idx[\u001b[39m0\u001b[39m]\u001b[39m.\u001b[39mravel()\u001b[39m+\u001b[39m\u001b[39m0.5\u001b[39m, policyx\u001b[39m.\u001b[39mravel(), policyy\u001b[39m.\u001b[39mravel(), pivot\u001b[39m=\u001b[39m\u001b[39m\"\u001b[39m\u001b[39mmiddle\u001b[39m\u001b[39m\"\u001b[39m, color\u001b[39m=\u001b[39m\u001b[39m'\u001b[39m\u001b[39mred\u001b[39m\u001b[39m'\u001b[39m)\n\u001b[1;32m---> <a href='vscode-notebook-cell:/c%3A/Users/Vedant/Dropbox/My%20PC%20%28LAPTOP-MCEA21MS%29/Downloads/Copy_of_PA1%20-%20Copy.ipynb#ch0000006?line=22'>23</a>\u001b[0m plt\u001b[39m.\u001b[39;49mshow()\n",
            "File \u001b[1;32m~\\AppData\\Local\\Programs\\Python\\Python39\\lib\\site-packages\\matplotlib\\pyplot.py:368\u001b[0m, in \u001b[0;36mshow\u001b[1;34m(*args, **kwargs)\u001b[0m\n\u001b[0;32m    <a href='file:///~/AppData/Local/Programs/Python/Python39/lib/site-packages/matplotlib/pyplot.py?line=323'>324</a>\u001b[0m \u001b[39m\"\"\"\u001b[39;00m\n\u001b[0;32m    <a href='file:///~/AppData/Local/Programs/Python/Python39/lib/site-packages/matplotlib/pyplot.py?line=324'>325</a>\u001b[0m \u001b[39mDisplay all open figures.\u001b[39;00m\n\u001b[0;32m    <a href='file:///~/AppData/Local/Programs/Python/Python39/lib/site-packages/matplotlib/pyplot.py?line=325'>326</a>\u001b[0m \n\u001b[1;32m   (...)\u001b[0m\n\u001b[0;32m    <a href='file:///~/AppData/Local/Programs/Python/Python39/lib/site-packages/matplotlib/pyplot.py?line=364'>365</a>\u001b[0m \u001b[39mexplicitly there.\u001b[39;00m\n\u001b[0;32m    <a href='file:///~/AppData/Local/Programs/Python/Python39/lib/site-packages/matplotlib/pyplot.py?line=365'>366</a>\u001b[0m \u001b[39m\"\"\"\u001b[39;00m\n\u001b[0;32m    <a href='file:///~/AppData/Local/Programs/Python/Python39/lib/site-packages/matplotlib/pyplot.py?line=366'>367</a>\u001b[0m _warn_if_gui_out_of_main_thread()\n\u001b[1;32m--> <a href='file:///~/AppData/Local/Programs/Python/Python39/lib/site-packages/matplotlib/pyplot.py?line=367'>368</a>\u001b[0m \u001b[39mreturn\u001b[39;00m _backend_mod\u001b[39m.\u001b[39mshow(\u001b[39m*\u001b[39margs, \u001b[39m*\u001b[39m\u001b[39m*\u001b[39mkwargs)\n",
            "File \u001b[1;32m~\\AppData\\Local\\Programs\\Python\\Python39\\lib\\site-packages\\matplotlib_inline\\backend_inline.py:41\u001b[0m, in \u001b[0;36mshow\u001b[1;34m(close, block)\u001b[0m\n\u001b[0;32m     <a href='file:///~/AppData/Local/Programs/Python/Python39/lib/site-packages/matplotlib_inline/backend_inline.py?line=38'>39</a>\u001b[0m \u001b[39mtry\u001b[39;00m:\n\u001b[0;32m     <a href='file:///~/AppData/Local/Programs/Python/Python39/lib/site-packages/matplotlib_inline/backend_inline.py?line=39'>40</a>\u001b[0m     \u001b[39mfor\u001b[39;00m figure_manager \u001b[39min\u001b[39;00m Gcf\u001b[39m.\u001b[39mget_all_fig_managers():\n\u001b[1;32m---> <a href='file:///~/AppData/Local/Programs/Python/Python39/lib/site-packages/matplotlib_inline/backend_inline.py?line=40'>41</a>\u001b[0m         display(\n\u001b[0;32m     <a href='file:///~/AppData/Local/Programs/Python/Python39/lib/site-packages/matplotlib_inline/backend_inline.py?line=41'>42</a>\u001b[0m             figure_manager\u001b[39m.\u001b[39;49mcanvas\u001b[39m.\u001b[39;49mfigure,\n\u001b[0;32m     <a href='file:///~/AppData/Local/Programs/Python/Python39/lib/site-packages/matplotlib_inline/backend_inline.py?line=42'>43</a>\u001b[0m             metadata\u001b[39m=\u001b[39;49m_fetch_figure_metadata(figure_manager\u001b[39m.\u001b[39;49mcanvas\u001b[39m.\u001b[39;49mfigure)\n\u001b[0;32m     <a href='file:///~/AppData/Local/Programs/Python/Python39/lib/site-packages/matplotlib_inline/backend_inline.py?line=43'>44</a>\u001b[0m         )\n\u001b[0;32m     <a href='file:///~/AppData/Local/Programs/Python/Python39/lib/site-packages/matplotlib_inline/backend_inline.py?line=44'>45</a>\u001b[0m \u001b[39mfinally\u001b[39;00m:\n\u001b[0;32m     <a href='file:///~/AppData/Local/Programs/Python/Python39/lib/site-packages/matplotlib_inline/backend_inline.py?line=45'>46</a>\u001b[0m     show\u001b[39m.\u001b[39m_to_draw \u001b[39m=\u001b[39m []\n",
            "File \u001b[1;32m~\\AppData\\Local\\Programs\\Python\\Python39\\lib\\site-packages\\IPython\\core\\display_functions.py:298\u001b[0m, in \u001b[0;36mdisplay\u001b[1;34m(include, exclude, metadata, transient, display_id, raw, clear, *objs, **kwargs)\u001b[0m\n\u001b[0;32m    <a href='file:///~/AppData/Local/Programs/Python/Python39/lib/site-packages/IPython/core/display_functions.py?line=295'>296</a>\u001b[0m     publish_display_data(data\u001b[39m=\u001b[39mobj, metadata\u001b[39m=\u001b[39mmetadata, \u001b[39m*\u001b[39m\u001b[39m*\u001b[39mkwargs)\n\u001b[0;32m    <a href='file:///~/AppData/Local/Programs/Python/Python39/lib/site-packages/IPython/core/display_functions.py?line=296'>297</a>\u001b[0m \u001b[39melse\u001b[39;00m:\n\u001b[1;32m--> <a href='file:///~/AppData/Local/Programs/Python/Python39/lib/site-packages/IPython/core/display_functions.py?line=297'>298</a>\u001b[0m     format_dict, md_dict \u001b[39m=\u001b[39m \u001b[39mformat\u001b[39;49m(obj, include\u001b[39m=\u001b[39;49minclude, exclude\u001b[39m=\u001b[39;49mexclude)\n\u001b[0;32m    <a href='file:///~/AppData/Local/Programs/Python/Python39/lib/site-packages/IPython/core/display_functions.py?line=298'>299</a>\u001b[0m     \u001b[39mif\u001b[39;00m \u001b[39mnot\u001b[39;00m format_dict:\n\u001b[0;32m    <a href='file:///~/AppData/Local/Programs/Python/Python39/lib/site-packages/IPython/core/display_functions.py?line=299'>300</a>\u001b[0m         \u001b[39m# nothing to display (e.g. _ipython_display_ took over)\u001b[39;00m\n\u001b[0;32m    <a href='file:///~/AppData/Local/Programs/Python/Python39/lib/site-packages/IPython/core/display_functions.py?line=300'>301</a>\u001b[0m         \u001b[39mcontinue\u001b[39;00m\n",
            "File \u001b[1;32m~\\AppData\\Local\\Programs\\Python\\Python39\\lib\\site-packages\\IPython\\core\\formatters.py:178\u001b[0m, in \u001b[0;36mDisplayFormatter.format\u001b[1;34m(self, obj, include, exclude)\u001b[0m\n\u001b[0;32m    <a href='file:///~/AppData/Local/Programs/Python/Python39/lib/site-packages/IPython/core/formatters.py?line=175'>176</a>\u001b[0m md \u001b[39m=\u001b[39m \u001b[39mNone\u001b[39;00m\n\u001b[0;32m    <a href='file:///~/AppData/Local/Programs/Python/Python39/lib/site-packages/IPython/core/formatters.py?line=176'>177</a>\u001b[0m \u001b[39mtry\u001b[39;00m:\n\u001b[1;32m--> <a href='file:///~/AppData/Local/Programs/Python/Python39/lib/site-packages/IPython/core/formatters.py?line=177'>178</a>\u001b[0m     data \u001b[39m=\u001b[39m formatter(obj)\n\u001b[0;32m    <a href='file:///~/AppData/Local/Programs/Python/Python39/lib/site-packages/IPython/core/formatters.py?line=178'>179</a>\u001b[0m \u001b[39mexcept\u001b[39;00m:\n\u001b[0;32m    <a href='file:///~/AppData/Local/Programs/Python/Python39/lib/site-packages/IPython/core/formatters.py?line=179'>180</a>\u001b[0m     \u001b[39m# FIXME: log the exception\u001b[39;00m\n\u001b[0;32m    <a href='file:///~/AppData/Local/Programs/Python/Python39/lib/site-packages/IPython/core/formatters.py?line=180'>181</a>\u001b[0m     \u001b[39mraise\u001b[39;00m\n",
            "File \u001b[1;32m~\\AppData\\Local\\Programs\\Python\\Python39\\lib\\site-packages\\decorator.py:232\u001b[0m, in \u001b[0;36mdecorate.<locals>.fun\u001b[1;34m(*args, **kw)\u001b[0m\n\u001b[0;32m    <a href='file:///~/AppData/Local/Programs/Python/Python39/lib/site-packages/decorator.py?line=229'>230</a>\u001b[0m \u001b[39mif\u001b[39;00m \u001b[39mnot\u001b[39;00m kwsyntax:\n\u001b[0;32m    <a href='file:///~/AppData/Local/Programs/Python/Python39/lib/site-packages/decorator.py?line=230'>231</a>\u001b[0m     args, kw \u001b[39m=\u001b[39m fix(args, kw, sig)\n\u001b[1;32m--> <a href='file:///~/AppData/Local/Programs/Python/Python39/lib/site-packages/decorator.py?line=231'>232</a>\u001b[0m \u001b[39mreturn\u001b[39;00m caller(func, \u001b[39m*\u001b[39m(extras \u001b[39m+\u001b[39m args), \u001b[39m*\u001b[39m\u001b[39m*\u001b[39mkw)\n",
            "File \u001b[1;32m~\\AppData\\Local\\Programs\\Python\\Python39\\lib\\site-packages\\IPython\\core\\formatters.py:222\u001b[0m, in \u001b[0;36mcatch_format_error\u001b[1;34m(method, self, *args, **kwargs)\u001b[0m\n\u001b[0;32m    <a href='file:///~/AppData/Local/Programs/Python/Python39/lib/site-packages/IPython/core/formatters.py?line=219'>220</a>\u001b[0m \u001b[39m\"\"\"show traceback on failed format call\"\"\"\u001b[39;00m\n\u001b[0;32m    <a href='file:///~/AppData/Local/Programs/Python/Python39/lib/site-packages/IPython/core/formatters.py?line=220'>221</a>\u001b[0m \u001b[39mtry\u001b[39;00m:\n\u001b[1;32m--> <a href='file:///~/AppData/Local/Programs/Python/Python39/lib/site-packages/IPython/core/formatters.py?line=221'>222</a>\u001b[0m     r \u001b[39m=\u001b[39m method(\u001b[39mself\u001b[39m, \u001b[39m*\u001b[39margs, \u001b[39m*\u001b[39m\u001b[39m*\u001b[39mkwargs)\n\u001b[0;32m    <a href='file:///~/AppData/Local/Programs/Python/Python39/lib/site-packages/IPython/core/formatters.py?line=222'>223</a>\u001b[0m \u001b[39mexcept\u001b[39;00m \u001b[39mNotImplementedError\u001b[39;00m:\n\u001b[0;32m    <a href='file:///~/AppData/Local/Programs/Python/Python39/lib/site-packages/IPython/core/formatters.py?line=223'>224</a>\u001b[0m     \u001b[39m# don't warn on NotImplementedErrors\u001b[39;00m\n\u001b[0;32m    <a href='file:///~/AppData/Local/Programs/Python/Python39/lib/site-packages/IPython/core/formatters.py?line=224'>225</a>\u001b[0m     \u001b[39mreturn\u001b[39;00m \u001b[39mself\u001b[39m\u001b[39m.\u001b[39m_check_return(\u001b[39mNone\u001b[39;00m, args[\u001b[39m0\u001b[39m])\n",
            "File \u001b[1;32m~\\AppData\\Local\\Programs\\Python\\Python39\\lib\\site-packages\\IPython\\core\\formatters.py:339\u001b[0m, in \u001b[0;36mBaseFormatter.__call__\u001b[1;34m(self, obj)\u001b[0m\n\u001b[0;32m    <a href='file:///~/AppData/Local/Programs/Python/Python39/lib/site-packages/IPython/core/formatters.py?line=336'>337</a>\u001b[0m     \u001b[39mpass\u001b[39;00m\n\u001b[0;32m    <a href='file:///~/AppData/Local/Programs/Python/Python39/lib/site-packages/IPython/core/formatters.py?line=337'>338</a>\u001b[0m \u001b[39melse\u001b[39;00m:\n\u001b[1;32m--> <a href='file:///~/AppData/Local/Programs/Python/Python39/lib/site-packages/IPython/core/formatters.py?line=338'>339</a>\u001b[0m     \u001b[39mreturn\u001b[39;00m printer(obj)\n\u001b[0;32m    <a href='file:///~/AppData/Local/Programs/Python/Python39/lib/site-packages/IPython/core/formatters.py?line=339'>340</a>\u001b[0m \u001b[39m# Finally look for special method names\u001b[39;00m\n\u001b[0;32m    <a href='file:///~/AppData/Local/Programs/Python/Python39/lib/site-packages/IPython/core/formatters.py?line=340'>341</a>\u001b[0m method \u001b[39m=\u001b[39m get_real_method(obj, \u001b[39mself\u001b[39m\u001b[39m.\u001b[39mprint_method)\n",
            "File \u001b[1;32m~\\AppData\\Local\\Programs\\Python\\Python39\\lib\\site-packages\\IPython\\core\\pylabtools.py:151\u001b[0m, in \u001b[0;36mprint_figure\u001b[1;34m(fig, fmt, bbox_inches, base64, **kwargs)\u001b[0m\n\u001b[0;32m    <a href='file:///~/AppData/Local/Programs/Python/Python39/lib/site-packages/IPython/core/pylabtools.py?line=147'>148</a>\u001b[0m     \u001b[39mfrom\u001b[39;00m \u001b[39mmatplotlib\u001b[39;00m\u001b[39m.\u001b[39;00m\u001b[39mbackend_bases\u001b[39;00m \u001b[39mimport\u001b[39;00m FigureCanvasBase\n\u001b[0;32m    <a href='file:///~/AppData/Local/Programs/Python/Python39/lib/site-packages/IPython/core/pylabtools.py?line=148'>149</a>\u001b[0m     FigureCanvasBase(fig)\n\u001b[1;32m--> <a href='file:///~/AppData/Local/Programs/Python/Python39/lib/site-packages/IPython/core/pylabtools.py?line=150'>151</a>\u001b[0m fig\u001b[39m.\u001b[39mcanvas\u001b[39m.\u001b[39mprint_figure(bytes_io, \u001b[39m*\u001b[39m\u001b[39m*\u001b[39mkw)\n\u001b[0;32m    <a href='file:///~/AppData/Local/Programs/Python/Python39/lib/site-packages/IPython/core/pylabtools.py?line=151'>152</a>\u001b[0m data \u001b[39m=\u001b[39m bytes_io\u001b[39m.\u001b[39mgetvalue()\n\u001b[0;32m    <a href='file:///~/AppData/Local/Programs/Python/Python39/lib/site-packages/IPython/core/pylabtools.py?line=152'>153</a>\u001b[0m \u001b[39mif\u001b[39;00m fmt \u001b[39m==\u001b[39m \u001b[39m'\u001b[39m\u001b[39msvg\u001b[39m\u001b[39m'\u001b[39m:\n",
            "File \u001b[1;32m~\\AppData\\Local\\Programs\\Python\\Python39\\lib\\site-packages\\matplotlib\\backend_bases.py:2319\u001b[0m, in \u001b[0;36mFigureCanvasBase.print_figure\u001b[1;34m(self, filename, dpi, facecolor, edgecolor, orientation, format, bbox_inches, pad_inches, bbox_extra_artists, backend, **kwargs)\u001b[0m\n\u001b[0;32m   <a href='file:///~/AppData/Local/Programs/Python/Python39/lib/site-packages/matplotlib/backend_bases.py?line=2314'>2315</a>\u001b[0m \u001b[39mtry\u001b[39;00m:\n\u001b[0;32m   <a href='file:///~/AppData/Local/Programs/Python/Python39/lib/site-packages/matplotlib/backend_bases.py?line=2315'>2316</a>\u001b[0m     \u001b[39m# _get_renderer may change the figure dpi (as vector formats\u001b[39;00m\n\u001b[0;32m   <a href='file:///~/AppData/Local/Programs/Python/Python39/lib/site-packages/matplotlib/backend_bases.py?line=2316'>2317</a>\u001b[0m     \u001b[39m# force the figure dpi to 72), so we need to set it again here.\u001b[39;00m\n\u001b[0;32m   <a href='file:///~/AppData/Local/Programs/Python/Python39/lib/site-packages/matplotlib/backend_bases.py?line=2317'>2318</a>\u001b[0m     \u001b[39mwith\u001b[39;00m cbook\u001b[39m.\u001b[39m_setattr_cm(\u001b[39mself\u001b[39m\u001b[39m.\u001b[39mfigure, dpi\u001b[39m=\u001b[39mdpi):\n\u001b[1;32m-> <a href='file:///~/AppData/Local/Programs/Python/Python39/lib/site-packages/matplotlib/backend_bases.py?line=2318'>2319</a>\u001b[0m         result \u001b[39m=\u001b[39m print_method(\n\u001b[0;32m   <a href='file:///~/AppData/Local/Programs/Python/Python39/lib/site-packages/matplotlib/backend_bases.py?line=2319'>2320</a>\u001b[0m             filename,\n\u001b[0;32m   <a href='file:///~/AppData/Local/Programs/Python/Python39/lib/site-packages/matplotlib/backend_bases.py?line=2320'>2321</a>\u001b[0m             facecolor\u001b[39m=\u001b[39mfacecolor,\n\u001b[0;32m   <a href='file:///~/AppData/Local/Programs/Python/Python39/lib/site-packages/matplotlib/backend_bases.py?line=2321'>2322</a>\u001b[0m             edgecolor\u001b[39m=\u001b[39medgecolor,\n\u001b[0;32m   <a href='file:///~/AppData/Local/Programs/Python/Python39/lib/site-packages/matplotlib/backend_bases.py?line=2322'>2323</a>\u001b[0m             orientation\u001b[39m=\u001b[39morientation,\n\u001b[0;32m   <a href='file:///~/AppData/Local/Programs/Python/Python39/lib/site-packages/matplotlib/backend_bases.py?line=2323'>2324</a>\u001b[0m             bbox_inches_restore\u001b[39m=\u001b[39m_bbox_inches_restore,\n\u001b[0;32m   <a href='file:///~/AppData/Local/Programs/Python/Python39/lib/site-packages/matplotlib/backend_bases.py?line=2324'>2325</a>\u001b[0m             \u001b[39m*\u001b[39m\u001b[39m*\u001b[39mkwargs)\n\u001b[0;32m   <a href='file:///~/AppData/Local/Programs/Python/Python39/lib/site-packages/matplotlib/backend_bases.py?line=2325'>2326</a>\u001b[0m \u001b[39mfinally\u001b[39;00m:\n\u001b[0;32m   <a href='file:///~/AppData/Local/Programs/Python/Python39/lib/site-packages/matplotlib/backend_bases.py?line=2326'>2327</a>\u001b[0m     \u001b[39mif\u001b[39;00m bbox_inches \u001b[39mand\u001b[39;00m restore_bbox:\n",
            "File \u001b[1;32m~\\AppData\\Local\\Programs\\Python\\Python39\\lib\\site-packages\\matplotlib\\backend_bases.py:1648\u001b[0m, in \u001b[0;36m_check_savefig_extra_args.<locals>.wrapper\u001b[1;34m(*args, **kwargs)\u001b[0m\n\u001b[0;32m   <a href='file:///~/AppData/Local/Programs/Python/Python39/lib/site-packages/matplotlib/backend_bases.py?line=1639'>1640</a>\u001b[0m     _api\u001b[39m.\u001b[39mwarn_deprecated(\n\u001b[0;32m   <a href='file:///~/AppData/Local/Programs/Python/Python39/lib/site-packages/matplotlib/backend_bases.py?line=1640'>1641</a>\u001b[0m         \u001b[39m'\u001b[39m\u001b[39m3.3\u001b[39m\u001b[39m'\u001b[39m, name\u001b[39m=\u001b[39mname, removal\u001b[39m=\u001b[39m\u001b[39m'\u001b[39m\u001b[39m3.6\u001b[39m\u001b[39m'\u001b[39m,\n\u001b[0;32m   <a href='file:///~/AppData/Local/Programs/Python/Python39/lib/site-packages/matplotlib/backend_bases.py?line=1641'>1642</a>\u001b[0m         message\u001b[39m=\u001b[39m\u001b[39m'\u001b[39m\u001b[39m%(name)s\u001b[39;00m\u001b[39m() got unexpected keyword argument \u001b[39m\u001b[39m\"\u001b[39m\u001b[39m'\u001b[39m\n\u001b[0;32m   <a href='file:///~/AppData/Local/Programs/Python/Python39/lib/site-packages/matplotlib/backend_bases.py?line=1642'>1643</a>\u001b[0m                 \u001b[39m+\u001b[39m arg \u001b[39m+\u001b[39m \u001b[39m'\u001b[39m\u001b[39m\"\u001b[39m\u001b[39m which is no longer supported as of \u001b[39m\u001b[39m'\u001b[39m\n\u001b[0;32m   <a href='file:///~/AppData/Local/Programs/Python/Python39/lib/site-packages/matplotlib/backend_bases.py?line=1643'>1644</a>\u001b[0m                 \u001b[39m'\u001b[39m\u001b[39m%(since)s\u001b[39;00m\u001b[39m and will become an error \u001b[39m\u001b[39m'\u001b[39m\n\u001b[0;32m   <a href='file:///~/AppData/Local/Programs/Python/Python39/lib/site-packages/matplotlib/backend_bases.py?line=1644'>1645</a>\u001b[0m                 \u001b[39m'\u001b[39m\u001b[39m%(removal)s\u001b[39;00m\u001b[39m'\u001b[39m)\n\u001b[0;32m   <a href='file:///~/AppData/Local/Programs/Python/Python39/lib/site-packages/matplotlib/backend_bases.py?line=1645'>1646</a>\u001b[0m     kwargs\u001b[39m.\u001b[39mpop(arg)\n\u001b[1;32m-> <a href='file:///~/AppData/Local/Programs/Python/Python39/lib/site-packages/matplotlib/backend_bases.py?line=1647'>1648</a>\u001b[0m \u001b[39mreturn\u001b[39;00m func(\u001b[39m*\u001b[39margs, \u001b[39m*\u001b[39m\u001b[39m*\u001b[39mkwargs)\n",
            "File \u001b[1;32m~\\AppData\\Local\\Programs\\Python\\Python39\\lib\\site-packages\\matplotlib\\_api\\deprecation.py:412\u001b[0m, in \u001b[0;36mdelete_parameter.<locals>.wrapper\u001b[1;34m(*inner_args, **inner_kwargs)\u001b[0m\n\u001b[0;32m    <a href='file:///~/AppData/Local/Programs/Python/Python39/lib/site-packages/matplotlib/_api/deprecation.py?line=401'>402</a>\u001b[0m     deprecation_addendum \u001b[39m=\u001b[39m (\n\u001b[0;32m    <a href='file:///~/AppData/Local/Programs/Python/Python39/lib/site-packages/matplotlib/_api/deprecation.py?line=402'>403</a>\u001b[0m         \u001b[39mf\u001b[39m\u001b[39m\"\u001b[39m\u001b[39mIf any parameter follows \u001b[39m\u001b[39m{\u001b[39;00mname\u001b[39m!r}\u001b[39;00m\u001b[39m, they should be passed as \u001b[39m\u001b[39m\"\u001b[39m\n\u001b[0;32m    <a href='file:///~/AppData/Local/Programs/Python/Python39/lib/site-packages/matplotlib/_api/deprecation.py?line=403'>404</a>\u001b[0m         \u001b[39mf\u001b[39m\u001b[39m\"\u001b[39m\u001b[39mkeyword, not positionally.\u001b[39m\u001b[39m\"\u001b[39m)\n\u001b[0;32m    <a href='file:///~/AppData/Local/Programs/Python/Python39/lib/site-packages/matplotlib/_api/deprecation.py?line=404'>405</a>\u001b[0m     warn_deprecated(\n\u001b[0;32m    <a href='file:///~/AppData/Local/Programs/Python/Python39/lib/site-packages/matplotlib/_api/deprecation.py?line=405'>406</a>\u001b[0m         since,\n\u001b[0;32m    <a href='file:///~/AppData/Local/Programs/Python/Python39/lib/site-packages/matplotlib/_api/deprecation.py?line=406'>407</a>\u001b[0m         name\u001b[39m=\u001b[39m\u001b[39mrepr\u001b[39m(name),\n\u001b[1;32m   (...)\u001b[0m\n\u001b[0;32m    <a href='file:///~/AppData/Local/Programs/Python/Python39/lib/site-packages/matplotlib/_api/deprecation.py?line=409'>410</a>\u001b[0m                  \u001b[39melse\u001b[39;00m deprecation_addendum,\n\u001b[0;32m    <a href='file:///~/AppData/Local/Programs/Python/Python39/lib/site-packages/matplotlib/_api/deprecation.py?line=410'>411</a>\u001b[0m         \u001b[39m*\u001b[39m\u001b[39m*\u001b[39mkwargs)\n\u001b[1;32m--> <a href='file:///~/AppData/Local/Programs/Python/Python39/lib/site-packages/matplotlib/_api/deprecation.py?line=411'>412</a>\u001b[0m \u001b[39mreturn\u001b[39;00m func(\u001b[39m*\u001b[39minner_args, \u001b[39m*\u001b[39m\u001b[39m*\u001b[39minner_kwargs)\n",
            "File \u001b[1;32m~\\AppData\\Local\\Programs\\Python\\Python39\\lib\\site-packages\\matplotlib\\backends\\backend_agg.py:541\u001b[0m, in \u001b[0;36mFigureCanvasAgg.print_png\u001b[1;34m(self, filename_or_obj, metadata, pil_kwargs, *args)\u001b[0m\n\u001b[0;32m    <a href='file:///~/AppData/Local/Programs/Python/Python39/lib/site-packages/matplotlib/backends/backend_agg.py?line=493'>494</a>\u001b[0m \u001b[39m\"\"\"\u001b[39;00m\n\u001b[0;32m    <a href='file:///~/AppData/Local/Programs/Python/Python39/lib/site-packages/matplotlib/backends/backend_agg.py?line=494'>495</a>\u001b[0m \u001b[39mWrite the figure to a PNG file.\u001b[39;00m\n\u001b[0;32m    <a href='file:///~/AppData/Local/Programs/Python/Python39/lib/site-packages/matplotlib/backends/backend_agg.py?line=495'>496</a>\u001b[0m \n\u001b[1;32m   (...)\u001b[0m\n\u001b[0;32m    <a href='file:///~/AppData/Local/Programs/Python/Python39/lib/site-packages/matplotlib/backends/backend_agg.py?line=537'>538</a>\u001b[0m \u001b[39m    *metadata*, including the default 'Software' key.\u001b[39;00m\n\u001b[0;32m    <a href='file:///~/AppData/Local/Programs/Python/Python39/lib/site-packages/matplotlib/backends/backend_agg.py?line=538'>539</a>\u001b[0m \u001b[39m\"\"\"\u001b[39;00m\n\u001b[0;32m    <a href='file:///~/AppData/Local/Programs/Python/Python39/lib/site-packages/matplotlib/backends/backend_agg.py?line=539'>540</a>\u001b[0m FigureCanvasAgg\u001b[39m.\u001b[39mdraw(\u001b[39mself\u001b[39m)\n\u001b[1;32m--> <a href='file:///~/AppData/Local/Programs/Python/Python39/lib/site-packages/matplotlib/backends/backend_agg.py?line=540'>541</a>\u001b[0m mpl\u001b[39m.\u001b[39;49mimage\u001b[39m.\u001b[39;49mimsave(\n\u001b[0;32m    <a href='file:///~/AppData/Local/Programs/Python/Python39/lib/site-packages/matplotlib/backends/backend_agg.py?line=541'>542</a>\u001b[0m     filename_or_obj, \u001b[39mself\u001b[39;49m\u001b[39m.\u001b[39;49mbuffer_rgba(), \u001b[39mformat\u001b[39;49m\u001b[39m=\u001b[39;49m\u001b[39m\"\u001b[39;49m\u001b[39mpng\u001b[39;49m\u001b[39m\"\u001b[39;49m, origin\u001b[39m=\u001b[39;49m\u001b[39m\"\u001b[39;49m\u001b[39mupper\u001b[39;49m\u001b[39m\"\u001b[39;49m,\n\u001b[0;32m    <a href='file:///~/AppData/Local/Programs/Python/Python39/lib/site-packages/matplotlib/backends/backend_agg.py?line=542'>543</a>\u001b[0m     dpi\u001b[39m=\u001b[39;49m\u001b[39mself\u001b[39;49m\u001b[39m.\u001b[39;49mfigure\u001b[39m.\u001b[39;49mdpi, metadata\u001b[39m=\u001b[39;49mmetadata, pil_kwargs\u001b[39m=\u001b[39;49mpil_kwargs)\n",
            "File \u001b[1;32m~\\AppData\\Local\\Programs\\Python\\Python39\\lib\\site-packages\\matplotlib\\image.py:1675\u001b[0m, in \u001b[0;36mimsave\u001b[1;34m(fname, arr, vmin, vmax, cmap, format, origin, dpi, metadata, pil_kwargs)\u001b[0m\n\u001b[0;32m   <a href='file:///~/AppData/Local/Programs/Python/Python39/lib/site-packages/matplotlib/image.py?line=1672'>1673</a>\u001b[0m pil_kwargs\u001b[39m.\u001b[39msetdefault(\u001b[39m\"\u001b[39m\u001b[39mformat\u001b[39m\u001b[39m\"\u001b[39m, \u001b[39mformat\u001b[39m)\n\u001b[0;32m   <a href='file:///~/AppData/Local/Programs/Python/Python39/lib/site-packages/matplotlib/image.py?line=1673'>1674</a>\u001b[0m pil_kwargs\u001b[39m.\u001b[39msetdefault(\u001b[39m\"\u001b[39m\u001b[39mdpi\u001b[39m\u001b[39m\"\u001b[39m, (dpi, dpi))\n\u001b[1;32m-> <a href='file:///~/AppData/Local/Programs/Python/Python39/lib/site-packages/matplotlib/image.py?line=1674'>1675</a>\u001b[0m image\u001b[39m.\u001b[39msave(fname, \u001b[39m*\u001b[39m\u001b[39m*\u001b[39mpil_kwargs)\n",
            "File \u001b[1;32m~\\AppData\\Local\\Programs\\Python\\Python39\\lib\\site-packages\\PIL\\Image.py:2212\u001b[0m, in \u001b[0;36mImage.save\u001b[1;34m(self, fp, format, **params)\u001b[0m\n\u001b[0;32m   <a href='file:///~/AppData/Local/Programs/Python/Python39/lib/site-packages/PIL/Image.py?line=2208'>2209</a>\u001b[0m         fp \u001b[39m=\u001b[39m builtins\u001b[39m.\u001b[39mopen(filename, \u001b[39m\"\u001b[39m\u001b[39mw+b\u001b[39m\u001b[39m\"\u001b[39m)\n\u001b[0;32m   <a href='file:///~/AppData/Local/Programs/Python/Python39/lib/site-packages/PIL/Image.py?line=2210'>2211</a>\u001b[0m \u001b[39mtry\u001b[39;00m:\n\u001b[1;32m-> <a href='file:///~/AppData/Local/Programs/Python/Python39/lib/site-packages/PIL/Image.py?line=2211'>2212</a>\u001b[0m     save_handler(\u001b[39mself\u001b[39;49m, fp, filename)\n\u001b[0;32m   <a href='file:///~/AppData/Local/Programs/Python/Python39/lib/site-packages/PIL/Image.py?line=2212'>2213</a>\u001b[0m \u001b[39mfinally\u001b[39;00m:\n\u001b[0;32m   <a href='file:///~/AppData/Local/Programs/Python/Python39/lib/site-packages/PIL/Image.py?line=2213'>2214</a>\u001b[0m     \u001b[39m# do what we can to clean up\u001b[39;00m\n\u001b[0;32m   <a href='file:///~/AppData/Local/Programs/Python/Python39/lib/site-packages/PIL/Image.py?line=2214'>2215</a>\u001b[0m     \u001b[39mif\u001b[39;00m open_fp:\n",
            "File \u001b[1;32m~\\AppData\\Local\\Programs\\Python\\Python39\\lib\\site-packages\\PIL\\PngImagePlugin.py:1348\u001b[0m, in \u001b[0;36m_save\u001b[1;34m(im, fp, filename, chunk, save_all)\u001b[0m\n\u001b[0;32m   <a href='file:///~/AppData/Local/Programs/Python/Python39/lib/site-packages/PIL/PngImagePlugin.py?line=1345'>1346</a>\u001b[0m     _write_multiple_frames(im, fp, chunk, rawmode)\n\u001b[0;32m   <a href='file:///~/AppData/Local/Programs/Python/Python39/lib/site-packages/PIL/PngImagePlugin.py?line=1346'>1347</a>\u001b[0m \u001b[39melse\u001b[39;00m:\n\u001b[1;32m-> <a href='file:///~/AppData/Local/Programs/Python/Python39/lib/site-packages/PIL/PngImagePlugin.py?line=1347'>1348</a>\u001b[0m     ImageFile\u001b[39m.\u001b[39;49m_save(im, _idat(fp, chunk), [(\u001b[39m\"\u001b[39;49m\u001b[39mzip\u001b[39;49m\u001b[39m\"\u001b[39;49m, (\u001b[39m0\u001b[39;49m, \u001b[39m0\u001b[39;49m) \u001b[39m+\u001b[39;49m im\u001b[39m.\u001b[39;49msize, \u001b[39m0\u001b[39;49m, rawmode)])\n\u001b[0;32m   <a href='file:///~/AppData/Local/Programs/Python/Python39/lib/site-packages/PIL/PngImagePlugin.py?line=1349'>1350</a>\u001b[0m \u001b[39mif\u001b[39;00m info:\n\u001b[0;32m   <a href='file:///~/AppData/Local/Programs/Python/Python39/lib/site-packages/PIL/PngImagePlugin.py?line=1350'>1351</a>\u001b[0m     \u001b[39mfor\u001b[39;00m info_chunk \u001b[39min\u001b[39;00m info\u001b[39m.\u001b[39mchunks:\n",
            "File \u001b[1;32m~\\AppData\\Local\\Programs\\Python\\Python39\\lib\\site-packages\\PIL\\ImageFile.py:509\u001b[0m, in \u001b[0;36m_save\u001b[1;34m(im, fp, tile, bufsize)\u001b[0m\n\u001b[0;32m    <a href='file:///~/AppData/Local/Programs/Python/Python39/lib/site-packages/PIL/ImageFile.py?line=506'>507</a>\u001b[0m \u001b[39melse\u001b[39;00m:\n\u001b[0;32m    <a href='file:///~/AppData/Local/Programs/Python/Python39/lib/site-packages/PIL/ImageFile.py?line=507'>508</a>\u001b[0m     \u001b[39mwhile\u001b[39;00m \u001b[39mTrue\u001b[39;00m:\n\u001b[1;32m--> <a href='file:///~/AppData/Local/Programs/Python/Python39/lib/site-packages/PIL/ImageFile.py?line=508'>509</a>\u001b[0m         l, s, d \u001b[39m=\u001b[39m e\u001b[39m.\u001b[39;49mencode(bufsize)\n\u001b[0;32m    <a href='file:///~/AppData/Local/Programs/Python/Python39/lib/site-packages/PIL/ImageFile.py?line=509'>510</a>\u001b[0m         fp\u001b[39m.\u001b[39mwrite(d)\n\u001b[0;32m    <a href='file:///~/AppData/Local/Programs/Python/Python39/lib/site-packages/PIL/ImageFile.py?line=510'>511</a>\u001b[0m         \u001b[39mif\u001b[39;00m s:\n",
            "\u001b[1;31mKeyboardInterrupt\u001b[0m: "
          ]
        }
      ],
      "source": [
        "Q,episode_rewards,steps_to_completion,state_visit_count = q_learning(env, Q, gamma = gamma, choose_action= choose_action_softmax,plot_heat = True)"
      ]
    },
    {
      "cell_type": "code",
      "execution_count": null,
      "metadata": {
        "colab": {
          "base_uri": "https://localhost:8080/",
          "height": 265
        },
        "id": "uVYRFhzCBep0",
        "outputId": "415b8ca3-199d-4ebe-fec2-6de6196f1f43"
      },
      "outputs": [
        {
          "data": {
            "image/png": "[encoded data removed]",
            "text/plain": [
              "<Figure size 432x288 with 2 Axes>"
            ]
          },
          "metadata": {
            "needs_background": "light"
          },
          "output_type": "display_data"
        }
      ],
      "source": [
        "import seaborn as sns\n",
        "plot = sns.heatmap(state_visit_count)\n",
        "plot.invert_yaxis()"
      ]
    },
    {
      "cell_type": "code",
      "execution_count": null,
      "metadata": {
        "colab": {
          "base_uri": "https://localhost:8080/"
        },
        "id": "Kc7msGpDBkPh",
        "outputId": "1a088713-fb0c-456a-9a72-381a262c62f3"
      },
      "outputs": [
        {
          "name": "stdout",
          "output_type": "stream",
          "text": [
            "Experiment: 1\n",
            "Experiment: 2\n",
            "Experiment: 3\n",
            "Experiment: 4\n",
            "Experiment: 5\n"
          ]
        }
      ],
      "source": [
        "Q_avgs, reward_avgs, steps_avgs = [], [], []\n",
        "num_expts = 5\n",
        "\n",
        "for i in range(num_expts):\n",
        "    print(\"Experiment: %d\"%(i+1))\n",
        "    Q = np.zeros((env.num_rows, env.num_cols, env.num_actions))\n",
        "    rg = np.random.RandomState(i)\n",
        "    Q, rewards, steps, _ = q_learning(env, Q,gamma,choose_action = choose_action_softmax)\n",
        "    Q_avgs.append(Q.copy())\n",
        "    reward_avgs.append(rewards)\n",
        "    steps_avgs.append(steps)"
      ]
    },
    {
      "cell_type": "code",
      "execution_count": null,
      "metadata": {
        "colab": {
          "base_uri": "https://localhost:8080/",
          "height": 541
        },
        "id": "d79Kz-6cBnQz",
        "outputId": "8fb13a02-03b9-42be-fb5c-6cce00b81818"
      },
      "outputs": [
        {
          "data": {
            "image/png": "[encoded data removed]",
            "text/plain": [
              "<Figure size 432x288 with 1 Axes>"
            ]
          },
          "metadata": {
            "needs_background": "light"
          },
          "output_type": "display_data"
        },
        {
          "data": {
            "image/png": "[encoded data removed]",
            "text/plain": [
              "<Figure size 432x288 with 1 Axes>"
            ]
          },
          "metadata": {
            "needs_background": "light"
          },
          "output_type": "display_data"
        }
      ],
      "source": [
        "plt.xlabel('Episode')\n",
        "plt.ylabel('Number of steps to Goal')\n",
        "plt.plot(np.arange(episodes),np.average(steps_avgs, 0))\n",
        "plt.show()\n",
        "plt.xlabel('Episode')\n",
        "plt.ylabel('Total Reward')\n",
        "plt.plot(np.arange(episodes),np.average(reward_avgs, 0))\n",
        "plt.show()"
      ]
    },
    {
      "cell_type": "code",
      "execution_count": 16,
      "metadata": {},
      "outputs": [],
      "source": [
        "from scipy.special import softmax\n",
        "\n",
        "seed = 42\n",
        "rg = np.random.RandomState(seed)\n",
        "\n",
        "# Epsilon greedy\n",
        "def choose_action_epsilon(env,Q, state, hyper=0.1, rg=rg):\n",
        "    if not Q[int(state/(env.num_cols)), state%(env.num_cols)].any() or rg.rand() < hyper:\n",
        "        return rg.choice(Q.shape[-1])\n",
        "    else:\n",
        "        return np.argmax(Q[int(state/(env.num_cols)), state%(env.num_cols)])\n",
        "\n",
        "# Softmax\n",
        "def choose_action_softmax(env,Q, state, rg=rg, hyper=1):\n",
        "    return rg.choice(Q.shape[-1], p = softmax(Q[int(state/(env.num_cols)), state%(env.num_cols)] / hyper))"
      ]
    },
    {
      "cell_type": "code",
      "execution_count": 40,
      "metadata": {},
      "outputs": [],
      "source": [
        "from tqdm import tqdm\n",
        "\n",
        "def q_learning(env,Q,gamma,alpha,epsilon,choose_action,plot_heat = False,max_timesteps=100) :\n",
        "  episode_rewards = []\n",
        "  state_visit_count = np.zeros((env.num_rows, env.num_cols))\n",
        "  steps_to_completion = []\n",
        "  steps = 0\n",
        "  for steps in tqdm(range(episodes)):\n",
        "    timesteps=0\n",
        "    env.reset()\n",
        "    current_state = env.start_state_seq[0]\n",
        "    current_action = choose_action(env,Q,current_state,hyper=epsilon)\n",
        "    rewards = []\n",
        "    tot_reward = 0 \n",
        "    while timesteps<max_timesteps :\n",
        "      timesteps+=1\n",
        "      next_state,reward = env.step(current_state,current_action)\n",
        "      next_action = choose_action(env,Q,next_state, hyper=epsilon)\n",
        "\n",
        "      # best next action\n",
        "      best_next_action = np.argmax(Q[next_state//env.num_rows,next_state%env.num_cols])\n",
        "      Q[int(current_state/(env.num_cols)), current_state%(env.num_cols), current_action] += alpha*(reward + gamma*Q[int(next_state/(env.num_cols)), next_state%(env.num_cols), best_next_action] - Q[int(current_state/(env.num_cols)), current_state%(env.num_cols), current_action])\n",
        "      rewards.append(reward[0])\n",
        "      tot_reward = tot_reward + reward[0]\n",
        "      # print(reward)\n",
        "      if reward == env.r_goal :\n",
        "        break\n",
        "      # print(current_state)\n",
        "      current_state = next_state\n",
        "      current_action = next_action\n",
        "      state_visit_count[int(current_state/(env.num_cols)), current_state%(env.num_cols)]+=1\n",
        "    episode_rewards.append(tot_reward)\n",
        "    steps_to_completion.append(timesteps)\n",
        "\n",
        "    if (steps+1)%10 == 0 and plot_heat:\n",
        "      clear_output(wait=True)\n",
        "      plot_Q(Q, message = \"Episode %d: Reward: %f, Steps: %.2f, Qmax: %.2f, Qmin: %.2f\"%(steps+1, np.mean(episode_rewards[steps-10+1:steps]),\n",
        "                                                                           np.mean(steps_to_completion[steps-10+1:steps]),\n",
        "                                                                           Q.max(), Q.min()))\n",
        "  return Q, episode_rewards, steps_to_completion,state_visit_count"
      ]
    },
    {
      "cell_type": "code",
      "execution_count": 45,
      "metadata": {},
      "outputs": [],
      "source": [
        "def eval_Q(env,Q, max_timesteps=100) :\n",
        "    episode_rewards = []\n",
        "    steps_to_completion = []\n",
        "    steps = 0\n",
        "    episodes = 100\n",
        "    for steps in tqdm(range(episodes)):\n",
        "        timesteps=0\n",
        "        env.reset()\n",
        "        current_state = env.start_state_seq[0]\n",
        "        current_action = np.argmax(Q[int(current_state/(env.num_cols)), current_state%(env.num_cols)])\n",
        "        rewards = []\n",
        "        tot_reward = 0 \n",
        "        while timesteps<max_timesteps :\n",
        "            timesteps+=1\n",
        "            next_state,reward = env.step(current_state,current_action)\n",
        "            next_action = np.argmax(Q[int(next_state/(env.num_cols)), next_state%(env.num_cols)])\n",
        "\n",
        "            rewards.append(reward[0])\n",
        "            tot_reward = tot_reward + reward[0]\n",
        "            # print(reward)\n",
        "            if reward == env.r_goal :\n",
        "                break\n",
        "            # print(current_state)\n",
        "            current_state = next_state\n",
        "            current_action = next_action\n",
        "        episode_rewards.append(tot_reward)\n",
        "        steps_to_completion.append(timesteps)\n",
        "\n",
        "    return np.mean(episode_rewards)"
      ]
    },
    {
      "cell_type": "code",
      "execution_count": 47,
      "metadata": {},
      "outputs": [
        {
          "name": "stderr",
          "output_type": "stream",
          "text": [
            "100%|██████████| 20000/20000 [00:16<00:00, 1227.03it/s]\n",
            "100%|██████████| 100/100 [00:00<00:00, 2222.08it/s]\n",
            "100%|██████████| 20000/20000 [00:14<00:00, 1342.97it/s]\n",
            "100%|██████████| 100/100 [00:00<00:00, 2631.97it/s]\n",
            "100%|██████████| 20000/20000 [00:17<00:00, 1171.64it/s]\n",
            "100%|██████████| 100/100 [00:00<00:00, 2083.48it/s]\n",
            "100%|██████████| 20000/20000 [00:14<00:00, 1369.30it/s]\n",
            "100%|██████████| 100/100 [00:00<00:00, 2272.62it/s]\n",
            "100%|██████████| 20000/20000 [00:14<00:00, 1347.14it/s]\n",
            "100%|██████████| 100/100 [00:00<00:00, 2222.21it/s]\n",
            "100%|██████████| 20000/20000 [00:16<00:00, 1180.15it/s]\n",
            "100%|██████████| 100/100 [00:00<00:00, 2630.10it/s]\n",
            "100%|██████████| 20000/20000 [00:14<00:00, 1366.36it/s]\n",
            "100%|██████████| 100/100 [00:00<00:00, 1960.64it/s]\n",
            "100%|██████████| 20000/20000 [00:14<00:00, 1354.34it/s]\n",
            "100%|██████████| 100/100 [00:00<00:00, 1587.37it/s]\n",
            "100%|██████████| 20000/20000 [00:16<00:00, 1189.46it/s]\n",
            "100%|██████████| 100/100 [00:00<00:00, 2631.74it/s]\n",
            "100%|██████████| 20000/20000 [00:14<00:00, 1381.02it/s]\n",
            "100%|██████████| 100/100 [00:00<00:00, 2040.92it/s]\n",
            "100%|██████████| 20000/20000 [00:14<00:00, 1360.82it/s]\n",
            "100%|██████████| 100/100 [00:00<00:00, 2439.06it/s]\n",
            "100%|██████████| 20000/20000 [00:10<00:00, 1884.84it/s]\n",
            "100%|██████████| 100/100 [00:00<00:00, 6666.51it/s]\n",
            "100%|██████████| 20000/20000 [00:07<00:00, 2516.62it/s]\n",
            "100%|██████████| 100/100 [00:00<00:00, 5554.93it/s]\n",
            "100%|██████████| 20000/20000 [00:14<00:00, 1371.32it/s]\n",
            "100%|██████████| 100/100 [00:00<00:00, 2564.13it/s]\n",
            "100%|██████████| 20000/20000 [00:09<00:00, 2082.87it/s]\n",
            "100%|██████████| 100/100 [00:00<00:00, 6670.12it/s]\n",
            "100%|██████████| 20000/20000 [00:14<00:00, 1372.00it/s]\n",
            "100%|██████████| 100/100 [00:00<00:00, 2702.88it/s]\n",
            "100%|██████████| 20000/20000 [00:14<00:00, 1357.50it/s]\n",
            "100%|██████████| 100/100 [00:00<00:00, 2127.71it/s]\n",
            "100%|██████████| 20000/20000 [00:16<00:00, 1192.01it/s]\n",
            "100%|██████████| 100/100 [00:00<00:00, 2325.69it/s]\n",
            "100%|██████████| 20000/20000 [00:14<00:00, 1386.21it/s]\n",
            "100%|██████████| 100/100 [00:00<00:00, 2631.44it/s]\n",
            "100%|██████████| 20000/20000 [00:14<00:00, 1385.56it/s]\n",
            "100%|██████████| 100/100 [00:00<00:00, 2222.04it/s]\n",
            "100%|██████████| 20000/20000 [00:16<00:00, 1194.00it/s]\n",
            "100%|██████████| 100/100 [00:00<00:00, 2438.51it/s]\n",
            "100%|██████████| 20000/20000 [00:14<00:00, 1382.43it/s]\n",
            "100%|██████████| 100/100 [00:00<00:00, 2325.69it/s]\n",
            "100%|██████████| 20000/20000 [00:14<00:00, 1363.98it/s]\n",
            "100%|██████████| 100/100 [00:00<00:00, 2273.26it/s]\n",
            "100%|██████████| 20000/20000 [00:16<00:00, 1193.55it/s]\n",
            "100%|██████████| 100/100 [00:00<00:00, 2702.78it/s]\n",
            "100%|██████████| 20000/20000 [00:14<00:00, 1399.84it/s]\n",
            "100%|██████████| 100/100 [00:00<00:00, 2128.15it/s]\n",
            "100%|██████████| 20000/20000 [00:14<00:00, 1373.10it/s]\n",
            "100%|██████████| 100/100 [00:00<00:00, 2325.54it/s]\n",
            "100%|██████████| 20000/20000 [00:16<00:00, 1198.11it/s]\n",
            "100%|██████████| 100/100 [00:00<00:00, 2631.57it/s]\n",
            "100%|██████████| 20000/20000 [00:14<00:00, 1407.94it/s]\n",
            "100%|██████████| 100/100 [00:00<00:00, 2564.10it/s]\n",
            "100%|██████████| 20000/20000 [00:11<00:00, 1722.96it/s]\n",
            "100%|██████████| 100/100 [00:00<00:00, 3843.47it/s]\n",
            "100%|██████████| 20000/20000 [00:09<00:00, 2023.47it/s]\n",
            "100%|██████████| 100/100 [00:00<00:00, 5263.14it/s]\n",
            "100%|██████████| 20000/20000 [00:14<00:00, 1404.48it/s]\n",
            "100%|██████████| 100/100 [00:00<00:00, 2221.74it/s]\n",
            "100%|██████████| 20000/20000 [00:14<00:00, 1367.77it/s]\n",
            "100%|██████████| 100/100 [00:00<00:00, 1999.99it/s]\n",
            "100%|██████████| 20000/20000 [00:16<00:00, 1191.57it/s]\n",
            "100%|██████████| 100/100 [00:00<00:00, 2325.48it/s]\n",
            "100%|██████████| 20000/20000 [00:14<00:00, 1409.00it/s]\n",
            "100%|██████████| 100/100 [00:00<00:00, 2272.84it/s]\n",
            "100%|██████████| 20000/20000 [00:14<00:00, 1350.65it/s]\n",
            "100%|██████████| 100/100 [00:00<00:00, 2272.69it/s]\n",
            "100%|██████████| 20000/20000 [00:16<00:00, 1196.64it/s]\n",
            "100%|██████████| 100/100 [00:00<00:00, 2631.56it/s]\n",
            "100%|██████████| 20000/20000 [00:14<00:00, 1405.58it/s]\n",
            "100%|██████████| 100/100 [00:00<00:00, 1818.19it/s]\n",
            "100%|██████████| 20000/20000 [00:14<00:00, 1382.55it/s]\n",
            "100%|██████████| 100/100 [00:00<00:00, 2325.66it/s]\n",
            "100%|██████████| 20000/20000 [00:16<00:00, 1199.98it/s]\n",
            "100%|██████████| 100/100 [00:00<00:00, 2083.29it/s]\n",
            "100%|██████████| 20000/20000 [00:14<00:00, 1408.47it/s]\n",
            "100%|██████████| 100/100 [00:00<00:00, 2564.12it/s]\n",
            "100%|██████████| 20000/20000 [00:14<00:00, 1375.31it/s]\n",
            "100%|██████████| 100/100 [00:00<00:00, 2381.08it/s]\n",
            "100%|██████████| 20000/20000 [00:16<00:00, 1208.82it/s]\n",
            "100%|██████████| 100/100 [00:00<00:00, 2173.85it/s]\n",
            "100%|██████████| 20000/20000 [00:14<00:00, 1395.09it/s]\n",
            "100%|██████████| 100/100 [00:00<00:00, 2082.74it/s]\n",
            "100%|██████████| 20000/20000 [00:10<00:00, 1900.60it/s]\n",
            "100%|██████████| 100/100 [00:00<00:00, 5555.22it/s]\n",
            "100%|██████████| 20000/20000 [00:09<00:00, 2172.97it/s]\n",
            "100%|██████████| 100/100 [00:00<00:00, 4546.33it/s]\n",
            "100%|██████████| 20000/20000 [00:14<00:00, 1392.08it/s]\n",
            "100%|██████████| 100/100 [00:00<00:00, 1999.83it/s]\n",
            "100%|██████████| 20000/20000 [00:14<00:00, 1377.79it/s]\n",
            "100%|██████████| 100/100 [00:00<00:00, 1754.48it/s]\n",
            "100%|██████████| 20000/20000 [00:16<00:00, 1202.37it/s]\n",
            "100%|██████████| 100/100 [00:00<00:00, 2083.38it/s]\n",
            "100%|██████████| 20000/20000 [00:14<00:00, 1404.97it/s]\n",
            "100%|██████████| 100/100 [00:00<00:00, 1851.80it/s]\n",
            "100%|██████████| 20000/20000 [00:14<00:00, 1374.51it/s]\n",
            "100%|██████████| 100/100 [00:00<00:00, 2380.79it/s]\n",
            "100%|██████████| 20000/20000 [00:16<00:00, 1197.40it/s]\n",
            "100%|██████████| 100/100 [00:00<00:00, 2222.09it/s]\n",
            "100%|██████████| 20000/20000 [00:14<00:00, 1389.52it/s]\n",
            "100%|██████████| 100/100 [00:00<00:00, 2564.07it/s]\n",
            "100%|██████████| 20000/20000 [00:14<00:00, 1378.45it/s]\n",
            "100%|██████████| 100/100 [00:00<00:00, 2222.14it/s]\n",
            "100%|██████████| 20000/20000 [00:16<00:00, 1194.10it/s]\n",
            "100%|██████████| 100/100 [00:00<00:00, 2222.16it/s]\n",
            "100%|██████████| 20000/20000 [00:14<00:00, 1402.59it/s]\n",
            "100%|██████████| 100/100 [00:00<00:00, 2173.94it/s]\n",
            "100%|██████████| 20000/20000 [00:14<00:00, 1362.27it/s]\n",
            "100%|██████████| 100/100 [00:00<00:00, 1923.00it/s]\n",
            "100%|██████████| 20000/20000 [00:16<00:00, 1195.81it/s]\n",
            "100%|██████████| 100/100 [00:00<00:00, 2324.85it/s]\n",
            "100%|██████████| 20000/20000 [00:14<00:00, 1406.37it/s]\n",
            "100%|██████████| 100/100 [00:00<00:00, 2325.50it/s]\n",
            "100%|██████████| 20000/20000 [00:14<00:00, 1375.22it/s]\n",
            "100%|██████████| 100/100 [00:00<00:00, 2274.06it/s]\n",
            "100%|██████████| 20000/20000 [00:16<00:00, 1203.43it/s]\n",
            "100%|██████████| 100/100 [00:00<00:00, 2222.34it/s]\n",
            "100%|██████████| 20000/20000 [00:14<00:00, 1405.38it/s]\n",
            "100%|██████████| 100/100 [00:00<00:00, 2563.99it/s]\n",
            "100%|██████████| 20000/20000 [00:14<00:00, 1383.99it/s]\n",
            "100%|██████████| 100/100 [00:00<00:00, 2272.68it/s]\n",
            "100%|██████████| 20000/20000 [00:16<00:00, 1199.57it/s]\n",
            "100%|██████████| 100/100 [00:00<00:00, 2271.96it/s]\n",
            "100%|██████████| 20000/20000 [00:14<00:00, 1409.94it/s]\n",
            "100%|██████████| 100/100 [00:00<00:00, 2272.51it/s]\n",
            "100%|██████████| 20000/20000 [00:14<00:00, 1366.96it/s]\n",
            "100%|██████████| 100/100 [00:00<00:00, 2127.67it/s]\n",
            "100%|██████████| 20000/20000 [00:16<00:00, 1205.47it/s]\n",
            "100%|██████████| 100/100 [00:00<00:00, 2439.05it/s]\n",
            "100%|██████████| 20000/20000 [00:14<00:00, 1404.58it/s]\n",
            "100%|██████████| 100/100 [00:00<00:00, 2272.33it/s]\n",
            "100%|██████████| 20000/20000 [00:14<00:00, 1398.73it/s]\n",
            "100%|██████████| 100/100 [00:00<00:00, 2632.55it/s]\n",
            "100%|██████████| 20000/20000 [00:16<00:00, 1198.35it/s]\n",
            "100%|██████████| 100/100 [00:00<00:00, 2564.21it/s]\n",
            "100%|██████████| 20000/20000 [00:14<00:00, 1415.70it/s]\n",
            "100%|██████████| 100/100 [00:00<00:00, 2564.23it/s]\n",
            "100%|██████████| 20000/20000 [00:14<00:00, 1371.74it/s]\n",
            "100%|██████████| 100/100 [00:00<00:00, 2702.69it/s]\n",
            "100%|██████████| 20000/20000 [00:09<00:00, 2107.70it/s]\n",
            "100%|██████████| 100/100 [00:00<00:00, 5263.28it/s]\n",
            "100%|██████████| 20000/20000 [00:14<00:00, 1425.21it/s]\n",
            "100%|██████████| 100/100 [00:00<00:00, 2438.86it/s]\n",
            "100%|██████████| 20000/20000 [00:14<00:00, 1385.52it/s]\n",
            "100%|██████████| 100/100 [00:00<00:00, 2499.88it/s]\n",
            "100%|██████████| 20000/20000 [00:16<00:00, 1195.03it/s]\n",
            "100%|██████████| 100/100 [00:00<00:00, 2128.42it/s]\n",
            "100%|██████████| 20000/20000 [00:14<00:00, 1396.33it/s]\n",
            "100%|██████████| 100/100 [00:00<00:00, 1923.06it/s]\n",
            "100%|██████████| 20000/20000 [00:15<00:00, 1311.58it/s]\n",
            "100%|██████████| 100/100 [00:00<00:00, 2173.41it/s]\n",
            "100%|██████████| 20000/20000 [00:16<00:00, 1176.69it/s]\n",
            "100%|██████████| 100/100 [00:00<00:00, 2325.58it/s]\n",
            "100%|██████████| 20000/20000 [00:14<00:00, 1414.54it/s]\n",
            "100%|██████████| 100/100 [00:00<00:00, 1960.71it/s]\n",
            "100%|██████████| 20000/20000 [00:14<00:00, 1376.75it/s]\n",
            "100%|██████████| 100/100 [00:00<00:00, 1818.19it/s]\n",
            "100%|██████████| 20000/20000 [00:16<00:00, 1203.01it/s]\n",
            "100%|██████████| 100/100 [00:00<00:00, 1785.78it/s]\n",
            "100%|██████████| 20000/20000 [00:14<00:00, 1404.20it/s]\n",
            "100%|██████████| 100/100 [00:00<00:00, 2271.82it/s]\n",
            "100%|██████████| 20000/20000 [00:14<00:00, 1371.82it/s]\n",
            "100%|██████████| 100/100 [00:00<00:00, 2173.88it/s]\n",
            "100%|██████████| 20000/20000 [00:16<00:00, 1205.44it/s]\n",
            "100%|██████████| 100/100 [00:00<00:00, 2272.83it/s]\n",
            "100%|██████████| 20000/20000 [00:14<00:00, 1408.25it/s]\n",
            "100%|██████████| 100/100 [00:00<00:00, 2173.79it/s]\n",
            "100%|██████████| 20000/20000 [00:12<00:00, 1623.90it/s]\n",
            "100%|██████████| 100/100 [00:00<00:00, 2040.67it/s]\n",
            "100%|██████████| 20000/20000 [00:13<00:00, 1443.34it/s]\n",
            "100%|██████████| 100/100 [00:00<00:00, 5882.86it/s]\n",
            "100%|██████████| 20000/20000 [00:14<00:00, 1417.18it/s]\n",
            "100%|██████████| 100/100 [00:00<00:00, 2380.96it/s]\n",
            "100%|██████████| 20000/20000 [00:14<00:00, 1383.92it/s]\n",
            "100%|██████████| 100/100 [00:00<00:00, 2128.27it/s]\n",
            "100%|██████████| 20000/20000 [00:12<00:00, 1598.43it/s]\n",
            "100%|██████████| 100/100 [00:00<00:00, 5000.30it/s]\n",
            "100%|██████████| 20000/20000 [00:14<00:00, 1407.42it/s]\n",
            "100%|██████████| 100/100 [00:00<00:00, 2173.83it/s]\n",
            "100%|██████████| 20000/20000 [00:14<00:00, 1384.49it/s]\n",
            "100%|██████████| 100/100 [00:00<00:00, 2438.97it/s]\n",
            "100%|██████████| 20000/20000 [00:16<00:00, 1203.57it/s]\n",
            "100%|██████████| 100/100 [00:00<00:00, 2273.62it/s]\n",
            "100%|██████████| 20000/20000 [00:12<00:00, 1662.51it/s]\n",
            "100%|██████████| 100/100 [00:00<00:00, 3124.37it/s]\n",
            "100%|██████████| 20000/20000 [00:14<00:00, 1367.62it/s]\n",
            "100%|██████████| 100/100 [00:00<00:00, 2127.73it/s]\n",
            "100%|██████████| 20000/20000 [00:16<00:00, 1178.06it/s]\n",
            "100%|██████████| 100/100 [00:00<00:00, 1449.25it/s]\n",
            "100%|██████████| 20000/20000 [00:14<00:00, 1403.24it/s]\n",
            "100%|██████████| 100/100 [00:00<00:00, 2173.92it/s]\n",
            "100%|██████████| 20000/20000 [00:14<00:00, 1398.56it/s]\n",
            "100%|██████████| 100/100 [00:00<00:00, 2127.49it/s]\n",
            "100%|██████████| 20000/20000 [00:16<00:00, 1217.45it/s]\n",
            "100%|██████████| 100/100 [00:00<00:00, 2127.28it/s]\n",
            "100%|██████████| 20000/20000 [00:14<00:00, 1410.53it/s]\n",
            "100%|██████████| 100/100 [00:00<00:00, 2000.05it/s]\n",
            "100%|██████████| 20000/20000 [00:14<00:00, 1383.64it/s]\n",
            "100%|██████████| 100/100 [00:00<00:00, 2222.14it/s]\n",
            "100%|██████████| 20000/20000 [00:16<00:00, 1201.27it/s]\n",
            "100%|██████████| 100/100 [00:00<00:00, 2127.67it/s]\n",
            "100%|██████████| 20000/20000 [00:14<00:00, 1415.77it/s]\n",
            "100%|██████████| 100/100 [00:00<00:00, 2702.90it/s]\n",
            "100%|██████████| 20000/20000 [00:14<00:00, 1379.46it/s]\n",
            "100%|██████████| 100/100 [00:00<00:00, 2223.18it/s]\n",
            "100%|██████████| 20000/20000 [00:16<00:00, 1199.93it/s]\n",
            "100%|██████████| 100/100 [00:00<00:00, 2381.14it/s]\n",
            "100%|██████████| 20000/20000 [00:14<00:00, 1417.53it/s]\n",
            "100%|██████████| 100/100 [00:00<00:00, 2082.98it/s]\n",
            "100%|██████████| 20000/20000 [00:14<00:00, 1383.05it/s]\n",
            "100%|██████████| 100/100 [00:00<00:00, 2272.90it/s]\n",
            "100%|██████████| 20000/20000 [00:16<00:00, 1201.42it/s]\n",
            "100%|██████████| 100/100 [00:00<00:00, 2127.68it/s]\n",
            "100%|██████████| 20000/20000 [00:14<00:00, 1411.13it/s]\n",
            "100%|██████████| 100/100 [00:00<00:00, 1999.99it/s]\n",
            "100%|██████████| 20000/20000 [00:14<00:00, 1370.71it/s]\n",
            "100%|██████████| 100/100 [00:00<00:00, 2563.87it/s]\n",
            "100%|██████████| 20000/20000 [00:16<00:00, 1198.85it/s]\n",
            "100%|██████████| 100/100 [00:00<00:00, 2272.78it/s]\n",
            "100%|██████████| 20000/20000 [00:14<00:00, 1408.59it/s]\n",
            "100%|██████████| 100/100 [00:00<00:00, 1961.23it/s]\n",
            "100%|██████████| 20000/20000 [00:14<00:00, 1380.29it/s]\n",
            "100%|██████████| 100/100 [00:00<00:00, 2439.02it/s]\n",
            "100%|██████████| 20000/20000 [00:16<00:00, 1204.15it/s]\n",
            "100%|██████████| 100/100 [00:00<00:00, 2380.98it/s]\n",
            "100%|██████████| 20000/20000 [00:11<00:00, 1672.81it/s]\n",
            "100%|██████████| 100/100 [00:00<00:00, 3225.89it/s]\n",
            "100%|██████████| 20000/20000 [00:14<00:00, 1382.78it/s]\n",
            "100%|██████████| 100/100 [00:00<00:00, 2173.52it/s]\n",
            "100%|██████████| 20000/20000 [00:16<00:00, 1194.85it/s]\n",
            "100%|██████████| 100/100 [00:00<00:00, 2564.01it/s]\n",
            "100%|██████████| 20000/20000 [00:14<00:00, 1420.77it/s]\n",
            "100%|██████████| 100/100 [00:00<00:00, 2221.75it/s]\n",
            "100%|██████████| 20000/20000 [00:14<00:00, 1383.54it/s]\n",
            "100%|██████████| 100/100 [00:00<00:00, 2272.84it/s]\n",
            "100%|██████████| 20000/20000 [00:16<00:00, 1201.56it/s]\n",
            "100%|██████████| 100/100 [00:00<00:00, 2272.55it/s]\n",
            "100%|██████████| 20000/20000 [00:14<00:00, 1424.91it/s]\n",
            "100%|██████████| 100/100 [00:00<00:00, 2222.44it/s]\n",
            "100%|██████████| 20000/20000 [00:13<00:00, 1452.28it/s]\n",
            "100%|██████████| 100/100 [00:00<00:00, 2083.25it/s]\n",
            "100%|██████████| 20000/20000 [00:16<00:00, 1219.58it/s]\n",
            "100%|██████████| 100/100 [00:00<00:00, 2222.02it/s]\n",
            "100%|██████████| 20000/20000 [00:14<00:00, 1418.60it/s]\n",
            "100%|██████████| 100/100 [00:00<00:00, 2564.15it/s]\n",
            "100%|██████████| 20000/20000 [00:14<00:00, 1371.88it/s]\n",
            "100%|██████████| 100/100 [00:00<00:00, 2325.44it/s]\n",
            "100%|██████████| 20000/20000 [00:16<00:00, 1205.65it/s]\n",
            "100%|██████████| 100/100 [00:00<00:00, 2325.44it/s]\n",
            "100%|██████████| 20000/20000 [00:11<00:00, 1670.03it/s]\n",
            "100%|██████████| 100/100 [00:00<00:00, 3568.83it/s]\n",
            "100%|██████████| 20000/20000 [00:14<00:00, 1393.05it/s]\n",
            "100%|██████████| 100/100 [00:00<00:00, 2381.07it/s]\n",
            "100%|██████████| 20000/20000 [00:16<00:00, 1206.45it/s]\n",
            "100%|██████████| 100/100 [00:00<00:00, 2273.06it/s]\n",
            "100%|██████████| 20000/20000 [00:13<00:00, 1432.74it/s]\n",
            "100%|██████████| 100/100 [00:00<00:00, 2325.57it/s]\n",
            "100%|██████████| 20000/20000 [00:12<00:00, 1630.87it/s]\n",
            "100%|██████████| 100/100 [00:00<00:00, 2942.21it/s]\n",
            "100%|██████████| 20000/20000 [00:16<00:00, 1204.53it/s]\n",
            "100%|██████████| 100/100 [00:00<00:00, 2083.41it/s]\n",
            "100%|██████████| 20000/20000 [00:14<00:00, 1403.21it/s]\n",
            "100%|██████████| 100/100 [00:00<00:00, 2222.29it/s]\n",
            "100%|██████████| 20000/20000 [00:14<00:00, 1401.32it/s]\n",
            "100%|██████████| 100/100 [00:00<00:00, 2222.24it/s]\n",
            "100%|██████████| 20000/20000 [00:16<00:00, 1206.20it/s]\n",
            "100%|██████████| 100/100 [00:00<00:00, 2272.53it/s]"
          ]
        },
        {
          "name": "stdout",
          "output_type": "stream",
          "text": [
            "0.1 0.5 0\n"
          ]
        },
        {
          "name": "stderr",
          "output_type": "stream",
          "text": [
            "\n"
          ]
        }
      ],
      "source": [
        "'''\n",
        "conf 1\n",
        "wind = False\n",
        "start state = [0,4]\n",
        "p = 1.0\n",
        "strategy = e_greedy\n",
        "'''\n",
        "\n",
        "wind = False\n",
        "start_state = [0,4]\n",
        "p = 1.0\n",
        "\n",
        "# specify world parameters\n",
        "num_cols = 10\n",
        "num_rows = 10\n",
        "obstructions = np.array([[0,7],[1,1],[1,2],[1,3],[1,7],[2,1],[2,3],\n",
        "                         [2,7],[3,1],[3,3],[3,5],[4,3],[4,5],[4,7],\n",
        "                         [5,3],[5,7],[5,9],[6,3],[6,9],[7,1],[7,6],\n",
        "                         [7,7],[7,8],[7,9],[8,1],[8,5],[8,6],[9,1]])\n",
        "bad_states = np.array([[1,9],[4,2],[4,4],[7,5],[9,9]])\n",
        "restart_states = np.array([[3,7],[8,2]])\n",
        "start_state = np.array([start_state])\n",
        "goal_states = np.array([[0,9],[2,2],[8,7]])\n",
        "\n",
        "# create model\n",
        "gw = GridWorld(num_rows=num_rows,\n",
        "               num_cols=num_cols,\n",
        "               start_state=start_state,\n",
        "               goal_states=goal_states, wind = wind)\n",
        "gw.add_obstructions(obstructed_states=obstructions,\n",
        "                    bad_states=bad_states,\n",
        "                    restart_states=restart_states)\n",
        "gw.add_rewards(step_reward=-1,\n",
        "               goal_reward=10,\n",
        "               bad_state_reward=-6,\n",
        "               restart_state_reward=-100)\n",
        "gw.add_transition_probability(p_good_transition=p,\n",
        "                              bias=0.5)\n",
        "env = gw.create_gridworld()\n",
        "\n",
        "# hyper parameter set\n",
        "alphas = np.linspace(0.1,0.9,9)\n",
        "gammas = np.linspace(0.5,0.9,5)\n",
        "epsilons = [0,0.01,0.1]\n",
        "episodes = 20000\n",
        "\n",
        "# tune hyperparameters\n",
        "from math import inf\n",
        "seed = 42\n",
        "opt_alpha = 1\n",
        "opt_gamma = 1\n",
        "opt_epsilon = 0.1\n",
        "max_valuation = -inf\n",
        "for alpha in alphas:\n",
        "    for gamma in gammas:\n",
        "        for epsilon in epsilons:\n",
        "            Q = np.zeros((env.num_rows, env.num_cols, env.num_actions))\n",
        "            rg = np.random.RandomState(seed)\n",
        "            Q, rewards, steps, _ = q_learning(env, Q,gamma,alpha,epsilon,choose_action = choose_action_epsilon)\n",
        "            valuation = eval_Q(env,Q)\n",
        "            if(valuation > max_valuation):\n",
        "                opt_alpha = alpha\n",
        "                opt_gamma = gamma\n",
        "                opt_epsilon = epsilon\n",
        "                max_valuation = valuation\n",
        "            \n",
        "print(opt_alpha,opt_gamma, opt_epsilon)"
      ]
    },
    {
      "cell_type": "code",
      "execution_count": 48,
      "metadata": {},
      "outputs": [
        {
          "name": "stderr",
          "output_type": "stream",
          "text": [
            "100%|██████████| 10000/10000 [00:07<00:00, 1322.23it/s]\n",
            "100%|██████████| 100/100 [00:00<00:00, 2040.82it/s]\n",
            "100%|██████████| 10000/10000 [00:07<00:00, 1270.81it/s]\n",
            "100%|██████████| 100/100 [00:00<00:00, 2040.85it/s]\n",
            "100%|██████████| 10000/10000 [00:08<00:00, 1123.52it/s]\n",
            "100%|██████████| 100/100 [00:00<00:00, 2272.66it/s]\n",
            "100%|██████████| 10000/10000 [00:07<00:00, 1331.62it/s]\n",
            "100%|██████████| 100/100 [00:00<00:00, 2272.87it/s]\n",
            "100%|██████████| 10000/10000 [00:07<00:00, 1301.91it/s]\n",
            "100%|██████████| 100/100 [00:00<00:00, 2127.60it/s]\n",
            "100%|██████████| 10000/10000 [00:08<00:00, 1147.15it/s]\n",
            "100%|██████████| 100/100 [00:00<00:00, 2325.50it/s]\n",
            "100%|██████████| 10000/10000 [00:07<00:00, 1335.42it/s]\n",
            "100%|██████████| 100/100 [00:00<00:00, 2272.63it/s]\n",
            "100%|██████████| 10000/10000 [00:07<00:00, 1322.60it/s]\n",
            "100%|██████████| 100/100 [00:00<00:00, 2272.74it/s]\n",
            "100%|██████████| 10000/10000 [00:08<00:00, 1148.24it/s]\n",
            "100%|██████████| 100/100 [00:00<00:00, 2222.09it/s]\n",
            "100%|██████████| 10000/10000 [00:07<00:00, 1340.10it/s]\n",
            "100%|██████████| 100/100 [00:00<00:00, 1886.92it/s]\n",
            "100%|██████████| 10000/10000 [00:07<00:00, 1336.54it/s]\n",
            "100%|██████████| 100/100 [00:00<00:00, 2083.30it/s]\n",
            "100%|██████████| 10000/10000 [00:08<00:00, 1170.43it/s]\n",
            "100%|██████████| 100/100 [00:00<00:00, 2272.81it/s]\n",
            "100%|██████████| 10000/10000 [00:04<00:00, 2403.56it/s]\n",
            "100%|██████████| 100/100 [00:00<00:00, 4999.53it/s]\n",
            "100%|██████████| 10000/10000 [00:04<00:00, 2360.72it/s]\n",
            "100%|██████████| 100/100 [00:00<00:00, 5555.96it/s]\n",
            "100%|██████████| 10000/10000 [00:04<00:00, 2055.91it/s]\n",
            "100%|██████████| 100/100 [00:00<00:00, 5556.40it/s]\n",
            "100%|██████████| 10000/10000 [00:07<00:00, 1356.12it/s]\n",
            "100%|██████████| 100/100 [00:00<00:00, 2173.92it/s]\n",
            "100%|██████████| 10000/10000 [00:07<00:00, 1332.71it/s]\n",
            "100%|██████████| 100/100 [00:00<00:00, 2221.98it/s]\n",
            "100%|██████████| 10000/10000 [00:08<00:00, 1174.11it/s]\n",
            "100%|██████████| 100/100 [00:00<00:00, 2127.66it/s]\n",
            "100%|██████████| 10000/10000 [00:07<00:00, 1356.67it/s]\n",
            "100%|██████████| 100/100 [00:00<00:00, 2632.63it/s]\n",
            "100%|██████████| 10000/10000 [00:07<00:00, 1345.75it/s]\n",
            "100%|██████████| 100/100 [00:00<00:00, 2438.42it/s]\n",
            "100%|██████████| 10000/10000 [00:08<00:00, 1163.47it/s]\n",
            "100%|██████████| 100/100 [00:00<00:00, 2272.68it/s]\n",
            "100%|██████████| 10000/10000 [00:07<00:00, 1366.56it/s]\n",
            "100%|██████████| 100/100 [00:00<00:00, 2777.81it/s]\n",
            "100%|██████████| 10000/10000 [00:07<00:00, 1346.68it/s]\n",
            "100%|██████████| 100/100 [00:00<00:00, 2325.66it/s]\n",
            "100%|██████████| 10000/10000 [00:08<00:00, 1168.36it/s]\n",
            "100%|██████████| 100/100 [00:00<00:00, 2325.61it/s]\n",
            "100%|██████████| 10000/10000 [00:07<00:00, 1380.26it/s]\n",
            "100%|██████████| 100/100 [00:00<00:00, 2631.32it/s]\n",
            "100%|██████████| 10000/10000 [00:07<00:00, 1334.05it/s]\n",
            "100%|██████████| 100/100 [00:00<00:00, 2564.26it/s]\n",
            "100%|██████████| 10000/10000 [00:08<00:00, 1179.80it/s]\n",
            "100%|██████████| 100/100 [00:00<00:00, 2040.74it/s]\n",
            "100%|██████████| 10000/10000 [00:07<00:00, 1384.56it/s]\n",
            "100%|██████████| 100/100 [00:00<00:00, 2273.08it/s]\n",
            "100%|██████████| 10000/10000 [00:07<00:00, 1353.18it/s]\n",
            "100%|██████████| 100/100 [00:00<00:00, 2222.43it/s]\n",
            "100%|██████████| 10000/10000 [00:05<00:00, 1898.45it/s]\n",
            "100%|██████████| 100/100 [00:00<00:00, 5556.18it/s]\n",
            "100%|██████████| 10000/10000 [00:07<00:00, 1378.55it/s]\n",
            "100%|██████████| 100/100 [00:00<00:00, 2381.65it/s]\n",
            "100%|██████████| 10000/10000 [00:07<00:00, 1340.30it/s]\n",
            "100%|██████████| 100/100 [00:00<00:00, 2222.95it/s]\n",
            "100%|██████████| 10000/10000 [00:08<00:00, 1179.80it/s]\n",
            "100%|██████████| 100/100 [00:00<00:00, 1923.15it/s]\n",
            "100%|██████████| 10000/10000 [00:07<00:00, 1379.31it/s]\n",
            "100%|██████████| 100/100 [00:00<00:00, 1922.97it/s]\n",
            "100%|██████████| 10000/10000 [00:07<00:00, 1357.59it/s]\n",
            "100%|██████████| 100/100 [00:00<00:00, 2564.15it/s]\n",
            "100%|██████████| 10000/10000 [00:08<00:00, 1193.03it/s]\n",
            "100%|██████████| 100/100 [00:00<00:00, 2083.32it/s]\n",
            "100%|██████████| 10000/10000 [00:07<00:00, 1383.62it/s]\n",
            "100%|██████████| 100/100 [00:00<00:00, 2272.40it/s]\n",
            "100%|██████████| 10000/10000 [00:07<00:00, 1368.76it/s]\n",
            "100%|██████████| 100/100 [00:00<00:00, 2380.83it/s]\n",
            "100%|██████████| 10000/10000 [00:08<00:00, 1193.32it/s]\n",
            "100%|██████████| 100/100 [00:00<00:00, 2222.09it/s]\n",
            "100%|██████████| 10000/10000 [00:07<00:00, 1378.55it/s]\n",
            "100%|██████████| 100/100 [00:00<00:00, 2083.01it/s]\n",
            "100%|██████████| 10000/10000 [00:07<00:00, 1377.36it/s]\n",
            "100%|██████████| 100/100 [00:00<00:00, 2325.44it/s]\n",
            "100%|██████████| 10000/10000 [00:08<00:00, 1164.14it/s]\n",
            "100%|██████████| 100/100 [00:00<00:00, 2438.85it/s]\n",
            "100%|██████████| 10000/10000 [00:07<00:00, 1370.61it/s]\n",
            "100%|██████████| 100/100 [00:00<00:00, 1999.47it/s]\n",
            "100%|██████████| 10000/10000 [00:07<00:00, 1370.91it/s]\n",
            "100%|██████████| 100/100 [00:00<00:00, 2325.47it/s]\n",
            "100%|██████████| 10000/10000 [00:05<00:00, 1985.31it/s]\n",
            "100%|██████████| 100/100 [00:00<00:00, 5000.48it/s]\n",
            "100%|██████████| 10000/10000 [00:07<00:00, 1367.62it/s]\n",
            "100%|██████████| 100/100 [00:00<00:00, 2273.52it/s]\n",
            "100%|██████████| 10000/10000 [00:07<00:00, 1361.10it/s]\n",
            "100%|██████████| 100/100 [00:00<00:00, 2173.70it/s]\n",
            "100%|██████████| 10000/10000 [00:08<00:00, 1177.18it/s]\n",
            "100%|██████████| 100/100 [00:00<00:00, 2223.11it/s]\n",
            "100%|██████████| 10000/10000 [00:07<00:00, 1396.26it/s]\n",
            "100%|██████████| 100/100 [00:00<00:00, 2564.04it/s]\n",
            "100%|██████████| 10000/10000 [00:07<00:00, 1360.36it/s]\n",
            "100%|██████████| 100/100 [00:00<00:00, 2222.08it/s]\n",
            "100%|██████████| 10000/10000 [00:08<00:00, 1174.12it/s]\n",
            "100%|██████████| 100/100 [00:00<00:00, 2083.25it/s]\n",
            "100%|██████████| 10000/10000 [00:07<00:00, 1363.51it/s]\n",
            "100%|██████████| 100/100 [00:00<00:00, 2127.30it/s]\n",
            "100%|██████████| 10000/10000 [00:07<00:00, 1355.01it/s]\n",
            "100%|██████████| 100/100 [00:00<00:00, 1818.12it/s]\n",
            "100%|██████████| 10000/10000 [00:08<00:00, 1182.87it/s]\n",
            "100%|██████████| 100/100 [00:00<00:00, 1851.67it/s]\n",
            "100%|██████████| 10000/10000 [00:07<00:00, 1387.35it/s]\n",
            "100%|██████████| 100/100 [00:00<00:00, 1785.15it/s]\n",
            "100%|██████████| 10000/10000 [00:07<00:00, 1362.58it/s]\n",
            "100%|██████████| 100/100 [00:00<00:00, 2631.14it/s]\n",
            "100%|██████████| 10000/10000 [00:08<00:00, 1183.01it/s]\n",
            "100%|██████████| 100/100 [00:00<00:00, 2222.18it/s]\n",
            "100%|██████████| 10000/10000 [00:07<00:00, 1400.68it/s]\n",
            "100%|██████████| 100/100 [00:00<00:00, 2325.56it/s]\n",
            "100%|██████████| 10000/10000 [00:07<00:00, 1262.79it/s]\n",
            "100%|██████████| 100/100 [00:00<00:00, 2326.10it/s]\n",
            "100%|██████████| 10000/10000 [00:08<00:00, 1188.85it/s]\n",
            "100%|██████████| 100/100 [00:00<00:00, 2174.00it/s]\n",
            "100%|██████████| 10000/10000 [00:07<00:00, 1384.62it/s]\n",
            "100%|██████████| 100/100 [00:00<00:00, 2325.60it/s]\n",
            "100%|██████████| 10000/10000 [00:07<00:00, 1351.32it/s]\n",
            "100%|██████████| 100/100 [00:00<00:00, 2127.28it/s]\n",
            "100%|██████████| 10000/10000 [00:08<00:00, 1199.78it/s]\n",
            "100%|██████████| 100/100 [00:00<00:00, 2128.21it/s]\n",
            "100%|██████████| 10000/10000 [00:07<00:00, 1393.15it/s]\n",
            "100%|██████████| 100/100 [00:00<00:00, 2380.91it/s]\n",
            "100%|██████████| 10000/10000 [00:07<00:00, 1362.22it/s]\n",
            "100%|██████████| 100/100 [00:00<00:00, 2325.38it/s]\n",
            "100%|██████████| 10000/10000 [00:08<00:00, 1182.17it/s]\n",
            "100%|██████████| 100/100 [00:00<00:00, 2499.87it/s]\n",
            "100%|██████████| 10000/10000 [00:07<00:00, 1378.74it/s]\n",
            "100%|██████████| 100/100 [00:00<00:00, 2631.56it/s]\n",
            "100%|██████████| 10000/10000 [00:07<00:00, 1372.12it/s]\n",
            "100%|██████████| 100/100 [00:00<00:00, 2324.90it/s]\n",
            "100%|██████████| 10000/10000 [00:08<00:00, 1190.26it/s]\n",
            "100%|██████████| 100/100 [00:00<00:00, 2222.29it/s]\n",
            "100%|██████████| 10000/10000 [00:07<00:00, 1410.05it/s]\n",
            "100%|██████████| 100/100 [00:00<00:00, 2325.39it/s]\n",
            "100%|██████████| 10000/10000 [00:07<00:00, 1372.31it/s]\n",
            "100%|██████████| 100/100 [00:00<00:00, 2272.68it/s]\n",
            "100%|██████████| 10000/10000 [00:08<00:00, 1183.71it/s]\n",
            "100%|██████████| 100/100 [00:00<00:00, 1666.74it/s]\n",
            "100%|██████████| 10000/10000 [00:07<00:00, 1404.30it/s]\n",
            "100%|██████████| 100/100 [00:00<00:00, 2380.77it/s]\n",
            "100%|██████████| 10000/10000 [00:07<00:00, 1362.03it/s]\n",
            "100%|██████████| 100/100 [00:00<00:00, 1538.47it/s]\n",
            "100%|██████████| 10000/10000 [00:08<00:00, 1192.89it/s]\n",
            "100%|██████████| 100/100 [00:00<00:00, 2499.84it/s]\n",
            "100%|██████████| 10000/10000 [00:07<00:00, 1401.35it/s]\n",
            "100%|██████████| 100/100 [00:00<00:00, 2564.24it/s]\n",
            "100%|██████████| 10000/10000 [00:07<00:00, 1350.26it/s]\n",
            "100%|██████████| 100/100 [00:00<00:00, 2222.04it/s]\n",
            "100%|██████████| 10000/10000 [00:08<00:00, 1181.89it/s]\n",
            "100%|██████████| 100/100 [00:00<00:00, 2777.68it/s]\n",
            "100%|██████████| 10000/10000 [00:07<00:00, 1395.85it/s]\n",
            "100%|██████████| 100/100 [00:00<00:00, 2083.40it/s]\n",
            "100%|██████████| 10000/10000 [00:07<00:00, 1369.00it/s]\n",
            "100%|██████████| 100/100 [00:00<00:00, 2631.39it/s]\n",
            "100%|██████████| 10000/10000 [00:08<00:00, 1190.90it/s]\n",
            "100%|██████████| 100/100 [00:00<00:00, 2551.53it/s]\n",
            "100%|██████████| 10000/10000 [00:07<00:00, 1381.79it/s]\n",
            "100%|██████████| 100/100 [00:00<00:00, 2381.03it/s]\n",
            "100%|██████████| 10000/10000 [00:07<00:00, 1375.14it/s]\n",
            "100%|██████████| 100/100 [00:00<00:00, 2325.78it/s]\n",
            "100%|██████████| 10000/10000 [00:08<00:00, 1186.69it/s]\n",
            "100%|██████████| 100/100 [00:00<00:00, 2439.20it/s]\n",
            "100%|██████████| 10000/10000 [00:07<00:00, 1372.36it/s]\n",
            "100%|██████████| 100/100 [00:00<00:00, 2777.78it/s]\n",
            "100%|██████████| 10000/10000 [00:07<00:00, 1356.30it/s]\n",
            "100%|██████████| 100/100 [00:00<00:00, 2439.02it/s]\n",
            "100%|██████████| 10000/10000 [00:08<00:00, 1191.66it/s]\n",
            "100%|██████████| 100/100 [00:00<00:00, 2040.79it/s]\n",
            "100%|██████████| 10000/10000 [00:07<00:00, 1372.50it/s]\n",
            "100%|██████████| 100/100 [00:00<00:00, 2631.47it/s]\n",
            "100%|██████████| 10000/10000 [00:07<00:00, 1351.00it/s]\n",
            "100%|██████████| 100/100 [00:00<00:00, 1666.75it/s]\n",
            "100%|██████████| 10000/10000 [00:08<00:00, 1176.82it/s]\n",
            "100%|██████████| 100/100 [00:00<00:00, 2702.50it/s]\n",
            "100%|██████████| 10000/10000 [00:06<00:00, 1622.82it/s]\n",
            "100%|██████████| 100/100 [00:00<00:00, 2941.12it/s]\n",
            "100%|██████████| 10000/10000 [00:07<00:00, 1363.70it/s]\n",
            "100%|██████████| 100/100 [00:00<00:00, 2777.57it/s]\n",
            "100%|██████████| 10000/10000 [00:08<00:00, 1189.84it/s]\n",
            "100%|██████████| 100/100 [00:00<00:00, 2173.69it/s]\n",
            "100%|██████████| 10000/10000 [00:07<00:00, 1408.16it/s]\n",
            "100%|██████████| 100/100 [00:00<00:00, 2272.82it/s]\n",
            "100%|██████████| 10000/10000 [00:06<00:00, 1588.48it/s]\n",
            "100%|██████████| 100/100 [00:00<00:00, 2000.67it/s]\n",
            "100%|██████████| 10000/10000 [00:08<00:00, 1199.89it/s]\n",
            "100%|██████████| 100/100 [00:00<00:00, 1785.65it/s]\n",
            "100%|██████████| 10000/10000 [00:07<00:00, 1399.27it/s]\n",
            "100%|██████████| 100/100 [00:00<00:00, 2272.78it/s]\n",
            "100%|██████████| 10000/10000 [00:07<00:00, 1354.47it/s]\n",
            "100%|██████████| 100/100 [00:00<00:00, 2222.21it/s]\n",
            "100%|██████████| 10000/10000 [00:08<00:00, 1188.21it/s]\n",
            "100%|██████████| 100/100 [00:00<00:00, 2564.04it/s]\n",
            "100%|██████████| 10000/10000 [00:06<00:00, 1649.65it/s]\n",
            "100%|██████████| 100/100 [00:00<00:00, 3447.93it/s]\n",
            "100%|██████████| 10000/10000 [00:07<00:00, 1370.35it/s]\n",
            "100%|██████████| 100/100 [00:00<00:00, 2631.36it/s]\n",
            "100%|██████████| 10000/10000 [00:08<00:00, 1177.86it/s]\n",
            "100%|██████████| 100/100 [00:00<00:00, 2040.90it/s]\n",
            "100%|██████████| 10000/10000 [00:07<00:00, 1394.70it/s]\n",
            "100%|██████████| 100/100 [00:00<00:00, 2325.53it/s]\n",
            "100%|██████████| 10000/10000 [00:07<00:00, 1378.74it/s]\n",
            "100%|██████████| 100/100 [00:00<00:00, 2325.65it/s]\n",
            "100%|██████████| 10000/10000 [00:08<00:00, 1182.03it/s]\n",
            "100%|██████████| 100/100 [00:00<00:00, 2222.23it/s]\n",
            "100%|██████████| 10000/10000 [00:07<00:00, 1393.64it/s]\n",
            "100%|██████████| 100/100 [00:00<00:00, 2272.81it/s]\n",
            "100%|██████████| 10000/10000 [00:07<00:00, 1360.17it/s]\n",
            "100%|██████████| 100/100 [00:00<00:00, 2272.78it/s]\n",
            "100%|██████████| 10000/10000 [00:08<00:00, 1193.89it/s]\n",
            "100%|██████████| 100/100 [00:00<00:00, 2083.31it/s]\n",
            "100%|██████████| 10000/10000 [00:06<00:00, 1635.32it/s]\n",
            "100%|██████████| 100/100 [00:00<00:00, 3028.64it/s]\n",
            "100%|██████████| 10000/10000 [00:07<00:00, 1353.72it/s]\n",
            "100%|██████████| 100/100 [00:00<00:00, 2174.57it/s]\n",
            "100%|██████████| 10000/10000 [00:08<00:00, 1199.85it/s]\n",
            "100%|██████████| 100/100 [00:00<00:00, 2272.71it/s]\n",
            "100%|██████████| 10000/10000 [00:07<00:00, 1404.49it/s]\n",
            "100%|██████████| 100/100 [00:00<00:00, 2325.39it/s]\n",
            "100%|██████████| 10000/10000 [00:07<00:00, 1378.37it/s]\n",
            "100%|██████████| 100/100 [00:00<00:00, 2173.92it/s]\n",
            "100%|██████████| 10000/10000 [00:08<00:00, 1198.03it/s]\n",
            "100%|██████████| 100/100 [00:00<00:00, 2127.66it/s]\n",
            "100%|██████████| 10000/10000 [00:07<00:00, 1376.65it/s]\n",
            "100%|██████████| 100/100 [00:00<00:00, 2127.63it/s]\n",
            "100%|██████████| 10000/10000 [00:07<00:00, 1386.12it/s]\n",
            "100%|██████████| 100/100 [00:00<00:00, 2702.83it/s]\n",
            "100%|██████████| 10000/10000 [00:04<00:00, 2186.75it/s]\n",
            "100%|██████████| 100/100 [00:00<00:00, 7142.77it/s]\n",
            "100%|██████████| 10000/10000 [00:07<00:00, 1403.67it/s]\n",
            "100%|██████████| 100/100 [00:00<00:00, 2439.88it/s]\n",
            "100%|██████████| 10000/10000 [00:07<00:00, 1379.69it/s]\n",
            "100%|██████████| 100/100 [00:00<00:00, 2439.16it/s]\n",
            "100%|██████████| 10000/10000 [00:08<00:00, 1189.15it/s]\n",
            "100%|██████████| 100/100 [00:00<00:00, 2000.85it/s]\n",
            "100%|██████████| 10000/10000 [00:07<00:00, 1398.05it/s]\n",
            "100%|██████████| 100/100 [00:00<00:00, 2438.70it/s]\n",
            "100%|██████████| 10000/10000 [00:07<00:00, 1339.94it/s]\n",
            "100%|██████████| 100/100 [00:00<00:00, 2564.12it/s]\n",
            "100%|██████████| 10000/10000 [00:08<00:00, 1188.41it/s]\n",
            "100%|██████████| 100/100 [00:00<00:00, 2040.84it/s]\n",
            "100%|██████████| 10000/10000 [00:06<00:00, 1645.00it/s]\n",
            "100%|██████████| 100/100 [00:00<00:00, 3125.27it/s]\n",
            "100%|██████████| 10000/10000 [00:07<00:00, 1381.79it/s]\n",
            "100%|██████████| 100/100 [00:00<00:00, 2173.73it/s]\n",
            "100%|██████████| 10000/10000 [00:08<00:00, 1176.89it/s]\n",
            "100%|██████████| 100/100 [00:00<00:00, 2272.65it/s]\n",
            "100%|██████████| 10000/10000 [00:07<00:00, 1390.63it/s]\n",
            "100%|██████████| 100/100 [00:00<00:00, 1887.36it/s]\n",
            "100%|██████████| 10000/10000 [00:07<00:00, 1375.52it/s]\n",
            "100%|██████████| 100/100 [00:00<00:00, 2563.99it/s]\n",
            "100%|██████████| 10000/10000 [00:08<00:00, 1193.68it/s]\n",
            "100%|██████████| 100/100 [00:00<00:00, 2272.55it/s]\n",
            "100%|██████████| 10000/10000 [00:06<00:00, 1647.53it/s]\n",
            "100%|██████████| 100/100 [00:00<00:00, 2777.80it/s]\n",
            "100%|██████████| 10000/10000 [00:07<00:00, 1365.61it/s]\n",
            "100%|██████████| 100/100 [00:00<00:00, 2631.74it/s]\n",
            "100%|██████████| 10000/10000 [00:08<00:00, 1201.10it/s]\n",
            "100%|██████████| 100/100 [00:00<00:00, 2221.97it/s]\n",
            "100%|██████████| 10000/10000 [00:06<00:00, 1651.31it/s]\n",
            "100%|██████████| 100/100 [00:00<00:00, 3571.57it/s]\n",
            "100%|██████████| 10000/10000 [00:07<00:00, 1383.12it/s]\n",
            "100%|██████████| 100/100 [00:00<00:00, 2272.69it/s]\n",
            "100%|██████████| 10000/10000 [00:08<00:00, 1192.75it/s]\n",
            "100%|██████████| 100/100 [00:00<00:00, 2499.99it/s]"
          ]
        },
        {
          "name": "stdout",
          "output_type": "stream",
          "text": [
            "0.1 0.5 0\n"
          ]
        },
        {
          "name": "stderr",
          "output_type": "stream",
          "text": [
            "\n"
          ]
        }
      ],
      "source": [
        "'''\n",
        "conf 1\n",
        "wind = False\n",
        "start state = [0,4]\n",
        "p = 1.0\n",
        "strategy = e_greedy\n",
        "'''\n",
        "\n",
        "wind = False\n",
        "start_state = [0,4]\n",
        "p = 1.0\n",
        "\n",
        "# specify world parameters\n",
        "num_cols = 10\n",
        "num_rows = 10\n",
        "obstructions = np.array([[0,7],[1,1],[1,2],[1,3],[1,7],[2,1],[2,3],\n",
        "                         [2,7],[3,1],[3,3],[3,5],[4,3],[4,5],[4,7],\n",
        "                         [5,3],[5,7],[5,9],[6,3],[6,9],[7,1],[7,6],\n",
        "                         [7,7],[7,8],[7,9],[8,1],[8,5],[8,6],[9,1]])\n",
        "bad_states = np.array([[1,9],[4,2],[4,4],[7,5],[9,9]])\n",
        "restart_states = np.array([[3,7],[8,2]])\n",
        "start_state = np.array([start_state])\n",
        "goal_states = np.array([[0,9],[2,2],[8,7]])\n",
        "\n",
        "# create model\n",
        "gw = GridWorld(num_rows=num_rows,\n",
        "               num_cols=num_cols,\n",
        "               start_state=start_state,\n",
        "               goal_states=goal_states, wind = wind)\n",
        "gw.add_obstructions(obstructed_states=obstructions,\n",
        "                    bad_states=bad_states,\n",
        "                    restart_states=restart_states)\n",
        "gw.add_rewards(step_reward=-1,\n",
        "               goal_reward=10,\n",
        "               bad_state_reward=-6,\n",
        "               restart_state_reward=-100)\n",
        "gw.add_transition_probability(p_good_transition=p,\n",
        "                              bias=0.5)\n",
        "env = gw.create_gridworld()\n",
        "\n",
        "# hyper parameter set\n",
        "alphas = np.linspace(0.1,0.9,9)\n",
        "gammas = np.linspace(0.5,0.9,5)\n",
        "epsilons = [0,0.01,0.1]\n",
        "episodes = 10000\n",
        "\n",
        "# tune hyperparameters\n",
        "from math import inf\n",
        "seed = 42\n",
        "opt_alpha = 1\n",
        "opt_gamma = 1\n",
        "opt_epsilon = 0.1\n",
        "max_valuation = -inf\n",
        "for alpha in alphas:\n",
        "    for gamma in gammas:\n",
        "        for epsilon in epsilons:\n",
        "            Q = np.zeros((env.num_rows, env.num_cols, env.num_actions))\n",
        "            rg = np.random.RandomState(seed)\n",
        "            Q, rewards, steps, _ = q_learning(env, Q,gamma,alpha,epsilon,choose_action = choose_action_epsilon)\n",
        "            valuation = eval_Q(env,Q)\n",
        "            if(valuation > max_valuation):\n",
        "                opt_alpha = alpha\n",
        "                opt_gamma = gamma\n",
        "                opt_epsilon = epsilon\n",
        "                max_valuation = valuation\n",
        "            \n",
        "print(opt_alpha,opt_gamma, opt_epsilon)"
      ]
    },
    {
      "cell_type": "code",
      "execution_count": null,
      "metadata": {},
      "outputs": [],
      "source": [
        "import multiprocessing as mp\n",
        "\n",
        "'''\n",
        "conf 1\n",
        "wind = False\n",
        "start state = [0,4]\n",
        "p = 1.0\n",
        "strategy = e_greedy\n",
        "'''\n",
        "\n",
        "wind = False\n",
        "start_state = [0,4]\n",
        "p = 1.0\n",
        "\n",
        "# specify world parameters\n",
        "num_cols = 10\n",
        "num_rows = 10\n",
        "obstructions = np.array([[0,7],[1,1],[1,2],[1,3],[1,7],[2,1],[2,3],\n",
        "                         [2,7],[3,1],[3,3],[3,5],[4,3],[4,5],[4,7],\n",
        "                         [5,3],[5,7],[5,9],[6,3],[6,9],[7,1],[7,6],\n",
        "                         [7,7],[7,8],[7,9],[8,1],[8,5],[8,6],[9,1]])\n",
        "bad_states = np.array([[1,9],[4,2],[4,4],[7,5],[9,9]])\n",
        "restart_states = np.array([[3,7],[8,2]])\n",
        "start_state = np.array([start_state])\n",
        "goal_states = np.array([[0,9],[2,2],[8,7]])\n",
        "\n",
        "# create model\n",
        "gw = GridWorld(num_rows=num_rows,\n",
        "               num_cols=num_cols,\n",
        "               start_state=start_state,\n",
        "               goal_states=goal_states, wind = wind)\n",
        "gw.add_obstructions(obstructed_states=obstructions,\n",
        "                    bad_states=bad_states,\n",
        "                    restart_states=restart_states)\n",
        "gw.add_rewards(step_reward=-1,\n",
        "               goal_reward=10,\n",
        "               bad_state_reward=-6,\n",
        "               restart_state_reward=-100)\n",
        "gw.add_transition_probability(p_good_transition=p,\n",
        "                              bias=0.5)\n",
        "env = gw.create_gridworld()\n",
        "\n",
        "# hyper parameter set\n",
        "alphas = np.linspace(0,1,10)\n",
        "gammas = np.linspace(0.5,1,5)\n",
        "epsilons = [0,0.01,0.1]\n",
        "episodes = 10000\n",
        "\n",
        "# tune hyperparameters\n",
        "from math import inf\n",
        "seed = 42\n",
        "opt_alpha = 1\n",
        "opt_gamma = 1\n",
        "opt_epsilon = 0.1\n",
        "max_rew = -inf\n",
        "\n",
        "# before we tune, create a pool to dive in\n",
        "pool = mp.Pool()\n",
        "input = []\n",
        "for alpha in alphas:\n",
        "    for gamma in gammas:\n",
        "        for epsilon in epsilons:\n",
        "            Q = np.zeros((env.num_rows, env.num_cols, env.num_actions))\n",
        "            # rg = np.random.RandomState(seed)\n",
        "            # Q, rewards, steps, _ = q_learning(env, Q,gamma,alpha,epsilon,choose_action = choose_action_epsilon)\n",
        "            input.append((env, Q, alpha, epsilon, choose_action_epsilon))\n",
        "            # rew = np.mean(rewards[episodes-100:episodes])\n",
        "            # if(rew > max_rew):\n",
        "            #     opt_alpha = alpha\n",
        "            #     opt_epsilon = epsilon\n",
        "            #     opt_gamma = gamma\n",
        "            #     max_rew = rew\n",
        "            \n",
        "# print(input)\n",
        "rg = np.random.RandomState(seed)\n",
        "results = pool.imap(q_learning, input)\n",
        "            \n",
        "# print(opt_alpha,opt_gamma, opt_epsilon)\n",
        "print(\"; \".join(results))\n",
        "# print(input.__len__())"
      ]
    },
    {
      "cell_type": "code",
      "execution_count": 49,
      "metadata": {},
      "outputs": [
        {
          "name": "stdout",
          "output_type": "stream",
          "text": [
            "Experiment: 1\n"
          ]
        },
        {
          "name": "stderr",
          "output_type": "stream",
          "text": [
            "100%|██████████| 10000/10000 [00:07<00:00, 1255.34it/s]\n"
          ]
        },
        {
          "name": "stdout",
          "output_type": "stream",
          "text": [
            "Experiment: 2\n"
          ]
        },
        {
          "name": "stderr",
          "output_type": "stream",
          "text": [
            "100%|██████████| 10000/10000 [00:07<00:00, 1300.89it/s]\n"
          ]
        },
        {
          "name": "stdout",
          "output_type": "stream",
          "text": [
            "Experiment: 3\n"
          ]
        },
        {
          "name": "stderr",
          "output_type": "stream",
          "text": [
            "100%|██████████| 10000/10000 [00:07<00:00, 1298.99it/s]"
          ]
        },
        {
          "name": "stdout",
          "output_type": "stream",
          "text": [
            "Convergence of rewards approx.  -6.0\n",
            "Convergence of time steps approx.  17.0\n"
          ]
        },
        {
          "name": "stderr",
          "output_type": "stream",
          "text": [
            "\n"
          ]
        }
      ],
      "source": [
        "'''\n",
        "conf 1\n",
        "wind = False\n",
        "start state = [0,4]\n",
        "p = 1.0\n",
        "strategy = e_greedy\n",
        "'''\n",
        "\n",
        "wind = False\n",
        "start_state = [0,4]\n",
        "p = 1.0\n",
        "\n",
        "# specify world parameters\n",
        "num_cols = 10\n",
        "num_rows = 10\n",
        "obstructions = np.array([[0,7],[1,1],[1,2],[1,3],[1,7],[2,1],[2,3],\n",
        "                         [2,7],[3,1],[3,3],[3,5],[4,3],[4,5],[4,7],\n",
        "                         [5,3],[5,7],[5,9],[6,3],[6,9],[7,1],[7,6],\n",
        "                         [7,7],[7,8],[7,9],[8,1],[8,5],[8,6],[9,1]])\n",
        "bad_states = np.array([[1,9],[4,2],[4,4],[7,5],[9,9]])\n",
        "restart_states = np.array([[3,7],[8,2]])\n",
        "start_state = np.array([start_state])\n",
        "goal_states = np.array([[0,9],[2,2],[8,7]])\n",
        "\n",
        "# create model\n",
        "gw = GridWorld(num_rows=num_rows,\n",
        "               num_cols=num_cols,\n",
        "               start_state=start_state,\n",
        "               goal_states=goal_states, wind = wind)\n",
        "gw.add_obstructions(obstructed_states=obstructions,\n",
        "                    bad_states=bad_states,\n",
        "                    restart_states=restart_states)\n",
        "gw.add_rewards(step_reward=-1,\n",
        "               goal_reward=10,\n",
        "               bad_state_reward=-6,\n",
        "               restart_state_reward=-100)\n",
        "gw.add_transition_probability(p_good_transition=p,\n",
        "                              bias=0.5)\n",
        "env = gw.create_gridworld()\n",
        "\n",
        "Q_avgs, reward_avgs, steps_avgs = [], [], []\n",
        "num_expts = 3\n",
        "\n",
        "alpha = 0.1\n",
        "gamma = 0.5\n",
        "epsilon = 0\n",
        "episodes = 10000\n",
        "\n",
        "for i in range(num_expts):\n",
        "    print(\"Experiment: %d\"%(i+1))\n",
        "    Q = np.zeros((env.num_rows, env.num_cols, env.num_actions))\n",
        "    rg = np.random.RandomState(i)\n",
        "    Q, rewards, steps, _ = q_learning(env, Q,gamma,alpha,epsilon,choose_action = choose_action_epsilon)\n",
        "    Q_avgs.append(Q.copy())\n",
        "    reward_avgs.append(rewards)\n",
        "    steps_avgs.append(steps)\n",
        "    \n",
        "print(\"Convergence of rewards approx. \", np.mean(np.average(reward_avgs,axis=0)[episodes-10:episodes]))\n",
        "print(\"Convergence of time steps approx. \", np.mean(np.average(steps_avgs,axis=0)[episodes-10:episodes]))"
      ]
    },
    {
      "cell_type": "code",
      "execution_count": 50,
      "metadata": {},
      "outputs": [
        {
          "data": {
            "image/png": "[encoded data removed]",
            "text/plain": [
              "<Figure size 432x288 with 1 Axes>"
            ]
          },
          "metadata": {
            "needs_background": "light"
          },
          "output_type": "display_data"
        },
        {
          "data": {
            "image/png": "[encoded data removed]",
            "text/plain": [
              "<Figure size 432x288 with 1 Axes>"
            ]
          },
          "metadata": {
            "needs_background": "light"
          },
          "output_type": "display_data"
        }
      ],
      "source": [
        "plt.xlabel('Episode')\n",
        "plt.ylabel('Number of steps to Goal')\n",
        "plt.plot(np.arange(episodes),np.average(steps_avgs, 0))\n",
        "plt.show()\n",
        "plt.xlabel('Episode')\n",
        "plt.ylabel('Total Reward')\n",
        "plt.plot(np.arange(episodes),np.average(reward_avgs, 0))\n",
        "plt.show()"
      ]
    }
  ],
  "metadata": {
    "colab": {
      "collapsed_sections": [],
      "name": "Copy of PA1.ipynb",
      "provenance": []
    },
    "kernelspec": {
      "display_name": "Python 3",
      "name": "python3"
    },
    "language_info": {
      "codemirror_mode": {
        "name": "ipython",
        "version": 3
      },
      "file_extension": ".py",
      "mimetype": "text/x-python",
      "name": "python",
      "nbconvert_exporter": "python",
      "pygments_lexer": "ipython3",
      "version": "3.9.2"
    }
  },
  "nbformat": 4,
  "nbformat_minor": 0
}
