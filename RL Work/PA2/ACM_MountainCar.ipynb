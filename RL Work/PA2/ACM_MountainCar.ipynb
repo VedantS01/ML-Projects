{
  "cells": [
    {
      "cell_type": "code",
      "execution_count": 1,
      "metadata": {
        "id": "P_DODRgW_ZKS"
      },
      "outputs": [],
      "source": [
        "'''\n",
        "A bunch of imports, you don't have to worry about these\n",
        "'''\n",
        "\n",
        "import numpy as np\n",
        "import random\n",
        "import torch\n",
        "import torch.nn as nn  \n",
        "import torch.nn.functional as F\n",
        "from collections import namedtuple, deque\n",
        "import torch.optim as optim\n",
        "import datetime\n",
        "import gym\n",
        "# from gym.wrappers import Monitor\n",
        "import glob\n",
        "import io\n",
        "import base64\n",
        "import matplotlib.pyplot as plt\n",
        "from IPython.display import HTML\n",
        "from pyvirtualdisplay import Display\n",
        "import tensorflow as tf\n",
        "from IPython import display as ipythondisplay\n",
        "from PIL import Image\n",
        "import tensorflow_probability as tfp"
      ]
    },
    {
      "cell_type": "code",
      "execution_count": 2,
      "metadata": {
        "id": "MXFHQcJjVKYu"
      },
      "outputs": [],
      "source": [
        "class ActorCriticModel(tf.keras.Model):\n",
        "    \"\"\"\n",
        "    Defining policy and value networkss\n",
        "    \"\"\"\n",
        "    def __init__(self, action_size, n_hidden1=512, n_hidden2=256):\n",
        "        super(ActorCriticModel, self).__init__()\n",
        "\n",
        "        #Hidden Layer 1\n",
        "        self.fc1 = tf.keras.layers.Dense(n_hidden1, activation='relu')\n",
        "        #Hidden Layer 2\n",
        "        self.fc2 = tf.keras.layers.Dense(n_hidden2, activation='relu')\n",
        "        \n",
        "        #Output Layer for policy\n",
        "        self.pi_out = tf.keras.layers.Dense(action_size, activation='softmax')\n",
        "        #Output Layer for state-value\n",
        "        self.v_out = tf.keras.layers.Dense(1)\n",
        "\n",
        "    def call(self, state):\n",
        "        \"\"\"\n",
        "        Computes policy distribution and state-value for a given state\n",
        "        \"\"\"\n",
        "        layer1 = self.fc1(state)\n",
        "        layer2 = self.fc2(layer1)\n",
        "\n",
        "        pi = self.pi_out(layer2)\n",
        "        v = self.v_out(layer2)\n",
        "\n",
        "        return pi, v"
      ]
    },
    {
      "cell_type": "code",
      "execution_count": 3,
      "metadata": {
        "id": "9RNpp9WMfkTE"
      },
      "outputs": [],
      "source": [
        "class Agent:\n",
        "    \"\"\"\n",
        "    Agent class\n",
        "    \"\"\"\n",
        "    def __init__(self, action_size, lr=1e-6, gamma=0.99, seed = 85):\n",
        "        self.gamma = gamma\n",
        "        self.ac_model = ActorCriticModel(action_size=action_size)\n",
        "        self.ac_model.compile(tf.keras.optimizers.Adam(learning_rate=lr))\n",
        "        # np.random.seed(seed)\n",
        "    \n",
        "    def sample_action(self, state):\n",
        "        \"\"\"\n",
        "        Given a state, compute the policy distribution over all actions and sample one action\n",
        "        \"\"\"\n",
        "        pi,_ = self.ac_model(state)\n",
        "\n",
        "        action_probabilities = tfp.distributions.Categorical(probs=pi)\n",
        "        sample = action_probabilities.sample()\n",
        "\n",
        "        return int(sample.numpy()[0])\n",
        "\n",
        "    def actor_loss(self, action, pi, delta):\n",
        "        \"\"\"\n",
        "        Compute Actor Loss\n",
        "        \"\"\"\n",
        "        return -tf.math.log(pi[0,action]) * delta\n",
        "\n",
        "    def critic_loss(self,delta):\n",
        "        \"\"\"\n",
        "        Critic loss aims to minimize TD error\n",
        "        \"\"\"\n",
        "        return delta**2\n",
        "\n",
        "    @tf.function\n",
        "    def learn(self, state, action, reward, next_state, done):\n",
        "        \"\"\"\n",
        "        For a given transition (s,a,s',r) update the paramters by computing the\n",
        "        gradient of the total loss\n",
        "        \"\"\"\n",
        "        with tf.GradientTape(persistent=True) as tape:\n",
        "            pi, V_s = self.ac_model(state)\n",
        "            _, V_s_next = self.ac_model(next_state)\n",
        "\n",
        "            V_s = tf.squeeze(V_s)\n",
        "            V_s_next = tf.squeeze(V_s_next)\n",
        "\n",
        "            #### TO DO: Write the equation for delta (TD error)\n",
        "            ## Write code below\n",
        "            delta = reward + self.gamma * V_s_next - V_s\n",
        "            \n",
        "            V_s_next = tf.stop_gradient(V_s_next)\n",
        "\n",
        "            loss_a = self.actor_loss(action, pi, delta)\n",
        "            loss_c =self.critic_loss(delta)\n",
        "            loss_total = loss_a + loss_c\n",
        "\n",
        "        gradient = tape.gradient(loss_total, self.ac_model.trainable_variables)\n",
        "        self.ac_model.optimizer.apply_gradients(zip(gradient, self.ac_model.trainable_variables))"
      ]
    },
    {
      "cell_type": "code",
      "execution_count": 4,
      "metadata": {
        "colab": {
          "base_uri": "https://localhost:8080/"
        },
        "id": "Q0SB0o_OfyGN",
        "outputId": "9a717e3c-9545-46b2-fc89-5c3b633388f1"
      },
      "outputs": [
        {
          "name": "stdout",
          "output_type": "stream",
          "text": [
            "Action Space:  Discrete(3)\n",
            "Action Size:  3\n",
            "[[-0.5433502  0.       ]]\n"
          ]
        }
      ],
      "source": [
        "from tqdm.notebook import tqdm_notebook as tqdm\n",
        "env = gym.make('MountainCar-v0')\n",
        "\n",
        "# print env info\n",
        "print(\"Action Space: \", env.action_space)\n",
        "print(\"Action Size: \", env.action_space.n)\n",
        "print(env.reset().reshape(1,-1))\n"
      ]
    },
    {
      "cell_type": "code",
      "execution_count": null,
      "metadata": {},
      "outputs": [
        {
          "data": {
            "application/vnd.jupyter.widget-view+json": {
              "model_id": "976e63e5dfb24c4f93fb32b3cf4177d7",
              "version_major": 2,
              "version_minor": 0
            },
            "text/plain": [
              "  0%|          | 0/1000 [00:00<?, ?it/s]"
            ]
          },
          "metadata": {},
          "output_type": "display_data"
        },
        {
          "name": "stdout",
          "output_type": "stream",
          "text": [
            "Episode  1 Reward 19.000000 Average Reward 19.000000\n",
            "Episode  2 Reward 18.000000 Average Reward 18.000000\n",
            "Episode  3 Reward 18.000000 Average Reward 18.000000\n",
            "Episode  4 Reward 53.000000 Average Reward 53.000000\n",
            "Episode  5 Reward 36.000000 Average Reward 36.000000\n",
            "Episode  6 Reward 14.000000 Average Reward 14.000000\n",
            "Episode  7 Reward 67.000000 Average Reward 67.000000\n",
            "Episode  8 Reward 28.000000 Average Reward 28.000000\n",
            "Episode  9 Reward 61.000000 Average Reward 61.000000\n",
            "Episode  10 Reward 70.000000 Average Reward 70.000000\n",
            "Episode  11 Reward 18.000000 Average Reward 18.000000\n",
            "Episode  12 Reward 48.000000 Average Reward 48.000000\n",
            "Episode  13 Reward 32.000000 Average Reward 32.000000\n",
            "Episode  14 Reward 162.000000 Average Reward 162.000000\n",
            "Episode  15 Reward 96.000000 Average Reward 96.000000\n",
            "Episode  16 Reward 46.000000 Average Reward 46.000000\n",
            "Episode  17 Reward 98.000000 Average Reward 98.000000\n",
            "Episode  18 Reward 50.000000 Average Reward 50.000000\n",
            "Episode  19 Reward 25.000000 Average Reward 25.000000\n",
            "Episode  20 Reward 54.000000 Average Reward 54.000000\n",
            "Episode  21 Reward 55.000000 Average Reward 55.000000\n",
            "Episode  22 Reward 67.000000 Average Reward 67.000000\n",
            "Episode  23 Reward 57.000000 Average Reward 57.000000\n",
            "Episode  24 Reward 54.000000 Average Reward 54.000000\n",
            "Episode  25 Reward 53.000000 Average Reward 53.000000\n",
            "Episode  26 Reward 70.000000 Average Reward 70.000000\n",
            "Episode  27 Reward 82.000000 Average Reward 82.000000\n",
            "Episode  28 Reward 59.000000 Average Reward 59.000000\n",
            "Episode  29 Reward 93.000000 Average Reward 93.000000\n",
            "Episode  30 Reward 46.000000 Average Reward 46.000000\n",
            "Episode  31 Reward 76.000000 Average Reward 76.000000\n",
            "Episode  32 Reward 47.000000 Average Reward 47.000000\n",
            "Episode  33 Reward 59.000000 Average Reward 59.000000\n",
            "Episode  34 Reward 45.000000 Average Reward 45.000000\n",
            "Episode  35 Reward 116.000000 Average Reward 116.000000\n",
            "Episode  36 Reward 154.000000 Average Reward 154.000000\n",
            "Episode  37 Reward 101.000000 Average Reward 101.000000\n",
            "Episode  38 Reward 104.000000 Average Reward 104.000000\n",
            "Episode  39 Reward 68.000000 Average Reward 68.000000\n",
            "Episode  40 Reward 157.000000 Average Reward 157.000000\n",
            "Episode  41 Reward 60.000000 Average Reward 60.000000\n",
            "Episode  42 Reward 54.000000 Average Reward 54.000000\n",
            "Episode  43 Reward 60.000000 Average Reward 60.000000\n",
            "Episode  44 Reward 51.000000 Average Reward 51.000000\n",
            "Episode  45 Reward 111.000000 Average Reward 111.000000\n",
            "Episode  46 Reward 72.000000 Average Reward 72.000000\n",
            "Episode  47 Reward 56.000000 Average Reward 56.000000\n",
            "Episode  48 Reward 100.000000 Average Reward 100.000000\n",
            "Episode  49 Reward 155.000000 Average Reward 155.000000\n",
            "Episode  50 Reward 49.000000 Average Reward 49.000000\n",
            "Episode  51 Reward 50.000000 Average Reward 50.000000\n",
            "Episode  52 Reward 46.000000 Average Reward 46.000000\n",
            "Episode  53 Reward 85.000000 Average Reward 85.000000\n",
            "Episode  54 Reward 65.000000 Average Reward 65.000000\n",
            "Episode  55 Reward 87.000000 Average Reward 87.000000\n",
            "Episode  56 Reward 104.000000 Average Reward 104.000000\n",
            "Episode  57 Reward 45.000000 Average Reward 45.000000\n",
            "Episode  58 Reward 57.000000 Average Reward 57.000000\n",
            "Episode  59 Reward 174.000000 Average Reward 174.000000\n",
            "Episode  60 Reward 111.000000 Average Reward 111.000000\n",
            "Episode  61 Reward 63.000000 Average Reward 63.000000\n",
            "Episode  62 Reward 88.000000 Average Reward 88.000000\n",
            "Episode  63 Reward 87.000000 Average Reward 87.000000\n",
            "Episode  64 Reward 54.000000 Average Reward 54.000000\n",
            "Episode  65 Reward 85.000000 Average Reward 85.000000\n",
            "Episode  66 Reward 55.000000 Average Reward 55.000000\n",
            "Episode  67 Reward 80.000000 Average Reward 80.000000\n",
            "Episode  68 Reward 92.000000 Average Reward 92.000000\n",
            "Episode  69 Reward 67.000000 Average Reward 67.000000\n",
            "Episode  70 Reward 121.000000 Average Reward 121.000000\n",
            "Episode  71 Reward 83.000000 Average Reward 83.000000\n",
            "Episode  72 Reward 182.000000 Average Reward 182.000000\n",
            "Episode  73 Reward 190.000000 Average Reward 190.000000\n",
            "Episode  74 Reward 178.000000 Average Reward 178.000000\n",
            "Episode  75 Reward 281.000000 Average Reward 281.000000\n",
            "Episode  76 Reward 124.000000 Average Reward 124.000000\n",
            "Episode  77 Reward 84.000000 Average Reward 84.000000\n",
            "Episode  78 Reward 186.000000 Average Reward 186.000000\n",
            "Episode  79 Reward 170.000000 Average Reward 170.000000\n",
            "Episode  80 Reward 105.000000 Average Reward 105.000000\n",
            "Episode  81 Reward 160.000000 Average Reward 160.000000\n",
            "Episode  82 Reward 115.000000 Average Reward 115.000000\n",
            "Episode  83 Reward 216.000000 Average Reward 216.000000\n",
            "Episode  84 Reward 109.000000 Average Reward 109.000000\n",
            "Episode  85 Reward 97.000000 Average Reward 97.000000\n",
            "Episode  86 Reward 103.000000 Average Reward 103.000000\n",
            "Episode  87 Reward 159.000000 Average Reward 159.000000\n",
            "Episode  88 Reward 99.000000 Average Reward 99.000000\n",
            "Episode  89 Reward 141.000000 Average Reward 141.000000\n",
            "Episode  90 Reward 125.000000 Average Reward 125.000000\n",
            "Episode  91 Reward 129.000000 Average Reward 129.000000\n",
            "Episode  92 Reward 130.000000 Average Reward 130.000000\n",
            "Episode  93 Reward 111.000000 Average Reward 111.000000\n",
            "Episode  94 Reward 101.000000 Average Reward 101.000000\n",
            "Episode  95 Reward 139.000000 Average Reward 139.000000\n",
            "Episode  96 Reward 126.000000 Average Reward 126.000000\n",
            "Episode  97 Reward 150.000000 Average Reward 150.000000\n",
            "Episode  98 Reward 115.000000 Average Reward 115.000000\n",
            "Episode  99 Reward 68.000000 Average Reward 68.000000\n",
            "Episode  100 Reward 58.000000 Average Reward 58.000000\n",
            "Episode  101 Reward 46.000000 Average Reward 46.000000\n",
            "Episode  102 Reward 95.000000 Average Reward 95.000000\n",
            "Episode  103 Reward 74.000000 Average Reward 74.000000\n",
            "Episode  104 Reward 89.000000 Average Reward 89.000000\n",
            "Episode  105 Reward 84.000000 Average Reward 84.000000\n",
            "Episode  106 Reward 47.000000 Average Reward 47.000000\n",
            "Episode  107 Reward 51.000000 Average Reward 51.000000\n",
            "Episode  108 Reward 100.000000 Average Reward 100.000000\n",
            "Episode  109 Reward 46.000000 Average Reward 46.000000\n",
            "Episode  110 Reward 96.000000 Average Reward 96.000000\n",
            "Episode  111 Reward 49.000000 Average Reward 49.000000\n",
            "Episode  112 Reward 43.000000 Average Reward 43.000000\n",
            "Episode  113 Reward 103.000000 Average Reward 103.000000\n",
            "Episode  114 Reward 94.000000 Average Reward 94.000000\n",
            "Episode  115 Reward 59.000000 Average Reward 59.000000\n",
            "Episode  116 Reward 61.000000 Average Reward 61.000000\n",
            "Episode  117 Reward 43.000000 Average Reward 43.000000\n",
            "Episode  118 Reward 57.000000 Average Reward 57.000000\n",
            "Episode  119 Reward 86.000000 Average Reward 86.000000\n",
            "Episode  120 Reward 50.000000 Average Reward 50.000000\n",
            "Episode  121 Reward 55.000000 Average Reward 55.000000\n",
            "Episode  122 Reward 57.000000 Average Reward 57.000000\n",
            "Episode  123 Reward 45.000000 Average Reward 45.000000\n",
            "Episode  124 Reward 65.000000 Average Reward 65.000000\n",
            "Episode  125 Reward 39.000000 Average Reward 39.000000\n",
            "Episode  126 Reward 45.000000 Average Reward 45.000000\n",
            "Episode  127 Reward 47.000000 Average Reward 47.000000\n",
            "Episode  128 Reward 49.000000 Average Reward 49.000000\n",
            "Episode  129 Reward 59.000000 Average Reward 59.000000\n",
            "Episode  130 Reward 84.000000 Average Reward 84.000000\n",
            "Episode  131 Reward 64.000000 Average Reward 64.000000\n",
            "Episode  132 Reward 56.000000 Average Reward 56.000000\n",
            "Episode  133 Reward 59.000000 Average Reward 59.000000\n",
            "Episode  134 Reward 80.000000 Average Reward 80.000000\n",
            "Episode  135 Reward 61.000000 Average Reward 61.000000\n",
            "Episode  136 Reward 47.000000 Average Reward 47.000000\n",
            "Episode  137 Reward 62.000000 Average Reward 62.000000\n",
            "Episode  138 Reward 59.000000 Average Reward 59.000000\n",
            "Episode  139 Reward 47.000000 Average Reward 47.000000\n",
            "Episode  140 Reward 55.000000 Average Reward 55.000000\n",
            "Episode  141 Reward 57.000000 Average Reward 57.000000\n",
            "Episode  142 Reward 84.000000 Average Reward 84.000000\n",
            "Episode  143 Reward 119.000000 Average Reward 119.000000\n",
            "Episode  144 Reward 152.000000 Average Reward 152.000000\n",
            "Episode  145 Reward 132.000000 Average Reward 132.000000\n",
            "Episode  146 Reward 70.000000 Average Reward 70.000000\n",
            "Episode  147 Reward 50.000000 Average Reward 50.000000\n",
            "Episode  148 Reward 66.000000 Average Reward 66.000000\n",
            "Episode  149 Reward 73.000000 Average Reward 73.000000\n",
            "Episode  150 Reward 82.000000 Average Reward 82.000000\n",
            "Episode  151 Reward 69.000000 Average Reward 69.000000\n",
            "Episode  152 Reward 119.000000 Average Reward 119.000000\n",
            "Episode  153 Reward 180.000000 Average Reward 180.000000\n",
            "Episode  154 Reward 82.000000 Average Reward 82.000000\n",
            "Episode  155 Reward 65.000000 Average Reward 65.000000\n",
            "Episode  156 Reward 73.000000 Average Reward 73.000000\n",
            "Episode  157 Reward 128.000000 Average Reward 128.000000\n",
            "Episode  158 Reward 59.000000 Average Reward 59.000000\n",
            "Episode  159 Reward 75.000000 Average Reward 75.000000\n",
            "Episode  160 Reward 68.000000 Average Reward 68.000000\n",
            "Episode  161 Reward 83.000000 Average Reward 83.000000\n",
            "Episode  162 Reward 123.000000 Average Reward 123.000000\n",
            "Episode  163 Reward 120.000000 Average Reward 120.000000\n",
            "Episode  164 Reward 64.000000 Average Reward 64.000000\n",
            "Episode  165 Reward 56.000000 Average Reward 56.000000\n",
            "Episode  166 Reward 122.000000 Average Reward 122.000000\n",
            "Episode  167 Reward 54.000000 Average Reward 54.000000\n",
            "Episode  168 Reward 82.000000 Average Reward 82.000000\n",
            "Episode  169 Reward 46.000000 Average Reward 46.000000\n",
            "Episode  170 Reward 39.000000 Average Reward 39.000000\n",
            "Episode  171 Reward 35.000000 Average Reward 35.000000\n",
            "Episode  172 Reward 50.000000 Average Reward 50.000000\n",
            "Episode  173 Reward 98.000000 Average Reward 98.000000\n",
            "Episode  174 Reward 68.000000 Average Reward 68.000000\n",
            "Episode  175 Reward 57.000000 Average Reward 57.000000\n",
            "Episode  176 Reward 51.000000 Average Reward 51.000000\n",
            "Episode  177 Reward 66.000000 Average Reward 66.000000\n",
            "Episode  178 Reward 79.000000 Average Reward 79.000000\n",
            "Episode  179 Reward 68.000000 Average Reward 68.000000\n",
            "Episode  180 Reward 131.000000 Average Reward 131.000000\n",
            "Episode  181 Reward 81.000000 Average Reward 81.000000\n",
            "Episode  182 Reward 71.000000 Average Reward 71.000000\n",
            "Episode  183 Reward 220.000000 Average Reward 220.000000\n",
            "Episode  184 Reward 158.000000 Average Reward 158.000000\n",
            "Episode  185 Reward 241.000000 Average Reward 241.000000\n",
            "Episode  186 Reward 229.000000 Average Reward 229.000000\n",
            "Episode  187 Reward 301.000000 Average Reward 301.000000\n",
            "Episode  188 Reward 176.000000 Average Reward 176.000000\n",
            "Episode  189 Reward 167.000000 Average Reward 167.000000\n",
            "Episode  190 Reward 323.000000 Average Reward 323.000000\n",
            "Episode  191 Reward 125.000000 Average Reward 125.000000\n",
            "Episode  192 Reward 281.000000 Average Reward 281.000000\n",
            "Episode  193 Reward 203.000000 Average Reward 203.000000\n",
            "Episode  194 Reward 143.000000 Average Reward 143.000000\n",
            "Episode  195 Reward 141.000000 Average Reward 141.000000\n",
            "Episode  196 Reward 191.000000 Average Reward 191.000000\n",
            "Episode  197 Reward 500.000000 Average Reward 500.000000\n",
            "Episode  198 Reward 239.000000 Average Reward 239.000000\n",
            "Episode  199 Reward 60.000000 Average Reward 60.000000\n",
            "Episode  200 Reward 68.000000 Average Reward 68.000000\n",
            "Episode  201 Reward 98.000000 Average Reward 98.000000\n",
            "Episode  202 Reward 88.000000 Average Reward 88.000000\n",
            "Episode  203 Reward 116.000000 Average Reward 116.000000\n",
            "Episode  204 Reward 152.000000 Average Reward 152.000000\n",
            "Episode  205 Reward 179.000000 Average Reward 179.000000\n",
            "Episode  206 Reward 500.000000 Average Reward 500.000000\n",
            "Episode  207 Reward 500.000000 Average Reward 500.000000\n",
            "Episode  208 Reward 500.000000 Average Reward 500.000000\n",
            "Episode  209 Reward 500.000000 Average Reward 500.000000\n",
            "Episode  210 Reward 500.000000 Average Reward 500.000000\n",
            "Episode  211 Reward 500.000000 Average Reward 500.000000\n",
            "Episode  212 Reward 500.000000 Average Reward 500.000000\n",
            "Episode  213 Reward 500.000000 Average Reward 500.000000\n",
            "Episode  214 Reward 500.000000 Average Reward 500.000000\n",
            "Episode  215 Reward 500.000000 Average Reward 500.000000\n",
            "Episode  216 Reward 500.000000 Average Reward 500.000000\n",
            "Episode  217 Reward 500.000000 Average Reward 500.000000\n",
            "Episode  218 Reward 500.000000 Average Reward 500.000000\n",
            "Episode  219 Reward 500.000000 Average Reward 500.000000\n",
            "Episode  220 Reward 500.000000 Average Reward 500.000000\n",
            "Episode  221 Reward 210.000000 Average Reward 210.000000\n",
            "Episode  222 Reward 346.000000 Average Reward 346.000000\n",
            "Episode  223 Reward 500.000000 Average Reward 500.000000\n",
            "Episode  224 Reward 318.000000 Average Reward 318.000000\n",
            "Episode  225 Reward 500.000000 Average Reward 500.000000\n",
            "Episode  226 Reward 500.000000 Average Reward 500.000000\n",
            "Episode  227 Reward 500.000000 Average Reward 500.000000\n",
            "Episode  228 Reward 500.000000 Average Reward 500.000000\n",
            "Episode  229 Reward 500.000000 Average Reward 500.000000\n",
            "Stopped at Episode  129\n",
            "0:11:00.795447\n"
          ]
        }
      ],
      "source": [
        "\n",
        "#Initializing Agent\n",
        "agent = Agent(lr=1e-4, action_size=env.action_space.n)\n",
        "#Number of episodes\n",
        "episodes = 1000\n",
        "tf.compat.v1.reset_default_graph()\n",
        "\n",
        "reward_list = []\n",
        "average_reward_list = []\n",
        "begin_time = datetime.datetime.now()\n",
        "\n",
        "for ep in tqdm(range(1, episodes + 1)):\n",
        "    state = env.reset().reshape(1,-1)\n",
        "    done = False\n",
        "    ep_rew = 0\n",
        "    while not done:\n",
        "        action = agent.sample_action(state) ##Sample Action\n",
        "        next_state, reward, done, info = env.step(action) ##Take action\n",
        "        next_state = next_state.reshape(1,-1)\n",
        "        ep_rew += reward  ##Updating episode reward\n",
        "        agent.learn(state, action, reward, next_state, done) ##Update Parameters\n",
        "        state = next_state ##Updating State\n",
        "    reward_list.append(ep_rew)\n",
        "    if(len(reward_list) >= 100):\n",
        "      avg_100 =  np.mean(reward_list[-100:])\n",
        "      average_reward_list.append(avg_100)\n",
        "    else:\n",
        "      avg = np.mean(reward_list)\n",
        "      average_reward_list.append(avg)\n",
        "\n",
        "    if ep % 1 == 0:\n",
        "        avg_rew = np.mean(reward_list[-1:])\n",
        "        print('Episode ', ep, 'Reward %f' % ep_rew, 'Average Reward %f' % avg_rew)\n",
        "\n",
        "    if ep % 100:\n",
        "        avg_100 =  np.mean(reward_list[-100:])\n",
        "        if avg_100 > 195.0:\n",
        "            print('Stopped at Episode ',ep-100)\n",
        "            break\n",
        "\n",
        "time_taken = datetime.datetime.now() - begin_time\n",
        "print(time_taken)"
      ]
    },
    {
      "cell_type": "code",
      "execution_count": null,
      "metadata": {
        "colab": {
          "base_uri": "https://localhost:8080/",
          "height": 561
        },
        "id": "wOZzkLIgvHgS",
        "outputId": "9d7e346b-dbe5-4f00-da6b-95962afb0392"
      },
      "outputs": [
        {
          "data": {
            "image/png": "[encoded data removed]",
            "text/plain": [
              "<Figure size 921.6x633.6 with 1 Axes>"
            ]
          },
          "metadata": {
            "needs_background": "light"
          },
          "output_type": "display_data"
        }
      ],
      "source": [
        "### Plot of total reward vs episode\n",
        "## Write Code Below\n",
        "\n",
        "plt.style.use('seaborn-poster')\n",
        "# plt.figure(figsize = (10,8))\n",
        "plt.xlabel('Episode')\n",
        "plt.ylabel('Average reward, over last 100 episodes')\n",
        "plt.plot(range(len(average_reward_list)),average_reward_list, 'b')\n",
        "plt.show()\n"
      ]
    },
    {
      "cell_type": "code",
      "execution_count": 5,
      "metadata": {},
      "outputs": [],
      "source": [
        "def actor_critic(env, episodes=2000, lr = 1e-4, gamma = 0.99):\n",
        "    # rs = np.random.RandomState()\n",
        "    #Initializing Agent\n",
        "    agent = Agent(lr=lr, gamma=gamma, action_size=env.action_space.n)\n",
        "    tf.compat.v1.reset_default_graph()\n",
        "\n",
        "    reward_list = []\n",
        "    average_reward_list = []\n",
        "\n",
        "    for ep in tqdm(range(1, episodes + 1)):\n",
        "        state = env.reset().reshape(1,-1)\n",
        "        done = False\n",
        "        ep_rew = 0\n",
        "        while not done:\n",
        "            action = agent.sample_action(state) ##Sample Action\n",
        "            next_state, reward, done, info = env.step(action) ##Take action\n",
        "            next_state = next_state.reshape(1,-1)\n",
        "            ep_rew += reward  ##Updating episode reward\n",
        "            agent.learn(state, action, reward, next_state, done) ##Update Parameters\n",
        "            state = next_state ##Updating State\n",
        "        reward_list.append(ep_rew)\n",
        "        if(len(reward_list) >= 20):\n",
        "            avg_20 =  np.mean(reward_list[-20:])\n",
        "            average_reward_list.append(avg_20)\n",
        "        else:\n",
        "            avg = np.mean(reward_list)\n",
        "            average_reward_list.append(avg)\n",
        "\n",
        "        if ep % 5 == 0:\n",
        "            avg_rew = np.mean(reward_list[-5:])\n",
        "            # print('\\rEpisode ', ep, 'Reward %f' % ep_rew, 'Average Reward %f' % avg_rew, end='')\n",
        "\n",
        "        if ep % 20:\n",
        "            avg_20 =  np.mean(reward_list[-20:])\n",
        "            # if avg_20 > -100.0:\n",
        "            #     print('\\rStopped at Episode ',ep-20)\n",
        "                # break\n",
        "    return avg_rew, average_reward_list\n"
      ]
    },
    {
      "cell_type": "code",
      "execution_count": null,
      "metadata": {},
      "outputs": [
        {
          "data": {
            "application/vnd.jupyter.widget-view+json": {
              "model_id": "b37a7bcd7a364047bd64a9b230245cb8",
              "version_major": 2,
              "version_minor": 0
            },
            "text/plain": [
              "  0%|          | 0/1000 [00:00<?, ?it/s]"
            ]
          },
          "metadata": {},
          "output_type": "display_data"
        },
        {
          "data": {
            "application/vnd.jupyter.widget-view+json": {
              "model_id": "6bb5151fc1e540cf87e3893165218b03",
              "version_major": 2,
              "version_minor": 0
            },
            "text/plain": [
              "  0%|          | 0/1000 [00:00<?, ?it/s]"
            ]
          },
          "metadata": {},
          "output_type": "display_data"
        },
        {
          "data": {
            "application/vnd.jupyter.widget-view+json": {
              "model_id": "88b0823b1d21482b8ac1fc9d750105be",
              "version_major": 2,
              "version_minor": 0
            },
            "text/plain": [
              "  0%|          | 0/1000 [00:00<?, ?it/s]"
            ]
          },
          "metadata": {},
          "output_type": "display_data"
        },
        {
          "data": {
            "application/vnd.jupyter.widget-view+json": {
              "model_id": "6f01d45e74534cefab98cfcd89cc6e60",
              "version_major": 2,
              "version_minor": 0
            },
            "text/plain": [
              "  0%|          | 0/1000 [00:00<?, ?it/s]"
            ]
          },
          "metadata": {},
          "output_type": "display_data"
        },
        {
          "data": {
            "application/vnd.jupyter.widget-view+json": {
              "model_id": "1ad6fb4c9b884f18ac14f980588dd76f",
              "version_major": 2,
              "version_minor": 0
            },
            "text/plain": [
              "  0%|          | 0/1000 [00:00<?, ?it/s]"
            ]
          },
          "metadata": {},
          "output_type": "display_data"
        },
        {
          "data": {
            "application/vnd.jupyter.widget-view+json": {
              "model_id": "7958e7ce398742d5b3566d139f5ef0ce",
              "version_major": 2,
              "version_minor": 0
            },
            "text/plain": [
              "  0%|          | 0/1000 [00:00<?, ?it/s]"
            ]
          },
          "metadata": {},
          "output_type": "display_data"
        },
        {
          "data": {
            "application/vnd.jupyter.widget-view+json": {
              "model_id": "ce03734998f7429bacd92c34b0077379",
              "version_major": 2,
              "version_minor": 0
            },
            "text/plain": [
              "  0%|          | 0/1000 [00:00<?, ?it/s]"
            ]
          },
          "metadata": {},
          "output_type": "display_data"
        },
        {
          "data": {
            "application/vnd.jupyter.widget-view+json": {
              "model_id": "f1dfe260d79d4a13a9f894a5571c3012",
              "version_major": 2,
              "version_minor": 0
            },
            "text/plain": [
              "  0%|          | 0/1000 [00:00<?, ?it/s]"
            ]
          },
          "metadata": {},
          "output_type": "display_data"
        },
        {
          "data": {
            "application/vnd.jupyter.widget-view+json": {
              "model_id": "706a9ab6615f4591a957d9a88d4dcb95",
              "version_major": 2,
              "version_minor": 0
            },
            "text/plain": [
              "  0%|          | 0/1000 [00:00<?, ?it/s]"
            ]
          },
          "metadata": {},
          "output_type": "display_data"
        },
        {
          "data": {
            "application/vnd.jupyter.widget-view+json": {
              "model_id": "26fe2635aa93436ebb697034243823d7",
              "version_major": 2,
              "version_minor": 0
            },
            "text/plain": [
              "  0%|          | 0/1000 [00:00<?, ?it/s]"
            ]
          },
          "metadata": {},
          "output_type": "display_data"
        },
        {
          "data": {
            "text/plain": [
              "[<matplotlib.lines.Line2D at 0x20b7d9c0910>]"
            ]
          },
          "execution_count": 8,
          "metadata": {},
          "output_type": "execute_result"
        },
        {
          "data": {
            "image/png": "[encoded data removed]",
            "text/plain": [
              "<Figure size 432x288 with 1 Axes>"
            ]
          },
          "metadata": {
            "needs_background": "light"
          },
          "output_type": "display_data"
        }
      ],
      "source": [
        "import threading\n",
        "import queue\n",
        "\n",
        "my_queue = queue.Queue()\n",
        "\n",
        "def storeInQueue(f):\n",
        "  def wrapper(*args):\n",
        "    my_queue.put(f(*args))\n",
        "  return wrapper\n",
        "\n",
        "\n",
        "@storeInQueue\n",
        "def actor_critic_mt(env,episodes,lr,gamma):\n",
        "   _, l = actor_critic(env,episodes,lr,gamma)\n",
        "   return l\n",
        "\n",
        "\n",
        "\n",
        "# t = threading.Thread(target=get_name, args = (\"foo\", ))\n",
        "# t.start()\n",
        "\n",
        "\n",
        "experiments = 10\n",
        "episodes = 1000\n",
        "gamma = 0.99\n",
        "lr = 1e-4\n",
        "avg_rew_plots = np.zeros((experiments,episodes))\n",
        "for e in range(experiments):\n",
        "    try:\n",
        "        env = gym.make('CartPole-v1')\n",
        "        t = threading.Thread(target=actor_critic_mt, args = (env,episodes,lr,gamma))\n",
        "        t.start()\n",
        "    except:\n",
        "        print(\"threading failed for e = \", e)\n",
        "        # avg_rew, avg_rew_plots[e] = actor_critic(env, lr = lr,episodes=episodes)\n",
        "        exit()\n",
        "\n",
        "for e in range(experiments):\n",
        "    avg_rew_plots[e] = my_queue.get()\n",
        "    \n",
        "avg_avg_rew_plot = np.average(avg_rew_plots, axis=0)\n",
        "plt.plot(avg_avg_rew_plot)\n"
      ]
    },
    {
      "cell_type": "code",
      "execution_count": null,
      "metadata": {},
      "outputs": [
        {
          "data": {
            "text/plain": [
              "[<matplotlib.lines.Line2D at 0x20b1593f610>]"
            ]
          },
          "execution_count": 14,
          "metadata": {},
          "output_type": "execute_result"
        },
        {
          "data": {
            "image/png": "[encoded data removed]",
            "text/plain": [
              "<Figure size 432x288 with 1 Axes>"
            ]
          },
          "metadata": {
            "needs_background": "light"
          },
          "output_type": "display_data"
        }
      ],
      "source": [
        "plt.plot(avg_avg_rew_plot[:200])"
      ]
    },
    {
      "cell_type": "code",
      "execution_count": 6,
      "metadata": {},
      "outputs": [
        {
          "data": {
            "application/vnd.jupyter.widget-view+json": {
              "model_id": "5d63be3f3579460cb46470103cf1ffc2",
              "version_major": 2,
              "version_minor": 0
            },
            "text/plain": [
              "  0%|          | 0/2000 [00:00<?, ?it/s]"
            ]
          },
          "metadata": {},
          "output_type": "display_data"
        },
        {
          "data": {
            "application/vnd.jupyter.widget-view+json": {
              "model_id": "fe39b1ddddf74913bd2d1eb62c1228d1",
              "version_major": 2,
              "version_minor": 0
            },
            "text/plain": [
              "  0%|          | 0/2000 [00:00<?, ?it/s]"
            ]
          },
          "metadata": {},
          "output_type": "display_data"
        },
        {
          "data": {
            "application/vnd.jupyter.widget-view+json": {
              "model_id": "6d2d9bf8158a4258bfb4107142deed4d",
              "version_major": 2,
              "version_minor": 0
            },
            "text/plain": [
              "  0%|          | 0/2000 [00:00<?, ?it/s]"
            ]
          },
          "metadata": {},
          "output_type": "display_data"
        },
        {
          "data": {
            "application/vnd.jupyter.widget-view+json": {
              "model_id": "750dbadca01240b3bc37bad18c55453a",
              "version_major": 2,
              "version_minor": 0
            },
            "text/plain": [
              "  0%|          | 0/2000 [00:00<?, ?it/s]"
            ]
          },
          "metadata": {},
          "output_type": "display_data"
        },
        {
          "data": {
            "application/vnd.jupyter.widget-view+json": {
              "model_id": "61da1722c8ca419797088a3f8de42ff2",
              "version_major": 2,
              "version_minor": 0
            },
            "text/plain": [
              "  0%|          | 0/2000 [00:00<?, ?it/s]"
            ]
          },
          "metadata": {},
          "output_type": "display_data"
        },
        {
          "data": {
            "application/vnd.jupyter.widget-view+json": {
              "model_id": "1680a86f5b114978b6c79eec2386340d",
              "version_major": 2,
              "version_minor": 0
            },
            "text/plain": [
              "  0%|          | 0/2000 [00:00<?, ?it/s]"
            ]
          },
          "metadata": {},
          "output_type": "display_data"
        },
        {
          "data": {
            "application/vnd.jupyter.widget-view+json": {
              "model_id": "59aac5539939425aa62dd104de7505c1",
              "version_major": 2,
              "version_minor": 0
            },
            "text/plain": [
              "  0%|          | 0/2000 [00:00<?, ?it/s]"
            ]
          },
          "metadata": {},
          "output_type": "display_data"
        },
        {
          "data": {
            "application/vnd.jupyter.widget-view+json": {
              "model_id": "6002dba17aba4e549a5ef4039ec01077",
              "version_major": 2,
              "version_minor": 0
            },
            "text/plain": [
              "  0%|          | 0/2000 [00:00<?, ?it/s]"
            ]
          },
          "metadata": {},
          "output_type": "display_data"
        },
        {
          "data": {
            "application/vnd.jupyter.widget-view+json": {
              "model_id": "4849092705cc4addbf1bb84596b37ffe",
              "version_major": 2,
              "version_minor": 0
            },
            "text/plain": [
              "  0%|          | 0/2000 [00:00<?, ?it/s]"
            ]
          },
          "metadata": {},
          "output_type": "display_data"
        },
        {
          "data": {
            "application/vnd.jupyter.widget-view+json": {
              "model_id": "c8945108b69d4a91bacff505d1568c0a",
              "version_major": 2,
              "version_minor": 0
            },
            "text/plain": [
              "  0%|          | 0/2000 [00:00<?, ?it/s]"
            ]
          },
          "metadata": {},
          "output_type": "display_data"
        },
        {
          "name": "stdout",
          "output_type": "stream",
          "text": [
            "WARNING:tensorflow:5 out of the last 7 calls to <function Agent.learn at 0x00000160A663E790> triggered tf.function retracing. Tracing is expensive and the excessive number of tracings could be due to (1) creating @tf.function repeatedly in a loop, (2) passing tensors with different shapes, (3) passing Python objects instead of tensors. For (1), please define your @tf.function outside of the loop. For (2), @tf.function has experimental_relax_shapes=True option that relaxes argument shapes that can avoid unnecessary retracing. For (3), please refer to https://www.tensorflow.org/guide/function#controlling_retracing and https://www.tensorflow.org/api_docs/python/tf/function for  more details.\n",
            "WARNING:tensorflow:6 out of the last 8 calls to <function Agent.learn at 0x00000160BE5F6EE0> triggered tf.function retracing. Tracing is expensive and the excessive number of tracings could be due to (1) creating @tf.function repeatedly in a loop, (2) passing tensors with different shapes, (3) passing Python objects instead of tensors. For (1), please define your @tf.function outside of the loop. For (2), @tf.function has experimental_relax_shapes=True option that relaxes argument shapes that can avoid unnecessary retracing. For (3), please refer to https://www.tensorflow.org/guide/function#controlling_retracing and https://www.tensorflow.org/api_docs/python/tf/function for  more details.\n"
          ]
        },
        {
          "data": {
            "image/png": "[encoded data removed]",
            "text/plain": [
              "<Figure size 432x288 with 1 Axes>"
            ]
          },
          "metadata": {
            "needs_background": "light"
          },
          "output_type": "display_data"
        },
        {
          "data": {
            "image/png": "[encoded data removed]",
            "text/plain": [
              "<Figure size 432x288 with 1 Axes>"
            ]
          },
          "metadata": {
            "needs_background": "light"
          },
          "output_type": "display_data"
        }
      ],
      "source": [
        "import threading\n",
        "import queue\n",
        "\n",
        "my_queue = queue.Queue()\n",
        "\n",
        "def storeInQueue(f):\n",
        "  def wrapper(*args):\n",
        "    my_queue.put(f(*args))\n",
        "  return wrapper\n",
        "\n",
        "\n",
        "@storeInQueue\n",
        "def actor_critic_mt(env,episodes,lr,gamma):\n",
        "   _, l = actor_critic(env,episodes,lr,gamma)\n",
        "   return l\n",
        "\n",
        "\n",
        "\n",
        "# t = threading.Thread(target=get_name, args = (\"foo\", ))\n",
        "# t.start()\n",
        "\n",
        "\n",
        "experiments = 10\n",
        "episodes = 2000\n",
        "gamma = 0.99\n",
        "lr = 1e-6\n",
        "avg_rew_plots = np.zeros((experiments,episodes))\n",
        "for e in range(experiments):\n",
        "    try:\n",
        "        env = gym.make('MountainCar-v0')\n",
        "        t = threading.Thread(target=actor_critic_mt, args = (env,episodes,lr,gamma))\n",
        "        t.start()\n",
        "    except:\n",
        "        print(\"threading failed for e = \", e)\n",
        "        # avg_rew, avg_rew_plots[e] = actor_critic(env, lr = lr,episodes=episodes)\n",
        "        exit()\n",
        "\n",
        "for e in range(experiments):\n",
        "    avg_rew_plots[e] = my_queue.get()\n",
        "    \n",
        "avg_avg_rew_plot = np.average(avg_rew_plots, axis=0)\n",
        "plt.plot(avg_avg_rew_plot)\n",
        "plt.show()\n",
        "\n",
        "for l in avg_rew_plots:\n",
        "  plt.plot(l)\n",
        "plt.show()"
      ]
    }
  ],
  "metadata": {
    "accelerator": "GPU",
    "colab": {
      "collapsed_sections": [
        "5LBh6_lOVBdN"
      ],
      "name": "Tutorial_4.ipynb",
      "provenance": []
    },
    "kernelspec": {
      "display_name": "Python 3",
      "name": "python3"
    },
    "language_info": {
      "codemirror_mode": {
        "name": "ipython",
        "version": 3
      },
      "file_extension": ".py",
      "mimetype": "text/x-python",
      "name": "python",
      "nbconvert_exporter": "python",
      "pygments_lexer": "ipython3",
      "version": "3.9.2"
    }
  },
  "nbformat": 4,
  "nbformat_minor": 0
}
