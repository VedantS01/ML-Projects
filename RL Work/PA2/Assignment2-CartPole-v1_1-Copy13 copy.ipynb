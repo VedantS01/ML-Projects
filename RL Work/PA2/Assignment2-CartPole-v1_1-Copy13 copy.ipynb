{
 "cells": [
  {
   "cell_type": "markdown",
   "metadata": {
    "id": "pn7PKu9r0asK"
   },
   "source": [
    "#**Tutorial 4 - DQN and Actor-Critic**\n",
    "\n",
    "Please follow this tutorial to understand the structure (code) of DQNs & get familiar with Actor Critic methods.\n",
    "\n",
    "\n",
    "### References:\n",
    "\n",
    "Please follow [Human-level control through deep reinforcement learning](https://www.nature.com/articles/nature14236) for the original publication as well as the psuedocode. Watch Prof. Ravi's lectures on moodle or nptel for further understanding the core concepts. Contact the TAs for further resources if needed. \n",
    "\n",
    "\n",
    "##**Part 1: DQN**"
   ]
  },
  {
   "cell_type": "code",
   "execution_count": 1,
   "metadata": {
    "id": "P_DODRgW_ZKS"
   },
   "outputs": [],
   "source": [
    "'''\n",
    "A bunch of imports, you don't have to worry about these\n",
    "'''\n",
    "\n",
    "import numpy as np\n",
    "import random\n",
    "import torch\n",
    "import torch.nn as nn  \n",
    "import torch.nn.functional as F\n",
    "from collections import namedtuple, deque\n",
    "import torch.optim as optim\n",
    "import datetime\n",
    "import gym\n",
    "from gym import wrappers\n",
    "import glob\n",
    "import io\n",
    "import base64\n",
    "import matplotlib.pyplot as plt\n",
    "from IPython.display import HTML\n",
    "from pyvirtualdisplay import Display\n",
    "import tensorflow as tf\n",
    "from IPython import display as ipythondisplay\n",
    "from PIL import Image\n",
    "import tensorflow_probability as tfp"
   ]
  },
  {
   "cell_type": "code",
   "execution_count": 2,
   "metadata": {
    "colab": {
     "base_uri": "https://localhost:8080/"
    },
    "id": "fYNA5kiH_esJ",
    "outputId": "d623e007-d532-4162-d93b-6023b34c80ba"
   },
   "outputs": [
    {
     "name": "stdout",
     "output_type": "stream",
     "text": [
      "6\n",
      "3\n",
      "2\n",
      "----\n",
      "[ 0.99962485  0.02738891  0.9989402  -0.04602639 -0.09180529 -0.09669447]\n",
      "----\n",
      "1\n",
      "----\n",
      "[ 0.9999849   0.00548956  0.9983176  -0.05798252 -0.12309824 -0.02443151]\n",
      "-1.0\n",
      "False\n",
      "{}\n",
      "----\n"
     ]
    }
   ],
   "source": [
    "'''\n",
    "Please refer to the first tutorial for more details on the specifics of environments\n",
    "We've only added important commands you might find useful for experiments.\n",
    "'''\n",
    "\n",
    "'''\n",
    "List of example environments\n",
    "(Source - https://gym.openai.com/envs/#classic_control)\n",
    "\n",
    "'Acrobot-v1'\n",
    "'CartPole-v0'\n",
    "'MountainCar-v0'\n",
    "'''\n",
    "\n",
    "env = gym.make('Acrobot-v1')\n",
    "env.seed(0)\n",
    "\n",
    "state_shape = env.observation_space.shape[0]\n",
    "no_of_actions = env.action_space.n\n",
    "\n",
    "print(state_shape)\n",
    "print(no_of_actions)\n",
    "print(env.action_space.sample())\n",
    "print(\"----\")\n",
    "\n",
    "'''\n",
    "# Understanding State, Action, Reward Dynamics\n",
    "\n",
    "The agent decides an action to take depending on the state.\n",
    "\n",
    "The Environment keeps a variable specifically for the current state.\n",
    "- Everytime an action is passed to the environment, it calculates the new state and updates the current state variable.\n",
    "- It returns the new current state and reward for the agent to take the next action\n",
    "\n",
    "'''\n",
    "\n",
    "state = env.reset()   \n",
    "''' This returns the initial state (when environment is reset) '''\n",
    "\n",
    "print(state)\n",
    "print(\"----\")\n",
    "\n",
    "action = env.action_space.sample()  \n",
    "''' We take a random action now '''\n",
    "\n",
    "print(action)\n",
    "print(\"----\")\n",
    "\n",
    "next_state, reward, done, info = env.step(action) \n",
    "''' env.step is used to calculate new state and obtain reward based on old state and action taken  ''' \n",
    "\n",
    "print(next_state)\n",
    "print(reward)\n",
    "print(done)\n",
    "print(info)\n",
    "print(\"----\")\n"
   ]
  },
  {
   "cell_type": "markdown",
   "metadata": {
    "id": "apuaOxavDXus"
   },
   "source": [
    "## DQN\n",
    "\n",
    "Using NNs as substitutes isn't something new. It has been tried earlier, but the 'human control' paper really popularised using NNs by providing a few stability ideas (Q-Targets, Experience Replay & Truncation). The 'Deep-Q Network' (DQN) Algorithm can be broken down into having the following components. \n",
    "\n",
    "### Q-Network:\n",
    "The neural network used as a function approximator is defined below"
   ]
  },
  {
   "cell_type": "code",
   "execution_count": 3,
   "metadata": {
    "id": "g4MRC1p2DZbp"
   },
   "outputs": [],
   "source": [
    "'''\n",
    "### Q Network & Some 'hyperparameters'\n",
    "\n",
    "QNetwork1:\n",
    "Input Layer - 4 nodes (State Shape) \\\n",
    "Hidden Layer 1 - 64 nodes \\\n",
    "Hidden Layer 2 - 64 nodes \\\n",
    "Output Layer - 2 nodes (Action Space) \\\n",
    "Optimizer - zero_grad()\n",
    "\n",
    "QNetwork2: Feel free to experiment more\n",
    "'''\n",
    "\n",
    "import torch\n",
    "import torch.nn as nn  \n",
    "import torch.nn.functional as F\n",
    "device = torch.device(\"cuda:0\" if torch.cuda.is_available() else \"cpu\")\n",
    "\n",
    "\n",
    "'''\n",
    "Bunch of Hyper parameters (Which you might have to tune later **wink wink**)\n",
    "'''\n",
    "BUFFER_SIZE = int(5e4)  \n",
    "'''\n",
    "replay buffer size \n",
    "'''\n",
    "BATCH_SIZE = 64         \n",
    "''' \n",
    "minibatch size \n",
    "'''\n",
    "GAMMA = 0.99            \n",
    "''' \n",
    "discount factor \n",
    "'''\n",
    "LR = 6e-4              \n",
    "''' \n",
    "learning rate \n",
    "'''\n",
    "UPDATE_EVERY = 250       \n",
    "''' \n",
    "how often to update the network (When Q target is present) \n",
    "'''\n",
    "\n",
    "\n",
    "class QNetwork1(nn.Module):\n",
    "\n",
    "    def __init__(self, state_size, action_size, seed, fc1_units=128, fc2_units=64,fc3_units=32):\n",
    "        \"\"\"Initialize parameters and build model.\n",
    "        Params\n",
    "        ======\n",
    "            state_size (int): Dimension of each state\n",
    "            action_size (int): Dimension of each action\n",
    "            seed (int): Random seed\n",
    "            fc1_units (int): Number of nodes in first hidden layer\n",
    "            fc2_units (int): Number of nodes in second hidden layer\n",
    "        \"\"\"\n",
    "        super(QNetwork1, self).__init__()\n",
    "        self.seed = torch.manual_seed(seed)\n",
    "        self.fc1 = nn.Linear(state_size, fc1_units)\n",
    "        self.fc2 = nn.Linear(fc1_units, fc2_units)\n",
    "        self.fc3 = nn.Linear(fc2_units, action_size)\n",
    "\n",
    "    def forward(self, state):\n",
    "        \"\"\"Build a network that maps state -> action values.\"\"\"\n",
    "        x = F.tanh(self.fc1(state))\n",
    "        x = F.tanh(self.fc2(x))\n",
    "        return self.fc3(x)"
   ]
  },
  {
   "cell_type": "markdown",
   "metadata": {
    "id": "Jmv5c0XoK8GA"
   },
   "source": [
    "### Replay Buffer:\n",
    "\n",
    "This is a 'deque' that helps us store experiences. Recall why we use such a technique."
   ]
  },
  {
   "cell_type": "code",
   "execution_count": 4,
   "metadata": {
    "id": "bh_oghc7Ledh"
   },
   "outputs": [
    {
     "name": "stdout",
     "output_type": "stream",
     "text": [
      "NVIDIA GeForce GTX 1660 Ti\n"
     ]
    }
   ],
   "source": [
    "import random\n",
    "import torch\n",
    "import numpy as np\n",
    "from collections import deque, namedtuple\n",
    "\n",
    "device = torch.device(\"cuda\" if torch.cuda.is_available() else \"cpu\")\n",
    "print(torch.cuda.get_device_name(device))\n",
    "\n",
    "class ReplayBuffer:\n",
    "    \"\"\"Fixed-size buffer to store experience tuples.\"\"\"\n",
    "\n",
    "    def __init__(self, action_size, buffer_size, batch_size, seed):\n",
    "        \"\"\"Initialize a ReplayBuffer object.\n",
    "\n",
    "        Params\n",
    "        ======\n",
    "            action_size (int): dimension of each action\n",
    "            buffer_size (int): maximum size of buffer\n",
    "            batch_size (int): size of each training batch\n",
    "            seed (int): random seed\n",
    "        \"\"\"\n",
    "        self.action_size = action_size\n",
    "        self.memory = deque(maxlen=buffer_size)  \n",
    "        self.batch_size = batch_size\n",
    "        self.experience = namedtuple(\"Experience\", field_names=[\"state\", \"action\", \"reward\", \"next_state\", \"done\"])\n",
    "        self.seed = random.seed(seed)\n",
    "    \n",
    "    def add(self, state, action, reward, next_state, done):\n",
    "        \"\"\"Add a new experience to memory.\"\"\"\n",
    "        e = self.experience(state, action, reward, next_state, done)\n",
    "        self.memory.append(e)\n",
    "    \n",
    "    def sample(self):\n",
    "        \"\"\"Randomly sample a batch of experiences from memory.\"\"\"\n",
    "        experiences = random.sample(self.memory, k=self.batch_size)\n",
    "\n",
    "        states = torch.from_numpy(np.vstack([e.state for e in experiences if e is not None])).float().to(device)\n",
    "        actions = torch.from_numpy(np.vstack([e.action for e in experiences if e is not None])).long().to(device)\n",
    "        rewards = torch.from_numpy(np.vstack([e.reward for e in experiences if e is not None])).float().to(device)\n",
    "        next_states = torch.from_numpy(np.vstack([e.next_state for e in experiences if e is not None])).float().to(device)\n",
    "        dones = torch.from_numpy(np.vstack([e.done for e in experiences if e is not None]).astype(np.uint8)).float().to(device)\n",
    "  \n",
    "        return (states, actions, rewards, next_states, dones)\n",
    "\n",
    "    def __len__(self):\n",
    "        \"\"\"Return the current size of internal memory.\"\"\"\n",
    "        return len(self.memory)"
   ]
  },
  {
   "cell_type": "markdown",
   "metadata": {
    "id": "N8VJYkqoLqlO"
   },
   "source": [
    "## Truncation:\n",
    "We add a line (optionally) in the code to truncate the gradient in hopes that it would help with the stability of the learning process.\n",
    "\n",
    "## Tutorial Agent Code:\n"
   ]
  },
  {
   "cell_type": "code",
   "execution_count": 5,
   "metadata": {
    "id": "ok_5eQM7OCTj"
   },
   "outputs": [],
   "source": [
    "class TutorialAgent():\n",
    "\n",
    "    def __init__(self, state_size, action_size, seed):\n",
    "\n",
    "        ''' Agent Environment Interaction '''\n",
    "        self.state_size = state_size\n",
    "        self.action_size = action_size\n",
    "        self.seed = random.seed(seed)\n",
    "\n",
    "        ''' Q-Network '''\n",
    "        self.qnetwork_local = QNetwork1(state_size, action_size, seed,256,256).to(device)\n",
    "        self.qnetwork_target = QNetwork1(state_size, action_size, seed,256,256).to(device)\n",
    "        self.optimizer = optim.Adam(self.qnetwork_local.parameters(), lr=LR)\n",
    "\n",
    "        ''' Replay memory '''\n",
    "        self.memory = ReplayBuffer(action_size, BUFFER_SIZE, BATCH_SIZE, seed)\n",
    "\n",
    "        ''' Initialize time step (for updating every UPDATE_EVERY steps)           -Needed for Q Targets '''\n",
    "        self.t_step = 0\n",
    "        self.rg = np.random.RandomState(seed)\n",
    "    \n",
    "    def step(self, state, action, reward, next_state, done):\n",
    "\n",
    "        ''' Save experience in replay memory '''\n",
    "        self.memory.add(state, action, reward, next_state, done)\n",
    "        \n",
    "        ''' If enough samples are available in memory, get random subset and learn '''\n",
    "        if len(self.memory) >= BATCH_SIZE:\n",
    "            experiences = self.memory.sample()\n",
    "            self.learn(experiences, GAMMA)\n",
    "\n",
    "        \"\"\" +Q TARGETS PRESENT \"\"\"\n",
    "        ''' Updating the Network every 'UPDATE_EVERY' steps taken '''      \n",
    "        self.t_step = (self.t_step + 1) % UPDATE_EVERY\n",
    "        if self.t_step == 0:\n",
    "\n",
    "            self.qnetwork_target.load_state_dict(self.qnetwork_local.state_dict())\n",
    "\n",
    "    def act(self, state, eps=0.):\n",
    "\n",
    "        state = torch.from_numpy(state).float().unsqueeze(0).to(device)\n",
    "        self.qnetwork_local.eval()\n",
    "        with torch.no_grad():\n",
    "            action_values = self.qnetwork_local(state)\n",
    "        self.qnetwork_local.train()\n",
    "\n",
    "        ''' Epsilon-greedy action selection (Already Present) '''\n",
    "        if random.random() > eps:\n",
    "            return np.argmax(action_values.cpu().data.numpy())\n",
    "        else:\n",
    "            return random.choice(np.arange(self.action_size))\n",
    "#         probabs = softmax(action_values.cpu().data.numpy()[0])\n",
    "#         probabs /= probabs.sum()\n",
    "#         return self.rg.choice(np.arange(self.action_size), p = probabs)\n",
    "\n",
    "    def learn(self, experiences, gamma):\n",
    "        \"\"\" +E EXPERIENCE REPLAY PRESENT \"\"\"\n",
    "        states, actions, rewards, next_states, dones = experiences\n",
    "\n",
    "        ''' Get max predicted Q values (for next states) from target model'''\n",
    "        Q_targets_next = self.qnetwork_target(next_states).detach().max(1)[0].unsqueeze(1)\n",
    "\n",
    "        ''' Compute Q targets for current states '''\n",
    "        Q_targets = rewards + (gamma * Q_targets_next * (1 - dones))\n",
    "\n",
    "        ''' Get expected Q values from local model '''\n",
    "        Q_expected = self.qnetwork_local(states).gather(1, actions)\n",
    "\n",
    "        ''' Compute loss '''\n",
    "        loss = F.mse_loss(Q_expected, Q_targets)\n",
    "\n",
    "        ''' Minimize the loss '''\n",
    "        self.optimizer.zero_grad()\n",
    "        loss.backward()\n",
    "        \n",
    "        ''' Gradiant Clipping '''\n",
    "        \"\"\" +T TRUNCATION PRESENT \"\"\"\n",
    "        for param in self.qnetwork_local.parameters():\n",
    "            param.grad.data.clamp_(-1, 1)\n",
    "            \n",
    "        self.optimizer.step()"
   ]
  },
  {
   "cell_type": "markdown",
   "metadata": {
    "id": "3SQFbRCHWQyO"
   },
   "source": [
    "### Here, we present the DQN algorithm code."
   ]
  },
  {
   "cell_type": "code",
   "execution_count": 6,
   "metadata": {},
   "outputs": [],
   "source": [
    "solved_episodes = []\n",
    "rewards = []"
   ]
  },
  {
   "cell_type": "code",
   "execution_count": 7,
   "metadata": {
    "colab": {
     "base_uri": "https://localhost:8080/"
    },
    "id": "r6A2TdUHWVUN",
    "outputId": "eae554fe-3450-40d8-d462-64b92d755866"
   },
   "outputs": [
    {
     "name": "stderr",
     "output_type": "stream",
     "text": [
      "C:\\Users\\Vedant\\AppData\\Local\\Programs\\Python\\Python39\\lib\\site-packages\\torch\\nn\\functional.py:1933: UserWarning: nn.functional.tanh is deprecated. Use torch.tanh instead.\n",
      "  warnings.warn(\"nn.functional.tanh is deprecated. Use torch.tanh instead.\")\n"
     ]
    },
    {
     "name": "stdout",
     "output_type": "stream",
     "text": [
      "Episode 100\tAverage Score: -264.00\n",
      "Episode 200\tAverage Score: -111.57\n",
      "Episode 300\tAverage Score: -91.898\n",
      "Episode 400\tAverage Score: -85.04\n",
      "Episode 500\tAverage Score: -89.40\n",
      "Episode 551\tAverage Score: -79.90\n",
      "Environment solved in 451 episodes!\tAverage Score: -79.90\n",
      "0:09:27.029463\n",
      "Episode 100\tAverage Score: -263.56\n",
      "Episode 200\tAverage Score: -106.89\n",
      "Episode 300\tAverage Score: -91.245\n",
      "Episode 400\tAverage Score: -82.88\n",
      "Episode 500\tAverage Score: -83.48\n",
      "Episode 535\tAverage Score: -79.27\n",
      "Environment solved in 435 episodes!\tAverage Score: -79.27\n",
      "0:09:25.675947\n",
      "Episode 100\tAverage Score: -257.42\n",
      "Episode 200\tAverage Score: -104.75\n",
      "Episode 300\tAverage Score: -88.454\n",
      "Episode 400\tAverage Score: -83.51\n",
      "Episode 500\tAverage Score: -81.90\n",
      "Episode 565\tAverage Score: -79.80\n",
      "Environment solved in 465 episodes!\tAverage Score: -79.80\n",
      "0:09:42.309207\n",
      "Episode 100\tAverage Score: -275.58\n",
      "Episode 200\tAverage Score: -114.37\n",
      "Episode 300\tAverage Score: -94.913\n",
      "Episode 400\tAverage Score: -88.76\n",
      "Episode 500\tAverage Score: -84.58\n",
      "Episode 558\tAverage Score: -79.82\n",
      "Environment solved in 458 episodes!\tAverage Score: -79.82\n",
      "0:10:11.628419\n",
      "Episode 100\tAverage Score: -278.47\n",
      "Episode 200\tAverage Score: -106.21\n",
      "Episode 300\tAverage Score: -94.910\n",
      "Episode 400\tAverage Score: -82.40\n",
      "Episode 472\tAverage Score: -79.86\n",
      "Environment solved in 372 episodes!\tAverage Score: -79.86\n",
      "0:08:39.069762\n",
      "Episode 100\tAverage Score: -272.29\n",
      "Episode 200\tAverage Score: -116.93\n",
      "Episode 300\tAverage Score: -93.798\n",
      "Episode 400\tAverage Score: -91.16\n",
      "Episode 496\tAverage Score: -79.91\n",
      "Environment solved in 396 episodes!\tAverage Score: -79.91\n",
      "0:09:38.622347\n",
      "Episode 100\tAverage Score: -268.40\n",
      "Episode 200\tAverage Score: -111.26\n",
      "Episode 300\tAverage Score: -90.779\n",
      "Episode 400\tAverage Score: -91.21\n",
      "Episode 500\tAverage Score: -81.93\n",
      "Episode 600\tAverage Score: -83.60\n",
      "Episode 680\tAverage Score: -79.97\n",
      "Environment solved in 580 episodes!\tAverage Score: -79.97\n",
      "0:10:24.514747\n",
      "Episode 100\tAverage Score: -268.47\n",
      "Episode 200\tAverage Score: -111.82\n",
      "Episode 300\tAverage Score: -88.999\n",
      "Episode 400\tAverage Score: -82.85\n",
      "Episode 500\tAverage Score: -82.21\n",
      "Episode 600\tAverage Score: -83.87\n",
      "Episode 664\tAverage Score: -79.52\n",
      "Environment solved in 564 episodes!\tAverage Score: -79.52\n",
      "0:11:27.109327\n",
      "Episode 100\tAverage Score: -260.06\n",
      "Episode 200\tAverage Score: -109.60\n",
      "Episode 300\tAverage Score: -92.929\n",
      "Episode 400\tAverage Score: -93.56\n",
      "Episode 500\tAverage Score: -80.82\n",
      "Episode 539\tAverage Score: -80.00\n",
      "Environment solved in 439 episodes!\tAverage Score: -80.00\n",
      "0:09:53.260713\n",
      "Episode 100\tAverage Score: -264.29\n",
      "Episode 200\tAverage Score: -119.97\n",
      "Episode 300\tAverage Score: -92.241\n",
      "Episode 400\tAverage Score: -83.38\n",
      "Episode 495\tAverage Score: -79.99\n",
      "Environment solved in 395 episodes!\tAverage Score: -79.99\n",
      "0:09:05.922666\n"
     ]
    }
   ],
   "source": [
    "''' Defining DQN Algorithm '''\n",
    "for i in range(10) :\n",
    "    state_shape = env.observation_space.shape[0]\n",
    "    action_shape = env.action_space.n\n",
    "    reward_list = []\n",
    "    def dqn(n_episodes=10000, max_t=1000, eps_start=1.0, eps_end=0.01, eps_decay=0.99):\n",
    "\n",
    "        scores = []                 \n",
    "        ''' list containing scores from each episode '''\n",
    "\n",
    "        scores_window_printing = deque(maxlen=10) \n",
    "        ''' For printing in the graph '''\n",
    "\n",
    "        scores_window= deque(maxlen=100)  \n",
    "        ''' last 100 scores for checking if the avg is more than 195 '''\n",
    "\n",
    "        eps = eps_start                    \n",
    "        ''' initialize epsilon '''\n",
    "\n",
    "        for i_episode in range(1, n_episodes+1):\n",
    "            state = env.reset()\n",
    "            score = 0\n",
    "            for t in range(max_t):\n",
    "                action = agent.act(state, eps)\n",
    "                next_state, reward, done, _ = env.step(action)\n",
    "                agent.step(state, action, reward, next_state, done)\n",
    "                state = next_state\n",
    "                score += reward\n",
    "                if done:\n",
    "                    break \n",
    "\n",
    "            reward_list.append(score)\n",
    "            scores_window.append(score)       \n",
    "            scores_window_printing.append(score)   \n",
    "            ''' save most recent score '''           \n",
    "\n",
    "            eps = max(eps_end, eps_decay*eps) \n",
    "            ''' decrease epsilon '''\n",
    "\n",
    "            print('\\rEpisode {}\\tAverage Score: {:.2f}'.format(i_episode, np.mean(scores_window)), end=\"\")  \n",
    "            if i_episode % 10 == 0: \n",
    "                scores.append(np.mean(scores_window_printing))        \n",
    "            if i_episode % 100 == 0: \n",
    "               print('\\rEpisode {}\\tAverage Score: {:.2f}'.format(i_episode, np.mean(scores_window)))\n",
    "            if np.mean(scores_window)>=-80.0:\n",
    "               solved_episodes.append(i_episode)\n",
    "               print('\\nEnvironment solved in {:d} episodes!\\tAverage Score: {:.2f}'.format(i_episode-100, np.mean(scores_window)))\n",
    "               break\n",
    "        return [np.array(scores),i_episode-100]\n",
    "\n",
    "    ''' Trial run to check if algorithm runs and saves the data '''\n",
    "\n",
    "    begin_time = datetime.datetime.now()\n",
    "    agent = TutorialAgent(state_size=state_shape,action_size = action_shape,seed = 0)\n",
    "\n",
    "\n",
    "    dqn()\n",
    "\n",
    "\n",
    "    time_taken = datetime.datetime.now() - begin_time\n",
    "\n",
    "    print(time_taken)\n",
    "    rewards.append(reward_list)"
   ]
  },
  {
   "cell_type": "code",
   "execution_count": null,
   "metadata": {},
   "outputs": [],
   "source": []
  },
  {
   "cell_type": "code",
   "execution_count": 8,
   "metadata": {},
   "outputs": [],
   "source": [
    "rewards1=rewards\n",
    "average_reward_list = []\n",
    "for i in range(10000) :\n",
    "        average_reward_list.append(0)\n",
    "for j in range(10) :\n",
    "    for i in range(len(rewards[j])) :\n",
    "        average_reward_list[i]+=rewards[j][i]\n",
    "    for k in range(i,10000) :\n",
    "        average_reward_list[k]+=rewards[j][i]\n",
    "for i in range(len(average_reward_list)) :\n",
    "    average_reward_list[i]/=10"
   ]
  },
  {
   "cell_type": "code",
   "execution_count": 9,
   "metadata": {},
   "outputs": [
    {
     "data": {
      "text/plain": [
       "[<matplotlib.lines.Line2D at 0x202b57d8640>]"
      ]
     },
     "execution_count": 9,
     "metadata": {},
     "output_type": "execute_result"
    },
    {
     "data": {
      "image/png": "[encoded data removed]",
      "text/plain": [
       "<Figure size 432x288 with 1 Axes>"
      ]
     },
     "metadata": {
      "needs_background": "light"
     },
     "output_type": "display_data"
    }
   ],
   "source": [
    "plt.plot(average_reward_list)"
   ]
  },
  {
   "cell_type": "code",
   "execution_count": 10,
   "metadata": {},
   "outputs": [
    {
     "data": {
      "text/plain": [
       "[<matplotlib.lines.Line2D at 0x202b5abb3d0>]"
      ]
     },
     "execution_count": 10,
     "metadata": {},
     "output_type": "execute_result"
    },
    {
     "data": {
      "image/png": "[encoded data removed]",
      "text/plain": [
       "<Figure size 432x288 with 1 Axes>"
      ]
     },
     "metadata": {
      "needs_background": "light"
     },
     "output_type": "display_data"
    }
   ],
   "source": [
    "average_reward_list1 = []\n",
    "for i in range(100,len(average_reward_list)) :\n",
    "  average_reward_list1.append(np.average(average_reward_list[i-100:i]))\n",
    "plt.plot(average_reward_list1)"
   ]
  },
  {
   "cell_type": "code",
   "execution_count": null,
   "metadata": {},
   "outputs": [],
   "source": []
  },
  {
   "cell_type": "code",
   "execution_count": null,
   "metadata": {},
   "outputs": [],
   "source": []
  },
  {
   "cell_type": "code",
   "execution_count": 11,
   "metadata": {},
   "outputs": [
    {
     "name": "stdout",
     "output_type": "stream",
     "text": [
      "555.5\n",
      "[551, 535, 565, 558, 472, 496, 680, 664, 539, 495]\n",
      "555.5\n",
      "[[-500.0, -500.0, -500.0, -500.0, -500.0, -500.0, -500.0, -500.0, -319.0, -500.0, -500.0, -500.0, -500.0, -500.0, -500.0, -500.0, -356.0, -437.0, -459.0, -263.0, -434.0, -500.0, -376.0, -468.0, -283.0, -156.0, -297.0, -445.0, -394.0, -417.0, -404.0, -316.0, -291.0, -195.0, -356.0, -242.0, -419.0, -232.0, -189.0, -221.0, -175.0, -323.0, -288.0, -212.0, -291.0, -143.0, -185.0, -233.0, -211.0, -303.0, -184.0, -172.0, -138.0, -221.0, -141.0, -193.0, -143.0, -159.0, -224.0, -175.0, -144.0, -153.0, -247.0, -141.0, -168.0, -173.0, -133.0, -190.0, -167.0, -201.0, -178.0, -178.0, -198.0, -139.0, -162.0, -90.0, -183.0, -195.0, -136.0, -149.0, -214.0, -129.0, -164.0, -134.0, -120.0, -140.0, -117.0, -123.0, -149.0, -121.0, -141.0, -130.0, -193.0, -142.0, -133.0, -197.0, -205.0, -190.0, -123.0, -127.0, -140.0, -119.0, -130.0, -136.0, -114.0, -209.0, -127.0, -155.0, -133.0, -131.0, -127.0, -138.0, -106.0, -134.0, -117.0, -114.0, -138.0, -138.0, -129.0, -125.0, -143.0, -188.0, -121.0, -140.0, -97.0, -143.0, -146.0, -111.0, -98.0, -113.0, -97.0, -115.0, -101.0, -102.0, -115.0, -106.0, -125.0, -112.0, -90.0, -115.0, -98.0, -129.0, -139.0, -161.0, -94.0, -121.0, -93.0, -90.0, -123.0, -119.0, -98.0, -84.0, -106.0, -116.0, -95.0, -106.0, -106.0, -98.0, -108.0, -82.0, -115.0, -92.0, -88.0, -101.0, -88.0, -118.0, -123.0, -110.0, -92.0, -103.0, -105.0, -74.0, -74.0, -107.0, -99.0, -110.0, -95.0, -88.0, -101.0, -75.0, -82.0, -95.0, -101.0, -91.0, -86.0, -114.0, -127.0, -124.0, -97.0, -75.0, -102.0, -108.0, -90.0, -120.0, -79.0, -101.0, -119.0, -70.0, -93.0, -121.0, -109.0, -82.0, -97.0, -90.0, -98.0, -75.0, -100.0, -113.0, -110.0, -109.0, -307.0, -76.0, -80.0, -78.0, -79.0, -69.0, -92.0, -101.0, -97.0, -105.0, -99.0, -103.0, -82.0, -93.0, -75.0, -90.0, -98.0, -69.0, -97.0, -96.0, -95.0, -78.0, -95.0, -102.0, -84.0, -85.0, -99.0, -87.0, -80.0, -95.0, -104.0, -109.0, -75.0, -100.0, -89.0, -94.0, -139.0, -83.0, -82.0, -80.0, -95.0, -114.0, -102.0, -72.0, -69.0, -104.0, -96.0, -128.0, -82.0, -91.0, -86.0, -128.0, -98.0, -134.0, -77.0, -70.0, -66.0, -93.0, -75.0, -87.0, -93.0, -83.0, -64.0, -70.0, -64.0, -71.0, -72.0, -80.0, -95.0, -87.0, -63.0, -84.0, -87.0, -85.0, -102.0, -94.0, -100.0, -92.0, -87.0, -76.0, -70.0, -127.0, -88.0, -91.0, -64.0, -70.0, -92.0, -86.0, -98.0, -63.0, -100.0, -91.0, -83.0, -72.0, -76.0, -73.0, -97.0, -100.0, -73.0, -126.0, -75.0, -75.0, -76.0, -71.0, -88.0, -120.0, -262.0, -77.0, -90.0, -96.0, -92.0, -71.0, -84.0, -69.0, -70.0, -87.0, -78.0, -77.0, -63.0, -89.0, -71.0, -89.0, -78.0, -99.0, -77.0, -63.0, -83.0, -77.0, -73.0, -76.0, -92.0, -78.0, -84.0, -101.0, -72.0, -88.0, -90.0, -71.0, -72.0, -83.0, -83.0, -88.0, -86.0, -71.0, -70.0, -89.0, -79.0, -97.0, -72.0, -77.0, -63.0, -70.0, -72.0, -88.0, -73.0, -64.0, -73.0, -64.0, -113.0, -77.0, -105.0, -84.0, -80.0, -84.0, -71.0, -63.0, -99.0, -76.0, -86.0, -80.0, -70.0, -87.0, -99.0, -137.0, -99.0, -72.0, -113.0, -71.0, -77.0, -125.0, -93.0, -72.0, -86.0, -61.0, -71.0, -71.0, -93.0, -86.0, -79.0, -127.0, -162.0, -116.0, -146.0, -83.0, -63.0, -108.0, -89.0, -93.0, -71.0, -87.0, -62.0, -64.0, -115.0, -96.0, -63.0, -72.0, -72.0, -109.0, -86.0, -94.0, -78.0, -65.0, -101.0, -90.0, -75.0, -77.0, -88.0, -70.0, -96.0, -70.0, -63.0, -93.0, -87.0, -71.0, -85.0, -89.0, -71.0, -112.0, -89.0, -291.0, -75.0, -101.0, -63.0, -72.0, -88.0, -71.0, -80.0, -90.0, -70.0, -93.0, -111.0, -76.0, -90.0, -77.0, -73.0, -144.0, -95.0, -94.0, -64.0, -71.0, -63.0, -80.0, -71.0, -73.0, -95.0, -76.0, -72.0, -85.0, -69.0, -62.0, -95.0, -108.0, -92.0, -73.0, -125.0, -239.0, -110.0, -102.0, -89.0, -72.0, -94.0, -90.0, -83.0, -70.0, -144.0, -76.0, -70.0, -95.0, -83.0, -94.0, -97.0, -70.0, -72.0, -105.0, -73.0, -71.0, -83.0, -74.0, -63.0, -72.0, -70.0, -72.0, -64.0, -73.0, -64.0, -63.0, -71.0, -63.0, -72.0, -65.0, -78.0, -64.0, -69.0, -77.0, -72.0, -63.0, -78.0, -70.0, -71.0, -86.0, -63.0, -92.0, -63.0, -71.0, -62.0, -64.0, -74.0, -85.0, -70.0, -71.0, -63.0, -71.0, -72.0, -71.0, -76.0, -72.0, -65.0, -72.0, -64.0, -85.0, -87.0, -69.0, -63.0, -106.0, -80.0, -71.0, -64.0, -93.0, -70.0, -71.0, -71.0], [-500.0, -500.0, -500.0, -500.0, -500.0, -500.0, -500.0, -500.0, -500.0, -500.0, -461.0, -500.0, -500.0, -500.0, -500.0, -429.0, -427.0, -381.0, -367.0, -392.0, -460.0, -354.0, -243.0, -432.0, -430.0, -314.0, -312.0, -500.0, -326.0, -395.0, -254.0, -272.0, -262.0, -292.0, -335.0, -220.0, -199.0, -431.0, -307.0, -145.0, -202.0, -310.0, -260.0, -251.0, -272.0, -228.0, -178.0, -243.0, -160.0, -196.0, -208.0, -190.0, -174.0, -181.0, -118.0, -242.0, -173.0, -163.0, -174.0, -172.0, -161.0, -222.0, -148.0, -152.0, -216.0, -152.0, -202.0, -171.0, -206.0, -192.0, -175.0, -142.0, -126.0, -146.0, -184.0, -121.0, -237.0, -350.0, -134.0, -146.0, -142.0, -191.0, -134.0, -104.0, -147.0, -183.0, -138.0, -110.0, -127.0, -167.0, -128.0, -187.0, -99.0, -140.0, -107.0, -179.0, -110.0, -133.0, -92.0, -120.0, -104.0, -132.0, -87.0, -104.0, -128.0, -103.0, -120.0, -143.0, -105.0, -128.0, -106.0, -101.0, -104.0, -151.0, -124.0, -121.0, -84.0, -124.0, -94.0, -112.0, -92.0, -105.0, -112.0, -91.0, -103.0, -144.0, -141.0, -81.0, -103.0, -119.0, -94.0, -116.0, -107.0, -131.0, -122.0, -99.0, -112.0, -109.0, -129.0, -98.0, -94.0, -91.0, -97.0, -98.0, -102.0, -108.0, -113.0, -111.0, -105.0, -100.0, -127.0, -99.0, -88.0, -134.0, -113.0, -133.0, -98.0, -83.0, -107.0, -96.0, -91.0, -99.0, -130.0, -92.0, -94.0, -62.0, -83.0, -89.0, -86.0, -131.0, -91.0, -69.0, -80.0, -136.0, -94.0, -83.0, -91.0, -74.0, -83.0, -112.0, -94.0, -91.0, -84.0, -77.0, -113.0, -96.0, -303.0, -76.0, -95.0, -97.0, -162.0, -98.0, -99.0, -95.0, -147.0, -94.0, -171.0, -77.0, -85.0, -85.0, -98.0, -75.0, -90.0, -89.0, -105.0, -94.0, -126.0, -83.0, -78.0, -84.0, -101.0, -101.0, -103.0, -62.0, -70.0, -91.0, -101.0, -93.0, -175.0, -85.0, -83.0, -150.0, -105.0, -105.0, -91.0, -87.0, -96.0, -113.0, -111.0, -104.0, -101.0, -101.0, -109.0, -83.0, -63.0, -82.0, -135.0, -78.0, -83.0, -82.0, -85.0, -69.0, -76.0, -94.0, -91.0, -73.0, -115.0, -99.0, -84.0, -128.0, -93.0, -85.0, -75.0, -95.0, -88.0, -126.0, -85.0, -100.0, -77.0, -71.0, -87.0, -71.0, -70.0, -90.0, -98.0, -78.0, -93.0, -63.0, -81.0, -91.0, -84.0, -96.0, -91.0, -71.0, -62.0, -111.0, -103.0, -88.0, -89.0, -81.0, -75.0, -76.0, -71.0, -98.0, -95.0, -88.0, -71.0, -79.0, -95.0, -115.0, -82.0, -111.0, -73.0, -91.0, -90.0, -116.0, -85.0, -70.0, -93.0, -77.0, -70.0, -70.0, -62.0, -70.0, -93.0, -77.0, -121.0, -104.0, -76.0, -89.0, -92.0, -84.0, -89.0, -77.0, -93.0, -73.0, -73.0, -87.0, -82.0, -100.0, -88.0, -95.0, -78.0, -78.0, -86.0, -92.0, -98.0, -74.0, -94.0, -76.0, -63.0, -92.0, -119.0, -104.0, -63.0, -84.0, -63.0, -108.0, -85.0, -84.0, -96.0, -70.0, -95.0, -121.0, -95.0, -71.0, -134.0, -78.0, -121.0, -78.0, -68.0, -85.0, -96.0, -95.0, -68.0, -85.0, -72.0, -75.0, -71.0, -82.0, -87.0, -77.0, -76.0, -77.0, -61.0, -69.0, -62.0, -70.0, -84.0, -84.0, -95.0, -62.0, -82.0, -81.0, -74.0, -68.0, -61.0, -83.0, -71.0, -62.0, -113.0, -90.0, -62.0, -70.0, -78.0, -75.0, -92.0, -83.0, -91.0, -74.0, -116.0, -74.0, -69.0, -69.0, -98.0, -74.0, -86.0, -85.0, -71.0, -70.0, -94.0, -72.0, -80.0, -129.0, -62.0, -70.0, -75.0, -77.0, -94.0, -72.0, -76.0, -94.0, -95.0, -77.0, -72.0, -63.0, -90.0, -125.0, -111.0, -63.0, -86.0, -62.0, -72.0, -82.0, -71.0, -86.0, -70.0, -96.0, -94.0, -78.0, -72.0, -73.0, -78.0, -97.0, -195.0, -77.0, -106.0, -70.0, -78.0, -74.0, -91.0, -93.0, -107.0, -63.0, -113.0, -86.0, -85.0, -76.0, -90.0, -79.0, -79.0, -63.0, -71.0, -97.0, -62.0, -86.0, -71.0, -79.0, -81.0, -70.0, -92.0, -101.0, -83.0, -70.0, -99.0, -93.0, -70.0, -63.0, -76.0, -75.0, -101.0, -78.0, -75.0, -70.0, -72.0, -102.0, -80.0, -79.0, -84.0, -85.0, -75.0, -70.0, -78.0, -71.0, -74.0, -128.0, -74.0, -107.0, -69.0, -63.0, -85.0, -62.0, -93.0, -86.0, -95.0, -62.0, -68.0, -93.0, -63.0, -134.0, -77.0, -72.0, -71.0, -62.0, -71.0, -78.0, -98.0, -78.0, -84.0, -62.0, -79.0, -80.0, -62.0, -79.0, -64.0, -69.0, -85.0, -70.0, -94.0, -70.0, -77.0, -76.0, -71.0, -83.0, -71.0, -62.0, -63.0, -63.0, -74.0, -74.0, -63.0, -69.0, -72.0, -61.0, -98.0], [-500.0, -500.0, -500.0, -500.0, -500.0, -500.0, -500.0, -498.0, -500.0, -500.0, -500.0, -380.0, -455.0, -473.0, -246.0, -500.0, -390.0, -500.0, -411.0, -394.0, -438.0, -370.0, -480.0, -500.0, -178.0, -325.0, -467.0, -270.0, -471.0, -308.0, -294.0, -309.0, -314.0, -176.0, -191.0, -209.0, -233.0, -172.0, -271.0, -270.0, -198.0, -204.0, -224.0, -211.0, -185.0, -224.0, -184.0, -104.0, -222.0, -218.0, -300.0, -213.0, -120.0, -228.0, -121.0, -139.0, -188.0, -146.0, -147.0, -146.0, -133.0, -116.0, -147.0, -224.0, -149.0, -238.0, -148.0, -105.0, -124.0, -201.0, -193.0, -144.0, -105.0, -135.0, -156.0, -204.0, -223.0, -174.0, -101.0, -167.0, -101.0, -156.0, -126.0, -492.0, -167.0, -214.0, -97.0, -132.0, -116.0, -143.0, -300.0, -203.0, -148.0, -112.0, -150.0, -135.0, -124.0, -128.0, -173.0, -123.0, -137.0, -137.0, -111.0, -128.0, -135.0, -135.0, -123.0, -134.0, -124.0, -109.0, -111.0, -96.0, -93.0, -110.0, -147.0, -127.0, -125.0, -82.0, -111.0, -137.0, -144.0, -108.0, -99.0, -141.0, -75.0, -132.0, -124.0, -91.0, -128.0, -103.0, -122.0, -108.0, -95.0, -92.0, -112.0, -97.0, -107.0, -134.0, -127.0, -94.0, -113.0, -114.0, -121.0, -96.0, -129.0, -109.0, -118.0, -130.0, -125.0, -76.0, -84.0, -94.0, -69.0, -116.0, -95.0, -104.0, -88.0, -73.0, -82.0, -78.0, -125.0, -108.0, -90.0, -89.0, -72.0, -91.0, -114.0, -97.0, -132.0, -99.0, -77.0, -89.0, -61.0, -81.0, -67.0, -84.0, -104.0, -77.0, -106.0, -95.0, -111.0, -92.0, -87.0, -81.0, -106.0, -109.0, -106.0, -140.0, -80.0, -87.0, -92.0, -114.0, -75.0, -76.0, -117.0, -101.0, -134.0, -85.0, -82.0, -83.0, -68.0, -71.0, -99.0, -91.0, -101.0, -90.0, -81.0, -91.0, -98.0, -123.0, -106.0, -70.0, -78.0, -95.0, -71.0, -101.0, -107.0, -84.0, -79.0, -124.0, -100.0, -105.0, -84.0, -81.0, -74.0, -85.0, -82.0, -93.0, -98.0, -106.0, -77.0, -96.0, -103.0, -88.0, -113.0, -75.0, -63.0, -123.0, -87.0, -78.0, -81.0, -101.0, -92.0, -125.0, -90.0, -90.0, -75.0, -118.0, -91.0, -83.0, -77.0, -69.0, -70.0, -129.0, -102.0, -89.0, -89.0, -76.0, -77.0, -107.0, -100.0, -74.0, -77.0, -73.0, -96.0, -89.0, -99.0, -112.0, -62.0, -62.0, -116.0, -106.0, -115.0, -62.0, -94.0, -79.0, -113.0, -72.0, -83.0, -97.0, -79.0, -103.0, -97.0, -81.0, -71.0, -62.0, -98.0, -100.0, -77.0, -81.0, -66.0, -69.0, -79.0, -83.0, -71.0, -69.0, -69.0, -62.0, -82.0, -95.0, -80.0, -105.0, -84.0, -63.0, -97.0, -92.0, -93.0, -78.0, -91.0, -86.0, -130.0, -93.0, -92.0, -84.0, -89.0, -71.0, -85.0, -76.0, -88.0, -63.0, -69.0, -107.0, -71.0, -83.0, -69.0, -89.0, -64.0, -82.0, -72.0, -63.0, -99.0, -68.0, -91.0, -88.0, -74.0, -85.0, -83.0, -70.0, -83.0, -71.0, -71.0, -73.0, -84.0, -69.0, -89.0, -62.0, -72.0, -80.0, -98.0, -77.0, -70.0, -81.0, -83.0, -70.0, -84.0, -90.0, -83.0, -80.0, -110.0, -72.0, -106.0, -71.0, -63.0, -99.0, -92.0, -62.0, -71.0, -70.0, -62.0, -151.0, -98.0, -89.0, -94.0, -94.0, -109.0, -81.0, -87.0, -95.0, -108.0, -79.0, -70.0, -70.0, -79.0, -84.0, -62.0, -83.0, -68.0, -94.0, -98.0, -63.0, -92.0, -108.0, -87.0, -92.0, -70.0, -74.0, -77.0, -104.0, -105.0, -71.0, -70.0, -80.0, -100.0, -62.0, -69.0, -71.0, -71.0, -85.0, -94.0, -68.0, -90.0, -62.0, -85.0, -69.0, -63.0, -93.0, -74.0, -69.0, -70.0, -94.0, -81.0, -78.0, -79.0, -77.0, -83.0, -63.0, -69.0, -98.0, -69.0, -82.0, -83.0, -73.0, -77.0, -69.0, -112.0, -76.0, -68.0, -98.0, -71.0, -70.0, -92.0, -62.0, -75.0, -72.0, -93.0, -97.0, -76.0, -72.0, -64.0, -102.0, -99.0, -77.0, -92.0, -76.0, -94.0, -78.0, -71.0, -74.0, -103.0, -72.0, -71.0, -119.0, -71.0, -105.0, -102.0, -97.0, -100.0, -69.0, -77.0, -106.0, -77.0, -104.0, -72.0, -70.0, -109.0, -99.0, -101.0, -77.0, -102.0, -108.0, -64.0, -108.0, -72.0, -62.0, -82.0, -87.0, -72.0, -75.0, -69.0, -71.0, -92.0, -68.0, -69.0, -70.0, -71.0, -104.0, -138.0, -85.0, -71.0, -68.0, -71.0, -70.0, -71.0, -87.0, -79.0, -70.0, -84.0, -71.0, -85.0, -80.0, -77.0, -69.0, -71.0, -63.0, -102.0, -71.0, -69.0, -77.0, -82.0, -80.0, -77.0, -79.0, -76.0, -68.0, -64.0, -69.0, -76.0, -89.0, -72.0, -75.0, -63.0, -61.0, -109.0, -86.0, -68.0, -84.0, -63.0, -91.0, -87.0, -93.0, -119.0, -62.0, -69.0, -61.0, -69.0, -63.0, -69.0, -78.0, -94.0, -68.0, -61.0, -79.0, -78.0, -64.0, -95.0, -83.0, -78.0, -144.0, -97.0, -71.0, -72.0, -63.0, -74.0, -63.0, -61.0], [-500.0, -500.0, -500.0, -500.0, -500.0, -500.0, -500.0, -500.0, -500.0, -500.0, -500.0, -500.0, -500.0, -500.0, -485.0, -500.0, -500.0, -500.0, -500.0, -500.0, -451.0, -448.0, -338.0, -317.0, -326.0, -339.0, -361.0, -408.0, -500.0, -224.0, -239.0, -234.0, -197.0, -221.0, -306.0, -226.0, -314.0, -279.0, -211.0, -427.0, -279.0, -500.0, -367.0, -183.0, -275.0, -356.0, -177.0, -180.0, -216.0, -214.0, -312.0, -202.0, -133.0, -242.0, -162.0, -174.0, -166.0, -212.0, -170.0, -173.0, -220.0, -137.0, -157.0, -163.0, -185.0, -343.0, -181.0, -146.0, -216.0, -111.0, -164.0, -116.0, -139.0, -140.0, -114.0, -148.0, -134.0, -90.0, -120.0, -164.0, -139.0, -120.0, -133.0, -168.0, -138.0, -160.0, -163.0, -500.0, -122.0, -148.0, -186.0, -161.0, -142.0, -133.0, -148.0, -162.0, -147.0, -221.0, -117.0, -118.0, -139.0, -146.0, -125.0, -168.0, -132.0, -116.0, -176.0, -140.0, -121.0, -103.0, -111.0, -141.0, -146.0, -132.0, -150.0, -78.0, -121.0, -121.0, -126.0, -108.0, -165.0, -156.0, -121.0, -94.0, -98.0, -123.0, -122.0, -421.0, -95.0, -75.0, -119.0, -112.0, -94.0, -92.0, -131.0, -84.0, -92.0, -123.0, -95.0, -80.0, -114.0, -109.0, -94.0, -174.0, -145.0, -94.0, -109.0, -107.0, -105.0, -128.0, -83.0, -96.0, -104.0, -102.0, -123.0, -90.0, -94.0, -90.0, -99.0, -118.0, -108.0, -88.0, -117.0, -64.0, -99.0, -102.0, -90.0, -94.0, -110.0, -89.0, -118.0, -73.0, -71.0, -128.0, -125.0, -94.0, -80.0, -106.0, -126.0, -117.0, -90.0, -85.0, -167.0, -124.0, -118.0, -129.0, -134.0, -131.0, -98.0, -94.0, -94.0, -128.0, -104.0, -108.0, -91.0, -81.0, -96.0, -100.0, -114.0, -82.0, -111.0, -96.0, -100.0, -96.0, -63.0, -90.0, -84.0, -98.0, -117.0, -125.0, -127.0, -118.0, -119.0, -95.0, -117.0, -89.0, -107.0, -98.0, -101.0, -107.0, -92.0, -96.0, -92.0, -78.0, -77.0, -63.0, -80.0, -117.0, -95.0, -92.0, -111.0, -103.0, -111.0, -94.0, -88.0, -77.0, -88.0, -117.0, -79.0, -85.0, -158.0, -98.0, -131.0, -88.0, -86.0, -63.0, -91.0, -113.0, -81.0, -82.0, -76.0, -88.0, -92.0, -77.0, -68.0, -101.0, -83.0, -99.0, -90.0, -95.0, -91.0, -76.0, -75.0, -82.0, -101.0, -112.0, -78.0, -71.0, -99.0, -80.0, -71.0, -65.0, -77.0, -107.0, -91.0, -98.0, -89.0, -109.0, -76.0, -98.0, -98.0, -75.0, -78.0, -70.0, -92.0, -110.0, -87.0, -97.0, -152.0, -78.0, -87.0, -133.0, -104.0, -108.0, -124.0, -110.0, -135.0, -71.0, -99.0, -84.0, -106.0, -84.0, -65.0, -79.0, -104.0, -94.0, -88.0, -89.0, -97.0, -90.0, -82.0, -84.0, -82.0, -136.0, -103.0, -91.0, -80.0, -63.0, -73.0, -96.0, -105.0, -89.0, -86.0, -121.0, -123.0, -70.0, -175.0, -88.0, -104.0, -93.0, -75.0, -140.0, -94.0, -83.0, -84.0, -102.0, -96.0, -72.0, -108.0, -76.0, -84.0, -85.0, -71.0, -91.0, -111.0, -76.0, -63.0, -86.0, -87.0, -64.0, -81.0, -98.0, -105.0, -91.0, -71.0, -72.0, -87.0, -76.0, -83.0, -106.0, -126.0, -106.0, -99.0, -149.0, -90.0, -79.0, -64.0, -72.0, -62.0, -70.0, -92.0, -84.0, -91.0, -86.0, -80.0, -88.0, -82.0, -84.0, -99.0, -63.0, -99.0, -89.0, -75.0, -74.0, -70.0, -84.0, -62.0, -76.0, -62.0, -94.0, -72.0, -73.0, -78.0, -121.0, -83.0, -71.0, -91.0, -77.0, -115.0, -86.0, -113.0, -78.0, -70.0, -99.0, -83.0, -99.0, -93.0, -93.0, -78.0, -150.0, -86.0, -72.0, -71.0, -180.0, -101.0, -64.0, -72.0, -87.0, -87.0, -81.0, -71.0, -72.0, -77.0, -90.0, -99.0, -111.0, -169.0, -139.0, -71.0, -80.0, -102.0, -123.0, -63.0, -86.0, -75.0, -72.0, -71.0, -76.0, -92.0, -82.0, -76.0, -77.0, -70.0, -77.0, -72.0, -69.0, -79.0, -83.0, -63.0, -107.0, -79.0, -63.0, -86.0, -69.0, -84.0, -93.0, -68.0, -117.0, -149.0, -70.0, -91.0, -79.0, -89.0, -87.0, -72.0, -94.0, -69.0, -82.0, -79.0, -81.0, -62.0, -76.0, -84.0, -63.0, -82.0, -86.0, -62.0, -63.0, -63.0, -82.0, -103.0, -82.0, -86.0, -75.0, -86.0, -62.0, -71.0, -76.0, -62.0, -77.0, -90.0, -85.0, -79.0, -69.0, -63.0, -72.0, -64.0, -117.0, -71.0, -93.0, -72.0, -83.0, -95.0, -88.0, -82.0, -87.0, -70.0, -70.0, -63.0, -77.0, -78.0, -114.0, -70.0, -76.0, -87.0, -63.0, -79.0, -70.0, -97.0, -66.0, -71.0, -72.0, -113.0, -86.0, -70.0, -84.0, -83.0, -76.0, -103.0, -62.0, -104.0, -95.0, -79.0, -77.0, -93.0, -85.0, -71.0, -87.0, -64.0, -92.0, -103.0, -62.0, -61.0, -124.0, -70.0, -92.0, -94.0, -62.0, -70.0, -73.0, -89.0, -69.0, -63.0, -62.0, -93.0, -62.0, -63.0, -68.0], [-500.0, -500.0, -500.0, -500.0, -500.0, -500.0, -500.0, -500.0, -500.0, -500.0, -500.0, -500.0, -500.0, -500.0, -448.0, -500.0, -500.0, -500.0, -500.0, -482.0, -500.0, -460.0, -500.0, -394.0, -466.0, -337.0, -349.0, -416.0, -268.0, -309.0, -369.0, -430.0, -325.0, -313.0, -236.0, -401.0, -417.0, -287.0, -232.0, -497.0, -231.0, -282.0, -259.0, -195.0, -213.0, -112.0, -224.0, -202.0, -184.0, -169.0, -322.0, -356.0, -191.0, -172.0, -189.0, -176.0, -255.0, -258.0, -164.0, -156.0, -242.0, -166.0, -269.0, -144.0, -183.0, -119.0, -232.0, -131.0, -226.0, -162.0, -130.0, -81.0, -180.0, -118.0, -124.0, -153.0, -167.0, -165.0, -249.0, -144.0, -161.0, -117.0, -103.0, -119.0, -135.0, -166.0, -177.0, -168.0, -126.0, -125.0, -136.0, -153.0, -118.0, -122.0, -140.0, -145.0, -123.0, -130.0, -118.0, -134.0, -176.0, -118.0, -95.0, -160.0, -125.0, -114.0, -99.0, -142.0, -98.0, -137.0, -126.0, -82.0, -106.0, -130.0, -82.0, -141.0, -119.0, -110.0, -157.0, -115.0, -90.0, -90.0, -87.0, -146.0, -120.0, -125.0, -118.0, -103.0, -119.0, -159.0, -177.0, -103.0, -139.0, -100.0, -99.0, -107.0, -84.0, -104.0, -122.0, -132.0, -113.0, -89.0, -97.0, -77.0, -122.0, -93.0, -103.0, -130.0, -86.0, -86.0, -116.0, -80.0, -91.0, -90.0, -142.0, -116.0, -107.0, -108.0, -96.0, -90.0, -98.0, -109.0, -106.0, -106.0, -74.0, -109.0, -105.0, -110.0, -90.0, -93.0, -84.0, -83.0, -94.0, -88.0, -76.0, -82.0, -96.0, -99.0, -102.0, -77.0, -76.0, -114.0, -89.0, -80.0, -98.0, -122.0, -85.0, -86.0, -75.0, -89.0, -91.0, -109.0, -218.0, -88.0, -82.0, -84.0, -76.0, -89.0, -103.0, -98.0, -76.0, -107.0, -102.0, -90.0, -100.0, -63.0, -108.0, -106.0, -62.0, -117.0, -96.0, -99.0, -102.0, -79.0, -88.0, -84.0, -104.0, -74.0, -84.0, -106.0, -98.0, -129.0, -98.0, -100.0, -77.0, -92.0, -147.0, -101.0, -96.0, -81.0, -90.0, -95.0, -81.0, -87.0, -74.0, -134.0, -88.0, -246.0, -85.0, -112.0, -83.0, -72.0, -128.0, -81.0, -89.0, -87.0, -117.0, -135.0, -86.0, -96.0, -105.0, -102.0, -207.0, -70.0, -254.0, -78.0, -61.0, -75.0, -77.0, -87.0, -104.0, -93.0, -85.0, -82.0, -100.0, -69.0, -84.0, -88.0, -77.0, -101.0, -130.0, -63.0, -92.0, -72.0, -75.0, -85.0, -111.0, -111.0, -71.0, -85.0, -92.0, -75.0, -62.0, -79.0, -86.0, -108.0, -75.0, -63.0, -105.0, -78.0, -96.0, -82.0, -77.0, -65.0, -86.0, -96.0, -83.0, -77.0, -62.0, -118.0, -71.0, -96.0, -71.0, -118.0, -80.0, -83.0, -94.0, -104.0, -62.0, -68.0, -63.0, -78.0, -91.0, -101.0, -93.0, -97.0, -76.0, -91.0, -95.0, -70.0, -83.0, -80.0, -62.0, -92.0, -86.0, -73.0, -74.0, -80.0, -93.0, -84.0, -80.0, -70.0, -73.0, -80.0, -81.0, -67.0, -77.0, -97.0, -92.0, -77.0, -83.0, -92.0, -79.0, -69.0, -92.0, -125.0, -75.0, -74.0, -108.0, -84.0, -93.0, -93.0, -80.0, -93.0, -72.0, -76.0, -79.0, -75.0, -79.0, -94.0, -91.0, -71.0, -63.0, -96.0, -71.0, -109.0, -97.0, -105.0, -74.0, -75.0, -91.0, -92.0, -93.0, -71.0, -71.0, -92.0, -71.0, -64.0, -82.0, -72.0, -61.0, -70.0, -72.0, -76.0, -62.0, -75.0, -92.0, -87.0, -78.0, -74.0, -70.0, -80.0, -61.0, -139.0, -95.0, -62.0, -91.0, -78.0, -84.0, -64.0, -74.0, -82.0, -62.0, -88.0, -81.0, -75.0, -79.0, -80.0, -79.0, -70.0, -69.0, -82.0, -73.0, -82.0, -75.0, -99.0, -62.0, -93.0, -113.0, -74.0, -77.0, -63.0, -84.0, -82.0, -90.0, -80.0, -78.0, -97.0, -76.0, -70.0, -70.0, -78.0, -118.0, -74.0, -71.0, -87.0, -78.0, -75.0, -75.0, -97.0, -100.0, -71.0, -89.0, -63.0, -69.0, -70.0, -78.0, -63.0, -85.0, -77.0, -71.0, -88.0, -134.0, -91.0, -85.0, -63.0, -81.0, -79.0, -91.0, -83.0, -70.0, -73.0, -109.0, -72.0, -83.0, -82.0, -86.0, -69.0, -70.0, -75.0, -94.0, -73.0], [-500.0, -500.0, -500.0, -500.0, -500.0, -500.0, -500.0, -500.0, -500.0, -500.0, -500.0, -270.0, -500.0, -500.0, -500.0, -500.0, -500.0, -500.0, -236.0, -500.0, -500.0, -447.0, -312.0, -459.0, -321.0, -327.0, -406.0, -311.0, -245.0, -470.0, -278.0, -226.0, -309.0, -183.0, -357.0, -256.0, -365.0, -252.0, -293.0, -246.0, -288.0, -248.0, -310.0, -225.0, -268.0, -219.0, -226.0, -201.0, -262.0, -205.0, -175.0, -208.0, -171.0, -208.0, -191.0, -243.0, -205.0, -176.0, -310.0, -180.0, -235.0, -230.0, -272.0, -197.0, -143.0, -180.0, -113.0, -162.0, -148.0, -153.0, -209.0, -169.0, -193.0, -179.0, -176.0, -194.0, -162.0, -123.0, -123.0, -189.0, -217.0, -168.0, -107.0, -103.0, -153.0, -181.0, -130.0, -134.0, -124.0, -134.0, -297.0, -207.0, -164.0, -158.0, -142.0, -104.0, -136.0, -136.0, -134.0, -162.0, -163.0, -141.0, -166.0, -103.0, -134.0, -158.0, -107.0, -151.0, -137.0, -126.0, -158.0, -179.0, -131.0, -130.0, -144.0, -86.0, -272.0, -213.0, -127.0, -124.0, -133.0, -110.0, -93.0, -130.0, -83.0, -141.0, -100.0, -97.0, -154.0, -133.0, -145.0, -117.0, -132.0, -138.0, -99.0, -90.0, -102.0, -112.0, -108.0, -106.0, -192.0, -81.0, -100.0, -82.0, -116.0, -92.0, -149.0, -107.0, -113.0, -120.0, -120.0, -83.0, -114.0, -112.0, -84.0, -95.0, -112.0, -104.0, -113.0, -142.0, -103.0, -96.0, -86.0, -142.0, -99.0, -100.0, -91.0, -101.0, -108.0, -86.0, -104.0, -95.0, -151.0, -90.0, -116.0, -125.0, -105.0, -93.0, -89.0, -111.0, -137.0, -152.0, -81.0, -110.0, -83.0, -84.0, -106.0, -78.0, -101.0, -80.0, -129.0, -91.0, -143.0, -73.0, -75.0, -157.0, -152.0, -76.0, -91.0, -99.0, -137.0, -80.0, -95.0, -128.0, -102.0, -117.0, -155.0, -106.0, -189.0, -133.0, -85.0, -87.0, -80.0, -83.0, -81.0, -88.0, -122.0, -105.0, -97.0, -78.0, -91.0, -309.0, -113.0, -69.0, -81.0, -84.0, -93.0, -80.0, -87.0, -81.0, -100.0, -77.0, -83.0, -92.0, -78.0, -70.0, -61.0, -87.0, -91.0, -81.0, -68.0, -80.0, -92.0, -123.0, -79.0, -81.0, -101.0, -96.0, -70.0, -95.0, -110.0, -76.0, -96.0, -98.0, -74.0, -84.0, -80.0, -111.0, -106.0, -97.0, -69.0, -76.0, -72.0, -122.0, -93.0, -85.0, -84.0, -70.0, -86.0, -99.0, -77.0, -72.0, -143.0, -70.0, -80.0, -104.0, -61.0, -84.0, -71.0, -95.0, -107.0, -88.0, -94.0, -94.0, -71.0, -83.0, -85.0, -102.0, -92.0, -62.0, -72.0, -89.0, -130.0, -106.0, -81.0, -65.0, -105.0, -82.0, -85.0, -100.0, -87.0, -77.0, -79.0, -61.0, -83.0, -86.0, -116.0, -74.0, -86.0, -87.0, -93.0, -95.0, -92.0, -109.0, -72.0, -85.0, -89.0, -83.0, -78.0, -103.0, -63.0, -105.0, -80.0, -68.0, -96.0, -93.0, -78.0, -62.0, -98.0, -76.0, -63.0, -86.0, -83.0, -101.0, -78.0, -77.0, -83.0, -74.0, -94.0, -91.0, -102.0, -99.0, -94.0, -86.0, -103.0, -94.0, -102.0, -181.0, -86.0, -98.0, -79.0, -99.0, -63.0, -97.0, -89.0, -90.0, -82.0, -71.0, -106.0, -86.0, -71.0, -92.0, -116.0, -282.0, -194.0, -175.0, -95.0, -78.0, -85.0, -67.0, -75.0, -71.0, -63.0, -91.0, -99.0, -71.0, -90.0, -107.0, -95.0, -116.0, -73.0, -73.0, -77.0, -92.0, -63.0, -100.0, -79.0, -82.0, -72.0, -91.0, -84.0, -64.0, -89.0, -95.0, -82.0, -123.0, -71.0, -89.0, -78.0, -115.0, -103.0, -131.0, -71.0, -83.0, -70.0, -74.0, -62.0, -68.0, -83.0, -105.0, -70.0, -75.0, -82.0, -110.0, -77.0, -76.0, -76.0, -78.0, -95.0, -70.0, -72.0, -97.0, -70.0, -70.0, -74.0, -72.0, -87.0, -85.0, -83.0, -84.0, -70.0, -106.0, -71.0, -105.0, -83.0, -69.0, -83.0, -77.0, -63.0, -95.0, -69.0, -73.0, -62.0, -86.0, -70.0, -72.0, -70.0, -79.0, -81.0, -107.0, -63.0, -62.0, -118.0, -98.0, -66.0, -86.0, -84.0, -63.0, -70.0, -71.0, -63.0, -104.0, -71.0, -70.0, -89.0, -71.0, -103.0, -108.0, -86.0, -71.0, -62.0, -86.0, -69.0, -81.0, -70.0, -71.0, -70.0, -71.0, -76.0, -71.0, -70.0, -76.0, -90.0, -83.0, -77.0, -61.0, -77.0, -69.0, -62.0, -77.0, -69.0, -96.0, -71.0, -98.0, -97.0, -77.0], [-500.0, -500.0, -500.0, -500.0, -500.0, -500.0, -500.0, -500.0, -500.0, -500.0, -500.0, -500.0, -500.0, -463.0, -500.0, -500.0, -500.0, -396.0, -500.0, -314.0, -286.0, -500.0, -500.0, -284.0, -304.0, -381.0, -334.0, -200.0, -334.0, -243.0, -294.0, -317.0, -294.0, -240.0, -194.0, -225.0, -214.0, -241.0, -316.0, -185.0, -230.0, -156.0, -211.0, -244.0, -292.0, -270.0, -221.0, -207.0, -235.0, -238.0, -181.0, -196.0, -174.0, -226.0, -191.0, -211.0, -114.0, -221.0, -196.0, -128.0, -171.0, -128.0, -199.0, -203.0, -154.0, -148.0, -194.0, -164.0, -129.0, -280.0, -155.0, -234.0, -239.0, -154.0, -178.0, -169.0, -173.0, -163.0, -180.0, -123.0, -149.0, -148.0, -170.0, -194.0, -105.0, -456.0, -153.0, -145.0, -500.0, -200.0, -202.0, -105.0, -126.0, -126.0, -118.0, -152.0, -201.0, -133.0, -104.0, -114.0, -119.0, -111.0, -147.0, -130.0, -173.0, -138.0, -124.0, -119.0, -124.0, -121.0, -143.0, -97.0, -117.0, -118.0, -102.0, -93.0, -138.0, -117.0, -156.0, -164.0, -91.0, -162.0, -133.0, -99.0, -96.0, -168.0, -103.0, -151.0, -102.0, -148.0, -105.0, -103.0, -140.0, -159.0, -100.0, -92.0, -121.0, -90.0, -86.0, -113.0, -97.0, -117.0, -93.0, -116.0, -107.0, -93.0, -93.0, -124.0, -124.0, -94.0, -82.0, -117.0, -121.0, -92.0, -90.0, -143.0, -98.0, -99.0, -115.0, -95.0, -119.0, -91.0, -100.0, -88.0, -109.0, -96.0, -110.0, -90.0, -99.0, -97.0, -167.0, -99.0, -100.0, -91.0, -115.0, -82.0, -102.0, -103.0, -86.0, -105.0, -104.0, -128.0, -108.0, -102.0, -83.0, -98.0, -80.0, -73.0, -77.0, -91.0, -90.0, -109.0, -73.0, -87.0, -108.0, -153.0, -107.0, -160.0, -136.0, -87.0, -93.0, -94.0, -95.0, -102.0, -106.0, -124.0, -114.0, -124.0, -70.0, -84.0, -82.0, -102.0, -83.0, -92.0, -73.0, -77.0, -99.0, -82.0, -85.0, -92.0, -117.0, -97.0, -94.0, -82.0, -111.0, -64.0, -95.0, -113.0, -80.0, -85.0, -71.0, -117.0, -96.0, -82.0, -84.0, -69.0, -83.0, -89.0, -97.0, -95.0, -84.0, -93.0, -107.0, -88.0, -98.0, -100.0, -73.0, -94.0, -95.0, -100.0, -100.0, -103.0, -76.0, -70.0, -88.0, -84.0, -83.0, -101.0, -87.0, -123.0, -81.0, -76.0, -65.0, -73.0, -97.0, -81.0, -71.0, -97.0, -70.0, -89.0, -105.0, -121.0, -87.0, -86.0, -91.0, -75.0, -86.0, -106.0, -71.0, -70.0, -71.0, -93.0, -84.0, -97.0, -77.0, -70.0, -71.0, -93.0, -87.0, -87.0, -99.0, -94.0, -120.0, -92.0, -80.0, -64.0, -88.0, -104.0, -88.0, -179.0, -92.0, -86.0, -76.0, -88.0, -91.0, -102.0, -71.0, -121.0, -87.0, -118.0, -87.0, -84.0, -100.0, -71.0, -105.0, -77.0, -66.0, -74.0, -85.0, -64.0, -104.0, -101.0, -88.0, -105.0, -87.0, -102.0, -86.0, -87.0, -202.0, -94.0, -63.0, -80.0, -77.0, -86.0, -63.0, -101.0, -78.0, -74.0, -94.0, -79.0, -75.0, -75.0, -97.0, -128.0, -102.0, -79.0, -101.0, -83.0, -84.0, -171.0, -93.0, -68.0, -114.0, -108.0, -98.0, -74.0, -205.0, -84.0, -81.0, -100.0, -86.0, -63.0, -92.0, -82.0, -91.0, -82.0, -101.0, -69.0, -69.0, -91.0, -97.0, -82.0, -68.0, -69.0, -68.0, -168.0, -85.0, -82.0, -97.0, -87.0, -70.0, -71.0, -93.0, -129.0, -82.0, -110.0, -90.0, -84.0, -64.0, -85.0, -83.0, -92.0, -72.0, -80.0, -99.0, -61.0, -106.0, -106.0, -120.0, -79.0, -75.0, -86.0, -71.0, -71.0, -97.0, -62.0, -90.0, -81.0, -84.0, -62.0, -69.0, -112.0, -95.0, -75.0, -63.0, -123.0, -98.0, -77.0, -88.0, -65.0, -86.0, -83.0, -71.0, -86.0, -76.0, -94.0, -78.0, -85.0, -109.0, -77.0, -71.0, -93.0, -62.0, -70.0, -86.0, -70.0, -72.0, -72.0, -71.0, -76.0, -83.0, -100.0, -71.0, -72.0, -74.0, -104.0, -76.0, -72.0, -71.0, -78.0, -91.0, -97.0, -71.0, -70.0, -91.0, -94.0, -84.0, -77.0, -86.0, -94.0, -76.0, -88.0, -78.0, -91.0, -76.0, -75.0, -78.0, -87.0, -105.0, -82.0, -84.0, -77.0, -67.0, -104.0, -85.0, -63.0, -108.0, -70.0, -72.0, -86.0, -99.0, -88.0, -64.0, -72.0, -70.0, -83.0, -112.0, -85.0, -87.0, -93.0, -77.0, -78.0, -89.0, -70.0, -70.0, -61.0, -96.0, -88.0, -64.0, -107.0, -73.0, -70.0, -91.0, -76.0, -112.0, -112.0, -89.0, -105.0, -115.0, -97.0, -89.0, -70.0, -102.0, -92.0, -85.0, -70.0, -75.0, -77.0, -97.0, -71.0, -92.0, -70.0, -92.0, -63.0, -79.0, -85.0, -97.0, -86.0, -95.0, -88.0, -75.0, -87.0, -62.0, -70.0, -98.0, -62.0, -70.0, -106.0, -99.0, -87.0, -71.0, -71.0, -78.0, -70.0, -107.0, -90.0, -83.0, -94.0, -94.0, -76.0, -90.0, -72.0, -70.0, -117.0, -85.0, -79.0, -124.0, -81.0, -84.0, -93.0, -81.0, -74.0, -71.0, -63.0, -80.0, -70.0, -72.0, -105.0, -93.0, -70.0, -69.0, -109.0, -72.0, -63.0, -85.0, -128.0, -86.0, -63.0, -70.0, -104.0, -90.0, -85.0, -87.0, -86.0, -87.0, -84.0, -63.0, -81.0, -78.0, -72.0, -102.0, -70.0, -77.0, -72.0, -76.0, -77.0, -72.0, -79.0, -63.0, -71.0, -72.0, -71.0, -80.0, -99.0, -71.0, -89.0, -71.0, -71.0, -99.0, -103.0, -62.0, -75.0, -86.0, -83.0, -85.0, -93.0, -70.0, -94.0, -63.0, -70.0, -63.0, -76.0, -86.0, -83.0, -77.0, -124.0, -83.0, -95.0, -63.0, -72.0, -102.0, -118.0, -69.0, -82.0, -70.0, -70.0, -61.0, -64.0, -71.0, -70.0, -128.0, -64.0, -79.0, -192.0, -71.0, -76.0, -71.0, -102.0, -62.0, -71.0, -71.0, -70.0, -65.0, -79.0, -76.0, -112.0, -63.0, -84.0, -73.0, -71.0, -71.0, -69.0, -70.0, -70.0, -98.0, -78.0, -71.0, -111.0, -84.0, -71.0, -70.0, -72.0, -70.0, -62.0, -72.0, -84.0, -108.0, -63.0, -70.0, -75.0], [-500.0, -500.0, -500.0, -500.0, -500.0, -500.0, -500.0, -500.0, -500.0, -500.0, -500.0, -500.0, -500.0, -500.0, -466.0, -500.0, -500.0, -500.0, -500.0, -326.0, -500.0, -412.0, -500.0, -290.0, -330.0, -497.0, -500.0, -342.0, -325.0, -249.0, -316.0, -220.0, -283.0, -280.0, -384.0, -314.0, -327.0, -199.0, -213.0, -214.0, -338.0, -252.0, -239.0, -235.0, -199.0, -277.0, -198.0, -314.0, -196.0, -187.0, -239.0, -248.0, -218.0, -199.0, -242.0, -160.0, -135.0, -200.0, -202.0, -145.0, -178.0, -197.0, -187.0, -127.0, -179.0, -143.0, -156.0, -171.0, -134.0, -156.0, -162.0, -125.0, -147.0, -190.0, -164.0, -192.0, -105.0, -118.0, -127.0, -170.0, -193.0, -154.0, -94.0, -207.0, -122.0, -135.0, -139.0, -107.0, -144.0, -113.0, -115.0, -129.0, -303.0, -109.0, -122.0, -142.0, -136.0, -118.0, -102.0, -125.0, -99.0, -125.0, -113.0, -100.0, -146.0, -114.0, -141.0, -133.0, -116.0, -500.0, -150.0, -139.0, -107.0, -119.0, -139.0, -157.0, -125.0, -111.0, -110.0, -127.0, -98.0, -100.0, -95.0, -101.0, -123.0, -135.0, -109.0, -205.0, -125.0, -125.0, -116.0, -97.0, -104.0, -123.0, -91.0, -107.0, -95.0, -139.0, -82.0, -125.0, -124.0, -95.0, -105.0, -95.0, -100.0, -113.0, -85.0, -105.0, -91.0, -135.0, -98.0, -106.0, -88.0, -83.0, -86.0, -87.0, -81.0, -83.0, -128.0, -93.0, -123.0, -97.0, -94.0, -78.0, -105.0, -104.0, -62.0, -95.0, -134.0, -75.0, -84.0, -103.0, -152.0, -113.0, -141.0, -97.0, -103.0, -128.0, -94.0, -97.0, -131.0, -93.0, -94.0, -102.0, -103.0, -82.0, -99.0, -104.0, -104.0, -110.0, -107.0, -80.0, -91.0, -111.0, -93.0, -94.0, -75.0, -107.0, -92.0, -84.0, -70.0, -162.0, -79.0, -116.0, -114.0, -86.0, -91.0, -132.0, -81.0, -83.0, -62.0, -62.0, -102.0, -82.0, -74.0, -99.0, -82.0, -104.0, -90.0, -86.0, -113.0, -80.0, -75.0, -84.0, -113.0, -70.0, -77.0, -97.0, -74.0, -73.0, -97.0, -100.0, -94.0, -79.0, -94.0, -87.0, -108.0, -99.0, -86.0, -121.0, -118.0, -84.0, -100.0, -70.0, -74.0, -82.0, -119.0, -60.0, -113.0, -73.0, -87.0, -84.0, -84.0, -91.0, -95.0, -98.0, -124.0, -91.0, -62.0, -63.0, -61.0, -91.0, -62.0, -90.0, -76.0, -83.0, -73.0, -103.0, -142.0, -76.0, -80.0, -100.0, -79.0, -94.0, -63.0, -83.0, -93.0, -89.0, -93.0, -84.0, -76.0, -86.0, -91.0, -103.0, -96.0, -74.0, -106.0, -86.0, -72.0, -77.0, -114.0, -84.0, -79.0, -80.0, -87.0, -88.0, -83.0, -80.0, -74.0, -98.0, -62.0, -79.0, -76.0, -84.0, -93.0, -86.0, -76.0, -98.0, -87.0, -111.0, -94.0, -75.0, -76.0, -82.0, -71.0, -76.0, -72.0, -79.0, -79.0, -83.0, -88.0, -101.0, -63.0, -90.0, -87.0, -121.0, -89.0, -64.0, -63.0, -75.0, -81.0, -87.0, -94.0, -83.0, -92.0, -80.0, -83.0, -95.0, -84.0, -83.0, -75.0, -96.0, -97.0, -91.0, -63.0, -74.0, -83.0, -77.0, -76.0, -108.0, -79.0, -90.0, -135.0, -92.0, -70.0, -79.0, -104.0, -91.0, -78.0, -77.0, -99.0, -73.0, -75.0, -89.0, -85.0, -95.0, -73.0, -130.0, -89.0, -62.0, -63.0, -70.0, -63.0, -79.0, -79.0, -86.0, -71.0, -72.0, -79.0, -71.0, -70.0, -95.0, -76.0, -70.0, -62.0, -79.0, -82.0, -76.0, -77.0, -72.0, -86.0, -79.0, -63.0, -83.0, -76.0, -114.0, -74.0, -75.0, -106.0, -90.0, -110.0, -94.0, -69.0, -81.0, -77.0, -93.0, -106.0, -88.0, -79.0, -94.0, -105.0, -75.0, -93.0, -70.0, -62.0, -69.0, -79.0, -96.0, -75.0, -62.0, -71.0, -89.0, -82.0, -93.0, -70.0, -79.0, -81.0, -95.0, -63.0, -78.0, -71.0, -63.0, -86.0, -71.0, -75.0, -72.0, -94.0, -100.0, -73.0, -115.0, -70.0, -74.0, -89.0, -75.0, -71.0, -70.0, -69.0, -75.0, -79.0, -88.0, -117.0, -63.0, -71.0, -99.0, -80.0, -70.0, -97.0, -90.0, -89.0, -70.0, -85.0, -80.0, -105.0, -72.0, -69.0, -70.0, -74.0, -110.0, -77.0, -116.0, -85.0, -95.0, -94.0, -113.0, -63.0, -76.0, -82.0, -75.0, -73.0, -94.0, -83.0, -71.0, -71.0, -77.0, -139.0, -87.0, -75.0, -78.0, -72.0, -62.0, -76.0, -62.0, -90.0, -69.0, -70.0, -75.0, -77.0, -85.0, -104.0, -86.0, -79.0, -64.0, -101.0, -78.0, -74.0, -96.0, -98.0, -74.0, -70.0, -89.0, -80.0, -90.0, -64.0, -89.0, -62.0, -70.0, -63.0, -78.0, -84.0, -83.0, -82.0, -63.0, -69.0, -89.0, -116.0, -119.0, -120.0, -70.0, -219.0, -63.0, -102.0, -112.0, -72.0, -89.0, -78.0, -89.0, -75.0, -71.0, -86.0, -94.0, -109.0, -87.0, -74.0, -86.0, -70.0, -93.0, -102.0, -86.0, -74.0, -90.0, -84.0, -99.0, -81.0, -77.0, -77.0, -90.0, -80.0, -62.0, -72.0, -88.0, -72.0, -83.0, -92.0, -159.0, -73.0, -75.0, -83.0, -72.0, -62.0, -72.0, -70.0, -62.0, -71.0, -80.0, -99.0, -70.0, -88.0, -63.0, -108.0, -72.0, -70.0, -73.0, -61.0, -91.0, -76.0, -94.0, -152.0, -70.0, -74.0, -77.0, -74.0, -93.0, -95.0, -85.0, -73.0, -70.0, -73.0, -64.0, -88.0, -63.0, -71.0, -62.0, -77.0, -71.0, -71.0, -63.0, -81.0, -63.0, -78.0, -98.0, -71.0, -91.0, -87.0, -93.0, -71.0, -70.0, -106.0, -88.0, -64.0, -71.0, -71.0, -85.0, -118.0, -71.0, -85.0, -71.0, -86.0, -62.0, -74.0, -85.0, -74.0, -69.0, -69.0, -70.0, -106.0, -85.0, -74.0, -85.0, -70.0, -86.0, -80.0, -93.0, -89.0, -64.0, -63.0, -87.0, -101.0, -98.0, -63.0, -87.0, -101.0, -86.0, -107.0, -63.0, -79.0, -77.0, -63.0, -85.0, -71.0, -97.0, -85.0, -86.0, -62.0, -86.0], [-500.0, -500.0, -500.0, -500.0, -500.0, -500.0, -500.0, -500.0, -500.0, -500.0, -500.0, -500.0, -500.0, -482.0, -500.0, -500.0, -472.0, -356.0, -500.0, -489.0, -429.0, -389.0, -257.0, -429.0, -289.0, -284.0, -457.0, -293.0, -213.0, -313.0, -298.0, -222.0, -194.0, -199.0, -221.0, -294.0, -344.0, -287.0, -281.0, -166.0, -196.0, -180.0, -199.0, -243.0, -175.0, -238.0, -179.0, -201.0, -225.0, -185.0, -177.0, -242.0, -204.0, -215.0, -293.0, -129.0, -175.0, -373.0, -203.0, -169.0, -180.0, -240.0, -188.0, -195.0, -215.0, -188.0, -151.0, -169.0, -119.0, -135.0, -135.0, -96.0, -144.0, -162.0, -153.0, -186.0, -163.0, -193.0, -188.0, -95.0, -143.0, -150.0, -137.0, -133.0, -106.0, -141.0, -174.0, -225.0, -94.0, -170.0, -134.0, -101.0, -117.0, -193.0, -170.0, -138.0, -122.0, -109.0, -158.0, -137.0, -140.0, -145.0, -130.0, -106.0, -101.0, -107.0, -130.0, -135.0, -147.0, -130.0, -106.0, -97.0, -97.0, -128.0, -117.0, -111.0, -115.0, -120.0, -124.0, -99.0, -113.0, -127.0, -136.0, -106.0, -120.0, -96.0, -145.0, -100.0, -154.0, -131.0, -94.0, -117.0, -149.0, -91.0, -113.0, -102.0, -123.0, -98.0, -124.0, -116.0, -107.0, -136.0, -89.0, -124.0, -112.0, -124.0, -255.0, -104.0, -100.0, -115.0, -98.0, -92.0, -101.0, -89.0, -136.0, -107.0, -113.0, -103.0, -115.0, -137.0, -101.0, -105.0, -118.0, -97.0, -112.0, -111.0, -90.0, -102.0, -92.0, -89.0, -99.0, -119.0, -85.0, -87.0, -98.0, -120.0, -94.0, -94.0, -84.0, -77.0, -99.0, -85.0, -121.0, -91.0, -111.0, -116.0, -89.0, -104.0, -79.0, -80.0, -113.0, -76.0, -90.0, -82.0, -114.0, -109.0, -98.0, -93.0, -63.0, -76.0, -84.0, -81.0, -94.0, -96.0, -76.0, -87.0, -84.0, -75.0, -84.0, -112.0, -96.0, -97.0, -81.0, -77.0, -97.0, -68.0, -83.0, -100.0, -91.0, -92.0, -95.0, -112.0, -95.0, -91.0, -94.0, -83.0, -87.0, -116.0, -85.0, -75.0, -78.0, -82.0, -92.0, -76.0, -74.0, -94.0, -83.0, -74.0, -80.0, -102.0, -104.0, -115.0, -88.0, -113.0, -114.0, -95.0, -102.0, -76.0, -77.0, -92.0, -90.0, -76.0, -136.0, -80.0, -101.0, -84.0, -77.0, -78.0, -102.0, -102.0, -86.0, -97.0, -76.0, -188.0, -114.0, -75.0, -95.0, -77.0, -82.0, -87.0, -107.0, -82.0, -89.0, -96.0, -63.0, -102.0, -78.0, -85.0, -92.0, -113.0, -102.0, -112.0, -69.0, -98.0, -95.0, -93.0, -111.0, -77.0, -70.0, -113.0, -74.0, -135.0, -106.0, -83.0, -94.0, -90.0, -77.0, -131.0, -152.0, -101.0, -71.0, -88.0, -76.0, -71.0, -73.0, -74.0, -74.0, -70.0, -107.0, -77.0, -85.0, -121.0, -99.0, -85.0, -68.0, -137.0, -72.0, -62.0, -81.0, -93.0, -97.0, -128.0, -266.0, -91.0, -70.0, -89.0, -70.0, -86.0, -87.0, -84.0, -80.0, -178.0, -62.0, -70.0, -69.0, -71.0, -87.0, -94.0, -76.0, -288.0, -78.0, -78.0, -72.0, -70.0, -75.0, -90.0, -104.0, -103.0, -68.0, -88.0, -81.0, -76.0, -83.0, -97.0, -96.0, -86.0, -72.0, -152.0, -70.0, -78.0, -62.0, -70.0, -62.0, -500.0, -71.0, -72.0, -106.0, -145.0, -105.0, -88.0, -72.0, -71.0, -64.0, -100.0, -83.0, -97.0, -95.0, -91.0, -97.0, -69.0, -62.0, -85.0, -90.0, -107.0, -89.0, -89.0, -76.0, -78.0, -76.0, -94.0, -70.0, -100.0, -88.0, -102.0, -86.0, -84.0, -71.0, -70.0, -70.0, -105.0, -62.0, -87.0, -71.0, -78.0, -95.0, -82.0, -110.0, -62.0, -95.0, -69.0, -69.0, -70.0, -83.0, -69.0, -71.0, -82.0, -95.0, -88.0, -62.0, -62.0, -129.0, -96.0, -71.0, -89.0, -70.0, -67.0, -72.0, -94.0, -64.0, -88.0, -107.0, -71.0, -78.0, -63.0, -80.0, -95.0, -63.0, -71.0, -140.0, -96.0, -69.0, -84.0, -62.0, -62.0, -87.0, -90.0, -69.0, -99.0, -71.0, -71.0, -83.0, -84.0, -83.0, -77.0, -82.0, -84.0, -73.0, -63.0, -78.0, -97.0, -70.0, -74.0, -77.0, -69.0, -130.0, -82.0, -71.0, -85.0, -84.0, -89.0, -74.0, -90.0, -70.0, -69.0, -70.0, -76.0, -93.0, -94.0, -71.0, -95.0, -91.0, -69.0, -84.0, -70.0, -72.0, -71.0, -69.0, -91.0, -68.0, -79.0, -94.0, -94.0, -74.0, -101.0, -70.0, -98.0, -86.0, -76.0, -83.0, -75.0, -62.0, -79.0, -82.0, -63.0, -62.0, -76.0, -98.0, -99.0, -83.0, -95.0, -73.0, -70.0, -84.0, -118.0, -92.0, -70.0, -73.0, -71.0, -75.0, -101.0, -65.0, -91.0, -75.0, -69.0, -69.0, -85.0, -71.0, -89.0, -101.0, -71.0, -73.0, -71.0, -64.0, -104.0, -63.0, -63.0, -85.0, -92.0, -61.0], [-500.0, -500.0, -500.0, -500.0, -500.0, -500.0, -500.0, -500.0, -448.0, -500.0, -500.0, -500.0, -500.0, -500.0, -500.0, -500.0, -375.0, -464.0, -295.0, -500.0, -348.0, -446.0, -500.0, -450.0, -409.0, -352.0, -349.0, -345.0, -361.0, -298.0, -251.0, -244.0, -296.0, -237.0, -253.0, -227.0, -226.0, -285.0, -200.0, -205.0, -187.0, -256.0, -441.0, -223.0, -271.0, -183.0, -218.0, -208.0, -168.0, -124.0, -220.0, -229.0, -182.0, -154.0, -195.0, -179.0, -172.0, -128.0, -248.0, -233.0, -150.0, -198.0, -210.0, -152.0, -186.0, -144.0, -205.0, -200.0, -500.0, -119.0, -277.0, -142.0, -196.0, -94.0, -140.0, -135.0, -154.0, -128.0, -144.0, -175.0, -150.0, -138.0, -147.0, -130.0, -127.0, -108.0, -117.0, -133.0, -117.0, -176.0, -101.0, -135.0, -161.0, -172.0, -135.0, -128.0, -127.0, -113.0, -124.0, -158.0, -115.0, -193.0, -137.0, -356.0, -180.0, -115.0, -116.0, -115.0, -113.0, -124.0, -107.0, -157.0, -121.0, -169.0, -98.0, -120.0, -118.0, -109.0, -109.0, -123.0, -103.0, -208.0, -129.0, -112.0, -138.0, -107.0, -127.0, -80.0, -103.0, -100.0, -141.0, -124.0, -120.0, -105.0, -122.0, -223.0, -84.0, -90.0, -144.0, -118.0, -133.0, -130.0, -109.0, -103.0, -90.0, -103.0, -130.0, -128.0, -112.0, -120.0, -142.0, -123.0, -110.0, -104.0, -105.0, -102.0, -101.0, -111.0, -112.0, -161.0, -116.0, -128.0, -145.0, -99.0, -103.0, -92.0, -115.0, -90.0, -93.0, -85.0, -114.0, -94.0, -99.0, -84.0, -86.0, -121.0, -159.0, -124.0, -108.0, -96.0, -103.0, -447.0, -113.0, -92.0, -82.0, -89.0, -76.0, -96.0, -138.0, -76.0, -100.0, -102.0, -95.0, -116.0, -61.0, -130.0, -64.0, -91.0, -83.0, -90.0, -91.0, -86.0, -78.0, -99.0, -112.0, -91.0, -77.0, -116.0, -115.0, -101.0, -89.0, -152.0, -85.0, -150.0, -104.0, -65.0, -82.0, -109.0, -77.0, -95.0, -90.0, -93.0, -98.0, -98.0, -96.0, -74.0, -109.0, -103.0, -104.0, -105.0, -122.0, -100.0, -94.0, -70.0, -93.0, -99.0, -70.0, -86.0, -83.0, -84.0, -62.0, -92.0, -70.0, -86.0, -93.0, -78.0, -91.0, -69.0, -69.0, -94.0, -101.0, -75.0, -78.0, -71.0, -99.0, -80.0, -120.0, -81.0, -101.0, -79.0, -77.0, -116.0, -93.0, -103.0, -108.0, -87.0, -79.0, -83.0, -77.0, -105.0, -81.0, -78.0, -124.0, -111.0, -94.0, -109.0, -78.0, -84.0, -93.0, -105.0, -87.0, -95.0, -83.0, -71.0, -80.0, -62.0, -96.0, -92.0, -102.0, -106.0, -91.0, -102.0, -108.0, -92.0, -104.0, -91.0, -93.0, -63.0, -99.0, -88.0, -78.0, -64.0, -104.0, -72.0, -100.0, -86.0, -96.0, -77.0, -71.0, -91.0, -86.0, -112.0, -92.0, -73.0, -85.0, -89.0, -80.0, -105.0, -74.0, -98.0, -93.0, -73.0, -92.0, -75.0, -85.0, -92.0, -71.0, -113.0, -72.0, -73.0, -94.0, -84.0, -69.0, -75.0, -144.0, -93.0, -78.0, -72.0, -63.0, -122.0, -95.0, -64.0, -94.0, -87.0, -64.0, -78.0, -121.0, -64.0, -63.0, -71.0, -71.0, -74.0, -74.0, -93.0, -86.0, -73.0, -97.0, -67.0, -61.0, -90.0, -95.0, -102.0, -87.0, -68.0, -63.0, -104.0, -78.0, -79.0, -74.0, -100.0, -77.0, -89.0, -72.0, -109.0, -90.0, -87.0, -61.0, -94.0, -105.0, -92.0, -71.0, -72.0, -63.0, -87.0, -83.0, -77.0, -70.0, -87.0, -76.0, -85.0, -98.0, -62.0, -62.0, -71.0, -131.0, -69.0, -83.0, -62.0, -69.0, -81.0, -63.0, -106.0, -83.0, -68.0, -62.0, -93.0, -74.0, -63.0, -94.0, -74.0, -93.0, -62.0, -61.0, -74.0, -74.0, -104.0, -110.0, -105.0, -89.0, -122.0, -62.0, -98.0, -71.0, -63.0, -75.0, -103.0, -84.0, -95.0, -71.0, -68.0, -105.0, -119.0, -83.0, -63.0, -69.0, -104.0, -93.0, -78.0, -70.0, -91.0, -94.0, -78.0, -93.0, -83.0, -74.0, -70.0, -71.0, -89.0, -88.0, -79.0, -99.0, -110.0, -72.0, -63.0, -73.0, -87.0, -99.0, -70.0, -85.0, -62.0, -86.0, -75.0, -73.0, -66.0, -63.0, -83.0, -71.0, -71.0, -69.0, -140.0, -63.0, -83.0, -88.0, -78.0, -84.0, -79.0, -75.0, -68.0, -87.0, -70.0, -78.0, -61.0, -75.0, -81.0, -63.0, -70.0, -64.0, -77.0, -82.0, -70.0, -62.0, -83.0, -71.0, -85.0, -63.0]]\n"
     ]
    }
   ],
   "source": [
    "print(np.mean(solved_episodes))\n",
    "print(solved_episodes)\n",
    "print(np.mean(solved_episodes))\n",
    "print(rewards)"
   ]
  }
 ],
 "metadata": {
  "accelerator": "GPU",
  "colab": {
   "collapsed_sections": [
    "5LBh6_lOVBdN"
   ],
   "name": "Tutorial_4.ipynb",
   "provenance": []
  },
  "kernelspec": {
   "display_name": "Python 3 (ipykernel)",
   "language": "python",
   "name": "python3"
  },
  "language_info": {
   "codemirror_mode": {
    "name": "ipython",
    "version": 3
   },
   "file_extension": ".py",
   "mimetype": "text/x-python",
   "name": "python",
   "nbconvert_exporter": "python",
   "pygments_lexer": "ipython3",
   "version": "3.9.2"
  }
 },
 "nbformat": 4,
 "nbformat_minor": 1
}
