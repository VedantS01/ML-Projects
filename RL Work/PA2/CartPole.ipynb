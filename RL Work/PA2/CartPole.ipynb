{
  "cells": [
    {
      "cell_type": "code",
      "execution_count": 1,
      "metadata": {
        "id": "5hgWhFwz5PH5"
      },
      "outputs": [],
      "source": [
        "import gym\n",
        "import random\n",
        "import numpy as np\n",
        "import matplotlib.pyplot as plt\n",
        "import torch\n",
        "import torch.nn as nn\n",
        "from torch import optim\n",
        "import copy\n",
        "from gym import wrappers\n"
      ]
    },
    {
      "cell_type": "code",
      "execution_count": 2,
      "metadata": {
        "id": "gWSzZBC4dF3i"
      },
      "outputs": [],
      "source": [
        "# env = gym.make('MountainCar-v0')\n",
        "env = gym.make('CartPole-v1')\n",
        "\n",
        "action_space=[0,1]\n",
        "num_states = env.observation_space.shape[0]"
      ]
    },
    {
      "cell_type": "code",
      "execution_count": 3,
      "metadata": {
        "colab": {
          "base_uri": "https://localhost:8080/"
        },
        "id": "Q34hsY4C5TmM",
        "outputId": "8716f373-680d-424d-a9c2-4787f88aa21b"
      },
      "outputs": [
        {
          "data": {
            "text/plain": [
              "<torch._C.Generator at 0x1d1e7c82650>"
            ]
          },
          "execution_count": 3,
          "metadata": {},
          "output_type": "execute_result"
        }
      ],
      "source": [
        "seed = 100\n",
        "env.seed(seed)\n",
        "torch.manual_seed(seed)"
      ]
    },
    {
      "cell_type": "code",
      "execution_count": 4,
      "metadata": {
        "id": "WA6voTs75bvK"
      },
      "outputs": [],
      "source": [
        "# Hyper - Parameters\n",
        "\n",
        "NUMBER_OF_EPISODES = 500\n",
        "hyper_parameters = {}\n",
        "hyper_parameters['learning_rate'] = 0.01\n",
        "hyper_parameters['max_timesteps'] = 500\n",
        "hyper_parameters['epsilon'] = 0.9\n",
        "hyper_parameters['epsilon_decay'] = 0.999\n",
        "hyper_parameters['epsilon_min'] = 0.02\n",
        "hyper_parameters['discount_factor'] = 0.995\n",
        "hyper_parameters['replay_length'] = 64\n",
        "hyper_parameters['batch_size'] = 32\n",
        "hyper_parameters['target_update'] = 1"
      ]
    },
    {
      "cell_type": "code",
      "execution_count": 5,
      "metadata": {
        "id": "JqbGpIL35ocB"
      },
      "outputs": [],
      "source": [
        "\n",
        "class Net(nn.Module):\n",
        "    def __init__(self , input_dim, output_dim):\n",
        "        super().__init__()\n",
        "        self.fc1 = nn.Linear(input_dim,64)\n",
        "        self.fc2 = nn.Linear(64,output_dim)\n",
        "\n",
        "    def forward(self, x):\n",
        "        output = torch.tanh(self.fc1(x))\n",
        "        output = self.fc2(output)\n",
        "        return output"
      ]
    },
    {
      "cell_type": "code",
      "execution_count": 7,
      "metadata": {
        "id": "g4QupLSO5rNM"
      },
      "outputs": [],
      "source": [
        "\n",
        "class DQN(object):\n",
        "    def __init__(self):\n",
        "        self.policy_network = Net(num_states,len(action_space))\n",
        "        self.target_network = Net(num_states,len(action_space))\n",
        "        self.target_network.load_state_dict(self.policy_network.state_dict())\n",
        "        \n",
        "        self.D = []\n",
        "        self.D_length = hyper_parameters['replay_length']\n",
        "        self.optimizer = optim.Adam(params=self.policy_network.parameters() , lr=hyper_parameters['learning_rate'])\n",
        "        self.loss_func = torch.nn.MSELoss()\n",
        "    def get_action(self,state):\n",
        "      \n",
        "        with torch.no_grad():\n",
        "            state = torch.Tensor(state)\n",
        "            q_values = self.policy_network(state)\n",
        "            action = torch.max(q_values,0)[1]\n",
        "    \n",
        "        return action.item()\n",
        "  \n",
        "    def update_nn(self, minibatch):#state, action, next_state, reward, done):\n",
        "        for state, action, next_state, reward, done in minibatch:\n",
        "          state = torch.Tensor(state)\n",
        "          next_state = torch.Tensor(next_state)\n",
        "      \n",
        "          reward = torch.Tensor([reward])\n",
        "          if done:\n",
        "              target_value = reward\n",
        "          else:\n",
        "              next_state_values = self.policy_network(next_state).detach()\n",
        "              target = torch.max(next_state_values)\n",
        "              target_value = reward + hyper_parameters['discount_factor'] * target\n",
        "\n",
        "          predicted_value = self.policy_network(state)[action].view(-1)\n",
        "\n",
        "          loss = self.loss_func(predicted_value, target_value)\n",
        "\n",
        "          self.optimizer.zero_grad()\n",
        "          loss.backward()\n",
        "          self.optimizer.step()\n",
        "    \n",
        "    def train(self):\n",
        "      steps_total = []\n",
        "      for episode in range(number_of_episodes):\n",
        "        state = env.reset()\n",
        "        step = 0\n",
        "\n",
        "        if episode % hyper_parameters[\"target_update\"] == 0:\n",
        "          self.target_network.load_state_dict(self.policy_network.state_dict())\n",
        "          self.target_network.eval()\n",
        "        \n",
        "        batch = []\n",
        "        done = False\n",
        "        while not done:\n",
        "            step += 1\n",
        "          \n",
        "          \n",
        "\n",
        "            if random.random() > hyper_parameters['epsilon']:\n",
        "              action = self.get_action(state)\n",
        "            else:\n",
        "              action = env.action_space.sample()\n",
        "              \n",
        "            next_state, reward, done, info = env.step(action)\n",
        "\n",
        "            \n",
        "            # batch.append([state, action, next_state, reward, done])\n",
        "            if len(self.D) >= self.D_length:\n",
        "              self.D.pop(0)\n",
        "            \n",
        "            self.D.append([state, action, next_state, reward, done])\n",
        "\n",
        "            \n",
        "            if step%3==0:\n",
        "              if len(self.D) > hyper_parameters['batch_size']:\n",
        "                minibatch = random.sample(self.D, hyper_parameters['batch_size'])\n",
        "                self.update_nn(minibatch)\n",
        "                if hyper_parameters['epsilon'] > hyper_parameters['epsilon_min']:\n",
        "                  hyper_parameters['epsilon'] *= hyper_parameters['epsilon_decay']\n",
        "            # batch = []\n",
        "            state = next_state\n",
        "\n",
        "            if done:\n",
        "                metrics['total_rewards'].append(step)\n",
        "                metrics['epsilon_decay'].append(hyper_parameters['epsilon'])\n",
        "                print(\"Episode : {} \\t Reward : {} \\t Epsilon : {}\".format(episode, step, hyper_parameters['epsilon']))\n",
        "                break\n",
        "            \n",
        "        count = 0\n",
        "        for score in metrics['total_rewards'][-60:]:\n",
        "          if score > 475:\n",
        "            count += 1\n",
        "          \n",
        "                  \n",
        "        if count > 40:\n",
        "          # break \n",
        "          pass\n",
        "\n",
        "    def execute(self,num_episodes):\n",
        "        env = gym.make('CartPole-v1')\n",
        "        env = wrappers.Monitor(env, \"./gym-results\", force=True)\n",
        "        metrics['rewards_evaluation'] = []\n",
        "\n",
        "        for episodes in range(num_episodes):\n",
        "            step_count = 0\n",
        "            state = env.reset()\n",
        "            done = False\n",
        "            while not done:\n",
        "                action = self.get_action(state)\n",
        "                state, reward, done, _ = env.step(action)\n",
        "                if done:\n",
        "                    reward = 0\n",
        "                print(action,step_count)\n",
        "#                 env.render()\n",
        "                step_count += 1\n",
        "            print(step_count)\n",
        "            print(\"---------------end-----------------\")\n",
        "            metrics['rewards_evaluation'].append(step_count)\n",
        "        print(\"Average reward : {}\".format(sum(metrics['rewards_evaluation'])/len(metrics['rewards_evaluation'])))"
      ]
    },
    {
      "cell_type": "code",
      "execution_count": null,
      "metadata": {
        "id": "CnWT0ULfkg65"
      },
      "outputs": [],
      "source": []
    },
    {
      "cell_type": "code",
      "execution_count": 8,
      "metadata": {
        "colab": {
          "base_uri": "https://localhost:8080/",
          "height": 1000
        },
        "id": "Xy1asjFN5vQR",
        "outputId": "d5cb4b5d-58e2-45f6-d870-40c125b8ff4b"
      },
      "outputs": [
        {
          "name": "stdout",
          "output_type": "stream",
          "text": [
            "Episode : 0 \t Reward : 11 \t Epsilon : 0.9\n",
            "Episode : 1 \t Reward : 16 \t Epsilon : 0.9\n",
            "Episode : 2 \t Reward : 34 \t Epsilon : 0.8910403921887733\n",
            "Episode : 3 \t Reward : 26 \t Epsilon : 0.8839369683463054\n",
            "Episode : 4 \t Reward : 37 \t Epsilon : 0.8733878705367771\n",
            "Episode : 5 \t Reward : 11 \t Epsilon : 0.8707703262153905\n",
            "Episode : 6 \t Reward : 18 \t Epsilon : 0.8655587484106411\n",
            "Episode : 7 \t Reward : 23 \t Epsilon : 0.8595179836412034\n",
            "Episode : 8 \t Reward : 21 \t Epsilon : 0.8535193775803068\n",
            "Episode : 9 \t Reward : 60 \t Epsilon : 0.836610189820452\n",
            "Episode : 10 \t Reward : 60 \t Epsilon : 0.8200359922649304\n",
            "Episode : 11 \t Reward : 30 \t Epsilon : 0.8118724357296152\n",
            "Episode : 12 \t Reward : 30 \t Epsilon : 0.8037901483775233\n",
            "Episode : 13 \t Reward : 22 \t Epsilon : 0.7981804688274572\n",
            "Episode : 14 \t Reward : 25 \t Epsilon : 0.7918173294876865\n",
            "Episode : 15 \t Reward : 30 \t Epsilon : 0.7839346931206392\n",
            "Episode : 16 \t Reward : 18 \t Epsilon : 0.7792428283153726\n",
            "Episode : 17 \t Reward : 28 \t Epsilon : 0.7722576302440425\n",
            "Episode : 18 \t Reward : 65 \t Epsilon : 0.7562013716149095\n",
            "Episode : 19 \t Reward : 21 \t Epsilon : 0.7509238158018122\n",
            "Episode : 20 \t Reward : 35 \t Epsilon : 0.74270483098289\n",
            "Episode : 21 \t Reward : 24 \t Epsilon : 0.7367839465307715\n",
            "Episode : 22 \t Reward : 24 \t Epsilon : 0.7309102637006608\n",
            "Episode : 23 \t Reward : 25 \t Epsilon : 0.7250834061985871\n",
            "Episode : 24 \t Reward : 98 \t Epsilon : 0.7022368080846516\n",
            "Episode : 25 \t Reward : 35 \t Epsilon : 0.6945507105825058\n",
            "Episode : 26 \t Reward : 20 \t Epsilon : 0.6903938106990694\n",
            "Episode : 27 \t Reward : 66 \t Epsilon : 0.6753635696595942\n",
            "Episode : 28 \t Reward : 97 \t Epsilon : 0.6540835901084145\n",
            "Episode : 29 \t Reward : 41 \t Epsilon : 0.645631335355956\n",
            "Episode : 30 \t Reward : 25 \t Epsilon : 0.6404843262403014\n",
            "Episode : 31 \t Reward : 26 \t Epsilon : 0.6353783493691894\n",
            "Episode : 32 \t Reward : 59 \t Epsilon : 0.6234141972026517\n",
            "Episode : 33 \t Reward : 49 \t Epsilon : 0.6135140317710187\n",
            "Episode : 34 \t Reward : 39 \t Epsilon : 0.6055860284253346\n",
            "Episode : 35 \t Reward : 21 \t Epsilon : 0.6013596223586261\n",
            "Episode : 36 \t Reward : 101 \t Epsilon : 0.5818290161488722\n",
            "Episode : 37 \t Reward : 60 \t Epsilon : 0.5703023228638482\n",
            "Episode : 38 \t Reward : 20 \t Epsilon : 0.5668890520640127\n",
            "Episode : 39 \t Reward : 144 \t Epsilon : 0.5403081328441244\n",
            "Episode : 40 \t Reward : 12 \t Epsilon : 0.5381501400008527\n",
            "Episode : 41 \t Reward : 238 \t Epsilon : 0.4972525597378033\n",
            "Episode : 42 \t Reward : 16 \t Epsilon : 0.4947712644946718\n",
            "Episode : 43 \t Reward : 101 \t Epsilon : 0.4787023726511407\n",
            "Episode : 44 \t Reward : 180 \t Epsilon : 0.4508113831378475\n",
            "Episode : 45 \t Reward : 93 \t Epsilon : 0.43704384526507917\n",
            "Episode : 46 \t Reward : 13 \t Epsilon : 0.4352982903993521\n",
            "Episode : 47 \t Reward : 306 \t Epsilon : 0.3930671597102206\n",
            "Episode : 48 \t Reward : 38 \t Epsilon : 0.388376209945721\n",
            "Episode : 49 \t Reward : 169 \t Epsilon : 0.36721461693923013\n",
            "Episode : 50 \t Reward : 207 \t Epsilon : 0.3427193673932076\n",
            "Episode : 51 \t Reward : 40 \t Epsilon : 0.3382906499546174\n",
            "Episode : 52 \t Reward : 198 \t Epsilon : 0.3166738611416563\n",
            "Episode : 53 \t Reward : 215 \t Epsilon : 0.29495915566428044\n",
            "Episode : 54 \t Reward : 33 \t Epsilon : 0.29173077913447454\n",
            "Episode : 55 \t Reward : 260 \t Epsilon : 0.2676789618807666\n",
            "Episode : 56 \t Reward : 404 \t Epsilon : 0.23409366529850978\n",
            "Episode : 57 \t Reward : 104 \t Epsilon : 0.22626441719960322\n",
            "Episode : 58 \t Reward : 500 \t Epsilon : 0.19164050508498856\n",
            "Episode : 59 \t Reward : 500 \t Epsilon : 0.1623148864667966\n",
            "Episode : 60 \t Reward : 65 \t Epsilon : 0.15894014506651333\n",
            "Episode : 61 \t Reward : 500 \t Epsilon : 0.13461847008828473\n",
            "Episode : 62 \t Reward : 500 \t Epsilon : 0.11401859788995827\n",
            "Episode : 63 \t Reward : 48 \t Epsilon : 0.11220791891206763\n",
            "Episode : 64 \t Reward : 8 \t Epsilon : 0.1119836152821624\n",
            "Episode : 65 \t Reward : 500 \t Epsilon : 0.09484742170035866\n",
            "Episode : 66 \t Reward : 211 \t Epsilon : 0.08843205258638628\n",
            "Episode : 67 \t Reward : 186 \t Epsilon : 0.08311319460176986\n",
            "Episode : 68 \t Reward : 340 \t Epsilon : 0.07422840780120732\n",
            "Episode : 69 \t Reward : 190 \t Epsilon : 0.06969408220439197\n",
            "Episode : 70 \t Reward : 235 \t Epsilon : 0.06446203103409309\n",
            "Episode : 71 \t Reward : 317 \t Epsilon : 0.05803369843375326\n",
            "Episode : 72 \t Reward : 219 \t Epsilon : 0.05394620384738352\n",
            "Episode : 73 \t Reward : 387 \t Epsilon : 0.04741424836374128\n",
            "Episode : 74 \t Reward : 174 \t Epsilon : 0.04474115459823254\n",
            "Episode : 75 \t Reward : 166 \t Epsilon : 0.04234567303055596\n",
            "Episode : 76 \t Reward : 13 \t Epsilon : 0.042176544243131574\n",
            "Episode : 77 \t Reward : 128 \t Epsilon : 0.04044096388794797\n",
            "Episode : 78 \t Reward : 165 \t Epsilon : 0.03827571838986953\n",
            "Episode : 79 \t Reward : 120 \t Epsilon : 0.03677417002349953\n",
            "Episode : 80 \t Reward : 82 \t Epsilon : 0.03579406824452474\n",
            "Episode : 81 \t Reward : 134 \t Epsilon : 0.03425252119414435\n",
            "Episode : 82 \t Reward : 185 \t Epsilon : 0.03222458443981226\n",
            "Episode : 83 \t Reward : 234 \t Epsilon : 0.029805431056943114\n",
            "Episode : 84 \t Reward : 154 \t Epsilon : 0.028322742678430678\n"
          ]
        },
        {
          "ename": "KeyboardInterrupt",
          "evalue": "",
          "output_type": "error",
          "traceback": [
            "\u001b[1;31m---------------------------------------------------------------------------\u001b[0m",
            "\u001b[1;31mKeyboardInterrupt\u001b[0m                         Traceback (most recent call last)",
            "\u001b[1;32md:\\Files\\RL Playground\\PA2\\CartPole.ipynb Cell 8'\u001b[0m in \u001b[0;36m<module>\u001b[1;34m\u001b[0m\n\u001b[0;32m      <a href='vscode-notebook-cell:/d%3A/Files/RL%20Playground/PA2/CartPole.ipynb#ch0000007?line=7'>8</a>\u001b[0m metrics[\u001b[39m'\u001b[39m\u001b[39mtimesteps\u001b[39m\u001b[39m'\u001b[39m], metrics[\u001b[39m'\u001b[39m\u001b[39mpenalties\u001b[39m\u001b[39m'\u001b[39m], metrics[\u001b[39m'\u001b[39m\u001b[39mrewards\u001b[39m\u001b[39m'\u001b[39m], metrics[\u001b[39m'\u001b[39m\u001b[39mtotal_rewards\u001b[39m\u001b[39m'\u001b[39m], metrics[\u001b[39m'\u001b[39m\u001b[39mepsilon_decay\u001b[39m\u001b[39m'\u001b[39m] \u001b[39m=\u001b[39m [], [], [], [], []\n\u001b[0;32m     <a href='vscode-notebook-cell:/d%3A/Files/RL%20Playground/PA2/CartPole.ipynb#ch0000007?line=9'>10</a>\u001b[0m CP \u001b[39m=\u001b[39m DQN()\n\u001b[1;32m---> <a href='vscode-notebook-cell:/d%3A/Files/RL%20Playground/PA2/CartPole.ipynb#ch0000007?line=10'>11</a>\u001b[0m CP\u001b[39m.\u001b[39;49mtrain()\n\u001b[0;32m     <a href='vscode-notebook-cell:/d%3A/Files/RL%20Playground/PA2/CartPole.ipynb#ch0000007?line=14'>15</a>\u001b[0m plt\u001b[39m.\u001b[39mplot(metrics[\u001b[39m'\u001b[39m\u001b[39mtotal_rewards\u001b[39m\u001b[39m'\u001b[39m])\n\u001b[0;32m     <a href='vscode-notebook-cell:/d%3A/Files/RL%20Playground/PA2/CartPole.ipynb#ch0000007?line=15'>16</a>\u001b[0m plt\u001b[39m.\u001b[39mfigtext(\u001b[39m0.5\u001b[39m, \u001b[39m0.01\u001b[39m, \u001b[39m\"\u001b[39m\u001b[39mTotal Rewards per episode\u001b[39m\u001b[39m\"\u001b[39m, wrap\u001b[39m=\u001b[39m\u001b[39mTrue\u001b[39;00m, horizontalalignment\u001b[39m=\u001b[39m\u001b[39m'\u001b[39m\u001b[39mcenter\u001b[39m\u001b[39m'\u001b[39m, fontsize\u001b[39m=\u001b[39m\u001b[39m12\u001b[39m)\n",
            "\u001b[1;32md:\\Files\\RL Playground\\PA2\\CartPole.ipynb Cell 6'\u001b[0m in \u001b[0;36mDQN.train\u001b[1;34m(self)\u001b[0m\n\u001b[0;32m     <a href='vscode-notebook-cell:/d%3A/Files/RL%20Playground/PA2/CartPole.ipynb#ch0000005?line=73'>74</a>\u001b[0m \u001b[39mif\u001b[39;00m \u001b[39mlen\u001b[39m(\u001b[39mself\u001b[39m\u001b[39m.\u001b[39mD) \u001b[39m>\u001b[39m hyper_parameters[\u001b[39m'\u001b[39m\u001b[39mbatch_size\u001b[39m\u001b[39m'\u001b[39m]:\n\u001b[0;32m     <a href='vscode-notebook-cell:/d%3A/Files/RL%20Playground/PA2/CartPole.ipynb#ch0000005?line=74'>75</a>\u001b[0m   minibatch \u001b[39m=\u001b[39m random\u001b[39m.\u001b[39msample(\u001b[39mself\u001b[39m\u001b[39m.\u001b[39mD, hyper_parameters[\u001b[39m'\u001b[39m\u001b[39mbatch_size\u001b[39m\u001b[39m'\u001b[39m])\n\u001b[1;32m---> <a href='vscode-notebook-cell:/d%3A/Files/RL%20Playground/PA2/CartPole.ipynb#ch0000005?line=75'>76</a>\u001b[0m   \u001b[39mself\u001b[39;49m\u001b[39m.\u001b[39;49mupdate_nn(minibatch)\n\u001b[0;32m     <a href='vscode-notebook-cell:/d%3A/Files/RL%20Playground/PA2/CartPole.ipynb#ch0000005?line=76'>77</a>\u001b[0m   \u001b[39mif\u001b[39;00m hyper_parameters[\u001b[39m'\u001b[39m\u001b[39mepsilon\u001b[39m\u001b[39m'\u001b[39m] \u001b[39m>\u001b[39m hyper_parameters[\u001b[39m'\u001b[39m\u001b[39mepsilon_min\u001b[39m\u001b[39m'\u001b[39m]:\n\u001b[0;32m     <a href='vscode-notebook-cell:/d%3A/Files/RL%20Playground/PA2/CartPole.ipynb#ch0000005?line=77'>78</a>\u001b[0m     hyper_parameters[\u001b[39m'\u001b[39m\u001b[39mepsilon\u001b[39m\u001b[39m'\u001b[39m] \u001b[39m*\u001b[39m\u001b[39m=\u001b[39m hyper_parameters[\u001b[39m'\u001b[39m\u001b[39mepsilon_decay\u001b[39m\u001b[39m'\u001b[39m]\n",
            "\u001b[1;32md:\\Files\\RL Playground\\PA2\\CartPole.ipynb Cell 6'\u001b[0m in \u001b[0;36mDQN.update_nn\u001b[1;34m(self, minibatch)\u001b[0m\n\u001b[0;32m     <a href='vscode-notebook-cell:/d%3A/Files/RL%20Playground/PA2/CartPole.ipynb#ch0000005?line=34'>35</a>\u001b[0m loss \u001b[39m=\u001b[39m \u001b[39mself\u001b[39m\u001b[39m.\u001b[39mloss_func(predicted_value, target_value)\n\u001b[0;32m     <a href='vscode-notebook-cell:/d%3A/Files/RL%20Playground/PA2/CartPole.ipynb#ch0000005?line=36'>37</a>\u001b[0m \u001b[39mself\u001b[39m\u001b[39m.\u001b[39moptimizer\u001b[39m.\u001b[39mzero_grad()\n\u001b[1;32m---> <a href='vscode-notebook-cell:/d%3A/Files/RL%20Playground/PA2/CartPole.ipynb#ch0000005?line=37'>38</a>\u001b[0m loss\u001b[39m.\u001b[39;49mbackward()\n\u001b[0;32m     <a href='vscode-notebook-cell:/d%3A/Files/RL%20Playground/PA2/CartPole.ipynb#ch0000005?line=38'>39</a>\u001b[0m \u001b[39mself\u001b[39m\u001b[39m.\u001b[39moptimizer\u001b[39m.\u001b[39mstep()\n",
            "File \u001b[1;32m~\\AppData\\Local\\Programs\\Python\\Python39\\lib\\site-packages\\torch\\_tensor.py:363\u001b[0m, in \u001b[0;36mTensor.backward\u001b[1;34m(self, gradient, retain_graph, create_graph, inputs)\u001b[0m\n\u001b[0;32m    <a href='file:///c%3A/Users/Vedant/AppData/Local/Programs/Python/Python39/lib/site-packages/torch/_tensor.py?line=353'>354</a>\u001b[0m \u001b[39mif\u001b[39;00m has_torch_function_unary(\u001b[39mself\u001b[39m):\n\u001b[0;32m    <a href='file:///c%3A/Users/Vedant/AppData/Local/Programs/Python/Python39/lib/site-packages/torch/_tensor.py?line=354'>355</a>\u001b[0m     \u001b[39mreturn\u001b[39;00m handle_torch_function(\n\u001b[0;32m    <a href='file:///c%3A/Users/Vedant/AppData/Local/Programs/Python/Python39/lib/site-packages/torch/_tensor.py?line=355'>356</a>\u001b[0m         Tensor\u001b[39m.\u001b[39mbackward,\n\u001b[0;32m    <a href='file:///c%3A/Users/Vedant/AppData/Local/Programs/Python/Python39/lib/site-packages/torch/_tensor.py?line=356'>357</a>\u001b[0m         (\u001b[39mself\u001b[39m,),\n\u001b[1;32m   (...)\u001b[0m\n\u001b[0;32m    <a href='file:///c%3A/Users/Vedant/AppData/Local/Programs/Python/Python39/lib/site-packages/torch/_tensor.py?line=360'>361</a>\u001b[0m         create_graph\u001b[39m=\u001b[39mcreate_graph,\n\u001b[0;32m    <a href='file:///c%3A/Users/Vedant/AppData/Local/Programs/Python/Python39/lib/site-packages/torch/_tensor.py?line=361'>362</a>\u001b[0m         inputs\u001b[39m=\u001b[39minputs)\n\u001b[1;32m--> <a href='file:///c%3A/Users/Vedant/AppData/Local/Programs/Python/Python39/lib/site-packages/torch/_tensor.py?line=362'>363</a>\u001b[0m torch\u001b[39m.\u001b[39;49mautograd\u001b[39m.\u001b[39;49mbackward(\u001b[39mself\u001b[39;49m, gradient, retain_graph, create_graph, inputs\u001b[39m=\u001b[39;49minputs)\n",
            "File \u001b[1;32m~\\AppData\\Local\\Programs\\Python\\Python39\\lib\\site-packages\\torch\\autograd\\__init__.py:173\u001b[0m, in \u001b[0;36mbackward\u001b[1;34m(tensors, grad_tensors, retain_graph, create_graph, grad_variables, inputs)\u001b[0m\n\u001b[0;32m    <a href='file:///c%3A/Users/Vedant/AppData/Local/Programs/Python/Python39/lib/site-packages/torch/autograd/__init__.py?line=167'>168</a>\u001b[0m     retain_graph \u001b[39m=\u001b[39m create_graph\n\u001b[0;32m    <a href='file:///c%3A/Users/Vedant/AppData/Local/Programs/Python/Python39/lib/site-packages/torch/autograd/__init__.py?line=169'>170</a>\u001b[0m \u001b[39m# The reason we repeat same the comment below is that\u001b[39;00m\n\u001b[0;32m    <a href='file:///c%3A/Users/Vedant/AppData/Local/Programs/Python/Python39/lib/site-packages/torch/autograd/__init__.py?line=170'>171</a>\u001b[0m \u001b[39m# some Python versions print out the first line of a multi-line function\u001b[39;00m\n\u001b[0;32m    <a href='file:///c%3A/Users/Vedant/AppData/Local/Programs/Python/Python39/lib/site-packages/torch/autograd/__init__.py?line=171'>172</a>\u001b[0m \u001b[39m# calls in the traceback and some print out the last line\u001b[39;00m\n\u001b[1;32m--> <a href='file:///c%3A/Users/Vedant/AppData/Local/Programs/Python/Python39/lib/site-packages/torch/autograd/__init__.py?line=172'>173</a>\u001b[0m Variable\u001b[39m.\u001b[39;49m_execution_engine\u001b[39m.\u001b[39;49mrun_backward(  \u001b[39m# Calls into the C++ engine to run the backward pass\u001b[39;49;00m\n\u001b[0;32m    <a href='file:///c%3A/Users/Vedant/AppData/Local/Programs/Python/Python39/lib/site-packages/torch/autograd/__init__.py?line=173'>174</a>\u001b[0m     tensors, grad_tensors_, retain_graph, create_graph, inputs,\n\u001b[0;32m    <a href='file:///c%3A/Users/Vedant/AppData/Local/Programs/Python/Python39/lib/site-packages/torch/autograd/__init__.py?line=174'>175</a>\u001b[0m     allow_unreachable\u001b[39m=\u001b[39;49m\u001b[39mTrue\u001b[39;49;00m, accumulate_grad\u001b[39m=\u001b[39;49m\u001b[39mTrue\u001b[39;49;00m)\n",
            "\u001b[1;31mKeyboardInterrupt\u001b[0m: "
          ]
        }
      ],
      "source": [
        "\n",
        "# DQN\n",
        "%matplotlib inline\n",
        "# env = gym.make('CartPole-v1')\n",
        "\n",
        "\n",
        "number_of_episodes = 10000\n",
        "metrics = {}\n",
        "metrics['timesteps'], metrics['penalties'], metrics['rewards'], metrics['total_rewards'], metrics['epsilon_decay'] = [], [], [], [], []\n",
        "\n",
        "CP = DQN()\n",
        "CP.train()\n",
        "\n",
        "\n",
        "\n",
        "plt.plot(metrics['total_rewards'])\n",
        "plt.figtext(0.5, 0.01, \"Total Rewards per episode\", wrap=True, horizontalalignment='center', fontsize=12)\n",
        "plt.show()\n",
        "# plt.savefig('total_rewards.png')\n",
        "# plt.plot(metrics['penalties'])\n",
        "# plt.show()\n",
        "# plt.plot(metrics['timesteps'])\n",
        "# plt.show()\n",
        "plt.plot(metrics['epsilon_decay'])\n",
        "plt.figtext(0.5, 0.01, \"Epsilon Decay\", wrap=True, horizontalalignment='center', fontsize=12)\n",
        "# plt.savefig('eps_decay.png')\n",
        "\n",
        "plt.show()\n",
        "# k_det.execute(\"deterministic\")\n",
        "metrics_q_det = copy.deepcopy(metrics)\n",
        "PATH_1 = './CP_DQN.pth'\n",
        "torch.save(CP.policy_network.state_dict(), PATH_1)"
      ]
    },
    {
      "cell_type": "code",
      "execution_count": null,
      "metadata": {
        "colab": {
          "base_uri": "https://localhost:8080/",
          "height": 301
        },
        "id": "TnLMF7_h6q_s",
        "outputId": "92029894-ec6b-47e1-adc4-1db1c65d5f5b"
      },
      "outputs": [
        {
          "name": "stdout",
          "output_type": "stream",
          "text": [
            "Average reward : 500.0\n"
          ]
        },
        {
          "data": {
            "image/png": "[encoded data removed]",
            "text/plain": [
              "<Figure size 432x288 with 1 Axes>"
            ]
          },
          "metadata": {
            "needs_background": "light"
          },
          "output_type": "display_data"
        }
      ],
      "source": [
        "num_episodes = 10000\n",
        "env = gym.make('CartPole-v1')\n",
        "# env = wrappers.Monitor(env, \"./gym-results\", force=True)\n",
        "metrics['rewards_evaluation'] = []\n",
        "\n",
        "for episodes in range(num_episodes):\n",
        "    step_count = 0\n",
        "    state = env.reset()\n",
        "    done = False\n",
        "    while not done:\n",
        "        action = CP.get_action(state)\n",
        "        state, reward, done, _ = env.step(action)\n",
        "        if done:\n",
        "            reward = 0\n",
        "        # print(action,step_count)\n",
        "#                 env.render()\n",
        "        step_count += 1\n",
        "    # print(step_count)\n",
        "    # print(\"---------------end-----------------\")\n",
        "    metrics['rewards_evaluation'].append(step_count)\n",
        "print(\"Average reward : {}\".format(sum(metrics['rewards_evaluation'])/len(metrics['rewards_evaluation'])))\n",
        "plt.plot(metrics['rewards_evaluation'])\n",
        "plt.figtext(0.5, 0.01, \"Total Rewards per episode\", wrap=True, horizontalalignment='center', fontsize=12)\n",
        "plt.show()"
      ]
    },
    {
      "cell_type": "code",
      "execution_count": null,
      "metadata": {
        "id": "O1IVFCqH-CrJ"
      },
      "outputs": [],
      "source": [
        "import torch.nn.functional as F\n",
        "class Net_DD(nn.Module):\n",
        "    def __init__(self , input_dim, output_dim):\n",
        "        super().__init__()\n",
        "        self.fc1 = nn.Linear(input_dim,24)\n",
        "        self.fc2 = nn.Linear(24,output_dim)\n",
        "\n",
        "    def forward(self, x):\n",
        "        output = F.relu(self.fc1(x))\n",
        "        output = self.fc2(output)\n",
        "        return output"
      ]
    },
    {
      "cell_type": "code",
      "execution_count": null,
      "metadata": {
        "id": "_923O2WjmCPJ"
      },
      "outputs": [],
      "source": [
        "\n",
        "class DDQN(object):\n",
        "    def __init__(self):\n",
        "        self.policy_network = Net(num_states,len(action_space))\n",
        "        self.target_network = Net(num_states,len(action_space))\n",
        "        self.target_network.load_state_dict(self.policy_network.state_dict())\n",
        "        self.target_network.eval()\n",
        "        self.D = []\n",
        "        self.D_length = hyper_parameters['replay_length']\n",
        "        self.optimizer = optim.Adam(params=self.policy_network.parameters() , lr=hyper_parameters['learning_rate'])\n",
        "        self.loss_func = torch.nn.MSELoss()\n",
        "    def get_action(self,state):\n",
        "      \n",
        "        with torch.no_grad():\n",
        "            state = torch.Tensor(state)\n",
        "            q_values = self.policy_network(state)\n",
        "            action = torch.max(q_values,0)[1]\n",
        "    \n",
        "        return action.item()\n",
        "  \n",
        "    def update_nn(self, minibatch):#state, action, next_state, reward, done):\n",
        "        for state, action, next_state, reward, done in minibatch:\n",
        "          state = torch.Tensor(state)\n",
        "          next_state = torch.Tensor(next_state)\n",
        "      \n",
        "          reward = torch.Tensor([reward])\n",
        "          next_state_values = self.policy_network(next_state).detach()\n",
        "          targetp = torch.max(next_state_values)\n",
        "          if done:\n",
        "              target_value = reward\n",
        "          else:\n",
        "              target = self.target_network(state)[action].view(-1)\n",
        "\n",
        "              \n",
        "\n",
        "              target_value = reward + hyper_parameters['discount_factor'] * targetp\n",
        "\n",
        "          predicted_value = self.policy_network(state)[action].view(-1)\n",
        "\n",
        "          loss = self.loss_func(predicted_value, target_value)\n",
        "\n",
        "          self.optimizer.zero_grad()\n",
        "          loss.backward()\n",
        "          self.optimizer.step()\n",
        "    \n",
        "    def train(self):\n",
        "      steps_total = []\n",
        "      for episode in range(number_of_episodes):\n",
        "        state = env.reset()\n",
        "        step = 0\n",
        "\n",
        "        if episode % hyper_parameters[\"target_update\"] == 0:\n",
        "          TAU = 0.5\n",
        "          target_params = self.target_network.named_parameters()\n",
        "          upd_params = dict(target_params)\n",
        "          for model_name, model_param in self.policy_network.named_parameters():\n",
        "              if model_name in target_params:\n",
        "                  # Update parameter\n",
        "                  upd_params[model_name].data.copy_((TAU)*model_param.data + (1-TAU)*target_params[model_param].data)\n",
        "          \n",
        "          self.target_network.load_state_dict(upd_params)\n",
        "          self.target_network.eval()\n",
        "        \n",
        "        batch = []\n",
        "        done = False\n",
        "        while not done:\n",
        "            step += 1\n",
        "          \n",
        "          \n",
        "\n",
        "            if random.random() > hyper_parameters['epsilon']:\n",
        "              action = self.get_action(state)\n",
        "            else:\n",
        "              action = env.action_space.sample()\n",
        "              \n",
        "            next_state, reward, done, info = env.step(action)\n",
        "\n",
        "            \n",
        "            # batch.append([state, action, next_state, reward, done])\n",
        "            if len(self.D) >= self.D_length:\n",
        "              self.D.pop(0)\n",
        "            \n",
        "            self.D.append([state, action, next_state, reward, done])\n",
        "\n",
        "            \n",
        "            if step%10==0:\n",
        "              if len(self.D) > hyper_parameters['batch_size']:\n",
        "                minibatch = random.sample(self.D, hyper_parameters['batch_size'])\n",
        "                self.update_nn(minibatch)\n",
        "                if hyper_parameters['epsilon'] > hyper_parameters['epsilon_min']:\n",
        "                  hyper_parameters['epsilon'] *= hyper_parameters['epsilon_decay']\n",
        "            # batch = []\n",
        "            state = next_state\n",
        "\n",
        "            if done:\n",
        "                metrics['total_rewards'].append(step)\n",
        "                metrics['epsilon_decay'].append(hyper_parameters['epsilon'])\n",
        "                print(\"Episode : {} \\t Reward : {} \\t Epsilon : {}\", episode, step, hyper_parameters['epsilon'])\n",
        "                break\n",
        "            \n",
        "        count = 0\n",
        "        for score in metrics['total_rewards'][-20:]:\n",
        "          if score > 475:\n",
        "            count += 1\n",
        "                  \n",
        "        if count > 10:\n",
        "          break\n",
        "\n",
        "    def execute(self,num_episodes):\n",
        "        # env = gym.make('CartPole-v1')\n",
        "        env = wrappers.Monitor(env, \"./gym-results\", force=True)\n",
        "        metrics['rewards_evaluation'] = []\n",
        "\n",
        "        for episodes in range(num_episodes):\n",
        "            step_count = 0\n",
        "            state = env.reset()\n",
        "            done = False\n",
        "            while not done:\n",
        "                action = self.get_action(state)\n",
        "                state, reward, done, _ = env.step(action)\n",
        "                if done:\n",
        "                    reward = 0\n",
        "                print(action,step_count)\n",
        "#                 env.render()\n",
        "                step_count += 1\n",
        "            print(step_count)\n",
        "            print(\"---------------end-----------------\")\n",
        "            metrics['rewards_evaluation'].append(step_count)\n",
        "        print(\"Average reward : {}\".format(sum(metrics['rewards_evaluation'])/len(metrics['rewards_evaluation'])))"
      ]
    },
    {
      "cell_type": "code",
      "execution_count": null,
      "metadata": {
        "id": "Cclv-NDPnAuF"
      },
      "outputs": [],
      "source": []
    },
    {
      "cell_type": "code",
      "execution_count": null,
      "metadata": {
        "colab": {
          "base_uri": "https://localhost:8080/",
          "height": 1000
        },
        "id": "1DsZh8J5nBGS",
        "outputId": "339d745c-ef9f-4735-d8ac-70b24f808189"
      },
      "outputs": [
        {
          "name": "stdout",
          "output_type": "stream",
          "text": [
            "Episode : {} \t Reward : {} \t Epsilon : {} 0 13 0.9\n",
            "Episode : {} \t Reward : {} \t Epsilon : {} 1 15 0.9\n",
            "Episode : {} \t Reward : {} \t Epsilon : {} 2 34 0.8732691\n",
            "Episode : {} \t Reward : {} \t Epsilon : {} 3 44 0.8388588131162911\n",
            "Episode : {} \t Reward : {} \t Epsilon : {} 4 10 0.8304702249851281\n",
            "Episode : {} \t Reward : {} \t Epsilon : {} 5 44 0.7977463845445164\n",
            "Episode : {} \t Reward : {} \t Epsilon : {} 6 11 0.7897689206990712\n",
            "Episode : {} \t Reward : {} \t Epsilon : {} 7 14 0.7818712314920805\n",
            "Episode : {} \t Reward : {} \t Epsilon : {} 8 24 0.7663119939853881\n",
            "Episode : {} \t Reward : {} \t Epsilon : {} 9 36 0.7435517614520281\n",
            "Episode : {} \t Reward : {} \t Epsilon : {} 10 18 0.7361162438375077\n",
            "Episode : {} \t Reward : {} \t Epsilon : {} 11 12 0.7287550813991327\n",
            "Episode : {} \t Reward : {} \t Epsilon : {} 12 18 0.7214675305851413\n",
            "Episode : {} \t Reward : {} \t Epsilon : {} 13 18 0.7142528552792899\n",
            "Episode : {} \t Reward : {} \t Epsilon : {} 14 40 0.6861084429123933\n",
            "Episode : {} \t Reward : {} \t Epsilon : {} 15 103 0.6205041772821701\n",
            "Episode : {} \t Reward : {} \t Epsilon : {} 16 159 0.5336698017613496\n",
            "Episode : {} \t Reward : {} \t Epsilon : {} 17 33 0.5178192749792357\n",
            "Episode : {} \t Reward : {} \t Epsilon : {} 18 30 0.5024395246930774\n",
            "Episode : {} \t Reward : {} \t Epsilon : {} 19 14 0.49741512944614663\n",
            "Episode : {} \t Reward : {} \t Epsilon : {} 20 23 0.48751656837016827\n",
            "Episode : {} \t Reward : {} \t Epsilon : {} 21 23 0.4778149886596019\n",
            "Episode : {} \t Reward : {} \t Epsilon : {} 22 13 0.4730368387730059\n",
            "Episode : {} \t Reward : {} \t Epsilon : {} 23 15 0.46830647038527584\n",
            "Episode : {} \t Reward : {} \t Epsilon : {} 24 38 0.45439729990836275\n",
            "Episode : {} \t Reward : {} \t Epsilon : {} 25 55 0.43212731091427914\n",
            "Episode : {} \t Reward : {} \t Epsilon : {} 26 116 0.3869001121715043\n",
            "Episode : {} \t Reward : {} \t Epsilon : {} 27 24 0.3792007999392913\n",
            "Episode : {} \t Reward : {} \t Epsilon : {} 28 58 0.3606161876563865\n",
            "Episode : {} \t Reward : {} \t Epsilon : {} 29 220 0.2890809671083123\n",
            "Episode : {} \t Reward : {} \t Epsilon : {} 30 20 0.2833282558628569\n",
            "Episode : {} \t Reward : {} \t Epsilon : {} 31 67 0.26674792865928726\n",
            "Episode : {} \t Reward : {} \t Epsilon : {} 32 22 0.2614396448789674\n",
            "Episode : {} \t Reward : {} \t Epsilon : {} 33 12 0.25882524843017773\n",
            "Episode : {} \t Reward : {} \t Epsilon : {} 34 45 0.2486265009292875\n",
            "Episode : {} \t Reward : {} \t Epsilon : {} 35 10 0.24614023591999462\n",
            "Episode : {} \t Reward : {} \t Epsilon : {} 36 13 0.24367883356079467\n",
            "Episode : {} \t Reward : {} \t Epsilon : {} 37 72 0.22712459678041158\n",
            "Episode : {} \t Reward : {} \t Epsilon : {} 38 107 0.20540741412180666\n",
            "Episode : {} \t Reward : {} \t Epsilon : {} 39 18 0.20335333998058858\n",
            "Episode : {} \t Reward : {} \t Epsilon : {} 40 13 0.2013198065807827\n",
            "Episode : {} \t Reward : {} \t Epsilon : {} 41 21 0.1973135424298251\n",
            "Episode : {} \t Reward : {} \t Epsilon : {} 42 18 0.19534040700552685\n",
            "Episode : {} \t Reward : {} \t Epsilon : {} 43 11 0.1933870029354716\n",
            "Episode : {} \t Reward : {} \t Epsilon : {} 44 81 0.178446830930023\n",
            "Episode : {} \t Reward : {} \t Epsilon : {} 45 132 0.15659084562863765\n",
            "Episode : {} \t Reward : {} \t Epsilon : {} 46 99 0.14304843827980876\n",
            "Episode : {} \t Reward : {} \t Epsilon : {} 47 103 0.12937044343826234\n",
            "Episode : {} \t Reward : {} \t Epsilon : {} 48 82 0.1193758902984439\n",
            "Episode : {} \t Reward : {} \t Epsilon : {} 49 53 0.11352528387177409\n",
            "Episode : {} \t Reward : {} \t Epsilon : {} 50 56 0.1079614153741301\n",
            "Episode : {} \t Reward : {} \t Epsilon : {} 51 45 0.10370730484234203\n",
            "Episode : {} \t Reward : {} \t Epsilon : {} 52 87 0.09569536531669004\n",
            "Episode : {} \t Reward : {} \t Epsilon : {} 53 65 0.0900952868353406\n",
            "Episode : {} \t Reward : {} \t Epsilon : {} 54 108 0.08148056245665873\n",
            "Episode : {} \t Reward : {} \t Epsilon : {} 55 69 0.07671233211497255\n",
            "Episode : {} \t Reward : {} \t Epsilon : {} 56 335 0.055058782985734994\n",
            "Episode : {} \t Reward : {} \t Epsilon : {} 57 135 0.04831523957072034\n",
            "Episode : {} \t Reward : {} \t Epsilon : {} 58 434 0.0313615489956036\n",
            "Episode : {} \t Reward : {} \t Epsilon : {} 59 27 0.03073745417059109\n",
            "Episode : {} \t Reward : {} \t Epsilon : {} 60 13 0.03043007962888518\n",
            "Episode : {} \t Reward : {} \t Epsilon : {} 61 35 0.02952627583382766\n",
            "Episode : {} \t Reward : {} \t Epsilon : {} 62 181 0.024640083507700344\n",
            "Episode : {} \t Reward : {} \t Epsilon : {} 63 334 0.019951762291483984\n",
            "Episode : {} \t Reward : {} \t Epsilon : {} 64 260 0.019951762291483984\n",
            "Episode : {} \t Reward : {} \t Epsilon : {} 65 381 0.019951762291483984\n",
            "Episode : {} \t Reward : {} \t Epsilon : {} 66 359 0.019951762291483984\n",
            "Episode : {} \t Reward : {} \t Epsilon : {} 67 232 0.019951762291483984\n",
            "Episode : {} \t Reward : {} \t Epsilon : {} 68 169 0.019951762291483984\n",
            "Episode : {} \t Reward : {} \t Epsilon : {} 69 42 0.019951762291483984\n",
            "Episode : {} \t Reward : {} \t Epsilon : {} 70 466 0.019951762291483984\n",
            "Episode : {} \t Reward : {} \t Epsilon : {} 71 154 0.019951762291483984\n",
            "Episode : {} \t Reward : {} \t Epsilon : {} 72 500 0.019951762291483984\n",
            "Episode : {} \t Reward : {} \t Epsilon : {} 73 301 0.019951762291483984\n",
            "Episode : {} \t Reward : {} \t Epsilon : {} 74 310 0.019951762291483984\n",
            "Episode : {} \t Reward : {} \t Epsilon : {} 75 63 0.019951762291483984\n",
            "Episode : {} \t Reward : {} \t Epsilon : {} 76 144 0.019951762291483984\n",
            "Episode : {} \t Reward : {} \t Epsilon : {} 77 478 0.019951762291483984\n",
            "Episode : {} \t Reward : {} \t Epsilon : {} 78 500 0.019951762291483984\n",
            "Episode : {} \t Reward : {} \t Epsilon : {} 79 500 0.019951762291483984\n",
            "Episode : {} \t Reward : {} \t Epsilon : {} 80 233 0.019951762291483984\n",
            "Episode : {} \t Reward : {} \t Epsilon : {} 81 229 0.019951762291483984\n",
            "Episode : {} \t Reward : {} \t Epsilon : {} 82 253 0.019951762291483984\n",
            "Episode : {} \t Reward : {} \t Epsilon : {} 83 187 0.019951762291483984\n",
            "Episode : {} \t Reward : {} \t Epsilon : {} 84 215 0.019951762291483984\n",
            "Episode : {} \t Reward : {} \t Epsilon : {} 85 179 0.019951762291483984\n",
            "Episode : {} \t Reward : {} \t Epsilon : {} 86 204 0.019951762291483984\n",
            "Episode : {} \t Reward : {} \t Epsilon : {} 87 180 0.019951762291483984\n",
            "Episode : {} \t Reward : {} \t Epsilon : {} 88 135 0.019951762291483984\n",
            "Episode : {} \t Reward : {} \t Epsilon : {} 89 96 0.019951762291483984\n",
            "Episode : {} \t Reward : {} \t Epsilon : {} 90 169 0.019951762291483984\n",
            "Episode : {} \t Reward : {} \t Epsilon : {} 91 103 0.019951762291483984\n",
            "Episode : {} \t Reward : {} \t Epsilon : {} 92 196 0.019951762291483984\n",
            "Episode : {} \t Reward : {} \t Epsilon : {} 93 29 0.019951762291483984\n",
            "Episode : {} \t Reward : {} \t Epsilon : {} 94 10 0.019951762291483984\n",
            "Episode : {} \t Reward : {} \t Epsilon : {} 95 150 0.019951762291483984\n",
            "Episode : {} \t Reward : {} \t Epsilon : {} 96 189 0.019951762291483984\n",
            "Episode : {} \t Reward : {} \t Epsilon : {} 97 223 0.019951762291483984\n",
            "Episode : {} \t Reward : {} \t Epsilon : {} 98 148 0.019951762291483984\n",
            "Episode : {} \t Reward : {} \t Epsilon : {} 99 128 0.019951762291483984\n",
            "Episode : {} \t Reward : {} \t Epsilon : {} 100 85 0.019951762291483984\n",
            "Episode : {} \t Reward : {} \t Epsilon : {} 101 297 0.019951762291483984\n",
            "Episode : {} \t Reward : {} \t Epsilon : {} 102 500 0.019951762291483984\n",
            "Episode : {} \t Reward : {} \t Epsilon : {} 103 500 0.019951762291483984\n",
            "Episode : {} \t Reward : {} \t Epsilon : {} 104 500 0.019951762291483984\n",
            "Episode : {} \t Reward : {} \t Epsilon : {} 105 500 0.019951762291483984\n",
            "Episode : {} \t Reward : {} \t Epsilon : {} 106 500 0.019951762291483984\n",
            "Episode : {} \t Reward : {} \t Epsilon : {} 107 30 0.019951762291483984\n",
            "Episode : {} \t Reward : {} \t Epsilon : {} 108 432 0.019951762291483984\n",
            "Episode : {} \t Reward : {} \t Epsilon : {} 109 362 0.019951762291483984\n",
            "Episode : {} \t Reward : {} \t Epsilon : {} 110 275 0.019951762291483984\n",
            "Episode : {} \t Reward : {} \t Epsilon : {} 111 33 0.019951762291483984\n",
            "Episode : {} \t Reward : {} \t Epsilon : {} 112 41 0.019951762291483984\n",
            "Episode : {} \t Reward : {} \t Epsilon : {} 113 500 0.019951762291483984\n",
            "Episode : {} \t Reward : {} \t Epsilon : {} 114 500 0.019951762291483984\n",
            "Episode : {} \t Reward : {} \t Epsilon : {} 115 500 0.019951762291483984\n",
            "Episode : {} \t Reward : {} \t Epsilon : {} 116 205 0.019951762291483984\n",
            "Episode : {} \t Reward : {} \t Epsilon : {} 117 500 0.019951762291483984\n",
            "Episode : {} \t Reward : {} \t Epsilon : {} 118 500 0.019951762291483984\n",
            "Episode : {} \t Reward : {} \t Epsilon : {} 119 100 0.019951762291483984\n",
            "Episode : {} \t Reward : {} \t Epsilon : {} 120 469 0.019951762291483984\n",
            "Episode : {} \t Reward : {} \t Epsilon : {} 121 182 0.019951762291483984\n",
            "Episode : {} \t Reward : {} \t Epsilon : {} 122 500 0.019951762291483984\n",
            "Episode : {} \t Reward : {} \t Epsilon : {} 123 500 0.019951762291483984\n",
            "Episode : {} \t Reward : {} \t Epsilon : {} 124 500 0.019951762291483984\n",
            "Episode : {} \t Reward : {} \t Epsilon : {} 125 76 0.019951762291483984\n",
            "Episode : {} \t Reward : {} \t Epsilon : {} 126 500 0.019951762291483984\n",
            "Episode : {} \t Reward : {} \t Epsilon : {} 127 500 0.019951762291483984\n",
            "Episode : {} \t Reward : {} \t Epsilon : {} 128 500 0.019951762291483984\n"
          ]
        },
        {
          "data": {
            "image/png": "[encoded data removed]",
            "text/plain": [
              "<Figure size 432x288 with 1 Axes>"
            ]
          },
          "metadata": {
            "needs_background": "light"
          },
          "output_type": "display_data"
        },
        {
          "data": {
            "image/png": "[encoded data removed]",
            "text/plain": [
              "<Figure size 432x288 with 1 Axes>"
            ]
          },
          "metadata": {
            "needs_background": "light"
          },
          "output_type": "display_data"
        }
      ],
      "source": [
        "env = gym.make('CartPole-v1')\n",
        "\n",
        "action_space=[0,1]\n",
        "num_states = env.observation_space.shape[0]\n",
        "seed = 30\n",
        "env.seed(seed)\n",
        "torch.manual_seed(seed)\n",
        "\n",
        "# Hyper - Parameters\n",
        "\n",
        "NUMBER_OF_EPISODES = 500\n",
        "hyper_parameters = {}\n",
        "hyper_parameters['learning_rate'] = 0.01\n",
        "hyper_parameters['max_timesteps'] = 500\n",
        "hyper_parameters['epsilon'] = 0.9\n",
        "hyper_parameters['epsilon_decay'] = 0.99\n",
        "hyper_parameters['epsilon_min'] = 0.02\n",
        "hyper_parameters['discount_factor'] = 0.995\n",
        "hyper_parameters['replay_length'] = 64\n",
        "hyper_parameters['batch_size'] = 32\n",
        "hyper_parameters['target_update'] = 10\n",
        "# DQN\n",
        "%matplotlib inline\n",
        "# env = gym.make('CartPole-v1')\n",
        "\n",
        "\n",
        "number_of_episodes = 500\n",
        "metrics = {}\n",
        "metrics['timesteps'], metrics['penalties'], metrics['rewards'], metrics['total_rewards'], metrics['epsilon_decay'] = [], [], [], [], []\n",
        "\n",
        "CP_Double = DDQN()\n",
        "CP_Double.train()\n",
        "\n",
        "\n",
        "\n",
        "plt.plot(metrics['total_rewards'])\n",
        "plt.figtext(0.5, 0.01, \"Total Rewards per episode\", wrap=True, horizontalalignment='center', fontsize=12)\n",
        "plt.show()\n",
        "plt.savefig('total_rewards.png')\n",
        "# plt.plot(metrics['penalties'])\n",
        "# plt.show()\n",
        "# plt.plot(metrics['timesteps'])\n",
        "# plt.show()\n",
        "plt.plot(metrics['epsilon_decay'])\n",
        "plt.figtext(0.5, 0.01, \"Epsilon Decay\", wrap=True, horizontalalignment='center', fontsize=12)\n",
        "plt.savefig('eps_decay.png')\n",
        "\n",
        "plt.show()\n",
        "# k_det.execute(\"deterministic\")\n",
        "metrics_DDQN = copy.deepcopy(metrics)"
      ]
    },
    {
      "cell_type": "code",
      "execution_count": null,
      "metadata": {
        "colab": {
          "base_uri": "https://localhost:8080/",
          "height": 301
        },
        "id": "0wzAZsxWTB9f",
        "outputId": "883dd436-e28d-41de-dc2d-6e6e0a45215e"
      },
      "outputs": [
        {
          "name": "stdout",
          "output_type": "stream",
          "text": [
            "Average reward : 500.0\n"
          ]
        },
        {
          "data": {
            "image/png": "[encoded data removed]",
            "text/plain": [
              "<Figure size 432x288 with 1 Axes>"
            ]
          },
          "metadata": {
            "needs_background": "light"
          },
          "output_type": "display_data"
        }
      ],
      "source": [
        "num_episodes = 100\n",
        "env = gym.make('CartPole-v1')\n",
        "# env = wrappers.Monitor(env, \"./gym-results\", force=True)\n",
        "metrics['rewards_evaluation'] = []\n",
        "\n",
        "for episodes in range(num_episodes):\n",
        "    step_count = 0\n",
        "    state = env.reset()\n",
        "    done = False\n",
        "    while not done:\n",
        "        action = CP_Double.get_action(state)\n",
        "        state, reward, done, _ = env.step(action)\n",
        "        if done:\n",
        "            reward = 0\n",
        "        # print(action,step_count)\n",
        "#                 env.render()\n",
        "        step_count += 1\n",
        "    # print(step_count)\n",
        "    # print(\"---------------end-----------------\")\n",
        "    metrics['rewards_evaluation'].append(step_count)\n",
        "print(\"Average reward : {}\".format(sum(metrics['rewards_evaluation'])/len(metrics['rewards_evaluation'])))\n",
        "plt.plot(metrics['rewards_evaluation'])\n",
        "plt.figtext(0.5, 0.01, \"Total Rewards per episode\", wrap=True, horizontalalignment='center', fontsize=12)\n",
        "plt.show()"
      ]
    },
    {
      "cell_type": "code",
      "execution_count": null,
      "metadata": {
        "colab": {
          "base_uri": "https://localhost:8080/",
          "height": 284
        },
        "id": "wJAIZjaEnpe0",
        "outputId": "2b5859a8-b54e-460d-ab8d-5c60abb09c85"
      },
      "outputs": [
        {
          "data": {
            "image/png": "[encoded data removed]",
            "text/plain": [
              "<Figure size 432x288 with 1 Axes>"
            ]
          },
          "metadata": {
            "needs_background": "light"
          },
          "output_type": "display_data"
        }
      ],
      "source": [
        "plt.plot(metrics_q_det['total_rewards'])\n",
        "plt.plot(metrics_DDQN['total_rewards'])\n",
        "\n",
        "\n",
        "plt.figtext(0.5, 0.01, \"Comparison Rewards per episode DQN vs DDQN\", wrap=True, horizontalalignment='center', fontsize=12)\n",
        "plt.show()"
      ]
    },
    {
      "cell_type": "code",
      "execution_count": null,
      "metadata": {
        "id": "NXR1V6R9OUP7"
      },
      "outputs": [],
      "source": []
    },
    {
      "cell_type": "code",
      "execution_count": null,
      "metadata": {
        "id": "Sk02Fq9lSApX"
      },
      "outputs": [],
      "source": []
    }
  ],
  "metadata": {
    "colab": {
      "name": "CartPole.ipynb",
      "provenance": []
    },
    "kernelspec": {
      "display_name": "Python 3",
      "name": "python3"
    },
    "language_info": {
      "codemirror_mode": {
        "name": "ipython",
        "version": 3
      },
      "file_extension": ".py",
      "mimetype": "text/x-python",
      "name": "python",
      "nbconvert_exporter": "python",
      "pygments_lexer": "ipython3",
      "version": "3.9.2"
    }
  },
  "nbformat": 4,
  "nbformat_minor": 0
}
