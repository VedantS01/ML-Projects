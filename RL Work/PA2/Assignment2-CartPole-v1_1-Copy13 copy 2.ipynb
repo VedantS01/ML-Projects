{
 "cells": [
  {
   "cell_type": "markdown",
   "metadata": {
    "id": "pn7PKu9r0asK"
   },
   "source": [
    "#**Tutorial 4 - DQN and Actor-Critic**\n",
    "\n",
    "Please follow this tutorial to understand the structure (code) of DQNs & get familiar with Actor Critic methods.\n",
    "\n",
    "\n",
    "### References:\n",
    "\n",
    "Please follow [Human-level control through deep reinforcement learning](https://www.nature.com/articles/nature14236) for the original publication as well as the psuedocode. Watch Prof. Ravi's lectures on moodle or nptel for further understanding the core concepts. Contact the TAs for further resources if needed. \n",
    "\n",
    "\n",
    "##**Part 1: DQN**"
   ]
  },
  {
   "cell_type": "code",
   "execution_count": 1,
   "metadata": {
    "id": "P_DODRgW_ZKS"
   },
   "outputs": [],
   "source": [
    "'''\n",
    "A bunch of imports, you don't have to worry about these\n",
    "'''\n",
    "\n",
    "import numpy as np\n",
    "import random\n",
    "import torch\n",
    "import torch.nn as nn  \n",
    "import torch.nn.functional as F\n",
    "from collections import namedtuple, deque\n",
    "import torch.optim as optim\n",
    "import datetime\n",
    "import gym\n",
    "import matplotlib.pyplot as plt"
   ]
  },
  {
   "cell_type": "code",
   "execution_count": 2,
   "metadata": {
    "colab": {
     "base_uri": "https://localhost:8080/"
    },
    "id": "fYNA5kiH_esJ",
    "outputId": "d623e007-d532-4162-d93b-6023b34c80ba"
   },
   "outputs": [
    {
     "name": "stdout",
     "output_type": "stream",
     "text": [
      "6\n",
      "3\n",
      "1\n",
      "----\n",
      "[ 0.99962485  0.02738891  0.9989402  -0.04602639 -0.09180529 -0.09669447]\n",
      "----\n",
      "0\n",
      "----\n",
      "[ 0.9998245   0.01873245  0.995746   -0.09214022  0.00529764 -0.3585254 ]\n",
      "-1.0\n",
      "False\n",
      "{}\n",
      "----\n"
     ]
    }
   ],
   "source": [
    "'''\n",
    "Please refer to the first tutorial for more details on the specifics of environments\n",
    "We've only added important commands you might find useful for experiments.\n",
    "'''\n",
    "\n",
    "'''\n",
    "List of example environments\n",
    "(Source - https://gym.openai.com/envs/#classic_control)\n",
    "\n",
    "'Acrobot-v1'\n",
    "'CartPole-v0'\n",
    "'MountainCar-v0'\n",
    "'''\n",
    "\n",
    "env = gym.make('Acrobot-v1')\n",
    "env.seed(0)\n",
    "\n",
    "state_shape = env.observation_space.shape[0]\n",
    "no_of_actions = env.action_space.n\n",
    "\n",
    "print(state_shape)\n",
    "print(no_of_actions)\n",
    "print(env.action_space.sample())\n",
    "print(\"----\")\n",
    "\n",
    "'''\n",
    "# Understanding State, Action, Reward Dynamics\n",
    "\n",
    "The agent decides an action to take depending on the state.\n",
    "\n",
    "The Environment keeps a variable specifically for the current state.\n",
    "- Everytime an action is passed to the environment, it calculates the new state and updates the current state variable.\n",
    "- It returns the new current state and reward for the agent to take the next action\n",
    "\n",
    "'''\n",
    "\n",
    "state = env.reset()   \n",
    "''' This returns the initial state (when environment is reset) '''\n",
    "\n",
    "print(state)\n",
    "print(\"----\")\n",
    "\n",
    "action = env.action_space.sample()  \n",
    "''' We take a random action now '''\n",
    "\n",
    "print(action)\n",
    "print(\"----\")\n",
    "\n",
    "next_state, reward, done, info = env.step(action) \n",
    "''' env.step is used to calculate new state and obtain reward based on old state and action taken  ''' \n",
    "\n",
    "print(next_state)\n",
    "print(reward)\n",
    "print(done)\n",
    "print(info)\n",
    "print(\"----\")\n"
   ]
  },
  {
   "cell_type": "markdown",
   "metadata": {
    "id": "apuaOxavDXus"
   },
   "source": [
    "## DQN\n",
    "\n",
    "Using NNs as substitutes isn't something new. It has been tried earlier, but the 'human control' paper really popularised using NNs by providing a few stability ideas (Q-Targets, Experience Replay & Truncation). The 'Deep-Q Network' (DQN) Algorithm can be broken down into having the following components. \n",
    "\n",
    "### Q-Network:\n",
    "The neural network used as a function approximator is defined below"
   ]
  },
  {
   "cell_type": "code",
   "execution_count": 3,
   "metadata": {
    "id": "g4MRC1p2DZbp"
   },
   "outputs": [],
   "source": [
    "'''\n",
    "### Q Network & Some 'hyperparameters'\n",
    "\n",
    "QNetwork1:\n",
    "Input Layer - 4 nodes (State Shape) \\\n",
    "Hidden Layer 1 - 64 nodes \\\n",
    "Hidden Layer 2 - 64 nodes \\\n",
    "Output Layer - 2 nodes (Action Space) \\\n",
    "Optimizer - zero_grad()\n",
    "\n",
    "QNetwork2: Feel free to experiment more\n",
    "'''\n",
    "\n",
    "import torch\n",
    "import torch.nn as nn  \n",
    "import torch.nn.functional as F\n",
    "device = torch.device(\"cuda:0\" if torch.cuda.is_available() else \"cpu\")\n",
    "\n",
    "\n",
    "'''\n",
    "Bunch of Hyper parameters (Which you might have to tune later **wink wink**)\n",
    "'''\n",
    "BUFFER_SIZE = int(5e4)  \n",
    "'''\n",
    "replay buffer size \n",
    "'''\n",
    "BATCH_SIZE = 256         \n",
    "''' \n",
    "minibatch size \n",
    "'''\n",
    "GAMMA = 0.99            \n",
    "''' \n",
    "discount factor \n",
    "'''\n",
    "LR = 6e-4              \n",
    "''' \n",
    "learning rate \n",
    "'''\n",
    "UPDATE_EVERY = 250       \n",
    "''' \n",
    "how often to update the network (When Q target is present) \n",
    "'''\n",
    "\n",
    "\n",
    "class QNetwork1(nn.Module):\n",
    "\n",
    "    def __init__(self, state_size, action_size, seed, fc1_units=128, fc2_units=64,fc3_units=32):\n",
    "        \"\"\"Initialize parameters and build model.\n",
    "        Params\n",
    "        ======\n",
    "            state_size (int): Dimension of each state\n",
    "            action_size (int): Dimension of each action\n",
    "            seed (int): Random seed\n",
    "            fc1_units (int): Number of nodes in first hidden layer\n",
    "            fc2_units (int): Number of nodes in second hidden layer\n",
    "        \"\"\"\n",
    "        super(QNetwork1, self).__init__()\n",
    "        self.seed = torch.manual_seed(seed)\n",
    "        self.fc1 = nn.Linear(state_size, fc1_units)\n",
    "        self.fc2 = nn.Linear(fc1_units, fc2_units)\n",
    "        self.fc3 = nn.Linear(fc2_units, action_size)\n",
    "\n",
    "    def forward(self, state):\n",
    "        \"\"\"Build a network that maps state -> action values.\"\"\"\n",
    "        x = F.tanh(self.fc1(state))\n",
    "        x = F.tanh(self.fc2(x))\n",
    "        return self.fc3(x)"
   ]
  },
  {
   "cell_type": "markdown",
   "metadata": {
    "id": "Jmv5c0XoK8GA"
   },
   "source": [
    "### Replay Buffer:\n",
    "\n",
    "This is a 'deque' that helps us store experiences. Recall why we use such a technique."
   ]
  },
  {
   "cell_type": "code",
   "execution_count": 4,
   "metadata": {
    "id": "bh_oghc7Ledh"
   },
   "outputs": [
    {
     "name": "stdout",
     "output_type": "stream",
     "text": [
      "NVIDIA GeForce GTX 1660 Ti\n"
     ]
    }
   ],
   "source": [
    "import random\n",
    "import torch\n",
    "import numpy as np\n",
    "from collections import deque, namedtuple\n",
    "\n",
    "device = torch.device(\"cuda\" if torch.cuda.is_available() else \"cpu\")\n",
    "print(torch.cuda.get_device_name(device))\n",
    "\n",
    "class ReplayBuffer:\n",
    "    \"\"\"Fixed-size buffer to store experience tuples.\"\"\"\n",
    "\n",
    "    def __init__(self, action_size, buffer_size, batch_size, seed):\n",
    "        \"\"\"Initialize a ReplayBuffer object.\n",
    "\n",
    "        Params\n",
    "        ======\n",
    "            action_size (int): dimension of each action\n",
    "            buffer_size (int): maximum size of buffer\n",
    "            batch_size (int): size of each training batch\n",
    "            seed (int): random seed\n",
    "        \"\"\"\n",
    "        self.action_size = action_size\n",
    "        self.memory = deque(maxlen=buffer_size)  \n",
    "        self.batch_size = batch_size\n",
    "        self.experience = namedtuple(\"Experience\", field_names=[\"state\", \"action\", \"reward\", \"next_state\", \"done\"])\n",
    "        self.seed = random.seed(seed)\n",
    "    \n",
    "    def add(self, state, action, reward, next_state, done):\n",
    "        \"\"\"Add a new experience to memory.\"\"\"\n",
    "        e = self.experience(state, action, reward, next_state, done)\n",
    "        self.memory.append(e)\n",
    "    \n",
    "    def sample(self):\n",
    "        \"\"\"Randomly sample a batch of experiences from memory.\"\"\"\n",
    "        experiences = random.sample(self.memory, k=self.batch_size)\n",
    "\n",
    "        states = torch.from_numpy(np.vstack([e.state for e in experiences if e is not None])).float().to(device)\n",
    "        actions = torch.from_numpy(np.vstack([e.action for e in experiences if e is not None])).long().to(device)\n",
    "        rewards = torch.from_numpy(np.vstack([e.reward for e in experiences if e is not None])).float().to(device)\n",
    "        next_states = torch.from_numpy(np.vstack([e.next_state for e in experiences if e is not None])).float().to(device)\n",
    "        dones = torch.from_numpy(np.vstack([e.done for e in experiences if e is not None]).astype(np.uint8)).float().to(device)\n",
    "  \n",
    "        return (states, actions, rewards, next_states, dones)\n",
    "\n",
    "    def __len__(self):\n",
    "        \"\"\"Return the current size of internal memory.\"\"\"\n",
    "        return len(self.memory)"
   ]
  },
  {
   "cell_type": "markdown",
   "metadata": {
    "id": "N8VJYkqoLqlO"
   },
   "source": [
    "## Truncation:\n",
    "We add a line (optionally) in the code to truncate the gradient in hopes that it would help with the stability of the learning process.\n",
    "\n",
    "## Tutorial Agent Code:\n"
   ]
  },
  {
   "cell_type": "code",
   "execution_count": 5,
   "metadata": {
    "id": "ok_5eQM7OCTj"
   },
   "outputs": [],
   "source": [
    "class TutorialAgent():\n",
    "\n",
    "    def __init__(self, state_size, action_size, seed):\n",
    "\n",
    "        ''' Agent Environment Interaction '''\n",
    "        self.state_size = state_size\n",
    "        self.action_size = action_size\n",
    "        self.seed = random.seed(seed)\n",
    "\n",
    "        ''' Q-Network '''\n",
    "        self.qnetwork_local = QNetwork1(state_size, action_size, seed,128,128).to(device)\n",
    "        self.qnetwork_target = QNetwork1(state_size, action_size, seed,128,128).to(device)\n",
    "        self.optimizer = optim.Adam(self.qnetwork_local.parameters(), lr=LR)\n",
    "\n",
    "        ''' Replay memory '''\n",
    "        self.memory = ReplayBuffer(action_size, BUFFER_SIZE, BATCH_SIZE, seed)\n",
    "\n",
    "        ''' Initialize time step (for updating every UPDATE_EVERY steps)           -Needed for Q Targets '''\n",
    "        self.t_step = 0\n",
    "        self.rg = np.random.RandomState(seed)\n",
    "    \n",
    "    def step(self, state, action, reward, next_state, done):\n",
    "\n",
    "        ''' Save experience in replay memory '''\n",
    "        self.memory.add(state, action, reward, next_state, done)\n",
    "        \n",
    "        ''' If enough samples are available in memory, get random subset and learn '''\n",
    "        if len(self.memory) >= BATCH_SIZE:\n",
    "            experiences = self.memory.sample()\n",
    "            self.learn(experiences, GAMMA)\n",
    "\n",
    "        \"\"\" +Q TARGETS PRESENT \"\"\"\n",
    "        ''' Updating the Network every 'UPDATE_EVERY' steps taken '''      \n",
    "        self.t_step = (self.t_step + 1) % UPDATE_EVERY\n",
    "        if self.t_step == 0:\n",
    "\n",
    "            self.qnetwork_target.load_state_dict(self.qnetwork_local.state_dict())\n",
    "\n",
    "    def act(self, state, eps=0.):\n",
    "\n",
    "        state = torch.from_numpy(state).float().unsqueeze(0).to(device)\n",
    "        self.qnetwork_local.eval()\n",
    "        with torch.no_grad():\n",
    "            action_values = self.qnetwork_local(state)\n",
    "        self.qnetwork_local.train()\n",
    "\n",
    "        ''' Epsilon-greedy action selection (Already Present) '''\n",
    "        if random.random() > eps:\n",
    "            return np.argmax(action_values.cpu().data.numpy())\n",
    "        else:\n",
    "            return random.choice(np.arange(self.action_size))\n",
    "#         probabs = softmax(action_values.cpu().data.numpy()[0])\n",
    "#         probabs /= probabs.sum()\n",
    "#         return self.rg.choice(np.arange(self.action_size), p = probabs)\n",
    "\n",
    "    def learn(self, experiences, gamma):\n",
    "        \"\"\" +E EXPERIENCE REPLAY PRESENT \"\"\"\n",
    "        states, actions, rewards, next_states, dones = experiences\n",
    "\n",
    "        ''' Get max predicted Q values (for next states) from target model'''\n",
    "        Q_targets_next = self.qnetwork_target(next_states).detach().max(1)[0].unsqueeze(1)\n",
    "\n",
    "        ''' Compute Q targets for current states '''\n",
    "        Q_targets = rewards + (gamma * Q_targets_next * (1 - dones))\n",
    "\n",
    "        ''' Get expected Q values from local model '''\n",
    "        Q_expected = self.qnetwork_local(states).gather(1, actions)\n",
    "\n",
    "        ''' Compute loss '''\n",
    "        loss = F.mse_loss(Q_expected, Q_targets)\n",
    "\n",
    "        ''' Minimize the loss '''\n",
    "        self.optimizer.zero_grad()\n",
    "        loss.backward()\n",
    "        \n",
    "        ''' Gradiant Clipping '''\n",
    "        \"\"\" +T TRUNCATION PRESENT \"\"\"\n",
    "        for param in self.qnetwork_local.parameters():\n",
    "            param.grad.data.clamp_(-1, 1)\n",
    "            \n",
    "        self.optimizer.step()"
   ]
  },
  {
   "cell_type": "markdown",
   "metadata": {
    "id": "3SQFbRCHWQyO"
   },
   "source": [
    "### Here, we present the DQN algorithm code."
   ]
  },
  {
   "cell_type": "code",
   "execution_count": 6,
   "metadata": {},
   "outputs": [],
   "source": [
    "solved_episodes = []\n",
    "rewards = []"
   ]
  },
  {
   "cell_type": "code",
   "execution_count": 7,
   "metadata": {
    "colab": {
     "base_uri": "https://localhost:8080/"
    },
    "id": "r6A2TdUHWVUN",
    "outputId": "eae554fe-3450-40d8-d462-64b92d755866"
   },
   "outputs": [
    {
     "name": "stderr",
     "output_type": "stream",
     "text": [
      "C:\\Users\\Vedant\\AppData\\Local\\Programs\\Python\\Python39\\lib\\site-packages\\torch\\nn\\functional.py:1933: UserWarning: nn.functional.tanh is deprecated. Use torch.tanh instead.\n",
      "  warnings.warn(\"nn.functional.tanh is deprecated. Use torch.tanh instead.\")\n"
     ]
    },
    {
     "name": "stdout",
     "output_type": "stream",
     "text": [
      "Episode 100\tAverage Score: -262.53\n",
      "Episode 200\tAverage Score: -114.80\n",
      "Episode 300\tAverage Score: -90.489\n",
      "Episode 400\tAverage Score: -81.30\n",
      "Episode 441\tAverage Score: -79.91\n",
      "Environment solved in 341 episodes!\tAverage Score: -79.91\n",
      "0:10:18.035278\n",
      "Episode 100\tAverage Score: -261.67\n",
      "Episode 200\tAverage Score: -109.82\n",
      "Episode 300\tAverage Score: -91.277\n",
      "Episode 400\tAverage Score: -83.33\n",
      "Episode 456\tAverage Score: -79.53\n",
      "Environment solved in 356 episodes!\tAverage Score: -79.53\n",
      "0:10:43.131236\n",
      "Episode 100\tAverage Score: -285.21\n",
      "Episode 200\tAverage Score: -109.61\n",
      "Episode 300\tAverage Score: -88.290\n",
      "Episode 400\tAverage Score: -81.35\n",
      "Episode 411\tAverage Score: -79.86\n",
      "Environment solved in 311 episodes!\tAverage Score: -79.86\n",
      "0:10:27.132510\n",
      "Episode 100\tAverage Score: -249.90\n",
      "Episode 200\tAverage Score: -107.73\n",
      "Episode 300\tAverage Score: -86.663\n",
      "Episode 400\tAverage Score: -81.48\n",
      "Episode 434\tAverage Score: -79.84\n",
      "Environment solved in 334 episodes!\tAverage Score: -79.84\n",
      "0:09:58.547811\n",
      "Episode 100\tAverage Score: -261.04\n",
      "Episode 200\tAverage Score: -108.30\n",
      "Episode 300\tAverage Score: -94.256\n",
      "Episode 400\tAverage Score: -84.85\n",
      "Episode 500\tAverage Score: -81.82\n",
      "Episode 514\tAverage Score: -79.89\n",
      "Environment solved in 414 episodes!\tAverage Score: -79.89\n",
      "0:11:30.782422\n",
      "Episode 100\tAverage Score: -264.15\n",
      "Episode 200\tAverage Score: -111.14\n",
      "Episode 300\tAverage Score: -88.871\n",
      "Episode 400\tAverage Score: -83.71\n",
      "Episode 500\tAverage Score: -81.86\n",
      "Episode 532\tAverage Score: -79.96\n",
      "Environment solved in 432 episodes!\tAverage Score: -79.96\n",
      "0:11:12.199891\n",
      "Episode 100\tAverage Score: -257.88\n",
      "Episode 200\tAverage Score: -103.26\n",
      "Episode 300\tAverage Score: -87.101\n",
      "Episode 365\tAverage Score: -79.87\n",
      "Environment solved in 265 episodes!\tAverage Score: -79.87\n",
      "0:09:07.444363\n",
      "Episode 100\tAverage Score: -242.71\n",
      "Episode 200\tAverage Score: -105.22\n",
      "Episode 300\tAverage Score: -89.631\n",
      "Episode 383\tAverage Score: -80.00\n",
      "Environment solved in 283 episodes!\tAverage Score: -80.00\n",
      "0:09:30.027729\n",
      "Episode 100\tAverage Score: -278.41\n",
      "Episode 200\tAverage Score: -115.38\n",
      "Episode 300\tAverage Score: -87.508\n",
      "Episode 400\tAverage Score: -84.59\n",
      "Episode 500\tAverage Score: -85.14\n",
      "Episode 573\tAverage Score: -79.48\n",
      "Environment solved in 473 episodes!\tAverage Score: -79.48\n",
      "0:12:58.640884\n",
      "Episode 100\tAverage Score: -273.40\n",
      "Episode 200\tAverage Score: -107.85\n",
      "Episode 300\tAverage Score: -88.174\n",
      "Episode 397\tAverage Score: -80.00\n",
      "Environment solved in 297 episodes!\tAverage Score: -80.00\n",
      "0:08:17.932017\n"
     ]
    }
   ],
   "source": [
    "''' Defining DQN Algorithm '''\n",
    "for i in range(10) :\n",
    "    state_shape = env.observation_space.shape[0]\n",
    "    action_shape = env.action_space.n\n",
    "    reward_list = []\n",
    "    def dqn(n_episodes=10000, max_t=1000, eps_start=1.0, eps_end=0.01, eps_decay=0.99):\n",
    "\n",
    "        scores = []                 \n",
    "        ''' list containing scores from each episode '''\n",
    "\n",
    "        scores_window_printing = deque(maxlen=10) \n",
    "        ''' For printing in the graph '''\n",
    "\n",
    "        scores_window= deque(maxlen=100)  \n",
    "        ''' last 100 scores for checking if the avg is more than 195 '''\n",
    "\n",
    "        eps = eps_start                    \n",
    "        ''' initialize epsilon '''\n",
    "\n",
    "        for i_episode in range(1, n_episodes+1):\n",
    "            state = env.reset()\n",
    "            score = 0\n",
    "            for t in range(max_t):\n",
    "                action = agent.act(state, eps)\n",
    "                next_state, reward, done, _ = env.step(action)\n",
    "                agent.step(state, action, reward, next_state, done)\n",
    "                state = next_state\n",
    "                score += reward\n",
    "                if done:\n",
    "                    break \n",
    "\n",
    "            reward_list.append(score)\n",
    "            scores_window.append(score)       \n",
    "            scores_window_printing.append(score)   \n",
    "            ''' save most recent score '''           \n",
    "\n",
    "            eps = max(eps_end, eps_decay*eps) \n",
    "            ''' decrease epsilon '''\n",
    "\n",
    "            print('\\rEpisode {}\\tAverage Score: {:.2f}'.format(i_episode, np.mean(scores_window)), end=\"\")  \n",
    "            if i_episode % 10 == 0: \n",
    "                scores.append(np.mean(scores_window_printing))        \n",
    "            if i_episode % 100 == 0: \n",
    "               print('\\rEpisode {}\\tAverage Score: {:.2f}'.format(i_episode, np.mean(scores_window)))\n",
    "            if np.mean(scores_window)>=-80.0:\n",
    "               solved_episodes.append(i_episode)\n",
    "               print('\\nEnvironment solved in {:d} episodes!\\tAverage Score: {:.2f}'.format(i_episode-100, np.mean(scores_window)))\n",
    "               break\n",
    "        return [np.array(scores),i_episode-100]\n",
    "\n",
    "    ''' Trial run to check if algorithm runs and saves the data '''\n",
    "\n",
    "    begin_time = datetime.datetime.now()\n",
    "    agent = TutorialAgent(state_size=state_shape,action_size = action_shape,seed = 0)\n",
    "\n",
    "\n",
    "    dqn()\n",
    "\n",
    "\n",
    "    time_taken = datetime.datetime.now() - begin_time\n",
    "\n",
    "    print(time_taken)\n",
    "    rewards.append(reward_list)"
   ]
  },
  {
   "cell_type": "code",
   "execution_count": null,
   "metadata": {},
   "outputs": [],
   "source": []
  },
  {
   "cell_type": "code",
   "execution_count": 8,
   "metadata": {},
   "outputs": [],
   "source": [
    "rewards1=rewards\n",
    "average_reward_list = []\n",
    "for i in range(10000) :\n",
    "        average_reward_list.append(0)\n",
    "for j in range(10) :\n",
    "    for i in range(len(rewards[j])) :\n",
    "        average_reward_list[i]+=rewards[j][i]\n",
    "    for k in range(i,10000) :\n",
    "        average_reward_list[k]+=rewards[j][i]\n",
    "for i in range(len(average_reward_list)) :\n",
    "    average_reward_list[i]/=10"
   ]
  },
  {
   "cell_type": "code",
   "execution_count": 9,
   "metadata": {},
   "outputs": [
    {
     "data": {
      "text/plain": [
       "[<matplotlib.lines.Line2D at 0x288ff3c8100>]"
      ]
     },
     "execution_count": 9,
     "metadata": {},
     "output_type": "execute_result"
    },
    {
     "data": {
      "image/png": "[encoded data removed]",
      "text/plain": [
       "<Figure size 432x288 with 1 Axes>"
      ]
     },
     "metadata": {
      "needs_background": "light"
     },
     "output_type": "display_data"
    }
   ],
   "source": [
    "plt.plot(average_reward_list)"
   ]
  },
  {
   "cell_type": "code",
   "execution_count": 10,
   "metadata": {},
   "outputs": [
    {
     "data": {
      "text/plain": [
       "[<matplotlib.lines.Line2D at 0x288ff979be0>]"
      ]
     },
     "execution_count": 10,
     "metadata": {},
     "output_type": "execute_result"
    },
    {
     "data": {
      "image/png": "[encoded data removed]",
      "text/plain": [
       "<Figure size 432x288 with 1 Axes>"
      ]
     },
     "metadata": {
      "needs_background": "light"
     },
     "output_type": "display_data"
    }
   ],
   "source": [
    "average_reward_list1 = []\n",
    "for i in range(100,len(average_reward_list)) :\n",
    "  average_reward_list1.append(np.average(average_reward_list[i-100:i]))\n",
    "plt.plot(average_reward_list1)"
   ]
  },
  {
   "cell_type": "code",
   "execution_count": null,
   "metadata": {},
   "outputs": [],
   "source": []
  },
  {
   "cell_type": "code",
   "execution_count": null,
   "metadata": {},
   "outputs": [],
   "source": []
  },
  {
   "cell_type": "code",
   "execution_count": 11,
   "metadata": {},
   "outputs": [
    {
     "name": "stdout",
     "output_type": "stream",
     "text": [
      "450.6\n",
      "[441, 456, 411, 434, 514, 532, 365, 383, 573, 397]\n",
      "450.6\n",
      "[[-500.0, -500.0, -500.0, -500.0, -500.0, -500.0, -500.0, -500.0, -479.0, -500.0, -500.0, -500.0, -500.0, -500.0, -500.0, -500.0, -500.0, -334.0, -500.0, -461.0, -500.0, -347.0, -341.0, -358.0, -372.0, -403.0, -448.0, -276.0, -431.0, -248.0, -497.0, -357.0, -273.0, -335.0, -383.0, -277.0, -251.0, -248.0, -327.0, -299.0, -329.0, -211.0, -159.0, -184.0, -214.0, -214.0, -245.0, -242.0, -219.0, -152.0, -211.0, -164.0, -172.0, -170.0, -227.0, -152.0, -140.0, -168.0, -216.0, -162.0, -152.0, -202.0, -135.0, -122.0, -150.0, -146.0, -177.0, -124.0, -157.0, -157.0, -118.0, -133.0, -149.0, -104.0, -166.0, -143.0, -157.0, -130.0, -115.0, -163.0, -107.0, -168.0, -122.0, -140.0, -136.0, -175.0, -137.0, -115.0, -131.0, -117.0, -134.0, -151.0, -151.0, -123.0, -132.0, -99.0, -120.0, -102.0, -130.0, -167.0, -120.0, -128.0, -144.0, -398.0, -164.0, -103.0, -126.0, -284.0, -143.0, -171.0, -126.0, -99.0, -108.0, -95.0, -108.0, -100.0, -103.0, -209.0, -111.0, -104.0, -107.0, -122.0, -137.0, -96.0, -129.0, -112.0, -170.0, -117.0, -114.0, -106.0, -98.0, -108.0, -119.0, -88.0, -120.0, -128.0, -113.0, -90.0, -90.0, -89.0, -108.0, -104.0, -76.0, -111.0, -122.0, -123.0, -114.0, -117.0, -88.0, -162.0, -103.0, -106.0, -115.0, -95.0, -102.0, -98.0, -112.0, -94.0, -100.0, -105.0, -116.0, -86.0, -128.0, -99.0, -119.0, -110.0, -68.0, -109.0, -96.0, -88.0, -88.0, -145.0, -78.0, -97.0, -110.0, -157.0, -178.0, -93.0, -77.0, -100.0, -91.0, -84.0, -99.0, -111.0, -93.0, -76.0, -101.0, -86.0, -94.0, -113.0, -114.0, -110.0, -98.0, -99.0, -78.0, -101.0, -91.0, -89.0, -104.0, -154.0, -89.0, -84.0, -95.0, -107.0, -102.0, -83.0, -83.0, -93.0, -119.0, -80.0, -91.0, -82.0, -82.0, -82.0, -76.0, -84.0, -84.0, -80.0, -75.0, -110.0, -159.0, -86.0, -102.0, -77.0, -83.0, -79.0, -96.0, -94.0, -103.0, -129.0, -102.0, -105.0, -96.0, -85.0, -89.0, -77.0, -104.0, -94.0, -96.0, -70.0, -99.0, -97.0, -78.0, -86.0, -64.0, -77.0, -89.0, -75.0, -116.0, -123.0, -107.0, -77.0, -103.0, -86.0, -66.0, -69.0, -71.0, -77.0, -124.0, -97.0, -131.0, -110.0, -63.0, -73.0, -71.0, -109.0, -63.0, -103.0, -92.0, -70.0, -92.0, -75.0, -86.0, -89.0, -79.0, -88.0, -91.0, -113.0, -87.0, -88.0, -63.0, -109.0, -90.0, -86.0, -83.0, -64.0, -92.0, -77.0, -82.0, -96.0, -74.0, -107.0, -92.0, -86.0, -88.0, -102.0, -118.0, -78.0, -87.0, -113.0, -89.0, -79.0, -102.0, -61.0, -62.0, -91.0, -99.0, -71.0, -63.0, -108.0, -96.0, -79.0, -71.0, -86.0, -107.0, -64.0, -108.0, -107.0, -88.0, -71.0, -63.0, -63.0, -86.0, -88.0, -78.0, -76.0, -93.0, -98.0, -129.0, -86.0, -63.0, -96.0, -78.0, -94.0, -72.0, -76.0, -125.0, -63.0, -91.0, -87.0, -87.0, -63.0, -95.0, -95.0, -63.0, -95.0, -75.0, -71.0, -87.0, -79.0, -62.0, -98.0, -72.0, -90.0, -71.0, -70.0, -63.0, -92.0, -100.0, -81.0, -79.0, -72.0, -81.0, -87.0, -102.0, -64.0, -76.0, -71.0, -64.0, -94.0, -72.0, -81.0, -94.0, -63.0, -89.0, -72.0, -85.0, -72.0, -87.0, -72.0, -65.0, -63.0, -62.0, -81.0, -62.0, -70.0, -70.0, -70.0, -103.0, -71.0, -86.0, -83.0, -107.0, -72.0, -72.0, -99.0, -63.0, -77.0, -73.0, -88.0, -76.0, -76.0, -70.0, -71.0, -93.0, -80.0, -91.0, -87.0, -72.0, -76.0, -71.0, -94.0, -108.0, -95.0, -71.0, -71.0, -89.0, -73.0, -76.0, -93.0, -124.0, -69.0, -124.0, -86.0, -97.0, -71.0, -76.0, -93.0, -80.0, -74.0, -85.0, -79.0, -74.0, -72.0, -71.0, -87.0, -76.0, -63.0, -64.0, -86.0, -71.0], [-500.0, -500.0, -500.0, -500.0, -500.0, -500.0, -500.0, -500.0, -500.0, -500.0, -329.0, -500.0, -500.0, -500.0, -480.0, -500.0, -500.0, -241.0, -500.0, -337.0, -500.0, -299.0, -443.0, -314.0, -298.0, -249.0, -310.0, -221.0, -359.0, -290.0, -500.0, -248.0, -452.0, -285.0, -319.0, -286.0, -219.0, -279.0, -374.0, -194.0, -172.0, -300.0, -500.0, -220.0, -248.0, -176.0, -230.0, -239.0, -226.0, -250.0, -121.0, -196.0, -160.0, -174.0, -195.0, -198.0, -191.0, -163.0, -193.0, -143.0, -177.0, -132.0, -159.0, -191.0, -146.0, -186.0, -153.0, -158.0, -147.0, -126.0, -112.0, -150.0, -119.0, -132.0, -161.0, -152.0, -166.0, -122.0, -147.0, -174.0, -144.0, -152.0, -119.0, -118.0, -146.0, -113.0, -148.0, -110.0, -114.0, -135.0, -168.0, -210.0, -119.0, -132.0, -142.0, -468.0, -116.0, -108.0, -102.0, -172.0, -161.0, -128.0, -106.0, -112.0, -169.0, -122.0, -144.0, -131.0, -150.0, -119.0, -150.0, -92.0, -91.0, -114.0, -108.0, -116.0, -117.0, -147.0, -148.0, -144.0, -83.0, -80.0, -105.0, -99.0, -145.0, -128.0, -121.0, -98.0, -132.0, -117.0, -113.0, -97.0, -140.0, -112.0, -102.0, -110.0, -113.0, -116.0, -111.0, -73.0, -111.0, -87.0, -112.0, -114.0, -104.0, -100.0, -131.0, -96.0, -99.0, -132.0, -78.0, -122.0, -110.0, -114.0, -97.0, -79.0, -116.0, -118.0, -112.0, -87.0, -110.0, -132.0, -95.0, -111.0, -120.0, -101.0, -121.0, -72.0, -113.0, -123.0, -109.0, -98.0, -103.0, -123.0, -90.0, -114.0, -123.0, -84.0, -129.0, -90.0, -109.0, -79.0, -82.0, -106.0, -93.0, -91.0, -117.0, -117.0, -108.0, -92.0, -95.0, -93.0, -88.0, -108.0, -95.0, -123.0, -100.0, -77.0, -62.0, -103.0, -96.0, -115.0, -87.0, -97.0, -70.0, -96.0, -70.0, -107.0, -133.0, -120.0, -70.0, -129.0, -107.0, -121.0, -118.0, -96.0, -80.0, -136.0, -77.0, -91.0, -89.0, -80.0, -69.0, -62.0, -107.0, -188.0, -100.0, -84.0, -73.0, -100.0, -76.0, -80.0, -82.0, -119.0, -76.0, -108.0, -82.0, -109.0, -80.0, -82.0, -98.0, -94.0, -113.0, -161.0, -99.0, -139.0, -72.0, -73.0, -74.0, -76.0, -92.0, -89.0, -71.0, -91.0, -89.0, -84.0, -99.0, -63.0, -98.0, -125.0, -109.0, -106.0, -82.0, -109.0, -84.0, -63.0, -93.0, -62.0, -63.0, -85.0, -89.0, -95.0, -68.0, -81.0, -106.0, -126.0, -89.0, -111.0, -112.0, -92.0, -106.0, -75.0, -98.0, -75.0, -90.0, -75.0, -92.0, -71.0, -91.0, -70.0, -71.0, -61.0, -62.0, -74.0, -63.0, -84.0, -76.0, -80.0, -63.0, -63.0, -84.0, -71.0, -63.0, -93.0, -82.0, -71.0, -72.0, -79.0, -78.0, -63.0, -106.0, -71.0, -93.0, -78.0, -94.0, -62.0, -94.0, -71.0, -102.0, -63.0, -71.0, -78.0, -136.0, -78.0, -87.0, -63.0, -88.0, -73.0, -68.0, -75.0, -121.0, -85.0, -74.0, -63.0, -104.0, -72.0, -101.0, -71.0, -84.0, -71.0, -94.0, -71.0, -82.0, -94.0, -116.0, -96.0, -92.0, -105.0, -72.0, -76.0, -91.0, -79.0, -88.0, -69.0, -79.0, -213.0, -84.0, -63.0, -100.0, -87.0, -63.0, -109.0, -85.0, -63.0, -62.0, -84.0, -148.0, -103.0, -78.0, -72.0, -74.0, -71.0, -70.0, -70.0, -96.0, -63.0, -84.0, -87.0, -83.0, -92.0, -63.0, -69.0, -123.0, -71.0, -88.0, -88.0, -71.0, -96.0, -71.0, -96.0, -100.0, -69.0, -82.0, -71.0, -71.0, -69.0, -62.0, -62.0, -77.0, -73.0, -77.0, -75.0, -72.0, -82.0, -100.0, -94.0, -112.0, -98.0, -102.0, -82.0, -62.0, -63.0, -71.0, -69.0, -72.0, -71.0, -85.0, -94.0, -62.0, -89.0, -98.0, -94.0, -83.0, -68.0, -79.0, -70.0, -62.0, -87.0, -86.0, -80.0, -75.0, -96.0, -63.0, -61.0, -80.0, -71.0, -63.0, -72.0, -78.0, -63.0, -62.0, -71.0, -106.0, -76.0, -92.0, -72.0, -71.0, -71.0, -93.0, -62.0, -70.0, -80.0, -75.0, -71.0, -88.0, -69.0], [-500.0, -500.0, -500.0, -500.0, -500.0, -500.0, -500.0, -500.0, -500.0, -500.0, -424.0, -500.0, -333.0, -500.0, -500.0, -500.0, -500.0, -500.0, -500.0, -472.0, -500.0, -361.0, -487.0, -500.0, -500.0, -500.0, -412.0, -406.0, -491.0, -297.0, -244.0, -315.0, -290.0, -315.0, -500.0, -314.0, -312.0, -391.0, -198.0, -420.0, -293.0, -361.0, -222.0, -280.0, -228.0, -287.0, -166.0, -318.0, -150.0, -274.0, -233.0, -298.0, -237.0, -211.0, -147.0, -236.0, -180.0, -288.0, -205.0, -254.0, -226.0, -202.0, -144.0, -175.0, -191.0, -170.0, -181.0, -187.0, -246.0, -204.0, -140.0, -149.0, -235.0, -117.0, -173.0, -149.0, -133.0, -118.0, -152.0, -116.0, -167.0, -158.0, -108.0, -133.0, -158.0, -151.0, -154.0, -132.0, -183.0, -112.0, -144.0, -125.0, -121.0, -104.0, -137.0, -102.0, -155.0, -161.0, -103.0, -155.0, -102.0, -135.0, -94.0, -101.0, -154.0, -139.0, -125.0, -136.0, -177.0, -96.0, -151.0, -133.0, -140.0, -106.0, -157.0, -110.0, -109.0, -118.0, -118.0, -108.0, -118.0, -100.0, -111.0, -103.0, -206.0, -107.0, -156.0, -104.0, -118.0, -111.0, -150.0, -86.0, -87.0, -98.0, -82.0, -103.0, -93.0, -90.0, -98.0, -103.0, -114.0, -106.0, -95.0, -95.0, -111.0, -103.0, -139.0, -172.0, -153.0, -112.0, -85.0, -95.0, -96.0, -83.0, -88.0, -320.0, -84.0, -142.0, -81.0, -126.0, -106.0, -117.0, -95.0, -103.0, -118.0, -100.0, -117.0, -100.0, -100.0, -77.0, -150.0, -89.0, -65.0, -107.0, -88.0, -84.0, -93.0, -107.0, -112.0, -88.0, -88.0, -102.0, -90.0, -69.0, -63.0, -92.0, -98.0, -92.0, -126.0, -96.0, -118.0, -90.0, -86.0, -90.0, -86.0, -64.0, -93.0, -72.0, -114.0, -83.0, -91.0, -87.0, -91.0, -113.0, -98.0, -99.0, -100.0, -77.0, -97.0, -86.0, -68.0, -79.0, -80.0, -87.0, -107.0, -95.0, -62.0, -69.0, -109.0, -103.0, -82.0, -123.0, -90.0, -80.0, -122.0, -108.0, -98.0, -82.0, -83.0, -89.0, -141.0, -88.0, -102.0, -75.0, -78.0, -88.0, -82.0, -81.0, -62.0, -85.0, -81.0, -74.0, -90.0, -95.0, -90.0, -123.0, -87.0, -78.0, -69.0, -79.0, -102.0, -103.0, -86.0, -92.0, -70.0, -73.0, -86.0, -91.0, -71.0, -93.0, -71.0, -92.0, -74.0, -68.0, -98.0, -62.0, -81.0, -83.0, -91.0, -94.0, -92.0, -81.0, -68.0, -71.0, -71.0, -70.0, -103.0, -103.0, -90.0, -82.0, -92.0, -90.0, -94.0, -81.0, -62.0, -76.0, -299.0, -80.0, -72.0, -79.0, -87.0, -84.0, -63.0, -63.0, -86.0, -79.0, -93.0, -77.0, -81.0, -76.0, -98.0, -75.0, -133.0, -78.0, -64.0, -99.0, -65.0, -89.0, -116.0, -78.0, -93.0, -76.0, -85.0, -88.0, -63.0, -78.0, -68.0, -80.0, -82.0, -69.0, -94.0, -63.0, -63.0, -132.0, -71.0, -63.0, -71.0, -94.0, -84.0, -63.0, -73.0, -101.0, -143.0, -71.0, -71.0, -62.0, -73.0, -62.0, -97.0, -86.0, -71.0, -71.0, -72.0, -67.0, -73.0, -64.0, -99.0, -99.0, -73.0, -87.0, -85.0, -64.0, -74.0, -67.0, -122.0, -79.0, -82.0, -70.0, -69.0, -87.0, -78.0, -62.0, -62.0, -70.0, -70.0, -102.0, -82.0, -71.0, -72.0, -136.0, -113.0, -109.0, -81.0, -94.0, -63.0, -90.0, -93.0, -62.0, -87.0, -113.0, -71.0, -72.0, -100.0, -63.0, -62.0, -102.0, -64.0, -85.0, -80.0, -72.0, -68.0, -63.0, -100.0, -70.0, -100.0, -62.0, -90.0, -79.0, -63.0, -70.0, -62.0, -62.0, -81.0, -63.0, -71.0, -90.0, -99.0, -90.0, -88.0, -70.0, -63.0], [-500.0, -500.0, -220.0, -500.0, -500.0, -500.0, -500.0, -500.0, -500.0, -401.0, -500.0, -500.0, -500.0, -500.0, -500.0, -500.0, -500.0, -312.0, -471.0, -293.0, -500.0, -401.0, -392.0, -500.0, -244.0, -229.0, -230.0, -252.0, -301.0, -216.0, -300.0, -220.0, -328.0, -353.0, -250.0, -248.0, -311.0, -248.0, -211.0, -386.0, -212.0, -205.0, -237.0, -321.0, -178.0, -255.0, -213.0, -202.0, -197.0, -158.0, -220.0, -186.0, -237.0, -168.0, -171.0, -169.0, -132.0, -138.0, -137.0, -207.0, -175.0, -124.0, -124.0, -153.0, -172.0, -140.0, -159.0, -122.0, -253.0, -121.0, -215.0, -133.0, -177.0, -164.0, -125.0, -198.0, -149.0, -151.0, -123.0, -138.0, -120.0, -105.0, -130.0, -160.0, -146.0, -132.0, -133.0, -175.0, -108.0, -96.0, -106.0, -157.0, -178.0, -147.0, -126.0, -140.0, -138.0, -120.0, -90.0, -107.0, -119.0, -111.0, -101.0, -124.0, -93.0, -90.0, -98.0, -141.0, -101.0, -139.0, -123.0, -102.0, -90.0, -126.0, -101.0, -111.0, -98.0, -89.0, -130.0, -122.0, -170.0, -135.0, -115.0, -139.0, -172.0, -107.0, -84.0, -110.0, -116.0, -113.0, -108.0, -149.0, -105.0, -94.0, -109.0, -126.0, -117.0, -102.0, -74.0, -114.0, -73.0, -139.0, -105.0, -89.0, -97.0, -84.0, -82.0, -105.0, -82.0, -142.0, -93.0, -116.0, -100.0, -94.0, -83.0, -88.0, -99.0, -85.0, -113.0, -107.0, -110.0, -115.0, -126.0, -98.0, -95.0, -83.0, -99.0, -139.0, -93.0, -104.0, -90.0, -98.0, -91.0, -96.0, -128.0, -115.0, -91.0, -88.0, -180.0, -165.0, -144.0, -107.0, -63.0, -105.0, -112.0, -85.0, -100.0, -102.0, -94.0, -103.0, -76.0, -84.0, -69.0, -171.0, -82.0, -83.0, -140.0, -93.0, -98.0, -114.0, -79.0, -118.0, -81.0, -90.0, -98.0, -84.0, -107.0, -74.0, -68.0, -85.0, -107.0, -76.0, -90.0, -91.0, -114.0, -87.0, -86.0, -62.0, -76.0, -84.0, -79.0, -96.0, -90.0, -88.0, -111.0, -83.0, -125.0, -119.0, -94.0, -68.0, -76.0, -92.0, -97.0, -70.0, -97.0, -77.0, -114.0, -88.0, -85.0, -84.0, -140.0, -88.0, -84.0, -96.0, -69.0, -70.0, -92.0, -99.0, -82.0, -96.0, -62.0, -104.0, -106.0, -62.0, -96.0, -73.0, -62.0, -77.0, -73.0, -70.0, -71.0, -103.0, -77.0, -71.0, -76.0, -71.0, -71.0, -101.0, -70.0, -83.0, -62.0, -76.0, -63.0, -118.0, -85.0, -81.0, -79.0, -87.0, -90.0, -96.0, -237.0, -91.0, -91.0, -95.0, -70.0, -63.0, -69.0, -84.0, -77.0, -88.0, -68.0, -93.0, -75.0, -85.0, -62.0, -91.0, -73.0, -85.0, -77.0, -70.0, -72.0, -70.0, -70.0, -64.0, -95.0, -85.0, -88.0, -87.0, -70.0, -106.0, -71.0, -92.0, -75.0, -92.0, -89.0, -93.0, -98.0, -84.0, -63.0, -71.0, -83.0, -74.0, -101.0, -63.0, -84.0, -85.0, -69.0, -84.0, -71.0, -77.0, -85.0, -77.0, -81.0, -88.0, -87.0, -90.0, -85.0, -75.0, -86.0, -78.0, -88.0, -91.0, -76.0, -80.0, -77.0, -95.0, -162.0, -99.0, -71.0, -79.0, -82.0, -62.0, -86.0, -71.0, -98.0, -108.0, -78.0, -111.0, -87.0, -62.0, -76.0, -110.0, -79.0, -90.0, -78.0, -96.0, -63.0, -99.0, -62.0, -78.0, -85.0, -64.0, -74.0, -62.0, -79.0, -72.0, -96.0, -77.0, -81.0, -80.0, -79.0, -79.0, -71.0, -64.0, -119.0, -77.0, -93.0, -79.0, -88.0, -76.0, -80.0, -62.0, -61.0, -62.0, -82.0, -76.0, -69.0, -69.0, -70.0, -70.0, -119.0, -71.0, -96.0, -76.0, -62.0, -86.0, -71.0, -71.0, -76.0, -77.0, -78.0, -64.0, -70.0, -76.0, -71.0, -68.0, -80.0, -70.0, -80.0, -70.0, -62.0, -84.0, -79.0, -93.0, -75.0, -92.0, -70.0, -75.0, -83.0, -63.0, -76.0, -70.0, -78.0, -61.0], [-500.0, -500.0, -317.0, -500.0, -500.0, -500.0, -500.0, -500.0, -500.0, -500.0, -500.0, -500.0, -500.0, -500.0, -482.0, -500.0, -500.0, -315.0, -500.0, -446.0, -465.0, -500.0, -308.0, -459.0, -269.0, -287.0, -341.0, -424.0, -396.0, -367.0, -239.0, -276.0, -278.0, -328.0, -217.0, -266.0, -318.0, -285.0, -255.0, -221.0, -268.0, -163.0, -119.0, -225.0, -191.0, -162.0, -202.0, -242.0, -159.0, -290.0, -213.0, -222.0, -177.0, -170.0, -256.0, -137.0, -214.0, -222.0, -166.0, -127.0, -229.0, -137.0, -155.0, -123.0, -170.0, -194.0, -130.0, -173.0, -144.0, -217.0, -178.0, -176.0, -127.0, -210.0, -171.0, -179.0, -212.0, -147.0, -168.0, -141.0, -138.0, -128.0, -97.0, -165.0, -96.0, -138.0, -109.0, -110.0, -122.0, -171.0, -113.0, -155.0, -282.0, -95.0, -139.0, -116.0, -125.0, -150.0, -159.0, -131.0, -121.0, -136.0, -124.0, -153.0, -124.0, -130.0, -110.0, -158.0, -132.0, -105.0, -110.0, -122.0, -117.0, -140.0, -119.0, -123.0, -114.0, -81.0, -123.0, -156.0, -154.0, -102.0, -99.0, -121.0, -125.0, -116.0, -143.0, -109.0, -137.0, -103.0, -101.0, -105.0, -119.0, -112.0, -116.0, -130.0, -118.0, -116.0, -136.0, -107.0, -98.0, -102.0, -92.0, -109.0, -112.0, -112.0, -109.0, -85.0, -130.0, -100.0, -130.0, -118.0, -76.0, -89.0, -113.0, -76.0, -90.0, -115.0, -109.0, -126.0, -113.0, -111.0, -78.0, -97.0, -89.0, -104.0, -94.0, -70.0, -92.0, -114.0, -86.0, -109.0, -87.0, -95.0, -99.0, -83.0, -100.0, -197.0, -100.0, -92.0, -90.0, -91.0, -88.0, -91.0, -115.0, -83.0, -139.0, -76.0, -76.0, -93.0, -87.0, -94.0, -95.0, -69.0, -93.0, -104.0, -78.0, -90.0, -105.0, -105.0, -228.0, -112.0, -87.0, -117.0, -102.0, -98.0, -110.0, -91.0, -96.0, -101.0, -83.0, -99.0, -73.0, -74.0, -129.0, -75.0, -87.0, -100.0, -96.0, -104.0, -102.0, -76.0, -69.0, -107.0, -123.0, -104.0, -86.0, -80.0, -118.0, -118.0, -108.0, -104.0, -112.0, -90.0, -89.0, -88.0, -94.0, -100.0, -84.0, -81.0, -98.0, -85.0, -72.0, -103.0, -89.0, -85.0, -117.0, -70.0, -82.0, -124.0, -74.0, -99.0, -81.0, -68.0, -86.0, -83.0, -80.0, -93.0, -105.0, -79.0, -94.0, -102.0, -75.0, -72.0, -77.0, -70.0, -72.0, -97.0, -70.0, -79.0, -70.0, -86.0, -70.0, -92.0, -75.0, -108.0, -69.0, -107.0, -102.0, -500.0, -93.0, -72.0, -71.0, -64.0, -73.0, -63.0, -87.0, -85.0, -69.0, -75.0, -71.0, -85.0, -77.0, -62.0, -99.0, -93.0, -94.0, -102.0, -63.0, -72.0, -64.0, -65.0, -94.0, -99.0, -87.0, -96.0, -107.0, -62.0, -102.0, -138.0, -69.0, -71.0, -88.0, -99.0, -110.0, -79.0, -70.0, -71.0, -72.0, -96.0, -90.0, -114.0, -89.0, -99.0, -62.0, -86.0, -85.0, -71.0, -98.0, -85.0, -85.0, -118.0, -101.0, -79.0, -63.0, -82.0, -70.0, -64.0, -72.0, -70.0, -97.0, -95.0, -68.0, -91.0, -69.0, -76.0, -62.0, -89.0, -91.0, -87.0, -94.0, -69.0, -95.0, -77.0, -90.0, -70.0, -71.0, -69.0, -79.0, -82.0, -86.0, -78.0, -77.0, -73.0, -78.0, -71.0, -77.0, -75.0, -82.0, -121.0, -91.0, -94.0, -87.0, -96.0, -76.0, -62.0, -188.0, -78.0, -96.0, -81.0, -63.0, -81.0, -62.0, -71.0, -63.0, -101.0, -114.0, -63.0, -71.0, -86.0, -70.0, -70.0, -99.0, -89.0, -79.0, -82.0, -142.0, -83.0, -71.0, -115.0, -77.0, -78.0, -79.0, -124.0, -77.0, -75.0, -91.0, -81.0, -78.0, -94.0, -86.0, -88.0, -64.0, -117.0, -62.0, -62.0, -96.0, -63.0, -90.0, -85.0, -85.0, -87.0, -63.0, -63.0, -114.0, -89.0, -75.0, -93.0, -75.0, -86.0, -63.0, -70.0, -91.0, -105.0, -82.0, -95.0, -82.0, -93.0, -70.0, -69.0, -70.0, -72.0, -62.0, -77.0, -70.0, -61.0, -115.0, -73.0, -69.0, -92.0, -82.0, -83.0, -101.0, -70.0, -62.0, -94.0, -71.0, -87.0, -108.0, -71.0, -62.0, -116.0, -70.0, -124.0, -63.0, -76.0, -97.0, -103.0, -62.0, -95.0, -92.0, -84.0, -71.0, -69.0, -92.0, -70.0, -70.0, -63.0, -70.0, -141.0, -81.0, -164.0, -70.0, -61.0, -94.0, -84.0, -70.0, -61.0, -105.0, -68.0, -70.0, -70.0, -64.0, -62.0, -71.0, -70.0, -95.0, -71.0, -69.0, -85.0, -70.0, -62.0, -62.0, -62.0, -79.0, -110.0, -102.0, -70.0, -71.0, -70.0, -62.0, -69.0, -64.0, -63.0], [-500.0, -500.0, -500.0, -500.0, -500.0, -500.0, -500.0, -500.0, -500.0, -500.0, -500.0, -500.0, -500.0, -329.0, -500.0, -500.0, -500.0, -296.0, -500.0, -500.0, -500.0, -383.0, -279.0, -500.0, -246.0, -490.0, -259.0, -431.0, -500.0, -500.0, -298.0, -389.0, -289.0, -196.0, -238.0, -500.0, -231.0, -181.0, -230.0, -196.0, -223.0, -202.0, -204.0, -174.0, -174.0, -224.0, -257.0, -188.0, -176.0, -196.0, -219.0, -147.0, -254.0, -177.0, -169.0, -175.0, -176.0, -201.0, -158.0, -176.0, -149.0, -172.0, -151.0, -163.0, -181.0, -110.0, -171.0, -123.0, -238.0, -164.0, -146.0, -141.0, -196.0, -181.0, -184.0, -215.0, -195.0, -161.0, -202.0, -118.0, -189.0, -146.0, -122.0, -132.0, -123.0, -138.0, -105.0, -163.0, -138.0, -179.0, -160.0, -86.0, -121.0, -154.0, -119.0, -158.0, -117.0, -116.0, -123.0, -134.0, -137.0, -104.0, -112.0, -103.0, -109.0, -114.0, -117.0, -96.0, -102.0, -147.0, -122.0, -98.0, -141.0, -96.0, -120.0, -134.0, -93.0, -117.0, -155.0, -105.0, -114.0, -114.0, -111.0, -110.0, -108.0, -112.0, -93.0, -111.0, -143.0, -176.0, -85.0, -98.0, -129.0, -107.0, -94.0, -104.0, -104.0, -121.0, -112.0, -117.0, -111.0, -86.0, -102.0, -130.0, -117.0, -153.0, -104.0, -142.0, -89.0, -259.0, -81.0, -129.0, -104.0, -110.0, -95.0, -89.0, -81.0, -97.0, -306.0, -131.0, -92.0, -110.0, -105.0, -114.0, -76.0, -103.0, -106.0, -101.0, -86.0, -98.0, -83.0, -145.0, -90.0, -75.0, -77.0, -81.0, -95.0, -129.0, -177.0, -136.0, -88.0, -89.0, -147.0, -87.0, -93.0, -79.0, -89.0, -104.0, -93.0, -112.0, -80.0, -113.0, -88.0, -99.0, -97.0, -70.0, -90.0, -105.0, -110.0, -101.0, -117.0, -94.0, -82.0, -63.0, -107.0, -68.0, -120.0, -89.0, -85.0, -94.0, -125.0, -121.0, -90.0, -86.0, -88.0, -81.0, -95.0, -113.0, -78.0, -97.0, -81.0, -106.0, -106.0, -92.0, -83.0, -84.0, -91.0, -108.0, -89.0, -112.0, -92.0, -107.0, -84.0, -82.0, -96.0, -63.0, -74.0, -70.0, -97.0, -100.0, -88.0, -76.0, -114.0, -96.0, -74.0, -85.0, -82.0, -77.0, -64.0, -97.0, -113.0, -63.0, -91.0, -83.0, -104.0, -87.0, -75.0, -78.0, -84.0, -96.0, -87.0, -114.0, -90.0, -85.0, -100.0, -90.0, -123.0, -90.0, -85.0, -70.0, -64.0, -91.0, -73.0, -82.0, -94.0, -86.0, -78.0, -96.0, -71.0, -71.0, -77.0, -91.0, -103.0, -79.0, -96.0, -95.0, -63.0, -73.0, -78.0, -87.0, -110.0, -101.0, -71.0, -88.0, -78.0, -79.0, -81.0, -74.0, -97.0, -89.0, -102.0, -83.0, -106.0, -84.0, -70.0, -77.0, -94.0, -96.0, -73.0, -162.0, -69.0, -101.0, -63.0, -72.0, -71.0, -91.0, -79.0, -84.0, -73.0, -90.0, -132.0, -112.0, -70.0, -102.0, -104.0, -64.0, -101.0, -102.0, -93.0, -94.0, -64.0, -71.0, -87.0, -121.0, -82.0, -71.0, -95.0, -82.0, -90.0, -92.0, -75.0, -110.0, -85.0, -82.0, -64.0, -99.0, -93.0, -82.0, -63.0, -79.0, -78.0, -83.0, -132.0, -94.0, -84.0, -70.0, -70.0, -128.0, -84.0, -74.0, -79.0, -86.0, -102.0, -79.0, -62.0, -95.0, -76.0, -74.0, -70.0, -83.0, -63.0, -62.0, -84.0, -63.0, -79.0, -71.0, -86.0, -64.0, -85.0, -85.0, -115.0, -72.0, -70.0, -86.0, -87.0, -82.0, -79.0, -63.0, -63.0, -71.0, -70.0, -71.0, -87.0, -61.0, -62.0, -76.0, -72.0, -70.0, -91.0, -77.0, -63.0, -64.0, -123.0, -82.0, -96.0, -70.0, -81.0, -70.0, -70.0, -76.0, -86.0, -96.0, -90.0, -71.0, -115.0, -100.0, -71.0, -71.0, -86.0, -84.0, -87.0, -70.0, -70.0, -69.0, -100.0, -70.0, -77.0, -83.0, -74.0, -125.0, -124.0, -94.0, -107.0, -110.0, -70.0, -72.0, -94.0, -72.0, -95.0, -62.0, -62.0, -76.0, -78.0, -79.0, -77.0, -86.0, -69.0, -70.0, -88.0, -74.0, -107.0, -72.0, -88.0, -70.0, -114.0, -75.0, -83.0, -77.0, -117.0, -94.0, -70.0, -69.0, -68.0, -69.0, -86.0, -94.0, -69.0, -90.0, -70.0, -61.0, -80.0, -75.0, -62.0, -82.0, -70.0, -90.0, -64.0, -70.0, -83.0, -109.0, -71.0, -69.0, -130.0, -63.0, -72.0, -92.0, -70.0, -92.0, -70.0, -85.0, -74.0, -82.0, -71.0, -97.0, -63.0, -78.0, -85.0, -75.0, -73.0, -97.0, -74.0, -80.0, -69.0, -69.0, -67.0, -81.0, -64.0, -92.0, -69.0, -72.0, -69.0, -85.0, -84.0, -89.0, -78.0, -95.0, -91.0, -75.0, -84.0, -84.0, -97.0, -62.0, -87.0, -81.0, -96.0, -76.0, -73.0, -79.0, -81.0, -71.0, -81.0, -63.0], [-500.0, -500.0, -500.0, -500.0, -500.0, -500.0, -500.0, -500.0, -500.0, -500.0, -500.0, -343.0, -500.0, -457.0, -481.0, -398.0, -437.0, -318.0, -500.0, -348.0, -500.0, -323.0, -500.0, -311.0, -309.0, -291.0, -379.0, -435.0, -307.0, -200.0, -289.0, -322.0, -269.0, -362.0, -427.0, -204.0, -271.0, -354.0, -306.0, -206.0, -224.0, -248.0, -258.0, -168.0, -289.0, -173.0, -140.0, -309.0, -208.0, -186.0, -127.0, -163.0, -145.0, -205.0, -156.0, -216.0, -182.0, -168.0, -195.0, -115.0, -136.0, -165.0, -164.0, -178.0, -147.0, -204.0, -209.0, -119.0, -179.0, -170.0, -124.0, -146.0, -143.0, -171.0, -98.0, -147.0, -144.0, -151.0, -159.0, -216.0, -205.0, -106.0, -161.0, -164.0, -127.0, -170.0, -124.0, -158.0, -114.0, -140.0, -101.0, -150.0, -147.0, -278.0, -97.0, -140.0, -118.0, -142.0, -128.0, -126.0, -88.0, -160.0, -98.0, -105.0, -111.0, -142.0, -115.0, -142.0, -130.0, -117.0, -128.0, -149.0, -126.0, -92.0, -107.0, -83.0, -109.0, -128.0, -93.0, -85.0, -89.0, -96.0, -126.0, -106.0, -113.0, -100.0, -124.0, -92.0, -96.0, -98.0, -121.0, -124.0, -109.0, -98.0, -225.0, -109.0, -83.0, -109.0, -115.0, -126.0, -127.0, -89.0, -108.0, -113.0, -80.0, -102.0, -110.0, -105.0, -144.0, -119.0, -89.0, -100.0, -119.0, -102.0, -115.0, -121.0, -109.0, -78.0, -92.0, -108.0, -123.0, -91.0, -88.0, -101.0, -85.0, -89.0, -132.0, -93.0, -86.0, -87.0, -89.0, -75.0, -91.0, -76.0, -84.0, -75.0, -88.0, -107.0, -70.0, -105.0, -86.0, -116.0, -104.0, -94.0, -70.0, -75.0, -88.0, -92.0, -104.0, -88.0, -84.0, -79.0, -90.0, -83.0, -77.0, -74.0, -83.0, -121.0, -102.0, -84.0, -100.0, -83.0, -113.0, -76.0, -91.0, -89.0, -97.0, -121.0, -82.0, -87.0, -82.0, -86.0, -88.0, -78.0, -85.0, -72.0, -85.0, -104.0, -87.0, -97.0, -81.0, -97.0, -95.0, -108.0, -118.0, -91.0, -75.0, -77.0, -91.0, -93.0, -86.0, -75.0, -93.0, -83.0, -122.0, -71.0, -89.0, -82.0, -97.0, -81.0, -80.0, -83.0, -92.0, -82.0, -105.0, -105.0, -77.0, -121.0, -182.0, -85.0, -91.0, -97.0, -79.0, -85.0, -64.0, -69.0, -86.0, -106.0, -78.0, -91.0, -74.0, -85.0, -69.0, -70.0, -93.0, -92.0, -92.0, -102.0, -72.0, -96.0, -77.0, -93.0, -85.0, -97.0, -85.0, -75.0, -83.0, -77.0, -85.0, -70.0, -69.0, -74.0, -67.0, -130.0, -134.0, -70.0, -62.0, -62.0, -78.0, -62.0, -76.0, -71.0, -74.0, -106.0, -75.0, -69.0, -63.0, -83.0, -69.0, -78.0, -83.0, -110.0, -90.0, -76.0, -83.0, -88.0, -69.0, -63.0, -81.0, -68.0, -99.0, -95.0, -92.0, -100.0, -85.0, -69.0, -92.0, -72.0, -100.0, -77.0, -96.0, -63.0, -83.0, -78.0, -88.0, -69.0, -74.0, -84.0, -70.0, -71.0, -92.0, -70.0, -70.0, -77.0, -68.0, -71.0, -63.0, -64.0, -70.0, -85.0, -73.0, -76.0, -88.0, -66.0, -77.0, -85.0, -65.0, -77.0, -62.0, -93.0, -70.0, -69.0, -101.0, -83.0, -85.0, -69.0, -94.0, -88.0, -70.0, -79.0, -76.0, -93.0, -63.0, -70.0, -64.0], [-500.0, -500.0, -206.0, -500.0, -500.0, -500.0, -500.0, -500.0, -500.0, -500.0, -500.0, -500.0, -390.0, -252.0, -461.0, -347.0, -500.0, -441.0, -463.0, -452.0, -347.0, -472.0, -333.0, -300.0, -305.0, -468.0, -312.0, -491.0, -298.0, -205.0, -184.0, -326.0, -317.0, -332.0, -359.0, -199.0, -293.0, -145.0, -237.0, -261.0, -177.0, -169.0, -257.0, -190.0, -205.0, -211.0, -128.0, -248.0, -151.0, -156.0, -185.0, -159.0, -209.0, -124.0, -149.0, -205.0, -172.0, -150.0, -189.0, -104.0, -157.0, -177.0, -163.0, -125.0, -162.0, -121.0, -208.0, -197.0, -144.0, -132.0, -174.0, -139.0, -118.0, -143.0, -118.0, -205.0, -130.0, -149.0, -141.0, -120.0, -138.0, -118.0, -180.0, -126.0, -142.0, -132.0, -115.0, -81.0, -139.0, -138.0, -123.0, -118.0, -104.0, -120.0, -112.0, -120.0, -139.0, -117.0, -124.0, -128.0, -96.0, -120.0, -122.0, -153.0, -124.0, -104.0, -115.0, -114.0, -115.0, -99.0, -107.0, -128.0, -113.0, -128.0, -148.0, -132.0, -75.0, -98.0, -143.0, -107.0, -118.0, -105.0, -120.0, -81.0, -135.0, -109.0, -250.0, -106.0, -171.0, -110.0, -114.0, -90.0, -98.0, -115.0, -164.0, -121.0, -102.0, -97.0, -85.0, -103.0, -124.0, -130.0, -97.0, -105.0, -113.0, -94.0, -105.0, -105.0, -114.0, -88.0, -94.0, -94.0, -89.0, -111.0, -86.0, -70.0, -101.0, -98.0, -125.0, -79.0, -119.0, -100.0, -88.0, -90.0, -94.0, -111.0, -96.0, -92.0, -99.0, -98.0, -102.0, -95.0, -88.0, -76.0, -99.0, -99.0, -82.0, -111.0, -120.0, -90.0, -103.0, -80.0, -73.0, -82.0, -93.0, -91.0, -89.0, -96.0, -102.0, -85.0, -103.0, -112.0, -85.0, -86.0, -86.0, -91.0, -76.0, -95.0, -78.0, -110.0, -81.0, -97.0, -89.0, -86.0, -130.0, -80.0, -96.0, -108.0, -69.0, -82.0, -84.0, -99.0, -96.0, -106.0, -70.0, -92.0, -79.0, -96.0, -70.0, -97.0, -95.0, -78.0, -113.0, -108.0, -81.0, -88.0, -95.0, -82.0, -104.0, -99.0, -158.0, -123.0, -98.0, -90.0, -72.0, -103.0, -78.0, -82.0, -97.0, -69.0, -84.0, -117.0, -106.0, -111.0, -79.0, -87.0, -94.0, -75.0, -74.0, -78.0, -87.0, -105.0, -80.0, -80.0, -76.0, -70.0, -84.0, -85.0, -63.0, -81.0, -78.0, -96.0, -94.0, -78.0, -71.0, -94.0, -73.0, -73.0, -119.0, -68.0, -85.0, -95.0, -69.0, -100.0, -113.0, -78.0, -90.0, -94.0, -82.0, -80.0, -91.0, -108.0, -96.0, -114.0, -107.0, -73.0, -115.0, -81.0, -69.0, -115.0, -84.0, -105.0, -71.0, -89.0, -86.0, -74.0, -98.0, -97.0, -62.0, -62.0, -63.0, -106.0, -93.0, -91.0, -76.0, -141.0, -83.0, -63.0, -82.0, -63.0, -90.0, -63.0, -85.0, -73.0, -82.0, -70.0, -75.0, -75.0, -72.0, -70.0, -74.0, -79.0, -96.0, -70.0, -78.0, -107.0, -72.0, -63.0, -84.0, -83.0, -84.0, -69.0, -70.0, -62.0, -77.0, -69.0, -64.0, -68.0, -88.0, -69.0, -63.0, -88.0, -86.0, -62.0, -91.0, -94.0, -77.0, -84.0, -70.0, -71.0, -92.0, -87.0, -95.0, -69.0, -88.0, -78.0, -81.0, -63.0, -62.0, -113.0, -97.0, -78.0, -93.0, -71.0, -83.0, -76.0, -69.0, -62.0, -77.0, -88.0, -69.0, -68.0, -72.0, -62.0, -94.0, -69.0, -69.0, -86.0, -63.0, -74.0, -72.0, -80.0, -70.0], [-500.0, -500.0, -445.0, -500.0, -500.0, -500.0, -500.0, -500.0, -500.0, -500.0, -500.0, -500.0, -500.0, -500.0, -500.0, -470.0, -500.0, -372.0, -465.0, -500.0, -500.0, -382.0, -356.0, -500.0, -379.0, -500.0, -339.0, -362.0, -500.0, -500.0, -325.0, -500.0, -149.0, -294.0, -282.0, -254.0, -368.0, -230.0, -334.0, -193.0, -222.0, -205.0, -299.0, -271.0, -250.0, -335.0, -220.0, -192.0, -149.0, -190.0, -207.0, -170.0, -182.0, -241.0, -231.0, -171.0, -167.0, -189.0, -136.0, -206.0, -223.0, -171.0, -179.0, -222.0, -164.0, -220.0, -262.0, -161.0, -137.0, -115.0, -227.0, -133.0, -128.0, -169.0, -138.0, -200.0, -159.0, -183.0, -234.0, -136.0, -146.0, -139.0, -186.0, -137.0, -171.0, -123.0, -136.0, -101.0, -392.0, -181.0, -126.0, -114.0, -151.0, -102.0, -152.0, -120.0, -161.0, -133.0, -117.0, -160.0, -125.0, -155.0, -141.0, -155.0, -146.0, -132.0, -144.0, -109.0, -309.0, -129.0, -89.0, -104.0, -103.0, -117.0, -139.0, -127.0, -123.0, -94.0, -123.0, -131.0, -104.0, -86.0, -129.0, -114.0, -99.0, -100.0, -152.0, -125.0, -94.0, -113.0, -114.0, -122.0, -109.0, -85.0, -87.0, -103.0, -96.0, -98.0, -91.0, -88.0, -104.0, -133.0, -136.0, -105.0, -74.0, -104.0, -111.0, -97.0, -232.0, -128.0, -118.0, -101.0, -89.0, -97.0, -128.0, -114.0, -113.0, -120.0, -90.0, -130.0, -101.0, -117.0, -110.0, -119.0, -95.0, -101.0, -94.0, -92.0, -151.0, -105.0, -99.0, -94.0, -71.0, -77.0, -115.0, -105.0, -104.0, -118.0, -93.0, -85.0, -131.0, -140.0, -168.0, -114.0, -128.0, -94.0, -105.0, -107.0, -130.0, -79.0, -87.0, -91.0, -286.0, -94.0, -72.0, -103.0, -108.0, -119.0, -71.0, -137.0, -86.0, -99.0, -69.0, -84.0, -88.0, -87.0, -78.0, -86.0, -84.0, -75.0, -112.0, -70.0, -104.0, -104.0, -87.0, -80.0, -82.0, -81.0, -104.0, -82.0, -109.0, -88.0, -109.0, -93.0, -75.0, -89.0, -96.0, -107.0, -71.0, -80.0, -71.0, -109.0, -75.0, -96.0, -70.0, -77.0, -108.0, -136.0, -92.0, -80.0, -98.0, -93.0, -77.0, -81.0, -69.0, -111.0, -93.0, -63.0, -91.0, -88.0, -67.0, -68.0, -102.0, -74.0, -84.0, -93.0, -75.0, -85.0, -93.0, -110.0, -82.0, -77.0, -103.0, -92.0, -69.0, -79.0, -70.0, -68.0, -104.0, -71.0, -109.0, -73.0, -90.0, -87.0, -92.0, -84.0, -86.0, -92.0, -76.0, -156.0, -95.0, -71.0, -73.0, -104.0, -106.0, -67.0, -70.0, -102.0, -62.0, -71.0, -118.0, -74.0, -78.0, -71.0, -64.0, -104.0, -87.0, -89.0, -86.0, -110.0, -88.0, -109.0, -83.0, -83.0, -85.0, -77.0, -71.0, -84.0, -91.0, -124.0, -77.0, -101.0, -86.0, -89.0, -76.0, -94.0, -74.0, -78.0, -71.0, -79.0, -70.0, -70.0, -87.0, -79.0, -79.0, -87.0, -74.0, -63.0, -94.0, -74.0, -67.0, -112.0, -90.0, -95.0, -77.0, -95.0, -98.0, -90.0, -131.0, -66.0, -75.0, -62.0, -89.0, -97.0, -114.0, -101.0, -70.0, -69.0, -62.0, -70.0, -89.0, -70.0, -78.0, -74.0, -71.0, -71.0, -115.0, -75.0, -92.0, -70.0, -62.0, -81.0, -94.0, -94.0, -85.0, -108.0, -84.0, -69.0, -99.0, -71.0, -235.0, -87.0, -106.0, -69.0, -71.0, -103.0, -84.0, -95.0, -104.0, -97.0, -70.0, -74.0, -70.0, -78.0, -84.0, -71.0, -71.0, -71.0, -71.0, -70.0, -72.0, -63.0, -70.0, -86.0, -97.0, -86.0, -74.0, -99.0, -61.0, -91.0, -85.0, -70.0, -76.0, -111.0, -147.0, -74.0, -63.0, -79.0, -137.0, -93.0, -66.0, -70.0, -62.0, -71.0, -79.0, -62.0, -100.0, -149.0, -103.0, -85.0, -76.0, -63.0, -107.0, -107.0, -77.0, -116.0, -71.0, -77.0, -91.0, -100.0, -90.0, -105.0, -71.0, -77.0, -87.0, -87.0, -62.0, -64.0, -71.0, -63.0, -105.0, -95.0, -70.0, -78.0, -63.0, -86.0, -62.0, -108.0, -70.0, -96.0, -83.0, -64.0, -103.0, -118.0, -92.0, -64.0, -74.0, -63.0, -72.0, -63.0, -93.0, -87.0, -62.0, -83.0, -71.0, -71.0, -87.0, -102.0, -78.0, -72.0, -72.0, -114.0, -139.0, -78.0, -94.0, -72.0, -79.0, -71.0, -78.0, -70.0, -74.0, -117.0, -90.0, -82.0, -90.0, -63.0, -95.0, -79.0, -115.0, -89.0, -94.0, -78.0, -104.0, -77.0, -87.0, -89.0, -86.0, -108.0, -62.0, -89.0, -62.0, -70.0, -75.0, -73.0, -71.0, -107.0, -72.0, -70.0, -71.0, -72.0, -63.0, -93.0, -71.0, -63.0, -71.0, -71.0, -71.0, -99.0, -77.0, -72.0, -81.0, -97.0, -86.0, -72.0, -134.0, -103.0, -64.0, -63.0, -71.0, -98.0, -87.0, -71.0, -83.0, -63.0, -70.0, -64.0, -63.0, -91.0, -64.0, -63.0, -73.0, -64.0, -74.0, -65.0, -155.0, -72.0, -71.0, -78.0, -77.0, -81.0, -78.0, -70.0, -71.0, -63.0, -70.0, -70.0, -71.0, -71.0, -62.0, -87.0, -63.0, -80.0, -63.0, -86.0, -97.0, -89.0, -69.0, -107.0, -71.0, -89.0, -77.0, -72.0, -70.0], [-500.0, -500.0, -325.0, -500.0, -500.0, -500.0, -500.0, -500.0, -500.0, -500.0, -500.0, -500.0, -331.0, -500.0, -500.0, -437.0, -306.0, -500.0, -500.0, -411.0, -500.0, -500.0, -297.0, -428.0, -500.0, -403.0, -446.0, -499.0, -369.0, -500.0, -208.0, -313.0, -331.0, -325.0, -410.0, -238.0, -183.0, -249.0, -260.0, -266.0, -218.0, -238.0, -227.0, -422.0, -363.0, -174.0, -156.0, -228.0, -203.0, -348.0, -255.0, -222.0, -266.0, -163.0, -221.0, -281.0, -137.0, -173.0, -171.0, -241.0, -198.0, -197.0, -229.0, -150.0, -179.0, -139.0, -190.0, -181.0, -193.0, -152.0, -188.0, -118.0, -198.0, -133.0, -105.0, -130.0, -150.0, -172.0, -145.0, -223.0, -221.0, -151.0, -140.0, -161.0, -172.0, -130.0, -130.0, -98.0, -192.0, -107.0, -145.0, -139.0, -115.0, -152.0, -96.0, -89.0, -101.0, -118.0, -130.0, -141.0, -115.0, -132.0, -128.0, -144.0, -100.0, -161.0, -142.0, -130.0, -100.0, -131.0, -113.0, -119.0, -110.0, -105.0, -95.0, -136.0, -151.0, -100.0, -106.0, -82.0, -113.0, -89.0, -136.0, -121.0, -133.0, -119.0, -119.0, -93.0, -102.0, -91.0, -90.0, -118.0, -120.0, -138.0, -89.0, -87.0, -131.0, -121.0, -134.0, -89.0, -95.0, -86.0, -135.0, -96.0, -163.0, -91.0, -100.0, -103.0, -94.0, -134.0, -96.0, -107.0, -89.0, -149.0, -126.0, -105.0, -127.0, -112.0, -97.0, -112.0, -98.0, -92.0, -111.0, -119.0, -93.0, -89.0, -75.0, -99.0, -120.0, -122.0, -98.0, -132.0, -127.0, -103.0, -108.0, -82.0, -113.0, -94.0, -109.0, -77.0, -76.0, -97.0, -78.0, -90.0, -91.0, -111.0, -95.0, -76.0, -105.0, -111.0, -97.0, -90.0, -89.0, -84.0, -103.0, -103.0, -74.0, -91.0, -112.0, -101.0, -117.0, -95.0, -86.0, -91.0, -90.0, -103.0, -84.0, -76.0, -106.0, -103.0, -75.0, -84.0, -103.0, -107.0, -105.0, -85.0, -121.0, -120.0, -96.0, -95.0, -87.0, -79.0, -83.0, -110.0, -91.0, -82.0, -107.0, -91.0, -77.0, -70.0, -83.0, -61.0, -95.0, -73.0, -91.0, -92.0, -99.0, -82.0, -97.0, -90.0, -83.0, -89.0, -82.0, -86.0, -62.0, -62.0, -105.0, -100.0, -104.0, -77.0, -81.0, -94.0, -84.0, -84.0, -96.0, -88.0, -117.0, -89.0, -97.0, -75.0, -90.0, -105.0, -115.0, -86.0, -75.0, -106.0, -86.0, -68.0, -102.0, -105.0, -83.0, -75.0, -85.0, -89.0, -92.0, -105.0, -70.0, -78.0, -71.0, -81.0, -94.0, -69.0, -98.0, -89.0, -74.0, -71.0, -94.0, -77.0, -63.0, -74.0, -75.0, -83.0, -72.0, -84.0, -71.0, -82.0, -84.0, -84.0, -76.0, -99.0, -73.0, -108.0, -76.0, -84.0, -71.0, -69.0, -69.0, -94.0, -86.0, -107.0, -68.0, -85.0, -71.0, -64.0, -107.0, -79.0, -84.0, -77.0, -68.0, -69.0, -66.0, -82.0, -83.0, -70.0, -95.0, -81.0, -91.0, -100.0, -108.0, -73.0, -64.0, -89.0, -77.0, -99.0, -87.0, -95.0, -106.0, -85.0, -80.0, -74.0, -82.0, -88.0, -70.0, -93.0, -80.0, -69.0, -69.0, -96.0, -75.0, -77.0, -70.0, -69.0, -70.0, -61.0, -95.0, -100.0, -70.0, -75.0, -79.0, -84.0, -98.0, -85.0, -63.0, -76.0, -87.0, -76.0, -70.0, -69.0, -71.0, -70.0, -93.0, -70.0, -93.0, -69.0, -69.0, -85.0, -87.0, -75.0, -74.0, -84.0, -90.0, -70.0, -69.0, -70.0, -93.0, -63.0, -85.0, -73.0, -92.0, -110.0, -69.0, -72.0, -63.0, -62.0, -72.0, -75.0, -63.0]]\n"
     ]
    }
   ],
   "source": [
    "print(np.mean(solved_episodes))\n",
    "print(solved_episodes)\n",
    "print(np.mean(solved_episodes))\n",
    "print(rewards)"
   ]
  }
 ],
 "metadata": {
  "accelerator": "GPU",
  "colab": {
   "collapsed_sections": [
    "5LBh6_lOVBdN"
   ],
   "name": "Tutorial_4.ipynb",
   "provenance": []
  },
  "kernelspec": {
   "display_name": "Python 3 (ipykernel)",
   "language": "python",
   "name": "python3"
  },
  "language_info": {
   "codemirror_mode": {
    "name": "ipython",
    "version": 3
   },
   "file_extension": ".py",
   "mimetype": "text/x-python",
   "name": "python",
   "nbconvert_exporter": "python",
   "pygments_lexer": "ipython3",
   "version": "3.9.2"
  }
 },
 "nbformat": 4,
 "nbformat_minor": 1
}
