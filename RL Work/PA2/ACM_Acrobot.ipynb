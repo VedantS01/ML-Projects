{
  "cells": [
    {
      "cell_type": "code",
      "execution_count": 1,
      "metadata": {
        "colab": {
          "base_uri": "https://localhost:8080/"
        },
        "id": "azUjb7UK4Yfh",
        "outputId": "c92726d1-bed7-41ef-e873-dfaea799eea8"
      },
      "outputs": [
        {
          "name": "stdout",
          "output_type": "stream",
          "text": [
            "Requirement already satisfied: gym in c:\\users\\vedant\\appdata\\local\\programs\\python\\python39\\lib\\site-packages (0.23.0)\n",
            "Requirement already satisfied: pyvirtualdisplay in c:\\users\\vedant\\appdata\\local\\programs\\python\\python39\\lib\\site-packages (3.0)\n",
            "Requirement already satisfied: gym-notices>=0.0.4 in c:\\users\\vedant\\appdata\\local\\programs\\python\\python39\\lib\\site-packages (from gym) (0.0.5)\n",
            "Requirement already satisfied: cloudpickle>=1.2.0 in c:\\users\\vedant\\appdata\\local\\programs\\python\\python39\\lib\\site-packages (from gym) (2.0.0)\n",
            "Requirement already satisfied: numpy>=1.18.0 in c:\\users\\vedant\\appdata\\local\\programs\\python\\python39\\lib\\site-packages (from gym) (1.22.1)\n",
            "Requirement already satisfied: importlib-metadata>=4.10.0 in c:\\users\\vedant\\appdata\\local\\programs\\python\\python39\\lib\\site-packages (from gym) (4.11.2)\n",
            "Requirement already satisfied: zipp>=0.5 in c:\\users\\vedant\\appdata\\local\\programs\\python\\python39\\lib\\site-packages (from importlib-metadata>=4.10.0->gym) (3.7.0)\n"
          ]
        },
        {
          "name": "stderr",
          "output_type": "stream",
          "text": [
            "'apt-get' is not recognized as an internal or external command,\n",
            "operable program or batch file.\n",
            "'apt-get' is not recognized as an internal or external command,\n",
            "operable program or batch file.\n",
            "'apt-get' is not recognized as an internal or external command,\n",
            "operable program or batch file.\n"
          ]
        },
        {
          "name": "stdout",
          "output_type": "stream",
          "text": [
            "Requirement already satisfied: setuptools in c:\\users\\vedant\\appdata\\local\\programs\\python\\python39\\lib\\site-packages (60.10.0)\n",
            "Requirement already satisfied: ez_setup in c:\\users\\vedant\\appdata\\local\\programs\\python\\python39\\lib\\site-packages (0.9)\n",
            "Requirement already satisfied: gym[atari] in c:\\users\\vedant\\appdata\\local\\programs\\python\\python39\\lib\\site-packages (0.23.0)\n",
            "Requirement already satisfied: numpy>=1.18.0 in c:\\users\\vedant\\appdata\\local\\programs\\python\\python39\\lib\\site-packages (from gym[atari]) (1.22.1)\n",
            "Requirement already satisfied: importlib-metadata>=4.10.0 in c:\\users\\vedant\\appdata\\local\\programs\\python\\python39\\lib\\site-packages (from gym[atari]) (4.11.2)\n",
            "Requirement already satisfied: gym-notices>=0.0.4 in c:\\users\\vedant\\appdata\\local\\programs\\python\\python39\\lib\\site-packages (from gym[atari]) (0.0.5)\n",
            "Requirement already satisfied: cloudpickle>=1.2.0 in c:\\users\\vedant\\appdata\\local\\programs\\python\\python39\\lib\\site-packages (from gym[atari]) (2.0.0)\n",
            "Requirement already satisfied: ale-py~=0.7.4 in c:\\users\\vedant\\appdata\\local\\programs\\python\\python39\\lib\\site-packages (from gym[atari]) (0.7.4)\n",
            "Requirement already satisfied: importlib-resources in c:\\users\\vedant\\appdata\\local\\programs\\python\\python39\\lib\\site-packages (from ale-py~=0.7.4->gym[atari]) (5.4.0)\n",
            "Requirement already satisfied: zipp>=0.5 in c:\\users\\vedant\\appdata\\local\\programs\\python\\python39\\lib\\site-packages (from importlib-metadata>=4.10.0->gym[atari]) (3.7.0)\n",
            "Collecting git+https://github.com/tensorflow/docs\n",
            "  Cloning https://github.com/tensorflow/docs to c:\\users\\vedant\\appdata\\local\\temp\\pip-req-build-27d0jrfz\n",
            "  Resolved https://github.com/tensorflow/docs to commit c0c4ab3446e236893dfab72b7296f635ddbafccf\n",
            "  Preparing metadata (setup.py): started\n",
            "  Preparing metadata (setup.py): finished with status 'done'\n",
            "Requirement already satisfied: astor in c:\\users\\vedant\\appdata\\local\\programs\\python\\python39\\lib\\site-packages (from tensorflow-docs==0.0.0.dev0) (0.8.1)\n",
            "Requirement already satisfied: absl-py in c:\\users\\vedant\\appdata\\local\\programs\\python\\python39\\lib\\site-packages (from tensorflow-docs==0.0.0.dev0) (1.0.0)\n",
            "Requirement already satisfied: jinja2 in c:\\users\\vedant\\appdata\\roaming\\python\\python39\\site-packages (from tensorflow-docs==0.0.0.dev0) (3.0.3)\n",
            "Requirement already satisfied: protobuf>=3.14 in c:\\users\\vedant\\appdata\\local\\programs\\python\\python39\\lib\\site-packages (from tensorflow-docs==0.0.0.dev0) (3.19.4)\n",
            "Requirement already satisfied: pyyaml in c:\\users\\vedant\\appdata\\local\\programs\\python\\python39\\lib\\site-packages (from tensorflow-docs==0.0.0.dev0) (6.0)\n",
            "Requirement already satisfied: six in c:\\users\\vedant\\appdata\\local\\programs\\python\\python39\\lib\\site-packages (from absl-py->tensorflow-docs==0.0.0.dev0) (1.16.0)\n",
            "Requirement already satisfied: MarkupSafe>=2.0 in c:\\users\\vedant\\appdata\\roaming\\python\\python39\\site-packages (from jinja2->tensorflow-docs==0.0.0.dev0) (2.1.0)\n"
          ]
        },
        {
          "name": "stderr",
          "output_type": "stream",
          "text": [
            "  Running command git clone --filter=blob:none --quiet https://github.com/tensorflow/docs 'C:\\Users\\Vedant\\AppData\\Local\\Temp\\pip-req-build-27d0jrfz'\n"
          ]
        }
      ],
      "source": [
        "'''\n",
        "Installing packages for rendering the game on Colab\n",
        "'''\n",
        "\n",
        "!pip install gym pyvirtualdisplay\n",
        "!apt-get install -y xvfb python-opengl ffmpeg\n",
        "!apt-get update\n",
        "!apt-get install cmake\n",
        "!pip install --upgrade setuptools\n",
        "!pip install ez_setup\n",
        "!pip install gym[atari]\n",
        "!pip install git+https://github.com/tensorflow/docs"
      ]
    },
    {
      "cell_type": "code",
      "execution_count": 2,
      "metadata": {
        "colab": {
          "base_uri": "https://localhost:8080/"
        },
        "id": "dfCgocAHOZ6n",
        "outputId": "81a7e659-9e56-4d9d-d115-3f009f139382"
      },
      "outputs": [
        {
          "name": "stdout",
          "output_type": "stream",
          "text": [
            "Requirement already satisfied: tensorflow-gpu in c:\\users\\vedant\\appdata\\roaming\\python\\python39\\site-packages (2.8.0)\n",
            "Requirement already satisfied: tf-estimator-nightly==2.8.0.dev2021122109 in c:\\users\\vedant\\appdata\\local\\programs\\python\\python39\\lib\\site-packages (from tensorflow-gpu) (2.8.0.dev2021122109)\n",
            "Requirement already satisfied: astunparse>=1.6.0 in c:\\users\\vedant\\appdata\\local\\programs\\python\\python39\\lib\\site-packages (from tensorflow-gpu) (1.6.3)\n",
            "Requirement already satisfied: typing-extensions>=3.6.6 in c:\\users\\vedant\\appdata\\local\\programs\\python\\python39\\lib\\site-packages (from tensorflow-gpu) (4.0.1)\n",
            "Requirement already satisfied: gast>=0.2.1 in c:\\users\\vedant\\appdata\\local\\programs\\python\\python39\\lib\\site-packages (from tensorflow-gpu) (0.5.3)\n",
            "Requirement already satisfied: grpcio<2.0,>=1.24.3 in c:\\users\\vedant\\appdata\\local\\programs\\python\\python39\\lib\\site-packages (from tensorflow-gpu) (1.44.0)\n",
            "Requirement already satisfied: wrapt>=1.11.0 in c:\\users\\vedant\\appdata\\local\\programs\\python\\python39\\lib\\site-packages (from tensorflow-gpu) (1.13.3)\n",
            "Requirement already satisfied: absl-py>=0.4.0 in c:\\users\\vedant\\appdata\\local\\programs\\python\\python39\\lib\\site-packages (from tensorflow-gpu) (1.0.0)\n",
            "Requirement already satisfied: libclang>=9.0.1 in c:\\users\\vedant\\appdata\\local\\programs\\python\\python39\\lib\\site-packages (from tensorflow-gpu) (13.0.0)\n",
            "Requirement already satisfied: keras-preprocessing>=1.1.1 in c:\\users\\vedant\\appdata\\local\\programs\\python\\python39\\lib\\site-packages (from tensorflow-gpu) (1.1.2)\n",
            "Requirement already satisfied: tensorflow-io-gcs-filesystem>=0.23.1 in c:\\users\\vedant\\appdata\\local\\programs\\python\\python39\\lib\\site-packages (from tensorflow-gpu) (0.24.0)\n",
            "Requirement already satisfied: protobuf>=3.9.2 in c:\\users\\vedant\\appdata\\local\\programs\\python\\python39\\lib\\site-packages (from tensorflow-gpu) (3.19.4)\n",
            "Requirement already satisfied: flatbuffers>=1.12 in c:\\users\\vedant\\appdata\\local\\programs\\python\\python39\\lib\\site-packages (from tensorflow-gpu) (2.0)\n",
            "Requirement already satisfied: tensorboard<2.9,>=2.8 in c:\\users\\vedant\\appdata\\local\\programs\\python\\python39\\lib\\site-packages (from tensorflow-gpu) (2.8.0)\n",
            "Requirement already satisfied: keras<2.9,>=2.8.0rc0 in c:\\users\\vedant\\appdata\\local\\programs\\python\\python39\\lib\\site-packages (from tensorflow-gpu) (2.8.0)\n",
            "Requirement already satisfied: six>=1.12.0 in c:\\users\\vedant\\appdata\\local\\programs\\python\\python39\\lib\\site-packages (from tensorflow-gpu) (1.16.0)\n",
            "Requirement already satisfied: numpy>=1.20 in c:\\users\\vedant\\appdata\\local\\programs\\python\\python39\\lib\\site-packages (from tensorflow-gpu) (1.22.1)\n",
            "Requirement already satisfied: google-pasta>=0.1.1 in c:\\users\\vedant\\appdata\\local\\programs\\python\\python39\\lib\\site-packages (from tensorflow-gpu) (0.2.0)\n",
            "Requirement already satisfied: setuptools in c:\\users\\vedant\\appdata\\local\\programs\\python\\python39\\lib\\site-packages (from tensorflow-gpu) (60.10.0)\n",
            "Requirement already satisfied: termcolor>=1.1.0 in c:\\users\\vedant\\appdata\\local\\programs\\python\\python39\\lib\\site-packages (from tensorflow-gpu) (1.1.0)\n",
            "Requirement already satisfied: h5py>=2.9.0 in c:\\users\\vedant\\appdata\\local\\programs\\python\\python39\\lib\\site-packages (from tensorflow-gpu) (3.6.0)\n",
            "Requirement already satisfied: opt-einsum>=2.3.2 in c:\\users\\vedant\\appdata\\local\\programs\\python\\python39\\lib\\site-packages (from tensorflow-gpu) (3.3.0)\n",
            "Requirement already satisfied: wheel<1.0,>=0.23.0 in c:\\users\\vedant\\appdata\\local\\programs\\python\\python39\\lib\\site-packages (from astunparse>=1.6.0->tensorflow-gpu) (0.37.1)\n",
            "Requirement already satisfied: tensorboard-plugin-wit>=1.6.0 in c:\\users\\vedant\\appdata\\local\\programs\\python\\python39\\lib\\site-packages (from tensorboard<2.9,>=2.8->tensorflow-gpu) (1.8.1)\n",
            "Requirement already satisfied: werkzeug>=0.11.15 in c:\\users\\vedant\\appdata\\local\\programs\\python\\python39\\lib\\site-packages (from tensorboard<2.9,>=2.8->tensorflow-gpu) (2.0.3)\n",
            "Requirement already satisfied: tensorboard-data-server<0.7.0,>=0.6.0 in c:\\users\\vedant\\appdata\\local\\programs\\python\\python39\\lib\\site-packages (from tensorboard<2.9,>=2.8->tensorflow-gpu) (0.6.1)\n",
            "Requirement already satisfied: markdown>=2.6.8 in c:\\users\\vedant\\appdata\\local\\programs\\python\\python39\\lib\\site-packages (from tensorboard<2.9,>=2.8->tensorflow-gpu) (3.3.6)\n",
            "Requirement already satisfied: requests<3,>=2.21.0 in c:\\users\\vedant\\appdata\\local\\programs\\python\\python39\\lib\\site-packages (from tensorboard<2.9,>=2.8->tensorflow-gpu) (2.27.1)\n",
            "Requirement already satisfied: google-auth-oauthlib<0.5,>=0.4.1 in c:\\users\\vedant\\appdata\\local\\programs\\python\\python39\\lib\\site-packages (from tensorboard<2.9,>=2.8->tensorflow-gpu) (0.4.6)\n",
            "Requirement already satisfied: google-auth<3,>=1.6.3 in c:\\users\\vedant\\appdata\\local\\programs\\python\\python39\\lib\\site-packages (from tensorboard<2.9,>=2.8->tensorflow-gpu) (2.6.0)\n",
            "Requirement already satisfied: pyasn1-modules>=0.2.1 in c:\\users\\vedant\\appdata\\local\\programs\\python\\python39\\lib\\site-packages (from google-auth<3,>=1.6.3->tensorboard<2.9,>=2.8->tensorflow-gpu) (0.2.8)\n",
            "Requirement already satisfied: cachetools<6.0,>=2.0.0 in c:\\users\\vedant\\appdata\\local\\programs\\python\\python39\\lib\\site-packages (from google-auth<3,>=1.6.3->tensorboard<2.9,>=2.8->tensorflow-gpu) (5.0.0)\n",
            "Requirement already satisfied: rsa<5,>=3.1.4 in c:\\users\\vedant\\appdata\\local\\programs\\python\\python39\\lib\\site-packages (from google-auth<3,>=1.6.3->tensorboard<2.9,>=2.8->tensorflow-gpu) (4.8)\n",
            "Requirement already satisfied: requests-oauthlib>=0.7.0 in c:\\users\\vedant\\appdata\\local\\programs\\python\\python39\\lib\\site-packages (from google-auth-oauthlib<0.5,>=0.4.1->tensorboard<2.9,>=2.8->tensorflow-gpu) (1.3.1)\n",
            "Requirement already satisfied: importlib-metadata>=4.4 in c:\\users\\vedant\\appdata\\local\\programs\\python\\python39\\lib\\site-packages (from markdown>=2.6.8->tensorboard<2.9,>=2.8->tensorflow-gpu) (4.11.2)\n",
            "Requirement already satisfied: charset-normalizer~=2.0.0 in c:\\users\\vedant\\appdata\\local\\programs\\python\\python39\\lib\\site-packages (from requests<3,>=2.21.0->tensorboard<2.9,>=2.8->tensorflow-gpu) (2.0.12)\n",
            "Requirement already satisfied: certifi>=2017.4.17 in c:\\users\\vedant\\appdata\\local\\programs\\python\\python39\\lib\\site-packages (from requests<3,>=2.21.0->tensorboard<2.9,>=2.8->tensorflow-gpu) (2021.10.8)\n",
            "Requirement already satisfied: idna<4,>=2.5 in c:\\users\\vedant\\appdata\\local\\programs\\python\\python39\\lib\\site-packages (from requests<3,>=2.21.0->tensorboard<2.9,>=2.8->tensorflow-gpu) (3.3)\n",
            "Requirement already satisfied: urllib3<1.27,>=1.21.1 in c:\\users\\vedant\\appdata\\local\\programs\\python\\python39\\lib\\site-packages (from requests<3,>=2.21.0->tensorboard<2.9,>=2.8->tensorflow-gpu) (1.26.8)\n",
            "Requirement already satisfied: zipp>=0.5 in c:\\users\\vedant\\appdata\\local\\programs\\python\\python39\\lib\\site-packages (from importlib-metadata>=4.4->markdown>=2.6.8->tensorboard<2.9,>=2.8->tensorflow-gpu) (3.7.0)\n",
            "Requirement already satisfied: pyasn1<0.5.0,>=0.4.6 in c:\\users\\vedant\\appdata\\local\\programs\\python\\python39\\lib\\site-packages (from pyasn1-modules>=0.2.1->google-auth<3,>=1.6.3->tensorboard<2.9,>=2.8->tensorflow-gpu) (0.4.8)\n",
            "Requirement already satisfied: oauthlib>=3.0.0 in c:\\users\\vedant\\appdata\\local\\programs\\python\\python39\\lib\\site-packages (from requests-oauthlib>=0.7.0->google-auth-oauthlib<0.5,>=0.4.1->tensorboard<2.9,>=2.8->tensorflow-gpu) (3.2.0)\n"
          ]
        }
      ],
      "source": [
        "!pip install tensorflow-gpu"
      ]
    },
    {
      "cell_type": "code",
      "execution_count": 3,
      "metadata": {
        "id": "P_DODRgW_ZKS"
      },
      "outputs": [],
      "source": [
        "'''\n",
        "A bunch of imports, you don't have to worry about these\n",
        "'''\n",
        "\n",
        "import numpy as np\n",
        "import random\n",
        "import torch\n",
        "import torch.nn as nn  \n",
        "import torch.nn.functional as F\n",
        "from collections import namedtuple, deque\n",
        "import torch.optim as optim\n",
        "import datetime\n",
        "import gym\n",
        "# from gym.wrappers import Monitor\n",
        "import glob\n",
        "import io\n",
        "import base64\n",
        "import matplotlib.pyplot as plt\n",
        "from IPython.display import HTML\n",
        "from pyvirtualdisplay import Display\n",
        "import tensorflow as tf\n",
        "from IPython import display as ipythondisplay\n",
        "from PIL import Image\n",
        "import tensorflow_probability as tfp\n",
        "import threading"
      ]
    },
    {
      "cell_type": "code",
      "execution_count": 4,
      "metadata": {
        "id": "MXFHQcJjVKYu"
      },
      "outputs": [],
      "source": [
        "class ActorCriticModel(tf.keras.Model):\n",
        "    \"\"\"\n",
        "    Defining policy and value networkss\n",
        "    \"\"\"\n",
        "    def __init__(self, action_size, n_hidden1=24, n_hidden2=24):\n",
        "        super(ActorCriticModel, self).__init__()\n",
        "\n",
        "        #Hidden Layer 1\n",
        "        self.fc1 = tf.keras.layers.Dense(n_hidden1, activation='relu')\n",
        "        #Hidden Layer 2\n",
        "        self.fc2 = tf.keras.layers.Dense(n_hidden2, activation='relu')\n",
        "        \n",
        "        #Output Layer for policy\n",
        "        self.pi_out = tf.keras.layers.Dense(action_size, activation='softmax')\n",
        "        #Output Layer for state-value\n",
        "        self.v_out = tf.keras.layers.Dense(1)\n",
        "\n",
        "    def call(self, state):\n",
        "        \"\"\"\n",
        "        Computes policy distribution and state-value for a given state\n",
        "        \"\"\"\n",
        "        layer1 = self.fc1(state)\n",
        "        layer2 = self.fc2(layer1)\n",
        "\n",
        "        pi = self.pi_out(layer2)\n",
        "        v = self.v_out(layer2)\n",
        "\n",
        "        return pi, v"
      ]
    },
    {
      "cell_type": "markdown",
      "metadata": {
        "id": "40uV1hrewVnA"
      },
      "source": [
        "### Agent Class\n",
        "###**Task 2a:** Write code to compute $\\delta_t$ inside the Agent.learn() function\n",
        "\n"
      ]
    },
    {
      "cell_type": "code",
      "execution_count": 5,
      "metadata": {
        "id": "9RNpp9WMfkTE"
      },
      "outputs": [],
      "source": [
        "class Agent:\n",
        "    \"\"\"\n",
        "    Agent class\n",
        "    \"\"\"\n",
        "    def __init__(self, action_size, lr=3e-5, gamma=0.99):\n",
        "        self.gamma = gamma\n",
        "        self.ac_model = ActorCriticModel(action_size=action_size)\n",
        "        self.ac_model.compile(tf.keras.optimizers.Adam(learning_rate=lr))\n",
        "    \n",
        "    def sample_action(self, state):\n",
        "        \"\"\"\n",
        "        Given a state, compute the policy distribution over all actions and sample one action\n",
        "        \"\"\"\n",
        "        pi,_ = self.ac_model(state)\n",
        "\n",
        "        action_probabilities = tfp.distributions.Categorical(probs=pi)\n",
        "        sample = action_probabilities.sample()\n",
        "\n",
        "        return int(sample.numpy()[0])\n",
        "\n",
        "    def actor_loss(self, action, pi, delta):\n",
        "        \"\"\"\n",
        "        Compute Actor Loss\n",
        "        \"\"\"\n",
        "        return -tf.math.log(pi[0,action]) * delta\n",
        "\n",
        "    def critic_loss(self,delta):\n",
        "        \"\"\"\n",
        "        Critic loss aims to minimize TD error\n",
        "        \"\"\"\n",
        "        return delta**2\n",
        "\n",
        "    @tf.function\n",
        "    def learn(self, state, action, reward, next_state, done):\n",
        "        \"\"\"\n",
        "        For a given transition (s,a,s',r) update the paramters by computing the\n",
        "        gradient of the total loss\n",
        "        \"\"\"\n",
        "        with tf.GradientTape(persistent=True) as tape:\n",
        "            pi, V_s = self.ac_model(state)\n",
        "            _, V_s_next = self.ac_model(next_state)\n",
        "\n",
        "            V_s = tf.squeeze(V_s)\n",
        "            V_s_next = tf.squeeze(V_s_next)\n",
        "\n",
        "            #### TO DO: Write the equation for delta (TD error)\n",
        "            ## Write code below\n",
        "            delta = reward + self.gamma * V_s_next - V_s\n",
        "            \n",
        "            V_s_next = tf.stop_gradient(V_s_next)\n",
        "\n",
        "            loss_a = self.actor_loss(action, pi, delta)\n",
        "            loss_c =self.critic_loss(delta)\n",
        "            loss_total = loss_a + loss_c\n",
        "\n",
        "        gradient = tape.gradient(loss_total, self.ac_model.trainable_variables)\n",
        "        self.ac_model.optimizer.apply_gradients(zip(gradient, self.ac_model.trainable_variables))"
      ]
    },
    {
      "cell_type": "markdown",
      "metadata": {
        "id": "bUJwznIzwBIX"
      },
      "source": [
        "### Train the Network"
      ]
    },
    {
      "cell_type": "code",
      "execution_count": 6,
      "metadata": {
        "colab": {
          "base_uri": "https://localhost:8080/"
        },
        "id": "Q0SB0o_OfyGN",
        "outputId": "9a717e3c-9545-46b2-fc89-5c3b633388f1"
      },
      "outputs": [
        {
          "name": "stdout",
          "output_type": "stream",
          "text": [
            "Action Space:  Discrete(3)\n",
            "Action Size:  3\n",
            "[[ 0.99785316 -0.06549117  0.99921185 -0.03969521 -0.02663786  0.08523577]]\n"
          ]
        }
      ],
      "source": [
        "# env = gym.make('CartPole-v1')\n",
        "from tqdm.notebook import tqdm_notebook as tqdm\n",
        "env = gym.make('Acrobot-v1')\n",
        "\n",
        "# print env info\n",
        "print(\"Action Space: \", env.action_space)\n",
        "print(\"Action Size: \", env.action_space.n)\n",
        "print(env.reset().reshape(1,-1))\n"
      ]
    },
    {
      "cell_type": "code",
      "execution_count": 116,
      "metadata": {},
      "outputs": [
        {
          "data": {
            "application/vnd.jupyter.widget-view+json": {
              "model_id": "435037657de24e7197a4b8c127220e68",
              "version_major": 2,
              "version_minor": 0
            },
            "text/plain": [
              "  0%|          | 0/1000 [00:00<?, ?it/s]"
            ]
          },
          "metadata": {},
          "output_type": "display_data"
        },
        {
          "name": "stdout",
          "output_type": "stream",
          "text": [
            "Episode  1 Reward -500.000000 Average Reward -500.000000\n",
            "Episode  2 Reward -500.000000 Average Reward -500.000000\n",
            "Episode  3 Reward -500.000000 Average Reward -500.000000\n",
            "Episode  4 Reward -500.000000 Average Reward -500.000000\n",
            "Episode  5 Reward -500.000000 Average Reward -500.000000\n",
            "Episode  6 Reward -500.000000 Average Reward -500.000000\n",
            "Episode  7 Reward -500.000000 Average Reward -500.000000\n",
            "Episode  8 Reward -500.000000 Average Reward -500.000000\n",
            "Episode  9 Reward -500.000000 Average Reward -500.000000\n",
            "Episode  10 Reward -500.000000 Average Reward -500.000000\n",
            "Episode  11 Reward -500.000000 Average Reward -500.000000\n",
            "Episode  12 Reward -500.000000 Average Reward -500.000000\n",
            "Episode  13 Reward -500.000000 Average Reward -500.000000\n",
            "Episode  14 Reward -500.000000 Average Reward -500.000000\n",
            "Episode  15 Reward -500.000000 Average Reward -500.000000\n",
            "Episode  16 Reward -500.000000 Average Reward -500.000000\n",
            "Episode  17 Reward -500.000000 Average Reward -500.000000\n",
            "Episode  18 Reward -500.000000 Average Reward -500.000000\n",
            "Episode  19 Reward -500.000000 Average Reward -500.000000\n",
            "Episode  20 Reward -500.000000 Average Reward -500.000000\n",
            "Episode  21 Reward -500.000000 Average Reward -500.000000\n",
            "Episode  22 Reward -500.000000 Average Reward -500.000000\n",
            "Episode  23 Reward -500.000000 Average Reward -500.000000\n",
            "Episode  24 Reward -500.000000 Average Reward -500.000000\n",
            "Episode  25 Reward -500.000000 Average Reward -500.000000\n",
            "Episode  26 Reward -500.000000 Average Reward -500.000000\n",
            "Episode  27 Reward -500.000000 Average Reward -500.000000\n",
            "Episode  28 Reward -500.000000 Average Reward -500.000000\n",
            "Episode  29 Reward -500.000000 Average Reward -500.000000\n",
            "Episode  30 Reward -500.000000 Average Reward -500.000000\n",
            "Episode  31 Reward -500.000000 Average Reward -500.000000\n",
            "Episode  32 Reward -500.000000 Average Reward -500.000000\n",
            "Episode  33 Reward -500.000000 Average Reward -500.000000\n",
            "Episode  34 Reward -500.000000 Average Reward -500.000000\n",
            "Episode  35 Reward -500.000000 Average Reward -500.000000\n",
            "Episode  36 Reward -500.000000 Average Reward -500.000000\n",
            "Episode  37 Reward -500.000000 Average Reward -500.000000\n",
            "Episode  38 Reward -500.000000 Average Reward -500.000000\n",
            "Episode  39 Reward -500.000000 Average Reward -500.000000\n",
            "Episode  40 Reward -500.000000 Average Reward -500.000000\n",
            "Episode  41 Reward -500.000000 Average Reward -500.000000\n",
            "Episode  42 Reward -500.000000 Average Reward -500.000000\n",
            "Episode  43 Reward -500.000000 Average Reward -500.000000\n",
            "Episode  44 Reward -500.000000 Average Reward -500.000000\n",
            "Episode  45 Reward -500.000000 Average Reward -500.000000\n",
            "Episode  46 Reward -500.000000 Average Reward -500.000000\n",
            "Episode  47 Reward -500.000000 Average Reward -500.000000\n",
            "Episode  48 Reward -500.000000 Average Reward -500.000000\n",
            "Episode  49 Reward -500.000000 Average Reward -500.000000\n",
            "Episode  50 Reward -500.000000 Average Reward -500.000000\n",
            "Episode  51 Reward -500.000000 Average Reward -500.000000\n",
            "Episode  52 Reward -500.000000 Average Reward -500.000000\n",
            "Episode  53 Reward -500.000000 Average Reward -500.000000\n",
            "Episode  54 Reward -500.000000 Average Reward -500.000000\n",
            "Episode  55 Reward -500.000000 Average Reward -500.000000\n",
            "Episode  56 Reward -500.000000 Average Reward -500.000000\n",
            "Episode  57 Reward -500.000000 Average Reward -500.000000\n",
            "Episode  58 Reward -500.000000 Average Reward -500.000000\n",
            "Episode  59 Reward -500.000000 Average Reward -500.000000\n",
            "Episode  60 Reward -500.000000 Average Reward -500.000000\n",
            "Episode  61 Reward -500.000000 Average Reward -500.000000\n",
            "Episode  62 Reward -500.000000 Average Reward -500.000000\n",
            "Episode  63 Reward -500.000000 Average Reward -500.000000\n",
            "Episode  64 Reward -500.000000 Average Reward -500.000000\n",
            "Episode  65 Reward -500.000000 Average Reward -500.000000\n",
            "Episode  66 Reward -500.000000 Average Reward -500.000000\n",
            "Episode  67 Reward -500.000000 Average Reward -500.000000\n",
            "Episode  68 Reward -500.000000 Average Reward -500.000000\n",
            "Episode  69 Reward -500.000000 Average Reward -500.000000\n",
            "Episode  70 Reward -500.000000 Average Reward -500.000000\n",
            "Episode  71 Reward -500.000000 Average Reward -500.000000\n",
            "Episode  72 Reward -500.000000 Average Reward -500.000000\n",
            "Episode  73 Reward -500.000000 Average Reward -500.000000\n",
            "Episode  74 Reward -500.000000 Average Reward -500.000000\n",
            "Episode  75 Reward -500.000000 Average Reward -500.000000\n",
            "Episode  76 Reward -500.000000 Average Reward -500.000000\n",
            "Episode  77 Reward -500.000000 Average Reward -500.000000\n",
            "Episode  78 Reward -500.000000 Average Reward -500.000000\n",
            "Episode  79 Reward -500.000000 Average Reward -500.000000\n",
            "Episode  80 Reward -500.000000 Average Reward -500.000000\n",
            "Episode  81 Reward -500.000000 Average Reward -500.000000\n",
            "Episode  82 Reward -500.000000 Average Reward -500.000000\n",
            "Episode  83 Reward -500.000000 Average Reward -500.000000\n",
            "Episode  84 Reward -500.000000 Average Reward -500.000000\n",
            "Episode  85 Reward -500.000000 Average Reward -500.000000\n",
            "Episode  86 Reward -500.000000 Average Reward -500.000000\n",
            "Episode  87 Reward -500.000000 Average Reward -500.000000\n",
            "Episode  88 Reward -500.000000 Average Reward -500.000000\n",
            "Episode  89 Reward -500.000000 Average Reward -500.000000\n",
            "Episode  90 Reward -500.000000 Average Reward -500.000000\n",
            "Episode  91 Reward -500.000000 Average Reward -500.000000\n",
            "Episode  92 Reward -500.000000 Average Reward -500.000000\n",
            "Episode  93 Reward -500.000000 Average Reward -500.000000\n",
            "Episode  94 Reward -500.000000 Average Reward -500.000000\n",
            "Episode  95 Reward -500.000000 Average Reward -500.000000\n",
            "Episode  96 Reward -500.000000 Average Reward -500.000000\n",
            "Episode  97 Reward -500.000000 Average Reward -500.000000\n",
            "Episode  98 Reward -500.000000 Average Reward -500.000000\n",
            "Episode  99 Reward -500.000000 Average Reward -500.000000\n",
            "Episode  100 Reward -500.000000 Average Reward -500.000000\n",
            "Episode  101 Reward -500.000000 Average Reward -500.000000\n",
            "Episode  102 Reward -500.000000 Average Reward -500.000000\n",
            "Episode  103 Reward -500.000000 Average Reward -500.000000\n",
            "Episode  104 Reward -500.000000 Average Reward -500.000000\n",
            "Episode  105 Reward -500.000000 Average Reward -500.000000\n",
            "Episode  106 Reward -500.000000 Average Reward -500.000000\n",
            "Episode  107 Reward -500.000000 Average Reward -500.000000\n",
            "Episode  108 Reward -500.000000 Average Reward -500.000000\n",
            "Episode  109 Reward -500.000000 Average Reward -500.000000\n",
            "Episode  110 Reward -500.000000 Average Reward -500.000000\n",
            "Episode  111 Reward -500.000000 Average Reward -500.000000\n",
            "Episode  112 Reward -500.000000 Average Reward -500.000000\n",
            "Episode  113 Reward -500.000000 Average Reward -500.000000\n",
            "Episode  114 Reward -500.000000 Average Reward -500.000000\n",
            "Episode  115 Reward -500.000000 Average Reward -500.000000\n",
            "Episode  116 Reward -500.000000 Average Reward -500.000000\n",
            "Episode  117 Reward -500.000000 Average Reward -500.000000\n",
            "Episode  118 Reward -500.000000 Average Reward -500.000000\n",
            "Episode  119 Reward -500.000000 Average Reward -500.000000\n",
            "Episode  120 Reward -500.000000 Average Reward -500.000000\n",
            "Episode  121 Reward -500.000000 Average Reward -500.000000\n",
            "Episode  122 Reward -500.000000 Average Reward -500.000000\n",
            "Episode  123 Reward -500.000000 Average Reward -500.000000\n",
            "Episode  124 Reward -500.000000 Average Reward -500.000000\n",
            "Episode  125 Reward -500.000000 Average Reward -500.000000\n",
            "Episode  126 Reward -500.000000 Average Reward -500.000000\n",
            "Episode  127 Reward -500.000000 Average Reward -500.000000\n",
            "Episode  128 Reward -500.000000 Average Reward -500.000000\n",
            "Episode  129 Reward -500.000000 Average Reward -500.000000\n",
            "Episode  130 Reward -500.000000 Average Reward -500.000000\n",
            "Episode  131 Reward -500.000000 Average Reward -500.000000\n",
            "Episode  132 Reward -500.000000 Average Reward -500.000000\n",
            "Episode  133 Reward -500.000000 Average Reward -500.000000\n",
            "Episode  134 Reward -500.000000 Average Reward -500.000000\n",
            "Episode  135 Reward -500.000000 Average Reward -500.000000\n",
            "Episode  136 Reward -500.000000 Average Reward -500.000000\n",
            "Episode  137 Reward -500.000000 Average Reward -500.000000\n",
            "Episode  138 Reward -500.000000 Average Reward -500.000000\n",
            "Episode  139 Reward -500.000000 Average Reward -500.000000\n",
            "Episode  140 Reward -500.000000 Average Reward -500.000000\n",
            "Episode  141 Reward -500.000000 Average Reward -500.000000\n",
            "Episode  142 Reward -500.000000 Average Reward -500.000000\n",
            "Episode  143 Reward -500.000000 Average Reward -500.000000\n",
            "Episode  144 Reward -500.000000 Average Reward -500.000000\n",
            "Episode  145 Reward -500.000000 Average Reward -500.000000\n",
            "Episode  146 Reward -500.000000 Average Reward -500.000000\n",
            "Episode  147 Reward -500.000000 Average Reward -500.000000\n",
            "Episode  148 Reward -500.000000 Average Reward -500.000000\n",
            "Episode  149 Reward -500.000000 Average Reward -500.000000\n",
            "Episode  150 Reward -500.000000 Average Reward -500.000000\n",
            "Episode  151 Reward -500.000000 Average Reward -500.000000\n",
            "Episode  152 Reward -500.000000 Average Reward -500.000000\n",
            "Episode  153 Reward -500.000000 Average Reward -500.000000\n",
            "Episode  154 Reward -500.000000 Average Reward -500.000000\n",
            "Episode  155 Reward -500.000000 Average Reward -500.000000\n",
            "Episode  156 Reward -500.000000 Average Reward -500.000000\n",
            "Episode  157 Reward -500.000000 Average Reward -500.000000\n",
            "Episode  158 Reward -500.000000 Average Reward -500.000000\n",
            "Episode  159 Reward -500.000000 Average Reward -500.000000\n",
            "Episode  160 Reward -500.000000 Average Reward -500.000000\n",
            "Episode  161 Reward -500.000000 Average Reward -500.000000\n",
            "Episode  162 Reward -500.000000 Average Reward -500.000000\n",
            "Episode  163 Reward -500.000000 Average Reward -500.000000\n"
          ]
        },
        {
          "ename": "KeyboardInterrupt",
          "evalue": "",
          "output_type": "error",
          "traceback": [
            "\u001b[1;31m---------------------------------------------------------------------------\u001b[0m",
            "\u001b[1;31mKeyboardInterrupt\u001b[0m                         Traceback (most recent call last)",
            "\u001b[1;32md:\\Files\\RL Playground\\PA2\\ACM_Acrobot.ipynb Cell 9'\u001b[0m in \u001b[0;36m<module>\u001b[1;34m\u001b[0m\n\u001b[0;32m     <a href='vscode-notebook-cell:/d%3A/Files/RL%20Playground/PA2/ACM_Acrobot.ipynb#ch0000031?line=17'>18</a>\u001b[0m     next_state \u001b[39m=\u001b[39m next_state\u001b[39m.\u001b[39mreshape(\u001b[39m1\u001b[39m,\u001b[39m-\u001b[39m\u001b[39m1\u001b[39m)\n\u001b[0;32m     <a href='vscode-notebook-cell:/d%3A/Files/RL%20Playground/PA2/ACM_Acrobot.ipynb#ch0000031?line=18'>19</a>\u001b[0m     ep_rew \u001b[39m+\u001b[39m\u001b[39m=\u001b[39m reward  \u001b[39m##Updating episode reward\u001b[39;00m\n\u001b[1;32m---> <a href='vscode-notebook-cell:/d%3A/Files/RL%20Playground/PA2/ACM_Acrobot.ipynb#ch0000031?line=19'>20</a>\u001b[0m     agent\u001b[39m.\u001b[39;49mlearn(state, action, reward, next_state, done) \u001b[39m##Update Parameters\u001b[39;00m\n\u001b[0;32m     <a href='vscode-notebook-cell:/d%3A/Files/RL%20Playground/PA2/ACM_Acrobot.ipynb#ch0000031?line=20'>21</a>\u001b[0m     state \u001b[39m=\u001b[39m next_state \u001b[39m##Updating State\u001b[39;00m\n\u001b[0;32m     <a href='vscode-notebook-cell:/d%3A/Files/RL%20Playground/PA2/ACM_Acrobot.ipynb#ch0000031?line=21'>22</a>\u001b[0m reward_list\u001b[39m.\u001b[39mappend(ep_rew)\n",
            "File \u001b[1;32m~\\AppData\\Roaming\\Python\\Python39\\site-packages\\tensorflow\\python\\util\\traceback_utils.py:150\u001b[0m, in \u001b[0;36mfilter_traceback.<locals>.error_handler\u001b[1;34m(*args, **kwargs)\u001b[0m\n\u001b[0;32m    <a href='file:///c%3A/Users/Vedant/AppData/Roaming/Python/Python39/site-packages/tensorflow/python/util/traceback_utils.py?line=147'>148</a>\u001b[0m filtered_tb \u001b[39m=\u001b[39m \u001b[39mNone\u001b[39;00m\n\u001b[0;32m    <a href='file:///c%3A/Users/Vedant/AppData/Roaming/Python/Python39/site-packages/tensorflow/python/util/traceback_utils.py?line=148'>149</a>\u001b[0m \u001b[39mtry\u001b[39;00m:\n\u001b[1;32m--> <a href='file:///c%3A/Users/Vedant/AppData/Roaming/Python/Python39/site-packages/tensorflow/python/util/traceback_utils.py?line=149'>150</a>\u001b[0m   \u001b[39mreturn\u001b[39;00m fn(\u001b[39m*\u001b[39margs, \u001b[39m*\u001b[39m\u001b[39m*\u001b[39mkwargs)\n\u001b[0;32m    <a href='file:///c%3A/Users/Vedant/AppData/Roaming/Python/Python39/site-packages/tensorflow/python/util/traceback_utils.py?line=150'>151</a>\u001b[0m \u001b[39mexcept\u001b[39;00m \u001b[39mException\u001b[39;00m \u001b[39mas\u001b[39;00m e:\n\u001b[0;32m    <a href='file:///c%3A/Users/Vedant/AppData/Roaming/Python/Python39/site-packages/tensorflow/python/util/traceback_utils.py?line=151'>152</a>\u001b[0m   filtered_tb \u001b[39m=\u001b[39m _process_traceback_frames(e\u001b[39m.\u001b[39m__traceback__)\n",
            "File \u001b[1;32m~\\AppData\\Roaming\\Python\\Python39\\site-packages\\tensorflow\\python\\eager\\def_function.py:915\u001b[0m, in \u001b[0;36mFunction.__call__\u001b[1;34m(self, *args, **kwds)\u001b[0m\n\u001b[0;32m    <a href='file:///c%3A/Users/Vedant/AppData/Roaming/Python/Python39/site-packages/tensorflow/python/eager/def_function.py?line=911'>912</a>\u001b[0m compiler \u001b[39m=\u001b[39m \u001b[39m\"\u001b[39m\u001b[39mxla\u001b[39m\u001b[39m\"\u001b[39m \u001b[39mif\u001b[39;00m \u001b[39mself\u001b[39m\u001b[39m.\u001b[39m_jit_compile \u001b[39melse\u001b[39;00m \u001b[39m\"\u001b[39m\u001b[39mnonXla\u001b[39m\u001b[39m\"\u001b[39m\n\u001b[0;32m    <a href='file:///c%3A/Users/Vedant/AppData/Roaming/Python/Python39/site-packages/tensorflow/python/eager/def_function.py?line=913'>914</a>\u001b[0m \u001b[39mwith\u001b[39;00m OptionalXlaContext(\u001b[39mself\u001b[39m\u001b[39m.\u001b[39m_jit_compile):\n\u001b[1;32m--> <a href='file:///c%3A/Users/Vedant/AppData/Roaming/Python/Python39/site-packages/tensorflow/python/eager/def_function.py?line=914'>915</a>\u001b[0m   result \u001b[39m=\u001b[39m \u001b[39mself\u001b[39m\u001b[39m.\u001b[39m_call(\u001b[39m*\u001b[39margs, \u001b[39m*\u001b[39m\u001b[39m*\u001b[39mkwds)\n\u001b[0;32m    <a href='file:///c%3A/Users/Vedant/AppData/Roaming/Python/Python39/site-packages/tensorflow/python/eager/def_function.py?line=916'>917</a>\u001b[0m new_tracing_count \u001b[39m=\u001b[39m \u001b[39mself\u001b[39m\u001b[39m.\u001b[39mexperimental_get_tracing_count()\n\u001b[0;32m    <a href='file:///c%3A/Users/Vedant/AppData/Roaming/Python/Python39/site-packages/tensorflow/python/eager/def_function.py?line=917'>918</a>\u001b[0m without_tracing \u001b[39m=\u001b[39m (tracing_count \u001b[39m==\u001b[39m new_tracing_count)\n",
            "File \u001b[1;32m~\\AppData\\Roaming\\Python\\Python39\\site-packages\\tensorflow\\python\\eager\\def_function.py:947\u001b[0m, in \u001b[0;36mFunction._call\u001b[1;34m(self, *args, **kwds)\u001b[0m\n\u001b[0;32m    <a href='file:///c%3A/Users/Vedant/AppData/Roaming/Python/Python39/site-packages/tensorflow/python/eager/def_function.py?line=943'>944</a>\u001b[0m   \u001b[39mself\u001b[39m\u001b[39m.\u001b[39m_lock\u001b[39m.\u001b[39mrelease()\n\u001b[0;32m    <a href='file:///c%3A/Users/Vedant/AppData/Roaming/Python/Python39/site-packages/tensorflow/python/eager/def_function.py?line=944'>945</a>\u001b[0m   \u001b[39m# In this case we have created variables on the first call, so we run the\u001b[39;00m\n\u001b[0;32m    <a href='file:///c%3A/Users/Vedant/AppData/Roaming/Python/Python39/site-packages/tensorflow/python/eager/def_function.py?line=945'>946</a>\u001b[0m   \u001b[39m# defunned version which is guaranteed to never create variables.\u001b[39;00m\n\u001b[1;32m--> <a href='file:///c%3A/Users/Vedant/AppData/Roaming/Python/Python39/site-packages/tensorflow/python/eager/def_function.py?line=946'>947</a>\u001b[0m   \u001b[39mreturn\u001b[39;00m \u001b[39mself\u001b[39m\u001b[39m.\u001b[39m_stateless_fn(\u001b[39m*\u001b[39margs, \u001b[39m*\u001b[39m\u001b[39m*\u001b[39mkwds)  \u001b[39m# pylint: disable=not-callable\u001b[39;00m\n\u001b[0;32m    <a href='file:///c%3A/Users/Vedant/AppData/Roaming/Python/Python39/site-packages/tensorflow/python/eager/def_function.py?line=947'>948</a>\u001b[0m \u001b[39melif\u001b[39;00m \u001b[39mself\u001b[39m\u001b[39m.\u001b[39m_stateful_fn \u001b[39mis\u001b[39;00m \u001b[39mnot\u001b[39;00m \u001b[39mNone\u001b[39;00m:\n\u001b[0;32m    <a href='file:///c%3A/Users/Vedant/AppData/Roaming/Python/Python39/site-packages/tensorflow/python/eager/def_function.py?line=948'>949</a>\u001b[0m   \u001b[39m# Release the lock early so that multiple threads can perform the call\u001b[39;00m\n\u001b[0;32m    <a href='file:///c%3A/Users/Vedant/AppData/Roaming/Python/Python39/site-packages/tensorflow/python/eager/def_function.py?line=949'>950</a>\u001b[0m   \u001b[39m# in parallel.\u001b[39;00m\n\u001b[0;32m    <a href='file:///c%3A/Users/Vedant/AppData/Roaming/Python/Python39/site-packages/tensorflow/python/eager/def_function.py?line=950'>951</a>\u001b[0m   \u001b[39mself\u001b[39m\u001b[39m.\u001b[39m_lock\u001b[39m.\u001b[39mrelease()\n",
            "File \u001b[1;32m~\\AppData\\Roaming\\Python\\Python39\\site-packages\\tensorflow\\python\\eager\\function.py:2956\u001b[0m, in \u001b[0;36mFunction.__call__\u001b[1;34m(self, *args, **kwargs)\u001b[0m\n\u001b[0;32m   <a href='file:///c%3A/Users/Vedant/AppData/Roaming/Python/Python39/site-packages/tensorflow/python/eager/function.py?line=2952'>2953</a>\u001b[0m \u001b[39mwith\u001b[39;00m \u001b[39mself\u001b[39m\u001b[39m.\u001b[39m_lock:\n\u001b[0;32m   <a href='file:///c%3A/Users/Vedant/AppData/Roaming/Python/Python39/site-packages/tensorflow/python/eager/function.py?line=2953'>2954</a>\u001b[0m   (graph_function,\n\u001b[0;32m   <a href='file:///c%3A/Users/Vedant/AppData/Roaming/Python/Python39/site-packages/tensorflow/python/eager/function.py?line=2954'>2955</a>\u001b[0m    filtered_flat_args) \u001b[39m=\u001b[39m \u001b[39mself\u001b[39m\u001b[39m.\u001b[39m_maybe_define_function(args, kwargs)\n\u001b[1;32m-> <a href='file:///c%3A/Users/Vedant/AppData/Roaming/Python/Python39/site-packages/tensorflow/python/eager/function.py?line=2955'>2956</a>\u001b[0m \u001b[39mreturn\u001b[39;00m graph_function\u001b[39m.\u001b[39;49m_call_flat(\n\u001b[0;32m   <a href='file:///c%3A/Users/Vedant/AppData/Roaming/Python/Python39/site-packages/tensorflow/python/eager/function.py?line=2956'>2957</a>\u001b[0m     filtered_flat_args, captured_inputs\u001b[39m=\u001b[39;49mgraph_function\u001b[39m.\u001b[39;49mcaptured_inputs)\n",
            "File \u001b[1;32m~\\AppData\\Roaming\\Python\\Python39\\site-packages\\tensorflow\\python\\eager\\function.py:1853\u001b[0m, in \u001b[0;36mConcreteFunction._call_flat\u001b[1;34m(self, args, captured_inputs, cancellation_manager)\u001b[0m\n\u001b[0;32m   <a href='file:///c%3A/Users/Vedant/AppData/Roaming/Python/Python39/site-packages/tensorflow/python/eager/function.py?line=1848'>1849</a>\u001b[0m possible_gradient_type \u001b[39m=\u001b[39m gradients_util\u001b[39m.\u001b[39mPossibleTapeGradientTypes(args)\n\u001b[0;32m   <a href='file:///c%3A/Users/Vedant/AppData/Roaming/Python/Python39/site-packages/tensorflow/python/eager/function.py?line=1849'>1850</a>\u001b[0m \u001b[39mif\u001b[39;00m (possible_gradient_type \u001b[39m==\u001b[39m gradients_util\u001b[39m.\u001b[39mPOSSIBLE_GRADIENT_TYPES_NONE\n\u001b[0;32m   <a href='file:///c%3A/Users/Vedant/AppData/Roaming/Python/Python39/site-packages/tensorflow/python/eager/function.py?line=1850'>1851</a>\u001b[0m     \u001b[39mand\u001b[39;00m executing_eagerly):\n\u001b[0;32m   <a href='file:///c%3A/Users/Vedant/AppData/Roaming/Python/Python39/site-packages/tensorflow/python/eager/function.py?line=1851'>1852</a>\u001b[0m   \u001b[39m# No tape is watching; skip to running the function.\u001b[39;00m\n\u001b[1;32m-> <a href='file:///c%3A/Users/Vedant/AppData/Roaming/Python/Python39/site-packages/tensorflow/python/eager/function.py?line=1852'>1853</a>\u001b[0m   \u001b[39mreturn\u001b[39;00m \u001b[39mself\u001b[39m\u001b[39m.\u001b[39m_build_call_outputs(\u001b[39mself\u001b[39;49m\u001b[39m.\u001b[39;49m_inference_function\u001b[39m.\u001b[39;49mcall(\n\u001b[0;32m   <a href='file:///c%3A/Users/Vedant/AppData/Roaming/Python/Python39/site-packages/tensorflow/python/eager/function.py?line=1853'>1854</a>\u001b[0m       ctx, args, cancellation_manager\u001b[39m=\u001b[39;49mcancellation_manager))\n\u001b[0;32m   <a href='file:///c%3A/Users/Vedant/AppData/Roaming/Python/Python39/site-packages/tensorflow/python/eager/function.py?line=1854'>1855</a>\u001b[0m forward_backward \u001b[39m=\u001b[39m \u001b[39mself\u001b[39m\u001b[39m.\u001b[39m_select_forward_and_backward_functions(\n\u001b[0;32m   <a href='file:///c%3A/Users/Vedant/AppData/Roaming/Python/Python39/site-packages/tensorflow/python/eager/function.py?line=1855'>1856</a>\u001b[0m     args,\n\u001b[0;32m   <a href='file:///c%3A/Users/Vedant/AppData/Roaming/Python/Python39/site-packages/tensorflow/python/eager/function.py?line=1856'>1857</a>\u001b[0m     possible_gradient_type,\n\u001b[0;32m   <a href='file:///c%3A/Users/Vedant/AppData/Roaming/Python/Python39/site-packages/tensorflow/python/eager/function.py?line=1857'>1858</a>\u001b[0m     executing_eagerly)\n\u001b[0;32m   <a href='file:///c%3A/Users/Vedant/AppData/Roaming/Python/Python39/site-packages/tensorflow/python/eager/function.py?line=1858'>1859</a>\u001b[0m forward_function, args_with_tangents \u001b[39m=\u001b[39m forward_backward\u001b[39m.\u001b[39mforward()\n",
            "File \u001b[1;32m~\\AppData\\Roaming\\Python\\Python39\\site-packages\\tensorflow\\python\\eager\\function.py:499\u001b[0m, in \u001b[0;36m_EagerDefinedFunction.call\u001b[1;34m(self, ctx, args, cancellation_manager)\u001b[0m\n\u001b[0;32m    <a href='file:///c%3A/Users/Vedant/AppData/Roaming/Python/Python39/site-packages/tensorflow/python/eager/function.py?line=496'>497</a>\u001b[0m \u001b[39mwith\u001b[39;00m _InterpolateFunctionError(\u001b[39mself\u001b[39m):\n\u001b[0;32m    <a href='file:///c%3A/Users/Vedant/AppData/Roaming/Python/Python39/site-packages/tensorflow/python/eager/function.py?line=497'>498</a>\u001b[0m   \u001b[39mif\u001b[39;00m cancellation_manager \u001b[39mis\u001b[39;00m \u001b[39mNone\u001b[39;00m:\n\u001b[1;32m--> <a href='file:///c%3A/Users/Vedant/AppData/Roaming/Python/Python39/site-packages/tensorflow/python/eager/function.py?line=498'>499</a>\u001b[0m     outputs \u001b[39m=\u001b[39m execute\u001b[39m.\u001b[39;49mexecute(\n\u001b[0;32m    <a href='file:///c%3A/Users/Vedant/AppData/Roaming/Python/Python39/site-packages/tensorflow/python/eager/function.py?line=499'>500</a>\u001b[0m         \u001b[39mstr\u001b[39;49m(\u001b[39mself\u001b[39;49m\u001b[39m.\u001b[39;49msignature\u001b[39m.\u001b[39;49mname),\n\u001b[0;32m    <a href='file:///c%3A/Users/Vedant/AppData/Roaming/Python/Python39/site-packages/tensorflow/python/eager/function.py?line=500'>501</a>\u001b[0m         num_outputs\u001b[39m=\u001b[39;49m\u001b[39mself\u001b[39;49m\u001b[39m.\u001b[39;49m_num_outputs,\n\u001b[0;32m    <a href='file:///c%3A/Users/Vedant/AppData/Roaming/Python/Python39/site-packages/tensorflow/python/eager/function.py?line=501'>502</a>\u001b[0m         inputs\u001b[39m=\u001b[39;49margs,\n\u001b[0;32m    <a href='file:///c%3A/Users/Vedant/AppData/Roaming/Python/Python39/site-packages/tensorflow/python/eager/function.py?line=502'>503</a>\u001b[0m         attrs\u001b[39m=\u001b[39;49mattrs,\n\u001b[0;32m    <a href='file:///c%3A/Users/Vedant/AppData/Roaming/Python/Python39/site-packages/tensorflow/python/eager/function.py?line=503'>504</a>\u001b[0m         ctx\u001b[39m=\u001b[39;49mctx)\n\u001b[0;32m    <a href='file:///c%3A/Users/Vedant/AppData/Roaming/Python/Python39/site-packages/tensorflow/python/eager/function.py?line=504'>505</a>\u001b[0m   \u001b[39melse\u001b[39;00m:\n\u001b[0;32m    <a href='file:///c%3A/Users/Vedant/AppData/Roaming/Python/Python39/site-packages/tensorflow/python/eager/function.py?line=505'>506</a>\u001b[0m     outputs \u001b[39m=\u001b[39m execute\u001b[39m.\u001b[39mexecute_with_cancellation(\n\u001b[0;32m    <a href='file:///c%3A/Users/Vedant/AppData/Roaming/Python/Python39/site-packages/tensorflow/python/eager/function.py?line=506'>507</a>\u001b[0m         \u001b[39mstr\u001b[39m(\u001b[39mself\u001b[39m\u001b[39m.\u001b[39msignature\u001b[39m.\u001b[39mname),\n\u001b[0;32m    <a href='file:///c%3A/Users/Vedant/AppData/Roaming/Python/Python39/site-packages/tensorflow/python/eager/function.py?line=507'>508</a>\u001b[0m         num_outputs\u001b[39m=\u001b[39m\u001b[39mself\u001b[39m\u001b[39m.\u001b[39m_num_outputs,\n\u001b[1;32m   (...)\u001b[0m\n\u001b[0;32m    <a href='file:///c%3A/Users/Vedant/AppData/Roaming/Python/Python39/site-packages/tensorflow/python/eager/function.py?line=510'>511</a>\u001b[0m         ctx\u001b[39m=\u001b[39mctx,\n\u001b[0;32m    <a href='file:///c%3A/Users/Vedant/AppData/Roaming/Python/Python39/site-packages/tensorflow/python/eager/function.py?line=511'>512</a>\u001b[0m         cancellation_manager\u001b[39m=\u001b[39mcancellation_manager)\n",
            "File \u001b[1;32m~\\AppData\\Roaming\\Python\\Python39\\site-packages\\tensorflow\\python\\eager\\execute.py:54\u001b[0m, in \u001b[0;36mquick_execute\u001b[1;34m(op_name, num_outputs, inputs, attrs, ctx, name)\u001b[0m\n\u001b[0;32m     <a href='file:///c%3A/Users/Vedant/AppData/Roaming/Python/Python39/site-packages/tensorflow/python/eager/execute.py?line=51'>52</a>\u001b[0m \u001b[39mtry\u001b[39;00m:\n\u001b[0;32m     <a href='file:///c%3A/Users/Vedant/AppData/Roaming/Python/Python39/site-packages/tensorflow/python/eager/execute.py?line=52'>53</a>\u001b[0m   ctx\u001b[39m.\u001b[39mensure_initialized()\n\u001b[1;32m---> <a href='file:///c%3A/Users/Vedant/AppData/Roaming/Python/Python39/site-packages/tensorflow/python/eager/execute.py?line=53'>54</a>\u001b[0m   tensors \u001b[39m=\u001b[39m pywrap_tfe\u001b[39m.\u001b[39;49mTFE_Py_Execute(ctx\u001b[39m.\u001b[39;49m_handle, device_name, op_name,\n\u001b[0;32m     <a href='file:///c%3A/Users/Vedant/AppData/Roaming/Python/Python39/site-packages/tensorflow/python/eager/execute.py?line=54'>55</a>\u001b[0m                                       inputs, attrs, num_outputs)\n\u001b[0;32m     <a href='file:///c%3A/Users/Vedant/AppData/Roaming/Python/Python39/site-packages/tensorflow/python/eager/execute.py?line=55'>56</a>\u001b[0m \u001b[39mexcept\u001b[39;00m core\u001b[39m.\u001b[39m_NotOkStatusException \u001b[39mas\u001b[39;00m e:\n\u001b[0;32m     <a href='file:///c%3A/Users/Vedant/AppData/Roaming/Python/Python39/site-packages/tensorflow/python/eager/execute.py?line=56'>57</a>\u001b[0m   \u001b[39mif\u001b[39;00m name \u001b[39mis\u001b[39;00m \u001b[39mnot\u001b[39;00m \u001b[39mNone\u001b[39;00m:\n",
            "\u001b[1;31mKeyboardInterrupt\u001b[0m: "
          ]
        }
      ],
      "source": [
        "\n",
        "#Initializing Agent\n",
        "agent = Agent(action_size=env.action_space.n)\n",
        "#Number of episodes\n",
        "episodes = 1000\n",
        "tf.compat.v1.reset_default_graph()\n",
        "\n",
        "reward_list = []\n",
        "average_reward_list = []\n",
        "begin_time = datetime.datetime.now()\n",
        "\n",
        "for ep in tqdm(range(1, episodes + 1)):\n",
        "    state = env.reset().reshape(1,-1)\n",
        "    done = False\n",
        "    ep_rew = 0\n",
        "    while not done:\n",
        "        action = agent.sample_action(state) ##Sample Action\n",
        "        next_state, reward, done, info = env.step(action) ##Take action\n",
        "        next_state = next_state.reshape(1,-1)\n",
        "        ep_rew += reward  ##Updating episode reward\n",
        "        agent.learn(state, action, reward, next_state, done) ##Update Parameters\n",
        "        state = next_state ##Updating State\n",
        "    reward_list.append(ep_rew)\n",
        "    if(len(reward_list) >= 20):\n",
        "      avg_20 =  np.mean(reward_list[-20:])\n",
        "      average_reward_list.append(avg_20)\n",
        "    else:\n",
        "      avg = np.mean(reward_list)\n",
        "      average_reward_list.append(avg)\n",
        "\n",
        "    if ep % 1 == 0:\n",
        "        avg_rew = np.mean(reward_list[-1:])\n",
        "        print('Episode ', ep, 'Reward %f' % ep_rew, 'Average Reward %f' % avg_rew)\n",
        "\n",
        "    if ep % 20:\n",
        "        avg_20 =  np.mean(reward_list[-20:])\n",
        "        if avg_20 > -100.0:\n",
        "            print('Stopped at Episode ',ep-20)\n",
        "            break\n",
        "\n",
        "time_taken = datetime.datetime.now() - begin_time\n",
        "print(time_taken)"
      ]
    },
    {
      "cell_type": "code",
      "execution_count": null,
      "metadata": {
        "colab": {
          "base_uri": "https://localhost:8080/",
          "height": 561
        },
        "id": "wOZzkLIgvHgS",
        "outputId": "9d7e346b-dbe5-4f00-da6b-95962afb0392"
      },
      "outputs": [
        {
          "data": {
            "image/png": "[encoded data removed]",
            "text/plain": [
              "<Figure size 921.6x633.6 with 1 Axes>"
            ]
          },
          "metadata": {
            "needs_background": "light"
          },
          "output_type": "display_data"
        }
      ],
      "source": [
        "### Plot of total reward vs episode\n",
        "## Write Code Below\n",
        "\n",
        "plt.style.use('seaborn-poster')\n",
        "# plt.figure(figsize = (10,8))\n",
        "plt.xlabel('Episode')\n",
        "plt.ylabel('Average reward, over last 100 episodes')\n",
        "plt.plot(range(len(average_reward_list)),average_reward_list, 'b')\n",
        "plt.show()\n"
      ]
    },
    {
      "cell_type": "code",
      "execution_count": 7,
      "metadata": {},
      "outputs": [],
      "source": [
        "def actor_critic(env, episodes=10000, lr = 3e-5, gamma = 0.99):\n",
        "    # rs = np.random.RandomState()\n",
        "    #Initializing Agent\n",
        "    agent = Agent(lr=lr, gamma=gamma, action_size=env.action_space.n)\n",
        "    tf.compat.v1.reset_default_graph()\n",
        "\n",
        "    reward_list = []\n",
        "    average_reward_list = []\n",
        "\n",
        "    for ep in tqdm(range(1, episodes + 1)):\n",
        "        state = env.reset().reshape(1,-1)\n",
        "        done = False\n",
        "        ep_rew = 0\n",
        "        while not done:\n",
        "            action = agent.sample_action(state) ##Sample Action\n",
        "            next_state, reward, done, info = env.step(action) ##Take action\n",
        "            next_state = next_state.reshape(1,-1)\n",
        "            ep_rew += reward  ##Updating episode reward\n",
        "            agent.learn(state, action, reward, next_state, done) ##Update Parameters\n",
        "            state = next_state ##Updating State\n",
        "        reward_list.append(ep_rew)\n",
        "        if(len(reward_list) >= 20):\n",
        "            avg_20 =  np.mean(reward_list[-20:])\n",
        "            average_reward_list.append(avg_20)\n",
        "        else:\n",
        "            avg = np.mean(reward_list)\n",
        "            average_reward_list.append(avg)\n",
        "\n",
        "        if ep % 5 == 0:\n",
        "            avg_rew = np.mean(reward_list[-5:])\n",
        "            # print('\\rEpisode ', ep, 'Reward %f' % ep_rew, 'Average Reward %f' % avg_rew, end='')\n",
        "\n",
        "        if ep % 20:\n",
        "            avg_20 =  np.mean(reward_list[-20:])\n",
        "            # if avg_20 > -100.0:\n",
        "            #     print('\\rStopped at Episode ',ep-20)\n",
        "                # break\n",
        "    return avg_rew, average_reward_list\n"
      ]
    },
    {
      "cell_type": "code",
      "execution_count": 8,
      "metadata": {},
      "outputs": [
        {
          "data": {
            "application/vnd.jupyter.widget-view+json": {
              "model_id": "a70ed8bfe6eb412f90870f9b8159e05b",
              "version_major": 2,
              "version_minor": 0
            },
            "text/plain": [
              "  0%|          | 0/1000 [00:00<?, ?it/s]"
            ]
          },
          "metadata": {},
          "output_type": "display_data"
        },
        {
          "data": {
            "application/vnd.jupyter.widget-view+json": {
              "model_id": "5ecb0cf41f0e4e6b86aad66ea6d9388a",
              "version_major": 2,
              "version_minor": 0
            },
            "text/plain": [
              "  0%|          | 0/1000 [00:00<?, ?it/s]"
            ]
          },
          "metadata": {},
          "output_type": "display_data"
        },
        {
          "data": {
            "application/vnd.jupyter.widget-view+json": {
              "model_id": "963ff175312c464db7a72628682c76a1",
              "version_major": 2,
              "version_minor": 0
            },
            "text/plain": [
              "  0%|          | 0/1000 [00:00<?, ?it/s]"
            ]
          },
          "metadata": {},
          "output_type": "display_data"
        },
        {
          "data": {
            "application/vnd.jupyter.widget-view+json": {
              "model_id": "e7b301324e36404daccf1f458b997cd3",
              "version_major": 2,
              "version_minor": 0
            },
            "text/plain": [
              "  0%|          | 0/1000 [00:00<?, ?it/s]"
            ]
          },
          "metadata": {},
          "output_type": "display_data"
        },
        {
          "data": {
            "application/vnd.jupyter.widget-view+json": {
              "model_id": "b0d7f79587924aaf8b1e1dbec6f65770",
              "version_major": 2,
              "version_minor": 0
            },
            "text/plain": [
              "  0%|          | 0/1000 [00:00<?, ?it/s]"
            ]
          },
          "metadata": {},
          "output_type": "display_data"
        },
        {
          "data": {
            "application/vnd.jupyter.widget-view+json": {
              "model_id": "fd809b75efef4465912959c85d7f686d",
              "version_major": 2,
              "version_minor": 0
            },
            "text/plain": [
              "  0%|          | 0/1000 [00:00<?, ?it/s]"
            ]
          },
          "metadata": {},
          "output_type": "display_data"
        },
        {
          "data": {
            "application/vnd.jupyter.widget-view+json": {
              "model_id": "2905f094e6ea4ba2aa3936631d5de1e1",
              "version_major": 2,
              "version_minor": 0
            },
            "text/plain": [
              "  0%|          | 0/1000 [00:00<?, ?it/s]"
            ]
          },
          "metadata": {},
          "output_type": "display_data"
        },
        {
          "data": {
            "application/vnd.jupyter.widget-view+json": {
              "model_id": "6a592b194c9b4a60bae55e75fe0fc9f1",
              "version_major": 2,
              "version_minor": 0
            },
            "text/plain": [
              "  0%|          | 0/1000 [00:00<?, ?it/s]"
            ]
          },
          "metadata": {},
          "output_type": "display_data"
        },
        {
          "data": {
            "application/vnd.jupyter.widget-view+json": {
              "model_id": "3a78358877584cefbe724e56e36c1e66",
              "version_major": 2,
              "version_minor": 0
            },
            "text/plain": [
              "  0%|          | 0/1000 [00:00<?, ?it/s]"
            ]
          },
          "metadata": {},
          "output_type": "display_data"
        },
        {
          "data": {
            "application/vnd.jupyter.widget-view+json": {
              "model_id": "2a86dd941011416fba655de0b8269a8f",
              "version_major": 2,
              "version_minor": 0
            },
            "text/plain": [
              "  0%|          | 0/1000 [00:00<?, ?it/s]"
            ]
          },
          "metadata": {},
          "output_type": "display_data"
        },
        {
          "name": "stdout",
          "output_type": "stream",
          "text": [
            "WARNING:tensorflow:5 out of the last 5 calls to <function Agent.learn at 0x0000021EE1AE0700> triggered tf.function retracing. Tracing is expensive and the excessive number of tracings could be due to (1) creating @tf.function repeatedly in a loop, (2) passing tensors with different shapes, (3) passing Python objects instead of tensors. For (1), please define your @tf.function outside of the loop. For (2), @tf.function has experimental_relax_shapes=True option that relaxes argument shapes that can avoid unnecessary retracing. For (3), please refer to https://www.tensorflow.org/guide/function#controlling_retracing and https://www.tensorflow.org/api_docs/python/tf/function for  more details.\n",
            "WARNING:tensorflow:6 out of the last 6 calls to <function Agent.learn at 0x0000021EE1A86700> triggered tf.function retracing. Tracing is expensive and the excessive number of tracings could be due to (1) creating @tf.function repeatedly in a loop, (2) passing tensors with different shapes, (3) passing Python objects instead of tensors. For (1), please define your @tf.function outside of the loop. For (2), @tf.function has experimental_relax_shapes=True option that relaxes argument shapes that can avoid unnecessary retracing. For (3), please refer to https://www.tensorflow.org/guide/function#controlling_retracing and https://www.tensorflow.org/api_docs/python/tf/function for  more details.\n"
          ]
        }
      ],
      "source": [
        "import threading\n",
        "import queue\n",
        "\n",
        "my_queue = queue.Queue()\n",
        "\n",
        "def storeInQueue(f):\n",
        "  def wrapper(*args):\n",
        "    my_queue.put(f(*args))\n",
        "  return wrapper\n",
        "\n",
        "\n",
        "@storeInQueue\n",
        "def actor_critic_mt(env,episodes,lr,gamma):\n",
        "   _, l = actor_critic(env,episodes,lr,gamma)\n",
        "   return l\n",
        "\n",
        "\n",
        "\n",
        "# t = threading.Thread(target=get_name, args = (\"foo\", ))\n",
        "# t.start()\n",
        "\n",
        "\n",
        "experiments = 10\n",
        "episodes = 1000\n",
        "gamma = 0.99\n",
        "lr = 3e-5\n",
        "avg_rew_plots = np.zeros((experiments,episodes))\n",
        "for e in range(experiments):\n",
        "    try:\n",
        "        env = gym.make('Acrobot-v1')\n",
        "        t = threading.Thread(target=actor_critic_mt, args = (env,episodes,lr,gamma))\n",
        "        t.start()\n",
        "    except:\n",
        "        print(\"threading failed for e = \", e)\n",
        "        # avg_rew, avg_rew_plots[e] = actor_critic(env, lr = lr,episodes=episodes)\n",
        "\n",
        "for e in range(experiments):\n",
        "    avg_rew_plots[e] = my_queue.get()\n",
        "    \n",
        "avg_avg_rew_plot = np.average(avg_rew_plots, axis=0)\n",
        "plt.plot(avg_avg_rew_plot)\n"
      ]
    }
  ],
  "metadata": {
    "accelerator": "GPU",
    "colab": {
      "collapsed_sections": [
        "5LBh6_lOVBdN"
      ],
      "name": "Tutorial_4.ipynb",
      "provenance": []
    },
    "kernelspec": {
      "display_name": "Python 3",
      "name": "python3"
    },
    "language_info": {
      "codemirror_mode": {
        "name": "ipython",
        "version": 3
      },
      "file_extension": ".py",
      "mimetype": "text/x-python",
      "name": "python",
      "nbconvert_exporter": "python",
      "pygments_lexer": "ipython3",
      "version": "3.9.2"
    }
  },
  "nbformat": 4,
  "nbformat_minor": 0
}
