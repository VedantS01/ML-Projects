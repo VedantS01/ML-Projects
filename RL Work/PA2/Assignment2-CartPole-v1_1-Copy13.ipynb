{
 "cells": [
  {
   "cell_type": "markdown",
   "metadata": {
    "id": "pn7PKu9r0asK"
   },
   "source": [
    "#**Tutorial 4 - DQN and Actor-Critic**\n",
    "\n",
    "Please follow this tutorial to understand the structure (code) of DQNs & get familiar with Actor Critic methods.\n",
    "\n",
    "\n",
    "### References:\n",
    "\n",
    "Please follow [Human-level control through deep reinforcement learning](https://www.nature.com/articles/nature14236) for the original publication as well as the psuedocode. Watch Prof. Ravi's lectures on moodle or nptel for further understanding the core concepts. Contact the TAs for further resources if needed. \n",
    "\n",
    "\n",
    "##**Part 1: DQN**"
   ]
  },
  {
   "cell_type": "code",
   "execution_count": 1,
   "metadata": {
    "id": "P_DODRgW_ZKS"
   },
   "outputs": [],
   "source": [
    "'''\n",
    "A bunch of imports, you don't have to worry about these\n",
    "'''\n",
    "\n",
    "import numpy as np\n",
    "import random\n",
    "import torch\n",
    "import torch.nn as nn  \n",
    "import torch.nn.functional as F\n",
    "from collections import namedtuple, deque\n",
    "import torch.optim as optim\n",
    "import datetime\n",
    "import gym\n",
    "from gym import wrappers\n",
    "import glob\n",
    "import io\n",
    "import base64\n",
    "import matplotlib.pyplot as plt\n",
    "from IPython.display import HTML\n",
    "from pyvirtualdisplay import Display\n",
    "import tensorflow as tf\n",
    "from IPython import display as ipythondisplay\n",
    "from PIL import Image\n",
    "import tensorflow_probability as tfp"
   ]
  },
  {
   "cell_type": "code",
   "execution_count": 2,
   "metadata": {
    "colab": {
     "base_uri": "https://localhost:8080/"
    },
    "id": "fYNA5kiH_esJ",
    "outputId": "d623e007-d532-4162-d93b-6023b34c80ba"
   },
   "outputs": [
    {
     "name": "stdout",
     "output_type": "stream",
     "text": [
      "6\n",
      "3\n",
      "2\n",
      "----\n",
      "[ 0.99962485  0.02738891  0.9989402  -0.04602639 -0.09180529 -0.09669447]\n",
      "----\n",
      "2\n",
      "----\n",
      "[ 0.99996984 -0.0077642   0.9997182  -0.02373883 -0.25169677  0.31000718]\n",
      "-1.0\n",
      "False\n",
      "{}\n",
      "----\n"
     ]
    }
   ],
   "source": [
    "'''\n",
    "Please refer to the first tutorial for more details on the specifics of environments\n",
    "We've only added important commands you might find useful for experiments.\n",
    "'''\n",
    "\n",
    "'''\n",
    "List of example environments\n",
    "(Source - https://gym.openai.com/envs/#classic_control)\n",
    "\n",
    "'Acrobot-v1'\n",
    "'CartPole-v0'\n",
    "'MountainCar-v0'\n",
    "'''\n",
    "\n",
    "env = gym.make('Acrobot-v1')\n",
    "env.seed(0)\n",
    "\n",
    "state_shape = env.observation_space.shape[0]\n",
    "no_of_actions = env.action_space.n\n",
    "\n",
    "print(state_shape)\n",
    "print(no_of_actions)\n",
    "print(env.action_space.sample())\n",
    "print(\"----\")\n",
    "\n",
    "'''\n",
    "# Understanding State, Action, Reward Dynamics\n",
    "\n",
    "The agent decides an action to take depending on the state.\n",
    "\n",
    "The Environment keeps a variable specifically for the current state.\n",
    "- Everytime an action is passed to the environment, it calculates the new state and updates the current state variable.\n",
    "- It returns the new current state and reward for the agent to take the next action\n",
    "\n",
    "'''\n",
    "\n",
    "state = env.reset()   \n",
    "''' This returns the initial state (when environment is reset) '''\n",
    "\n",
    "print(state)\n",
    "print(\"----\")\n",
    "\n",
    "action = env.action_space.sample()  \n",
    "''' We take a random action now '''\n",
    "\n",
    "print(action)\n",
    "print(\"----\")\n",
    "\n",
    "next_state, reward, done, info = env.step(action) \n",
    "''' env.step is used to calculate new state and obtain reward based on old state and action taken  ''' \n",
    "\n",
    "print(next_state)\n",
    "print(reward)\n",
    "print(done)\n",
    "print(info)\n",
    "print(\"----\")\n"
   ]
  },
  {
   "cell_type": "markdown",
   "metadata": {
    "id": "apuaOxavDXus"
   },
   "source": [
    "## DQN\n",
    "\n",
    "Using NNs as substitutes isn't something new. It has been tried earlier, but the 'human control' paper really popularised using NNs by providing a few stability ideas (Q-Targets, Experience Replay & Truncation). The 'Deep-Q Network' (DQN) Algorithm can be broken down into having the following components. \n",
    "\n",
    "### Q-Network:\n",
    "The neural network used as a function approximator is defined below"
   ]
  },
  {
   "cell_type": "code",
   "execution_count": 3,
   "metadata": {
    "id": "g4MRC1p2DZbp"
   },
   "outputs": [],
   "source": [
    "'''\n",
    "### Q Network & Some 'hyperparameters'\n",
    "\n",
    "QNetwork1:\n",
    "Input Layer - 4 nodes (State Shape) \\\n",
    "Hidden Layer 1 - 64 nodes \\\n",
    "Hidden Layer 2 - 64 nodes \\\n",
    "Output Layer - 2 nodes (Action Space) \\\n",
    "Optimizer - zero_grad()\n",
    "\n",
    "QNetwork2: Feel free to experiment more\n",
    "'''\n",
    "\n",
    "import torch\n",
    "import torch.nn as nn  \n",
    "import torch.nn.functional as F\n",
    "device = torch.device(\"cuda:0\" if torch.cuda.is_available() else \"cpu\")\n",
    "\n",
    "\n",
    "'''\n",
    "Bunch of Hyper parameters (Which you might have to tune later **wink wink**)\n",
    "'''\n",
    "BUFFER_SIZE = int(5e4)  \n",
    "'''\n",
    "replay buffer size \n",
    "'''\n",
    "BATCH_SIZE = 256         \n",
    "''' \n",
    "minibatch size \n",
    "'''\n",
    "GAMMA = 0.99            \n",
    "''' \n",
    "discount factor \n",
    "'''\n",
    "LR = 6e-4              \n",
    "''' \n",
    "learning rate \n",
    "'''\n",
    "UPDATE_EVERY =20       \n",
    "''' \n",
    "how often to update the network (When Q target is present) \n",
    "'''\n",
    "\n",
    "\n",
    "class QNetwork1(nn.Module):\n",
    "\n",
    "    def __init__(self, state_size, action_size, seed, fc1_units=128, fc2_units=64,fc3_units=32):\n",
    "        \"\"\"Initialize parameters and build model.\n",
    "        Params\n",
    "        ======\n",
    "            state_size (int): Dimension of each state\n",
    "            action_size (int): Dimension of each action\n",
    "            seed (int): Random seed\n",
    "            fc1_units (int): Number of nodes in first hidden layer\n",
    "            fc2_units (int): Number of nodes in second hidden layer\n",
    "        \"\"\"\n",
    "        super(QNetwork1, self).__init__()\n",
    "        self.seed = torch.manual_seed(seed)\n",
    "        self.fc1 = nn.Linear(state_size, fc1_units)\n",
    "        self.fc2 = nn.Linear(fc1_units, fc2_units)\n",
    "        self.fc3 = nn.Linear(fc2_units, action_size)\n",
    "\n",
    "    def forward(self, state):\n",
    "        \"\"\"Build a network that maps state -> action values.\"\"\"\n",
    "        x = F.tanh(self.fc1(state))\n",
    "        x = F.tanh(self.fc2(x))\n",
    "        return self.fc3(x)"
   ]
  },
  {
   "cell_type": "markdown",
   "metadata": {
    "id": "Jmv5c0XoK8GA"
   },
   "source": [
    "### Replay Buffer:\n",
    "\n",
    "This is a 'deque' that helps us store experiences. Recall why we use such a technique."
   ]
  },
  {
   "cell_type": "code",
   "execution_count": 4,
   "metadata": {
    "id": "bh_oghc7Ledh"
   },
   "outputs": [
    {
     "name": "stdout",
     "output_type": "stream",
     "text": [
      "NVIDIA GeForce GTX 1660 Ti\n"
     ]
    }
   ],
   "source": [
    "import random\n",
    "import torch\n",
    "import numpy as np\n",
    "from collections import deque, namedtuple\n",
    "\n",
    "device = torch.device(\"cuda\" if torch.cuda.is_available() else \"cpu\")\n",
    "print(torch.cuda.get_device_name(device))\n",
    "\n",
    "class ReplayBuffer:\n",
    "    \"\"\"Fixed-size buffer to store experience tuples.\"\"\"\n",
    "\n",
    "    def __init__(self, action_size, buffer_size, batch_size, seed):\n",
    "        \"\"\"Initialize a ReplayBuffer object.\n",
    "\n",
    "        Params\n",
    "        ======\n",
    "            action_size (int): dimension of each action\n",
    "            buffer_size (int): maximum size of buffer\n",
    "            batch_size (int): size of each training batch\n",
    "            seed (int): random seed\n",
    "        \"\"\"\n",
    "        self.action_size = action_size\n",
    "        self.memory = deque(maxlen=buffer_size)  \n",
    "        self.batch_size = batch_size\n",
    "        self.experience = namedtuple(\"Experience\", field_names=[\"state\", \"action\", \"reward\", \"next_state\", \"done\"])\n",
    "        self.seed = random.seed(seed)\n",
    "    \n",
    "    def add(self, state, action, reward, next_state, done):\n",
    "        \"\"\"Add a new experience to memory.\"\"\"\n",
    "        e = self.experience(state, action, reward, next_state, done)\n",
    "        self.memory.append(e)\n",
    "    \n",
    "    def sample(self):\n",
    "        \"\"\"Randomly sample a batch of experiences from memory.\"\"\"\n",
    "        experiences = random.sample(self.memory, k=self.batch_size)\n",
    "\n",
    "        states = torch.from_numpy(np.vstack([e.state for e in experiences if e is not None])).float().to(device)\n",
    "        actions = torch.from_numpy(np.vstack([e.action for e in experiences if e is not None])).long().to(device)\n",
    "        rewards = torch.from_numpy(np.vstack([e.reward for e in experiences if e is not None])).float().to(device)\n",
    "        next_states = torch.from_numpy(np.vstack([e.next_state for e in experiences if e is not None])).float().to(device)\n",
    "        dones = torch.from_numpy(np.vstack([e.done for e in experiences if e is not None]).astype(np.uint8)).float().to(device)\n",
    "  \n",
    "        return (states, actions, rewards, next_states, dones)\n",
    "\n",
    "    def __len__(self):\n",
    "        \"\"\"Return the current size of internal memory.\"\"\"\n",
    "        return len(self.memory)"
   ]
  },
  {
   "cell_type": "markdown",
   "metadata": {
    "id": "N8VJYkqoLqlO"
   },
   "source": [
    "## Truncation:\n",
    "We add a line (optionally) in the code to truncate the gradient in hopes that it would help with the stability of the learning process.\n",
    "\n",
    "## Tutorial Agent Code:\n"
   ]
  },
  {
   "cell_type": "code",
   "execution_count": 5,
   "metadata": {
    "id": "ok_5eQM7OCTj"
   },
   "outputs": [],
   "source": [
    "class TutorialAgent():\n",
    "\n",
    "    def __init__(self, state_size, action_size, seed):\n",
    "\n",
    "        ''' Agent Environment Interaction '''\n",
    "        self.state_size = state_size\n",
    "        self.action_size = action_size\n",
    "        self.seed = random.seed(seed)\n",
    "\n",
    "        ''' Q-Network '''\n",
    "        self.qnetwork_local = QNetwork1(state_size, action_size, seed,256,256).to(device)\n",
    "        self.qnetwork_target = QNetwork1(state_size, action_size, seed,256,256).to(device)\n",
    "        self.optimizer = optim.Adam(self.qnetwork_local.parameters(), lr=LR)\n",
    "\n",
    "        ''' Replay memory '''\n",
    "        self.memory = ReplayBuffer(action_size, BUFFER_SIZE, BATCH_SIZE, seed)\n",
    "\n",
    "        ''' Initialize time step (for updating every UPDATE_EVERY steps)           -Needed for Q Targets '''\n",
    "        self.t_step = 0\n",
    "        self.rg = np.random.RandomState(seed)\n",
    "    \n",
    "    def step(self, state, action, reward, next_state, done):\n",
    "\n",
    "        ''' Save experience in replay memory '''\n",
    "        self.memory.add(state, action, reward, next_state, done)\n",
    "        \n",
    "        ''' If enough samples are available in memory, get random subset and learn '''\n",
    "        if len(self.memory) >= BATCH_SIZE:\n",
    "            experiences = self.memory.sample()\n",
    "            self.learn(experiences, GAMMA)\n",
    "\n",
    "        \"\"\" +Q TARGETS PRESENT \"\"\"\n",
    "        ''' Updating the Network every 'UPDATE_EVERY' steps taken '''      \n",
    "        self.t_step = (self.t_step + 1) % UPDATE_EVERY\n",
    "        if self.t_step == 0:\n",
    "\n",
    "            self.qnetwork_target.load_state_dict(self.qnetwork_local.state_dict())\n",
    "\n",
    "    def act(self, state, eps=0.):\n",
    "\n",
    "        state = torch.from_numpy(state).float().unsqueeze(0).to(device)\n",
    "        self.qnetwork_local.eval()\n",
    "        with torch.no_grad():\n",
    "            action_values = self.qnetwork_local(state)\n",
    "        self.qnetwork_local.train()\n",
    "\n",
    "        ''' Epsilon-greedy action selection (Already Present) '''\n",
    "        if random.random() > eps:\n",
    "            return np.argmax(action_values.cpu().data.numpy())\n",
    "        else:\n",
    "            return random.choice(np.arange(self.action_size))\n",
    "#         probabs = softmax(action_values.cpu().data.numpy()[0])\n",
    "#         probabs /= probabs.sum()\n",
    "#         return self.rg.choice(np.arange(self.action_size), p = probabs)\n",
    "\n",
    "    def learn(self, experiences, gamma):\n",
    "        \"\"\" +E EXPERIENCE REPLAY PRESENT \"\"\"\n",
    "        states, actions, rewards, next_states, dones = experiences\n",
    "\n",
    "        ''' Get max predicted Q values (for next states) from target model'''\n",
    "        Q_targets_next = self.qnetwork_target(next_states).detach().max(1)[0].unsqueeze(1)\n",
    "\n",
    "        ''' Compute Q targets for current states '''\n",
    "        Q_targets = rewards + (gamma * Q_targets_next * (1 - dones))\n",
    "\n",
    "        ''' Get expected Q values from local model '''\n",
    "        Q_expected = self.qnetwork_local(states).gather(1, actions)\n",
    "\n",
    "        ''' Compute loss '''\n",
    "        loss = F.mse_loss(Q_expected, Q_targets)\n",
    "\n",
    "        ''' Minimize the loss '''\n",
    "        self.optimizer.zero_grad()\n",
    "        loss.backward()\n",
    "        \n",
    "        ''' Gradiant Clipping '''\n",
    "        \"\"\" +T TRUNCATION PRESENT \"\"\"\n",
    "        for param in self.qnetwork_local.parameters():\n",
    "            param.grad.data.clamp_(-1, 1)\n",
    "            \n",
    "        self.optimizer.step()"
   ]
  },
  {
   "cell_type": "markdown",
   "metadata": {
    "id": "3SQFbRCHWQyO"
   },
   "source": [
    "### Here, we present the DQN algorithm code."
   ]
  },
  {
   "cell_type": "code",
   "execution_count": 6,
   "metadata": {},
   "outputs": [],
   "source": [
    "solved_episodes = []\n",
    "rewards = []"
   ]
  },
  {
   "cell_type": "code",
   "execution_count": 7,
   "metadata": {
    "colab": {
     "base_uri": "https://localhost:8080/"
    },
    "id": "r6A2TdUHWVUN",
    "outputId": "eae554fe-3450-40d8-d462-64b92d755866"
   },
   "outputs": [
    {
     "name": "stderr",
     "output_type": "stream",
     "text": [
      "C:\\Users\\Vedant\\AppData\\Local\\Programs\\Python\\Python39\\lib\\site-packages\\torch\\nn\\functional.py:1933: UserWarning: nn.functional.tanh is deprecated. Use torch.tanh instead.\n",
      "  warnings.warn(\"nn.functional.tanh is deprecated. Use torch.tanh instead.\")\n"
     ]
    },
    {
     "name": "stdout",
     "output_type": "stream",
     "text": [
      "Episode 100\tAverage Score: -268.05\n",
      "Episode 200\tAverage Score: -134.74\n",
      "Episode 300\tAverage Score: -116.79\n",
      "Episode 400\tAverage Score: -103.98\n",
      "Episode 500\tAverage Score: -87.159\n",
      "Episode 597\tAverage Score: -79.84\n",
      "Environment solved in 497 episodes!\tAverage Score: -79.84\n",
      "0:10:55.173531\n",
      "Episode 100\tAverage Score: -292.63\n",
      "Episode 200\tAverage Score: -131.56\n",
      "Episode 300\tAverage Score: -108.79\n",
      "Episode 400\tAverage Score: -100.37\n",
      "Episode 500\tAverage Score: -89.587\n",
      "Episode 600\tAverage Score: -80.52\n",
      "Episode 663\tAverage Score: -79.97\n",
      "Environment solved in 563 episodes!\tAverage Score: -79.97\n",
      "0:15:38.045929\n",
      "Episode 100\tAverage Score: -252.16\n",
      "Episode 200\tAverage Score: -118.46\n",
      "Episode 300\tAverage Score: -102.33\n",
      "Episode 400\tAverage Score: -95.206\n",
      "Episode 500\tAverage Score: -82.29\n",
      "Episode 529\tAverage Score: -79.96\n",
      "Environment solved in 429 episodes!\tAverage Score: -79.96\n",
      "0:12:30.812231\n",
      "Episode 100\tAverage Score: -308.78\n",
      "Episode 200\tAverage Score: -131.93\n",
      "Episode 300\tAverage Score: -108.43\n",
      "Episode 400\tAverage Score: -102.50\n",
      "Episode 500\tAverage Score: -89.348\n",
      "Episode 582\tAverage Score: -79.90\n",
      "Environment solved in 482 episodes!\tAverage Score: -79.90\n",
      "0:14:49.142370\n",
      "Episode 100\tAverage Score: -265.87\n",
      "Episode 200\tAverage Score: -120.38\n",
      "Episode 300\tAverage Score: -109.89\n",
      "Episode 400\tAverage Score: -103.70\n",
      "Episode 500\tAverage Score: -83.255\n",
      "Episode 600\tAverage Score: -81.24\n",
      "Episode 694\tAverage Score: -79.81\n",
      "Environment solved in 594 episodes!\tAverage Score: -79.81\n",
      "0:15:34.482926\n",
      "Episode 100\tAverage Score: -285.60\n",
      "Episode 200\tAverage Score: -126.86\n",
      "Episode 300\tAverage Score: -106.12\n",
      "Episode 400\tAverage Score: -101.15\n",
      "Episode 500\tAverage Score: -83.183\n",
      "Episode 549\tAverage Score: -79.94\n",
      "Environment solved in 449 episodes!\tAverage Score: -79.94\n",
      "0:12:57.651498\n",
      "Episode 100\tAverage Score: -295.74\n",
      "Episode 200\tAverage Score: -133.05\n",
      "Episode 300\tAverage Score: -106.20\n",
      "Episode 400\tAverage Score: -102.50\n",
      "Episode 500\tAverage Score: -92.923\n",
      "Episode 600\tAverage Score: -81.65\n",
      "Episode 700\tAverage Score: -83.99\n",
      "Episode 716\tAverage Score: -78.53\n",
      "Environment solved in 616 episodes!\tAverage Score: -78.53\n",
      "0:17:24.778016\n",
      "Episode 100\tAverage Score: -268.60\n",
      "Episode 200\tAverage Score: -125.54\n",
      "Episode 300\tAverage Score: -101.81\n",
      "Episode 400\tAverage Score: -96.249\n",
      "Episode 500\tAverage Score: -81.95\n",
      "Episode 540\tAverage Score: -79.93\n",
      "Environment solved in 440 episodes!\tAverage Score: -79.93\n",
      "0:11:43.858677\n",
      "Episode 100\tAverage Score: -257.15\n",
      "Episode 200\tAverage Score: -120.60\n",
      "Episode 300\tAverage Score: -106.53\n",
      "Episode 400\tAverage Score: -93.287\n",
      "Episode 500\tAverage Score: -83.30\n",
      "Episode 600\tAverage Score: -81.30\n",
      "Episode 615\tAverage Score: -79.97\n",
      "Environment solved in 515 episodes!\tAverage Score: -79.97\n",
      "0:10:14.130124\n",
      "Episode 100\tAverage Score: -305.51\n",
      "Episode 200\tAverage Score: -130.72\n",
      "Episode 300\tAverage Score: -110.23\n",
      "Episode 400\tAverage Score: -104.05\n",
      "Episode 500\tAverage Score: -91.725\n",
      "Episode 595\tAverage Score: -79.56\n",
      "Environment solved in 495 episodes!\tAverage Score: -79.56\n",
      "0:10:37.514792\n"
     ]
    }
   ],
   "source": [
    "''' Defining DQN Algorithm '''\n",
    "for i in range(10) :\n",
    "    state_shape = env.observation_space.shape[0]\n",
    "    action_shape = env.action_space.n\n",
    "    reward_list = []\n",
    "    def dqn(n_episodes=10000, max_t=1000, eps_start=1.0, eps_end=0.01, eps_decay=0.99):\n",
    "\n",
    "        scores = []                 \n",
    "        ''' list containing scores from each episode '''\n",
    "\n",
    "        scores_window_printing = deque(maxlen=10) \n",
    "        ''' For printing in the graph '''\n",
    "\n",
    "        scores_window= deque(maxlen=100)  \n",
    "        ''' last 100 scores for checking if the avg is more than 195 '''\n",
    "\n",
    "        eps = eps_start                    \n",
    "        ''' initialize epsilon '''\n",
    "\n",
    "        for i_episode in range(1, n_episodes+1):\n",
    "            state = env.reset()\n",
    "            score = 0\n",
    "            for t in range(max_t):\n",
    "                action = agent.act(state, eps)\n",
    "                next_state, reward, done, _ = env.step(action)\n",
    "                agent.step(state, action, reward, next_state, done)\n",
    "                state = next_state\n",
    "                score += reward\n",
    "                if done:\n",
    "                    break \n",
    "\n",
    "            reward_list.append(score)\n",
    "            scores_window.append(score)       \n",
    "            scores_window_printing.append(score)   \n",
    "            ''' save most recent score '''           \n",
    "\n",
    "            eps = max(eps_end, eps_decay*eps) \n",
    "            ''' decrease epsilon '''\n",
    "\n",
    "            print('\\rEpisode {}\\tAverage Score: {:.2f}'.format(i_episode, np.mean(scores_window)), end=\"\")  \n",
    "            if i_episode % 10 == 0: \n",
    "                scores.append(np.mean(scores_window_printing))        \n",
    "            if i_episode % 100 == 0: \n",
    "               print('\\rEpisode {}\\tAverage Score: {:.2f}'.format(i_episode, np.mean(scores_window)))\n",
    "            if np.mean(scores_window)>=-80.0:\n",
    "               solved_episodes.append(i_episode)\n",
    "               print('\\nEnvironment solved in {:d} episodes!\\tAverage Score: {:.2f}'.format(i_episode-100, np.mean(scores_window)))\n",
    "               break\n",
    "        return [np.array(scores),i_episode-100]\n",
    "\n",
    "    ''' Trial run to check if algorithm runs and saves the data '''\n",
    "\n",
    "    begin_time = datetime.datetime.now()\n",
    "    agent = TutorialAgent(state_size=state_shape,action_size = action_shape,seed = 0)\n",
    "\n",
    "\n",
    "    dqn()\n",
    "\n",
    "\n",
    "    time_taken = datetime.datetime.now() - begin_time\n",
    "\n",
    "    print(time_taken)\n",
    "    rewards.append(reward_list)"
   ]
  },
  {
   "cell_type": "code",
   "execution_count": null,
   "metadata": {},
   "outputs": [],
   "source": []
  },
  {
   "cell_type": "code",
   "execution_count": 8,
   "metadata": {},
   "outputs": [],
   "source": [
    "rewards1=rewards\n",
    "average_reward_list = []\n",
    "for i in range(10000) :\n",
    "        average_reward_list.append(0)\n",
    "for j in range(10) :\n",
    "    for i in range(len(rewards[j])) :\n",
    "        average_reward_list[i]+=rewards[j][i]\n",
    "    for k in range(i,10000) :\n",
    "        average_reward_list[k]+=rewards[j][i]\n",
    "for i in range(len(average_reward_list)) :\n",
    "    average_reward_list[i]/=10"
   ]
  },
  {
   "cell_type": "code",
   "execution_count": 9,
   "metadata": {},
   "outputs": [
    {
     "data": {
      "text/plain": [
       "[<matplotlib.lines.Line2D at 0x28b3e06c820>]"
      ]
     },
     "execution_count": 9,
     "metadata": {},
     "output_type": "execute_result"
    },
    {
     "data": {
      "image/png": "[encoded data removed]",
      "text/plain": [
       "<Figure size 432x288 with 1 Axes>"
      ]
     },
     "metadata": {
      "needs_background": "light"
     },
     "output_type": "display_data"
    }
   ],
   "source": [
    "plt.plot(average_reward_list)"
   ]
  },
  {
   "cell_type": "code",
   "execution_count": 10,
   "metadata": {},
   "outputs": [
    {
     "data": {
      "text/plain": [
       "[<matplotlib.lines.Line2D at 0x28b3e33e460>]"
      ]
     },
     "execution_count": 10,
     "metadata": {},
     "output_type": "execute_result"
    },
    {
     "data": {
      "image/png": "[encoded data removed]",
      "text/plain": [
       "<Figure size 432x288 with 1 Axes>"
      ]
     },
     "metadata": {
      "needs_background": "light"
     },
     "output_type": "display_data"
    }
   ],
   "source": [
    "average_reward_list1 = []\n",
    "for i in range(100,len(average_reward_list)) :\n",
    "  average_reward_list1.append(np.average(average_reward_list[i-100:i]))\n",
    "plt.plot(average_reward_list1)"
   ]
  },
  {
   "cell_type": "code",
   "execution_count": null,
   "metadata": {},
   "outputs": [],
   "source": []
  },
  {
   "cell_type": "code",
   "execution_count": null,
   "metadata": {},
   "outputs": [],
   "source": []
  },
  {
   "cell_type": "code",
   "execution_count": 11,
   "metadata": {},
   "outputs": [
    {
     "name": "stdout",
     "output_type": "stream",
     "text": [
      "608.0\n",
      "[597, 663, 529, 582, 694, 549, 716, 540, 615, 595]\n",
      "608.0\n",
      "[[-500.0, -500.0, -500.0, -500.0, -500.0, -500.0, -500.0, -500.0, -500.0, -333.0, -500.0, -337.0, -500.0, -500.0, -434.0, -500.0, -500.0, -500.0, -456.0, -500.0, -338.0, -500.0, -251.0, -213.0, -368.0, -178.0, -500.0, -303.0, -263.0, -216.0, -314.0, -321.0, -329.0, -273.0, -285.0, -326.0, -214.0, -226.0, -297.0, -192.0, -289.0, -386.0, -211.0, -171.0, -194.0, -330.0, -263.0, -217.0, -205.0, -223.0, -189.0, -136.0, -224.0, -165.0, -164.0, -144.0, -229.0, -500.0, -243.0, -192.0, -211.0, -234.0, -147.0, -189.0, -181.0, -185.0, -167.0, -192.0, -158.0, -218.0, -110.0, -204.0, -135.0, -218.0, -128.0, -147.0, -157.0, -135.0, -171.0, -158.0, -191.0, -155.0, -189.0, -166.0, -215.0, -123.0, -154.0, -144.0, -123.0, -145.0, -144.0, -132.0, -192.0, -117.0, -132.0, -164.0, -159.0, -224.0, -177.0, -172.0, -156.0, -112.0, -159.0, -166.0, -97.0, -196.0, -157.0, -122.0, -103.0, -113.0, -172.0, -163.0, -125.0, -165.0, -109.0, -156.0, -166.0, -171.0, -171.0, -84.0, -133.0, -118.0, -115.0, -156.0, -192.0, -204.0, -179.0, -168.0, -147.0, -142.0, -121.0, -131.0, -153.0, -176.0, -230.0, -120.0, -102.0, -134.0, -146.0, -138.0, -103.0, -143.0, -157.0, -114.0, -96.0, -110.0, -126.0, -110.0, -112.0, -132.0, -114.0, -170.0, -147.0, -110.0, -138.0, -172.0, -88.0, -152.0, -190.0, -136.0, -109.0, -179.0, -81.0, -219.0, -119.0, -333.0, -156.0, -114.0, -126.0, -116.0, -120.0, -152.0, -120.0, -181.0, -99.0, -133.0, -88.0, -92.0, -96.0, -101.0, -119.0, -107.0, -97.0, -137.0, -113.0, -119.0, -133.0, -105.0, -129.0, -109.0, -91.0, -100.0, -85.0, -166.0, -106.0, -138.0, -78.0, -102.0, -91.0, -127.0, -138.0, -101.0, -113.0, -106.0, -111.0, -127.0, -86.0, -126.0, -96.0, -146.0, -157.0, -164.0, -96.0, -102.0, -73.0, -130.0, -120.0, -134.0, -174.0, -90.0, -88.0, -82.0, -116.0, -91.0, -91.0, -114.0, -107.0, -147.0, -120.0, -110.0, -165.0, -176.0, -88.0, -123.0, -121.0, -109.0, -87.0, -106.0, -129.0, -111.0, -338.0, -100.0, -103.0, -129.0, -109.0, -109.0, -118.0, -101.0, -93.0, -89.0, -139.0, -119.0, -148.0, -102.0, -111.0, -80.0, -155.0, -162.0, -93.0, -119.0, -114.0, -105.0, -86.0, -134.0, -117.0, -128.0, -179.0, -84.0, -162.0, -136.0, -106.0, -79.0, -116.0, -102.0, -95.0, -84.0, -92.0, -115.0, -126.0, -129.0, -85.0, -150.0, -122.0, -73.0, -114.0, -84.0, -137.0, -126.0, -117.0, -118.0, -85.0, -101.0, -162.0, -92.0, -87.0, -95.0, -91.0, -148.0, -115.0, -100.0, -85.0, -183.0, -117.0, -139.0, -142.0, -105.0, -79.0, -118.0, -93.0, -117.0, -153.0, -92.0, -83.0, -108.0, -93.0, -150.0, -102.0, -149.0, -88.0, -85.0, -104.0, -117.0, -124.0, -106.0, -94.0, -96.0, -111.0, -95.0, -128.0, -122.0, -108.0, -145.0, -91.0, -110.0, -191.0, -114.0, -97.0, -137.0, -93.0, -102.0, -131.0, -115.0, -118.0, -178.0, -97.0, -100.0, -91.0, -86.0, -131.0, -98.0, -85.0, -104.0, -92.0, -97.0, -78.0, -74.0, -86.0, -70.0, -122.0, -115.0, -144.0, -94.0, -79.0, -92.0, -86.0, -86.0, -76.0, -85.0, -76.0, -100.0, -84.0, -82.0, -75.0, -162.0, -85.0, -84.0, -127.0, -70.0, -84.0, -75.0, -64.0, -84.0, -91.0, -85.0, -88.0, -111.0, -108.0, -89.0, -88.0, -75.0, -87.0, -88.0, -114.0, -109.0, -105.0, -103.0, -125.0, -105.0, -92.0, -107.0, -104.0, -62.0, -92.0, -107.0, -120.0, -120.0, -118.0, -96.0, -82.0, -149.0, -93.0, -129.0, -84.0, -77.0, -82.0, -98.0, -129.0, -78.0, -100.0, -88.0, -89.0, -76.0, -81.0, -81.0, -71.0, -125.0, -144.0, -94.0, -76.0, -74.0, -70.0, -94.0, -94.0, -103.0, -64.0, -107.0, -83.0, -71.0, -84.0, -82.0, -87.0, -93.0, -72.0, -113.0, -78.0, -76.0, -93.0, -74.0, -78.0, -82.0, -70.0, -64.0, -80.0, -90.0, -70.0, -77.0, -112.0, -76.0, -62.0, -96.0, -83.0, -107.0, -87.0, -71.0, -77.0, -75.0, -72.0, -96.0, -76.0, -84.0, -79.0, -89.0, -69.0, -111.0, -86.0, -91.0, -62.0, -84.0, -76.0, -79.0, -76.0, -92.0, -74.0, -86.0, -70.0, -86.0, -77.0, -80.0, -89.0, -69.0, -101.0, -87.0, -70.0, -80.0, -98.0, -102.0, -86.0, -62.0, -70.0, -92.0, -79.0, -76.0, -84.0, -63.0, -85.0, -93.0, -77.0, -96.0, -79.0, -108.0, -81.0, -73.0, -62.0, -71.0, -94.0, -68.0, -111.0, -85.0, -76.0, -75.0, -75.0, -87.0, -97.0, -86.0, -75.0, -99.0, -91.0, -98.0, -83.0, -72.0, -70.0, -84.0, -86.0, -78.0, -70.0, -105.0, -62.0, -75.0, -95.0, -88.0, -69.0, -75.0, -94.0, -77.0, -98.0, -104.0, -76.0, -96.0, -74.0, -61.0, -77.0, -63.0, -92.0, -61.0, -71.0, -70.0, -82.0, -71.0, -79.0, -77.0, -69.0, -87.0, -100.0, -86.0, -89.0, -69.0, -63.0, -71.0, -102.0, -74.0, -63.0, -71.0, -69.0, -71.0, -76.0, -70.0, -75.0, -94.0, -69.0, -86.0, -85.0, -106.0, -104.0, -85.0, -70.0, -62.0, -85.0, -71.0, -86.0, -70.0, -70.0, -75.0, -75.0, -69.0, -82.0, -63.0, -69.0], [-500.0, -500.0, -449.0, -500.0, -500.0, -500.0, -442.0, -500.0, -500.0, -500.0, -500.0, -500.0, -500.0, -500.0, -500.0, -500.0, -500.0, -500.0, -500.0, -500.0, -244.0, -500.0, -337.0, -369.0, -352.0, -314.0, -343.0, -269.0, -338.0, -286.0, -327.0, -278.0, -368.0, -211.0, -479.0, -290.0, -302.0, -179.0, -223.0, -202.0, -282.0, -334.0, -327.0, -149.0, -341.0, -355.0, -157.0, -336.0, -208.0, -221.0, -499.0, -227.0, -198.0, -147.0, -337.0, -299.0, -274.0, -215.0, -190.0, -193.0, -152.0, -142.0, -119.0, -159.0, -274.0, -219.0, -185.0, -183.0, -249.0, -173.0, -237.0, -162.0, -245.0, -188.0, -235.0, -217.0, -232.0, -163.0, -160.0, -193.0, -134.0, -160.0, -225.0, -187.0, -163.0, -124.0, -179.0, -253.0, -184.0, -185.0, -97.0, -250.0, -208.0, -134.0, -206.0, -202.0, -155.0, -253.0, -186.0, -500.0, -156.0, -182.0, -153.0, -170.0, -97.0, -137.0, -113.0, -99.0, -127.0, -157.0, -122.0, -176.0, -152.0, -191.0, -141.0, -181.0, -126.0, -174.0, -138.0, -95.0, -229.0, -170.0, -175.0, -222.0, -154.0, -125.0, -154.0, -167.0, -163.0, -167.0, -162.0, -236.0, -139.0, -147.0, -95.0, -113.0, -135.0, -138.0, -132.0, -99.0, -118.0, -94.0, -83.0, -114.0, -103.0, -175.0, -152.0, -93.0, -138.0, -108.0, -97.0, -100.0, -115.0, -156.0, -139.0, -119.0, -114.0, -117.0, -131.0, -132.0, -93.0, -85.0, -124.0, -115.0, -137.0, -104.0, -121.0, -181.0, -106.0, -203.0, -153.0, -101.0, -120.0, -93.0, -123.0, -89.0, -89.0, -106.0, -114.0, -103.0, -118.0, -136.0, -227.0, -129.0, -76.0, -116.0, -180.0, -135.0, -117.0, -103.0, -87.0, -113.0, -118.0, -95.0, -102.0, -99.0, -140.0, -110.0, -84.0, -104.0, -114.0, -99.0, -128.0, -98.0, -125.0, -101.0, -95.0, -118.0, -80.0, -139.0, -94.0, -115.0, -121.0, -107.0, -85.0, -84.0, -180.0, -100.0, -77.0, -102.0, -117.0, -114.0, -86.0, -118.0, -96.0, -109.0, -126.0, -99.0, -114.0, -153.0, -70.0, -81.0, -82.0, -72.0, -144.0, -108.0, -133.0, -92.0, -124.0, -72.0, -106.0, -120.0, -124.0, -99.0, -91.0, -87.0, -80.0, -104.0, -94.0, -95.0, -70.0, -106.0, -109.0, -99.0, -150.0, -140.0, -94.0, -88.0, -121.0, -94.0, -136.0, -99.0, -87.0, -218.0, -81.0, -124.0, -114.0, -131.0, -135.0, -109.0, -132.0, -78.0, -108.0, -90.0, -102.0, -107.0, -119.0, -89.0, -153.0, -86.0, -93.0, -143.0, -92.0, -91.0, -82.0, -89.0, -130.0, -195.0, -123.0, -119.0, -130.0, -86.0, -129.0, -86.0, -115.0, -109.0, -93.0, -123.0, -118.0, -92.0, -91.0, -88.0, -104.0, -154.0, -89.0, -123.0, -163.0, -74.0, -91.0, -106.0, -244.0, -100.0, -78.0, -154.0, -91.0, -99.0, -77.0, -124.0, -89.0, -77.0, -97.0, -84.0, -107.0, -96.0, -105.0, -90.0, -133.0, -102.0, -84.0, -91.0, -96.0, -128.0, -155.0, -143.0, -91.0, -87.0, -92.0, -123.0, -115.0, -115.0, -106.0, -78.0, -93.0, -112.0, -112.0, -99.0, -143.0, -74.0, -126.0, -125.0, -89.0, -83.0, -113.0, -109.0, -108.0, -98.0, -62.0, -111.0, -109.0, -74.0, -80.0, -72.0, -83.0, -102.0, -88.0, -106.0, -107.0, -69.0, -76.0, -101.0, -102.0, -116.0, -147.0, -77.0, -126.0, -59.0, -96.0, -82.0, -99.0, -81.0, -104.0, -72.0, -92.0, -75.0, -79.0, -81.0, -94.0, -78.0, -86.0, -87.0, -114.0, -98.0, -95.0, -95.0, -140.0, -86.0, -87.0, -63.0, -73.0, -95.0, -93.0, -96.0, -111.0, -100.0, -116.0, -77.0, -107.0, -98.0, -99.0, -90.0, -78.0, -77.0, -90.0, -85.0, -75.0, -136.0, -78.0, -70.0, -69.0, -111.0, -136.0, -85.0, -89.0, -101.0, -101.0, -139.0, -96.0, -83.0, -105.0, -97.0, -71.0, -76.0, -77.0, -112.0, -103.0, -93.0, -87.0, -104.0, -84.0, -63.0, -84.0, -85.0, -93.0, -109.0, -77.0, -88.0, -87.0, -72.0, -95.0, -72.0, -85.0, -92.0, -82.0, -128.0, -71.0, -87.0, -85.0, -86.0, -74.0, -79.0, -77.0, -72.0, -78.0, -69.0, -75.0, -106.0, -78.0, -90.0, -97.0, -76.0, -112.0, -70.0, -101.0, -62.0, -64.0, -69.0, -212.0, -79.0, -92.0, -78.0, -197.0, -68.0, -77.0, -104.0, -96.0, -70.0, -71.0, -64.0, -72.0, -94.0, -96.0, -71.0, -81.0, -78.0, -72.0, -81.0, -71.0, -84.0, -86.0, -79.0, -99.0, -101.0, -71.0, -103.0, -99.0, -71.0, -76.0, -82.0, -72.0, -62.0, -87.0, -75.0, -77.0, -101.0, -92.0, -99.0, -69.0, -87.0, -89.0, -93.0, -73.0, -77.0, -78.0, -75.0, -76.0, -76.0, -94.0, -88.0, -71.0, -63.0, -76.0, -77.0, -75.0, -84.0, -83.0, -70.0, -68.0, -62.0, -87.0, -87.0, -62.0, -78.0, -69.0, -63.0, -137.0, -93.0, -67.0, -70.0, -111.0, -77.0, -64.0, -73.0, -71.0, -105.0, -81.0, -91.0, -129.0, -87.0, -72.0, -86.0, -71.0, -75.0, -87.0, -63.0, -79.0, -71.0, -75.0, -101.0, -70.0, -82.0, -71.0, -76.0, -71.0, -81.0, -81.0, -63.0, -86.0, -79.0, -76.0, -103.0, -78.0, -78.0, -63.0, -70.0, -71.0, -70.0, -63.0, -95.0, -69.0, -63.0, -90.0, -81.0, -112.0, -70.0, -62.0, -104.0, -71.0, -97.0, -85.0, -68.0, -87.0, -83.0, -142.0, -69.0, -76.0, -100.0, -71.0, -83.0, -73.0, -97.0, -62.0, -75.0, -88.0, -84.0, -91.0, -72.0, -69.0, -92.0, -68.0, -114.0, -80.0, -94.0, -71.0, -63.0, -63.0, -75.0, -83.0, -76.0, -93.0, -70.0, -98.0, -85.0, -89.0, -80.0, -83.0, -124.0, -69.0, -87.0, -106.0, -93.0, -60.0, -62.0, -69.0, -78.0, -99.0, -70.0, -69.0, -78.0, -77.0, -104.0, -70.0, -71.0, -92.0, -63.0, -86.0, -92.0, -63.0, -70.0, -63.0, -76.0, -72.0, -69.0, -78.0], [-500.0, -500.0, -500.0, -500.0, -500.0, -500.0, -500.0, -500.0, -500.0, -500.0, -500.0, -500.0, -368.0, -500.0, -331.0, -465.0, -296.0, -403.0, -320.0, -450.0, -500.0, -375.0, -213.0, -211.0, -445.0, -284.0, -165.0, -271.0, -281.0, -382.0, -202.0, -211.0, -203.0, -268.0, -241.0, -294.0, -276.0, -500.0, -184.0, -239.0, -212.0, -335.0, -162.0, -180.0, -145.0, -302.0, -281.0, -178.0, -198.0, -166.0, -165.0, -179.0, -195.0, -146.0, -140.0, -186.0, -205.0, -174.0, -137.0, -202.0, -210.0, -172.0, -159.0, -151.0, -175.0, -141.0, -180.0, -193.0, -161.0, -168.0, -209.0, -168.0, -156.0, -199.0, -163.0, -130.0, -152.0, -205.0, -114.0, -242.0, -111.0, -115.0, -152.0, -126.0, -100.0, -197.0, -208.0, -169.0, -118.0, -142.0, -168.0, -148.0, -131.0, -187.0, -231.0, -114.0, -111.0, -147.0, -150.0, -177.0, -85.0, -136.0, -108.0, -123.0, -93.0, -117.0, -190.0, -147.0, -145.0, -172.0, -122.0, -186.0, -103.0, -96.0, -136.0, -103.0, -148.0, -131.0, -128.0, -194.0, -95.0, -120.0, -91.0, -166.0, -113.0, -109.0, -154.0, -193.0, -96.0, -133.0, -131.0, -105.0, -188.0, -83.0, -116.0, -97.0, -114.0, -113.0, -104.0, -122.0, -110.0, -127.0, -126.0, -85.0, -143.0, -100.0, -113.0, -103.0, -101.0, -107.0, -131.0, -96.0, -109.0, -102.0, -106.0, -110.0, -118.0, -107.0, -162.0, -89.0, -138.0, -161.0, -102.0, -112.0, -94.0, -128.0, -97.0, -88.0, -126.0, -78.0, -104.0, -122.0, -96.0, -134.0, -107.0, -112.0, -98.0, -106.0, -90.0, -117.0, -89.0, -122.0, -163.0, -129.0, -109.0, -126.0, -112.0, -93.0, -94.0, -130.0, -100.0, -121.0, -103.0, -166.0, -85.0, -108.0, -77.0, -124.0, -90.0, -144.0, -140.0, -84.0, -82.0, -85.0, -113.0, -84.0, -78.0, -104.0, -150.0, -123.0, -101.0, -100.0, -192.0, -108.0, -91.0, -87.0, -93.0, -105.0, -75.0, -107.0, -107.0, -89.0, -83.0, -104.0, -107.0, -118.0, -80.0, -84.0, -174.0, -85.0, -84.0, -99.0, -121.0, -88.0, -153.0, -76.0, -382.0, -74.0, -109.0, -125.0, -109.0, -90.0, -121.0, -119.0, -93.0, -118.0, -83.0, -82.0, -104.0, -84.0, -110.0, -90.0, -75.0, -126.0, -97.0, -107.0, -94.0, -76.0, -95.0, -89.0, -72.0, -113.0, -126.0, -112.0, -90.0, -87.0, -122.0, -121.0, -85.0, -109.0, -126.0, -83.0, -74.0, -75.0, -64.0, -108.0, -91.0, -85.0, -100.0, -88.0, -113.0, -75.0, -99.0, -103.0, -86.0, -111.0, -101.0, -128.0, -84.0, -81.0, -77.0, -73.0, -98.0, -100.0, -112.0, -113.0, -79.0, -87.0, -70.0, -106.0, -99.0, -88.0, -94.0, -84.0, -85.0, -147.0, -96.0, -63.0, -124.0, -79.0, -77.0, -80.0, -109.0, -143.0, -94.0, -92.0, -73.0, -124.0, -81.0, -101.0, -100.0, -94.0, -125.0, -104.0, -100.0, -62.0, -100.0, -117.0, -74.0, -89.0, -116.0, -96.0, -175.0, -78.0, -84.0, -90.0, -77.0, -90.0, -81.0, -125.0, -103.0, -118.0, -95.0, -98.0, -84.0, -64.0, -255.0, -79.0, -76.0, -64.0, -146.0, -110.0, -108.0, -132.0, -96.0, -151.0, -80.0, -77.0, -82.0, -97.0, -156.0, -103.0, -98.0, -85.0, -61.0, -93.0, -84.0, -92.0, -115.0, -71.0, -74.0, -88.0, -70.0, -96.0, -142.0, -78.0, -78.0, -86.0, -82.0, -63.0, -82.0, -80.0, -97.0, -79.0, -84.0, -75.0, -62.0, -62.0, -119.0, -143.0, -112.0, -93.0, -99.0, -62.0, -69.0, -76.0, -87.0, -63.0, -63.0, -73.0, -106.0, -95.0, -75.0, -74.0, -94.0, -70.0, -76.0, -79.0, -93.0, -73.0, -89.0, -84.0, -91.0, -100.0, -90.0, -79.0, -90.0, -69.0, -83.0, -85.0, -95.0, -104.0, -76.0, -76.0, -93.0, -96.0, -106.0, -70.0, -87.0, -70.0, -71.0, -90.0, -63.0, -85.0, -71.0, -75.0, -87.0, -76.0, -97.0, -89.0, -81.0, -63.0, -74.0, -90.0, -117.0, -70.0, -64.0, -78.0, -99.0, -62.0, -76.0, -90.0, -82.0, -63.0, -74.0, -100.0, -71.0, -82.0, -69.0, -63.0, -85.0, -102.0, -72.0, -97.0, -97.0, -77.0, -70.0, -63.0, -89.0, -93.0, -79.0, -62.0, -89.0, -87.0, -62.0, -114.0, -71.0, -95.0, -70.0, -76.0, -85.0, -78.0, -118.0, -62.0, -87.0, -85.0, -89.0, -71.0, -71.0, -93.0, -88.0, -87.0, -74.0, -93.0, -94.0, -82.0, -79.0, -64.0, -69.0, -70.0, -96.0, -72.0, -71.0, -63.0, -97.0, -69.0, -71.0, -87.0, -77.0, -73.0, -97.0, -72.0, -62.0, -70.0, -72.0, -111.0, -88.0, -60.0, -94.0, -85.0, -110.0, -64.0, -76.0, -64.0, -63.0, -87.0, -67.0, -69.0, -78.0], [-500.0, -500.0, -277.0, -500.0, -500.0, -500.0, -500.0, -500.0, -500.0, -500.0, -500.0, -500.0, -325.0, -500.0, -500.0, -500.0, -500.0, -357.0, -490.0, -500.0, -406.0, -379.0, -405.0, -500.0, -454.0, -500.0, -500.0, -500.0, -400.0, -288.0, -345.0, -405.0, -470.0, -308.0, -269.0, -268.0, -160.0, -346.0, -335.0, -310.0, -234.0, -251.0, -273.0, -386.0, -291.0, -291.0, -261.0, -335.0, -282.0, -200.0, -385.0, -304.0, -363.0, -252.0, -251.0, -257.0, -411.0, -391.0, -244.0, -231.0, -142.0, -227.0, -254.0, -303.0, -190.0, -177.0, -147.0, -186.0, -404.0, -270.0, -253.0, -240.0, -395.0, -234.0, -199.0, -254.0, -197.0, -188.0, -221.0, -210.0, -192.0, -253.0, -180.0, -125.0, -271.0, -195.0, -171.0, -182.0, -162.0, -188.0, -187.0, -150.0, -134.0, -131.0, -168.0, -137.0, -99.0, -139.0, -131.0, -102.0, -157.0, -108.0, -234.0, -137.0, -137.0, -191.0, -99.0, -129.0, -157.0, -143.0, -115.0, -111.0, -100.0, -147.0, -155.0, -139.0, -107.0, -202.0, -92.0, -161.0, -158.0, -139.0, -122.0, -178.0, -94.0, -99.0, -138.0, -95.0, -142.0, -177.0, -105.0, -123.0, -103.0, -104.0, -107.0, -128.0, -148.0, -202.0, -153.0, -104.0, -106.0, -114.0, -128.0, -97.0, -119.0, -120.0, -179.0, -116.0, -121.0, -500.0, -97.0, -81.0, -172.0, -187.0, -96.0, -127.0, -110.0, -141.0, -157.0, -116.0, -81.0, -262.0, -107.0, -102.0, -143.0, -109.0, -109.0, -159.0, -102.0, -102.0, -128.0, -89.0, -126.0, -125.0, -171.0, -106.0, -130.0, -111.0, -85.0, -108.0, -106.0, -116.0, -123.0, -133.0, -95.0, -117.0, -207.0, -102.0, -135.0, -156.0, -111.0, -125.0, -118.0, -86.0, -101.0, -95.0, -101.0, -128.0, -113.0, -146.0, -114.0, -91.0, -123.0, -84.0, -100.0, -122.0, -143.0, -112.0, -94.0, -90.0, -100.0, -115.0, -111.0, -78.0, -99.0, -86.0, -84.0, -97.0, -169.0, -94.0, -111.0, -132.0, -137.0, -101.0, -124.0, -111.0, -130.0, -113.0, -101.0, -91.0, -99.0, -116.0, -93.0, -118.0, -108.0, -123.0, -115.0, -76.0, -128.0, -149.0, -93.0, -79.0, -100.0, -132.0, -87.0, -91.0, -120.0, -92.0, -151.0, -98.0, -105.0, -94.0, -84.0, -93.0, -127.0, -83.0, -94.0, -193.0, -99.0, -127.0, -107.0, -93.0, -88.0, -94.0, -110.0, -125.0, -134.0, -176.0, -95.0, -125.0, -141.0, -116.0, -104.0, -79.0, -92.0, -126.0, -109.0, -111.0, -98.0, -80.0, -98.0, -139.0, -102.0, -92.0, -87.0, -103.0, -115.0, -100.0, -105.0, -115.0, -94.0, -94.0, -107.0, -100.0, -153.0, -106.0, -75.0, -134.0, -99.0, -98.0, -102.0, -134.0, -106.0, -116.0, -112.0, -84.0, -87.0, -102.0, -138.0, -121.0, -82.0, -134.0, -134.0, -82.0, -105.0, -83.0, -112.0, -93.0, -132.0, -126.0, -129.0, -74.0, -83.0, -106.0, -76.0, -86.0, -89.0, -114.0, -133.0, -132.0, -100.0, -93.0, -129.0, -90.0, -116.0, -81.0, -102.0, -147.0, -86.0, -104.0, -100.0, -111.0, -87.0, -69.0, -80.0, -78.0, -90.0, -98.0, -91.0, -83.0, -91.0, -133.0, -118.0, -133.0, -98.0, -78.0, -105.0, -106.0, -125.0, -114.0, -107.0, -108.0, -93.0, -87.0, -128.0, -110.0, -131.0, -133.0, -96.0, -80.0, -84.0, -104.0, -116.0, -71.0, -84.0, -77.0, -85.0, -79.0, -86.0, -125.0, -94.0, -75.0, -113.0, -116.0, -91.0, -167.0, -76.0, -98.0, -87.0, -69.0, -76.0, -93.0, -125.0, -106.0, -93.0, -97.0, -153.0, -92.0, -123.0, -79.0, -92.0, -77.0, -70.0, -77.0, -111.0, -95.0, -72.0, -89.0, -90.0, -76.0, -111.0, -143.0, -77.0, -379.0, -74.0, -63.0, -120.0, -90.0, -81.0, -76.0, -82.0, -110.0, -74.0, -101.0, -82.0, -74.0, -76.0, -205.0, -63.0, -86.0, -78.0, -84.0, -86.0, -86.0, -87.0, -93.0, -77.0, -130.0, -82.0, -64.0, -82.0, -69.0, -75.0, -85.0, -100.0, -81.0, -83.0, -103.0, -77.0, -118.0, -87.0, -79.0, -85.0, -87.0, -93.0, -71.0, -75.0, -96.0, -75.0, -91.0, -75.0, -78.0, -89.0, -92.0, -94.0, -71.0, -71.0, -90.0, -111.0, -101.0, -104.0, -83.0, -87.0, -84.0, -86.0, -76.0, -72.0, -88.0, -101.0, -91.0, -97.0, -95.0, -86.0, -62.0, -78.0, -62.0, -62.0, -75.0, -87.0, -89.0, -71.0, -62.0, -100.0, -92.0, -75.0, -76.0, -88.0, -81.0, -88.0, -69.0, -74.0, -70.0, -73.0, -64.0, -87.0, -63.0, -97.0, -62.0, -105.0, -75.0, -93.0, -62.0, -62.0, -100.0, -94.0, -83.0, -96.0, -129.0, -70.0, -72.0, -94.0, -84.0, -79.0, -83.0, -78.0, -96.0, -70.0, -72.0, -70.0, -70.0, -75.0, -91.0, -72.0, -75.0, -78.0, -77.0, -70.0, -61.0, -76.0, -76.0, -89.0, -71.0, -77.0, -84.0, -93.0, -84.0, -86.0, -70.0, -78.0, -70.0, -79.0, -70.0, -95.0, -77.0, -70.0, -72.0, -99.0, -85.0, -157.0, -78.0, -72.0, -95.0, -93.0, -75.0, -88.0, -96.0, -78.0, -74.0, -84.0, -83.0, -64.0, -76.0, -71.0, -79.0, -79.0, -71.0, -110.0, -62.0, -70.0, -72.0, -70.0, -63.0], [-500.0, -500.0, -432.0, -500.0, -500.0, -500.0, -500.0, -500.0, -478.0, -496.0, -366.0, -500.0, -500.0, -500.0, -466.0, -500.0, -413.0, -500.0, -500.0, -304.0, -393.0, -278.0, -377.0, -392.0, -450.0, -275.0, -377.0, -287.0, -222.0, -282.0, -302.0, -246.0, -387.0, -322.0, -246.0, -341.0, -293.0, -254.0, -371.0, -234.0, -193.0, -154.0, -167.0, -190.0, -142.0, -279.0, -167.0, -232.0, -289.0, -238.0, -349.0, -277.0, -155.0, -185.0, -249.0, -221.0, -191.0, -158.0, -147.0, -195.0, -192.0, -156.0, -167.0, -152.0, -173.0, -149.0, -129.0, -182.0, -193.0, -239.0, -183.0, -193.0, -204.0, -187.0, -162.0, -196.0, -109.0, -272.0, -162.0, -170.0, -135.0, -170.0, -141.0, -178.0, -128.0, -171.0, -128.0, -252.0, -194.0, -148.0, -162.0, -132.0, -123.0, -137.0, -133.0, -147.0, -148.0, -153.0, -134.0, -141.0, -121.0, -118.0, -137.0, -127.0, -114.0, -147.0, -136.0, -135.0, -162.0, -135.0, -122.0, -126.0, -167.0, -104.0, -115.0, -128.0, -132.0, -106.0, -115.0, -109.0, -119.0, -101.0, -145.0, -120.0, -119.0, -105.0, -89.0, -119.0, -144.0, -92.0, -94.0, -110.0, -91.0, -120.0, -133.0, -133.0, -90.0, -74.0, -124.0, -110.0, -103.0, -116.0, -108.0, -235.0, -132.0, -86.0, -130.0, -103.0, -153.0, -159.0, -128.0, -104.0, -99.0, -92.0, -88.0, -163.0, -109.0, -102.0, -96.0, -157.0, -156.0, -148.0, -109.0, -135.0, -133.0, -109.0, -118.0, -123.0, -89.0, -114.0, -106.0, -99.0, -117.0, -102.0, -128.0, -110.0, -85.0, -99.0, -152.0, -103.0, -156.0, -141.0, -80.0, -283.0, -69.0, -132.0, -80.0, -100.0, -123.0, -84.0, -121.0, -97.0, -127.0, -88.0, -236.0, -141.0, -96.0, -100.0, -100.0, -98.0, -105.0, -143.0, -116.0, -108.0, -93.0, -98.0, -147.0, -89.0, -99.0, -97.0, -138.0, -184.0, -87.0, -83.0, -101.0, -115.0, -108.0, -130.0, -161.0, -100.0, -114.0, -92.0, -121.0, -92.0, -65.0, -86.0, -134.0, -141.0, -102.0, -107.0, -103.0, -116.0, -79.0, -83.0, -101.0, -115.0, -135.0, -106.0, -105.0, -135.0, -112.0, -137.0, -89.0, -103.0, -176.0, -121.0, -164.0, -80.0, -102.0, -170.0, -105.0, -100.0, -81.0, -88.0, -204.0, -83.0, -92.0, -88.0, -120.0, -127.0, -85.0, -74.0, -95.0, -81.0, -111.0, -148.0, -95.0, -96.0, -156.0, -96.0, -150.0, -158.0, -118.0, -69.0, -99.0, -92.0, -77.0, -88.0, -99.0, -101.0, -116.0, -94.0, -99.0, -93.0, -97.0, -86.0, -102.0, -120.0, -119.0, -88.0, -73.0, -154.0, -81.0, -144.0, -123.0, -89.0, -123.0, -111.0, -118.0, -95.0, -97.0, -90.0, -154.0, -105.0, -105.0, -132.0, -100.0, -110.0, -77.0, -93.0, -169.0, -100.0, -124.0, -82.0, -90.0, -138.0, -82.0, -93.0, -89.0, -144.0, -116.0, -89.0, -119.0, -103.0, -116.0, -83.0, -142.0, -95.0, -116.0, -75.0, -141.0, -121.0, -175.0, -148.0, -136.0, -115.0, -64.0, -110.0, -119.0, -105.0, -119.0, -111.0, -112.0, -88.0, -85.0, -88.0, -91.0, -144.0, -134.0, -122.0, -99.0, -103.0, -94.0, -135.0, -102.0, -125.0, -113.0, -93.0, -95.0, -107.0, -105.0, -88.0, -170.0, -94.0, -74.0, -98.0, -81.0, -78.0, -264.0, -84.0, -91.0, -94.0, -88.0, -120.0, -83.0, -150.0, -92.0, -114.0, -83.0, -89.0, -98.0, -90.0, -103.0, -92.0, -95.0, -69.0, -78.0, -62.0, -71.0, -71.0, -63.0, -72.0, -72.0, -71.0, -80.0, -90.0, -71.0, -86.0, -82.0, -92.0, -93.0, -78.0, -160.0, -114.0, -103.0, -91.0, -72.0, -85.0, -129.0, -81.0, -97.0, -129.0, -81.0, -81.0, -69.0, -72.0, -84.0, -84.0, -93.0, -76.0, -74.0, -78.0, -72.0, -96.0, -74.0, -88.0, -88.0, -97.0, -76.0, -79.0, -63.0, -90.0, -71.0, -74.0, -94.0, -91.0, -87.0, -81.0, -64.0, -86.0, -71.0, -76.0, -74.0, -85.0, -74.0, -81.0, -86.0, -77.0, -104.0, -71.0, -63.0, -92.0, -85.0, -72.0, -82.0, -66.0, -98.0, -91.0, -123.0, -71.0, -72.0, -109.0, -71.0, -82.0, -74.0, -82.0, -92.0, -87.0, -63.0, -88.0, -71.0, -84.0, -93.0, -86.0, -81.0, -85.0, -62.0, -62.0, -101.0, -80.0, -77.0, -72.0, -73.0, -63.0, -84.0, -107.0, -84.0, -72.0, -70.0, -70.0, -70.0, -70.0, -71.0, -92.0, -104.0, -84.0, -73.0, -83.0, -73.0, -71.0, -105.0, -70.0, -62.0, -83.0, -71.0, -123.0, -103.0, -78.0, -75.0, -63.0, -92.0, -76.0, -82.0, -63.0, -78.0, -86.0, -76.0, -95.0, -76.0, -70.0, -82.0, -70.0, -85.0, -95.0, -72.0, -112.0, -76.0, -62.0, -91.0, -71.0, -131.0, -85.0, -71.0, -68.0, -76.0, -95.0, -87.0, -72.0, -136.0, -78.0, -78.0, -76.0, -80.0, -92.0, -87.0, -75.0, -71.0, -70.0, -69.0, -97.0, -81.0, -71.0, -76.0, -86.0, -80.0, -70.0, -62.0, -75.0, -70.0, -92.0, -80.0, -91.0, -70.0, -71.0, -80.0, -63.0, -92.0, -80.0, -70.0, -99.0, -111.0, -69.0, -71.0, -70.0, -62.0, -71.0, -79.0, -85.0, -71.0, -77.0, -136.0, -68.0, -74.0, -69.0, -91.0, -86.0, -75.0, -129.0, -100.0, -96.0, -71.0, -70.0, -73.0, -97.0, -74.0, -63.0, -71.0, -62.0, -86.0, -71.0, -78.0, -69.0, -86.0, -84.0, -104.0, -70.0, -98.0, -108.0, -62.0, -98.0, -69.0, -92.0, -95.0, -77.0, -108.0, -70.0, -63.0, -93.0, -94.0, -63.0, -90.0, -79.0, -81.0, -109.0, -93.0, -121.0, -77.0, -67.0, -70.0, -101.0, -117.0, -76.0, -61.0, -61.0, -71.0, -76.0, -73.0, -84.0, -128.0, -71.0, -82.0, -77.0, -71.0, -69.0, -91.0, -70.0, -78.0, -91.0, -77.0, -78.0, -93.0, -93.0, -99.0, -69.0, -71.0, -70.0, -97.0, -64.0, -61.0, -71.0, -74.0, -62.0, -62.0, -77.0, -63.0, -78.0, -69.0, -71.0, -89.0, -71.0, -71.0, -71.0, -82.0, -78.0, -90.0, -80.0, -81.0, -73.0, -109.0, -100.0, -77.0, -71.0, -94.0, -83.0, -69.0, -71.0, -80.0, -71.0, -70.0, -76.0, -89.0, -63.0, -68.0, -62.0], [-500.0, -500.0, -292.0, -500.0, -500.0, -500.0, -500.0, -500.0, -500.0, -500.0, -500.0, -500.0, -500.0, -500.0, -500.0, -500.0, -304.0, -451.0, -500.0, -468.0, -500.0, -500.0, -374.0, -415.0, -263.0, -500.0, -323.0, -398.0, -151.0, -453.0, -500.0, -339.0, -223.0, -245.0, -298.0, -500.0, -398.0, -334.0, -187.0, -275.0, -259.0, -257.0, -161.0, -383.0, -338.0, -219.0, -253.0, -307.0, -169.0, -239.0, -246.0, -154.0, -183.0, -207.0, -215.0, -171.0, -177.0, -174.0, -169.0, -296.0, -185.0, -166.0, -500.0, -262.0, -201.0, -105.0, -285.0, -185.0, -289.0, -237.0, -138.0, -176.0, -137.0, -129.0, -140.0, -183.0, -256.0, -201.0, -122.0, -157.0, -195.0, -207.0, -153.0, -121.0, -161.0, -184.0, -105.0, -210.0, -138.0, -172.0, -172.0, -158.0, -226.0, -172.0, -178.0, -160.0, -134.0, -97.0, -120.0, -175.0, -157.0, -169.0, -145.0, -208.0, -183.0, -126.0, -93.0, -144.0, -110.0, -129.0, -102.0, -112.0, -146.0, -133.0, -158.0, -126.0, -134.0, -181.0, -119.0, -131.0, -124.0, -137.0, -127.0, -141.0, -126.0, -107.0, -110.0, -128.0, -102.0, -116.0, -120.0, -103.0, -102.0, -91.0, -187.0, -108.0, -151.0, -184.0, -153.0, -138.0, -68.0, -121.0, -124.0, -131.0, -104.0, -107.0, -113.0, -142.0, -105.0, -104.0, -141.0, -129.0, -185.0, -99.0, -114.0, -107.0, -93.0, -98.0, -126.0, -166.0, -158.0, -136.0, -121.0, -133.0, -99.0, -82.0, -107.0, -121.0, -113.0, -95.0, -172.0, -114.0, -125.0, -126.0, -118.0, -216.0, -124.0, -296.0, -87.0, -92.0, -104.0, -142.0, -99.0, -137.0, -108.0, -142.0, -128.0, -92.0, -139.0, -86.0, -116.0, -94.0, -136.0, -130.0, -88.0, -103.0, -152.0, -122.0, -114.0, -81.0, -127.0, -88.0, -126.0, -109.0, -91.0, -133.0, -99.0, -136.0, -122.0, -131.0, -81.0, -103.0, -102.0, -88.0, -101.0, -131.0, -108.0, -92.0, -89.0, -103.0, -122.0, -82.0, -87.0, -138.0, -100.0, -85.0, -91.0, -141.0, -71.0, -123.0, -94.0, -80.0, -94.0, -114.0, -138.0, -77.0, -128.0, -87.0, -109.0, -106.0, -124.0, -108.0, -126.0, -94.0, -118.0, -143.0, -90.0, -117.0, -112.0, -97.0, -117.0, -92.0, -86.0, -85.0, -84.0, -72.0, -135.0, -101.0, -106.0, -112.0, -127.0, -77.0, -191.0, -119.0, -109.0, -116.0, -121.0, -89.0, -97.0, -108.0, -120.0, -115.0, -66.0, -96.0, -92.0, -128.0, -110.0, -107.0, -101.0, -87.0, -131.0, -110.0, -91.0, -105.0, -103.0, -128.0, -75.0, -118.0, -109.0, -119.0, -94.0, -128.0, -107.0, -101.0, -109.0, -106.0, -104.0, -85.0, -78.0, -89.0, -88.0, -110.0, -112.0, -93.0, -93.0, -104.0, -136.0, -97.0, -118.0, -157.0, -88.0, -316.0, -115.0, -106.0, -107.0, -179.0, -106.0, -106.0, -78.0, -92.0, -104.0, -84.0, -118.0, -160.0, -81.0, -122.0, -80.0, -96.0, -113.0, -87.0, -64.0, -85.0, -95.0, -93.0, -158.0, -72.0, -96.0, -75.0, -115.0, -90.0, -89.0, -95.0, -102.0, -97.0, -82.0, -88.0, -108.0, -92.0, -74.0, -149.0, -94.0, -145.0, -128.0, -75.0, -102.0, -98.0, -85.0, -81.0, -70.0, -99.0, -107.0, -90.0, -110.0, -131.0, -83.0, -75.0, -93.0, -166.0, -76.0, -93.0, -93.0, -88.0, -120.0, -119.0, -78.0, -62.0, -92.0, -120.0, -106.0, -84.0, -98.0, -93.0, -87.0, -90.0, -91.0, -94.0, -69.0, -98.0, -109.0, -92.0, -102.0, -89.0, -84.0, -71.0, -98.0, -94.0, -78.0, -97.0, -91.0, -62.0, -80.0, -77.0, -76.0, -96.0, -102.0, -77.0, -74.0, -85.0, -70.0, -109.0, -96.0, -89.0, -76.0, -91.0, -77.0, -76.0, -74.0, -78.0, -89.0, -84.0, -95.0, -86.0, -72.0, -113.0, -84.0, -71.0, -87.0, -76.0, -76.0, -70.0, -87.0, -93.0, -89.0, -87.0, -78.0, -74.0, -75.0, -94.0, -89.0, -87.0, -63.0, -78.0, -88.0, -69.0, -62.0, -93.0, -150.0, -92.0, -72.0, -89.0, -74.0, -71.0, -77.0, -77.0, -84.0, -61.0, -80.0, -62.0, -75.0, -93.0, -79.0, -96.0, -108.0, -82.0, -84.0, -89.0, -74.0, -75.0, -69.0, -73.0, -91.0, -85.0, -139.0, -91.0, -72.0, -81.0, -104.0, -61.0, -93.0, -62.0, -77.0, -82.0, -77.0, -72.0, -71.0, -79.0, -122.0, -105.0, -69.0, -105.0, -76.0, -79.0, -87.0, -84.0, -75.0, -61.0, -77.0, -73.0, -74.0, -96.0, -61.0, -84.0, -63.0, -71.0, -69.0, -63.0, -70.0, -80.0, -91.0, -79.0, -71.0, -95.0, -62.0, -70.0, -87.0, -84.0, -98.0, -86.0, -74.0, -71.0, -75.0, -101.0, -77.0, -79.0, -89.0, -62.0, -86.0, -69.0, -62.0, -72.0, -107.0, -83.0, -83.0, -78.0, -89.0, -73.0, -63.0, -76.0, -80.0, -78.0, -101.0, -85.0, -69.0, -78.0, -63.0, -98.0, -62.0, -73.0, -62.0], [-500.0, -500.0, -331.0, -500.0, -500.0, -500.0, -500.0, -500.0, -500.0, -500.0, -486.0, -500.0, -500.0, -494.0, -497.0, -500.0, -435.0, -500.0, -500.0, -497.0, -449.0, -257.0, -353.0, -344.0, -440.0, -481.0, -415.0, -500.0, -343.0, -439.0, -371.0, -357.0, -319.0, -250.0, -394.0, -212.0, -482.0, -210.0, -184.0, -268.0, -234.0, -433.0, -493.0, -417.0, -261.0, -355.0, -424.0, -280.0, -300.0, -187.0, -249.0, -286.0, -281.0, -227.0, -185.0, -168.0, -165.0, -326.0, -141.0, -212.0, -246.0, -188.0, -176.0, -241.0, -128.0, -165.0, -191.0, -171.0, -230.0, -125.0, -240.0, -102.0, -276.0, -397.0, -295.0, -170.0, -164.0, -112.0, -188.0, -99.0, -180.0, -150.0, -249.0, -144.0, -148.0, -127.0, -139.0, -221.0, -210.0, -148.0, -216.0, -169.0, -166.0, -172.0, -151.0, -163.0, -99.0, -140.0, -96.0, -150.0, -144.0, -202.0, -184.0, -118.0, -112.0, -117.0, -225.0, -166.0, -143.0, -150.0, -142.0, -141.0, -152.0, -402.0, -116.0, -152.0, -138.0, -137.0, -111.0, -124.0, -136.0, -121.0, -123.0, -151.0, -166.0, -127.0, -113.0, -84.0, -101.0, -116.0, -108.0, -126.0, -137.0, -133.0, -126.0, -156.0, -134.0, -140.0, -89.0, -138.0, -205.0, -95.0, -122.0, -135.0, -107.0, -148.0, -110.0, -125.0, -104.0, -95.0, -109.0, -148.0, -108.0, -131.0, -141.0, -152.0, -139.0, -139.0, -107.0, -127.0, -139.0, -127.0, -146.0, -105.0, -101.0, -113.0, -128.0, -85.0, -117.0, -131.0, -95.0, -155.0, -227.0, -189.0, -104.0, -97.0, -99.0, -121.0, -78.0, -105.0, -113.0, -139.0, -102.0, -76.0, -159.0, -108.0, -117.0, -135.0, -153.0, -82.0, -147.0, -198.0, -175.0, -121.0, -115.0, -185.0, -107.0, -153.0, -115.0, -95.0, -88.0, -127.0, -111.0, -106.0, -113.0, -177.0, -114.0, -123.0, -108.0, -123.0, -92.0, -114.0, -138.0, -96.0, -126.0, -161.0, -121.0, -114.0, -114.0, -141.0, -85.0, -157.0, -88.0, -99.0, -103.0, -95.0, -107.0, -119.0, -115.0, -77.0, -106.0, -117.0, -101.0, -100.0, -101.0, -153.0, -101.0, -105.0, -83.0, -142.0, -88.0, -122.0, -128.0, -77.0, -115.0, -62.0, -107.0, -69.0, -138.0, -95.0, -112.0, -98.0, -90.0, -96.0, -111.0, -103.0, -146.0, -89.0, -92.0, -97.0, -83.0, -86.0, -106.0, -92.0, -82.0, -95.0, -81.0, -86.0, -96.0, -115.0, -86.0, -90.0, -98.0, -103.0, -120.0, -142.0, -147.0, -92.0, -98.0, -91.0, -96.0, -90.0, -103.0, -75.0, -81.0, -87.0, -90.0, -116.0, -89.0, -121.0, -113.0, -98.0, -147.0, -102.0, -94.0, -100.0, -117.0, -139.0, -84.0, -93.0, -108.0, -144.0, -83.0, -96.0, -108.0, -90.0, -116.0, -85.0, -116.0, -86.0, -133.0, -92.0, -89.0, -103.0, -92.0, -72.0, -90.0, -73.0, -97.0, -88.0, -82.0, -121.0, -146.0, -90.0, -92.0, -63.0, -115.0, -111.0, -99.0, -119.0, -70.0, -140.0, -81.0, -105.0, -136.0, -92.0, -116.0, -110.0, -73.0, -98.0, -85.0, -92.0, -71.0, -130.0, -121.0, -77.0, -93.0, -119.0, -105.0, -112.0, -105.0, -166.0, -76.0, -136.0, -116.0, -85.0, -137.0, -87.0, -97.0, -78.0, -81.0, -106.0, -84.0, -112.0, -83.0, -128.0, -100.0, -146.0, -86.0, -95.0, -107.0, -89.0, -126.0, -108.0, -119.0, -91.0, -115.0, -93.0, -101.0, -82.0, -132.0, -87.0, -97.0, -93.0, -102.0, -88.0, -75.0, -88.0, -119.0, -130.0, -63.0, -129.0, -118.0, -93.0, -132.0, -97.0, -122.0, -116.0, -129.0, -80.0, -124.0, -97.0, -80.0, -106.0, -113.0, -87.0, -144.0, -81.0, -122.0, -88.0, -123.0, -74.0, -109.0, -75.0, -135.0, -110.0, -77.0, -83.0, -142.0, -75.0, -91.0, -138.0, -92.0, -118.0, -101.0, -81.0, -100.0, -89.0, -114.0, -69.0, -80.0, -93.0, -78.0, -78.0, -87.0, -70.0, -82.0, -99.0, -76.0, -105.0, -107.0, -155.0, -87.0, -132.0, -75.0, -110.0, -76.0, -94.0, -94.0, -87.0, -70.0, -75.0, -77.0, -89.0, -75.0, -90.0, -85.0, -74.0, -83.0, -99.0, -63.0, -101.0, -74.0, -110.0, -87.0, -94.0, -78.0, -90.0, -74.0, -109.0, -93.0, -99.0, -92.0, -79.0, -95.0, -93.0, -83.0, -122.0, -63.0, -88.0, -82.0, -92.0, -87.0, -91.0, -75.0, -78.0, -94.0, -78.0, -116.0, -64.0, -71.0, -71.0, -99.0, -84.0, -83.0, -89.0, -136.0, -73.0, -94.0, -128.0, -87.0, -77.0, -80.0, -74.0, -65.0, -65.0, -95.0, -64.0, -71.0, -79.0, -65.0, -88.0, -93.0, -90.0, -103.0, -88.0, -71.0, -76.0, -79.0, -99.0, -85.0, -72.0, -86.0, -71.0, -111.0, -102.0, -84.0, -86.0, -79.0, -103.0, -100.0, -98.0, -104.0, -94.0, -138.0, -62.0, -63.0, -112.0, -84.0, -75.0, -76.0, -94.0, -77.0, -101.0, -71.0, -84.0, -83.0, -71.0, -92.0, -62.0, -63.0, -77.0, -78.0, -63.0, -62.0, -78.0, -94.0, -63.0, -87.0, -99.0, -89.0, -76.0, -75.0, -78.0, -100.0, -63.0, -70.0, -73.0, -62.0, -88.0, -63.0, -64.0, -88.0, -112.0, -84.0, -89.0, -75.0, -76.0, -78.0, -62.0, -62.0, -83.0, -74.0, -90.0, -96.0, -75.0, -62.0, -61.0, -113.0, -87.0, -78.0, -72.0, -70.0, -64.0, -82.0, -77.0, -108.0, -74.0, -93.0, -86.0, -70.0, -85.0, -72.0, -84.0, -79.0, -76.0, -87.0, -83.0, -87.0, -79.0, -89.0, -81.0, -73.0, -93.0, -89.0, -500.0, -95.0, -82.0, -76.0, -94.0, -71.0, -86.0, -85.0, -63.0, -80.0, -85.0, -72.0, -90.0, -76.0, -112.0, -86.0, -96.0, -69.0, -89.0, -93.0, -89.0, -70.0, -77.0, -72.0, -74.0, -87.0, -79.0, -70.0, -92.0, -70.0, -71.0, -71.0, -102.0, -77.0, -100.0, -93.0, -69.0, -100.0, -78.0, -73.0, -77.0, -71.0, -92.0, -110.0, -80.0, -107.0, -62.0, -79.0, -64.0, -93.0, -64.0, -89.0, -69.0, -70.0, -71.0, -84.0, -95.0, -74.0, -76.0, -102.0, -88.0, -74.0, -72.0, -88.0, -70.0, -62.0, -84.0, -86.0, -70.0, -62.0, -70.0, -71.0, -70.0, -63.0, -97.0, -62.0, -80.0, -74.0, -70.0, -74.0, -69.0, -78.0, -63.0, -70.0, -62.0, -96.0, -63.0, -105.0, -63.0, -63.0, -70.0, -86.0, -70.0, -62.0, -63.0, -63.0, -69.0, -91.0, -67.0, -63.0, -87.0], [-500.0, -500.0, -500.0, -500.0, -500.0, -475.0, -500.0, -500.0, -500.0, -500.0, -500.0, -500.0, -500.0, -336.0, -500.0, -500.0, -482.0, -500.0, -405.0, -500.0, -421.0, -359.0, -230.0, -500.0, -386.0, -399.0, -318.0, -284.0, -297.0, -383.0, -293.0, -463.0, -214.0, -206.0, -292.0, -233.0, -247.0, -351.0, -288.0, -191.0, -223.0, -274.0, -159.0, -301.0, -199.0, -159.0, -164.0, -221.0, -171.0, -180.0, -302.0, -275.0, -180.0, -216.0, -204.0, -164.0, -185.0, -129.0, -194.0, -200.0, -155.0, -171.0, -318.0, -181.0, -229.0, -182.0, -175.0, -260.0, -247.0, -228.0, -120.0, -204.0, -103.0, -234.0, -113.0, -156.0, -161.0, -159.0, -362.0, -120.0, -167.0, -186.0, -130.0, -104.0, -178.0, -106.0, -124.0, -124.0, -129.0, -217.0, -127.0, -163.0, -118.0, -143.0, -125.0, -133.0, -119.0, -159.0, -136.0, -141.0, -128.0, -121.0, -110.0, -120.0, -132.0, -104.0, -125.0, -232.0, -117.0, -157.0, -163.0, -224.0, -167.0, -116.0, -93.0, -150.0, -127.0, -155.0, -99.0, -100.0, -166.0, -126.0, -150.0, -125.0, -184.0, -109.0, -189.0, -123.0, -112.0, -147.0, -126.0, -109.0, -126.0, -125.0, -148.0, -126.0, -109.0, -86.0, -105.0, -129.0, -129.0, -146.0, -83.0, -95.0, -105.0, -95.0, -354.0, -132.0, -107.0, -83.0, -142.0, -109.0, -116.0, -115.0, -99.0, -118.0, -64.0, -114.0, -81.0, -119.0, -99.0, -119.0, -125.0, -108.0, -102.0, -128.0, -78.0, -118.0, -208.0, -88.0, -120.0, -130.0, -131.0, -112.0, -94.0, -139.0, -125.0, -144.0, -123.0, -182.0, -122.0, -109.0, -87.0, -144.0, -127.0, -107.0, -118.0, -128.0, -99.0, -141.0, -151.0, -104.0, -125.0, -128.0, -104.0, -113.0, -86.0, -90.0, -135.0, -97.0, -137.0, -83.0, -87.0, -116.0, -76.0, -73.0, -87.0, -121.0, -121.0, -91.0, -81.0, -135.0, -103.0, -103.0, -85.0, -134.0, -144.0, -94.0, -93.0, -74.0, -132.0, -109.0, -70.0, -72.0, -111.0, -98.0, -95.0, -84.0, -103.0, -157.0, -109.0, -130.0, -66.0, -107.0, -97.0, -85.0, -93.0, -70.0, -69.0, -83.0, -109.0, -133.0, -74.0, -110.0, -76.0, -194.0, -93.0, -89.0, -122.0, -90.0, -110.0, -86.0, -83.0, -74.0, -75.0, -85.0, -117.0, -100.0, -83.0, -109.0, -77.0, -118.0, -86.0, -85.0, -94.0, -97.0, -83.0, -94.0, -90.0, -90.0, -95.0, -93.0, -73.0, -100.0, -137.0, -93.0, -98.0, -63.0, -84.0, -95.0, -134.0, -110.0, -193.0, -100.0, -98.0, -95.0, -114.0, -80.0, -149.0, -213.0, -101.0, -92.0, -85.0, -183.0, -97.0, -117.0, -100.0, -91.0, -85.0, -109.0, -187.0, -107.0, -95.0, -144.0, -102.0, -108.0, -87.0, -95.0, -135.0, -86.0, -117.0, -126.0, -79.0, -96.0, -74.0, -76.0, -133.0, -77.0, -123.0, -94.0, -94.0, -78.0, -99.0, -83.0, -105.0, -92.0, -95.0, -142.0, -95.0, -131.0, -72.0, -147.0, -115.0, -92.0, -96.0, -124.0, -88.0, -97.0, -143.0, -93.0, -111.0, -141.0, -116.0, -105.0, -75.0, -92.0, -114.0, -62.0, -99.0, -102.0, -145.0, -111.0, -151.0, -91.0, -121.0, -78.0, -83.0, -70.0, -96.0, -94.0, -89.0, -93.0, -76.0, -99.0, -75.0, -87.0, -94.0, -94.0, -93.0, -64.0, -100.0, -95.0, -73.0, -95.0, -72.0, -78.0, -84.0, -96.0, -99.0, -69.0, -93.0, -92.0, -90.0, -62.0, -89.0, -87.0, -101.0, -95.0, -63.0, -88.0, -89.0, -74.0, -87.0, -88.0, -75.0, -71.0, -82.0, -62.0, -63.0, -69.0, -89.0, -76.0, -69.0, -98.0, -69.0, -74.0, -98.0, -92.0, -71.0, -76.0, -70.0, -94.0, -62.0, -92.0, -100.0, -63.0, -88.0, -70.0, -82.0, -93.0, -105.0, -70.0, -94.0, -77.0, -63.0, -85.0, -90.0, -71.0, -97.0, -84.0, -86.0, -63.0, -75.0, -74.0, -70.0, -90.0, -72.0, -86.0, -89.0, -88.0, -86.0, -80.0, -108.0, -71.0, -62.0, -93.0, -98.0, -84.0, -71.0, -75.0, -72.0, -91.0, -93.0, -62.0, -75.0, -76.0, -93.0, -72.0, -103.0, -63.0, -78.0, -90.0, -70.0, -93.0, -63.0, -78.0, -96.0, -71.0, -77.0, -94.0, -73.0, -69.0, -97.0, -86.0, -102.0, -107.0, -99.0, -73.0, -78.0, -85.0, -90.0, -76.0, -78.0, -107.0, -77.0, -75.0, -70.0, -88.0, -101.0, -78.0, -63.0, -71.0, -101.0, -73.0, -78.0, -79.0, -84.0, -87.0, -85.0, -72.0, -75.0, -71.0, -73.0, -86.0, -88.0, -77.0, -69.0, -74.0, -76.0, -87.0, -92.0, -69.0, -72.0, -94.0, -87.0, -90.0, -61.0, -71.0, -61.0, -87.0, -69.0, -85.0, -70.0, -63.0, -86.0, -80.0, -73.0, -77.0, -83.0, -76.0, -70.0, -87.0, -69.0, -86.0, -63.0, -62.0, -64.0, -74.0, -85.0, -71.0], [-500.0, -500.0, -500.0, -500.0, -500.0, -500.0, -500.0, -500.0, -500.0, -259.0, -500.0, -500.0, -402.0, -500.0, -487.0, -500.0, -384.0, -406.0, -381.0, -500.0, -500.0, -500.0, -250.0, -500.0, -253.0, -265.0, -300.0, -398.0, -500.0, -165.0, -245.0, -373.0, -181.0, -314.0, -345.0, -192.0, -242.0, -307.0, -274.0, -330.0, -290.0, -175.0, -279.0, -219.0, -228.0, -259.0, -257.0, -179.0, -217.0, -139.0, -184.0, -210.0, -219.0, -192.0, -196.0, -190.0, -174.0, -112.0, -215.0, -176.0, -177.0, -213.0, -183.0, -153.0, -226.0, -136.0, -122.0, -177.0, -166.0, -130.0, -136.0, -150.0, -106.0, -127.0, -163.0, -142.0, -136.0, -141.0, -151.0, -148.0, -144.0, -133.0, -132.0, -118.0, -151.0, -117.0, -160.0, -188.0, -128.0, -92.0, -119.0, -130.0, -187.0, -116.0, -121.0, -148.0, -166.0, -180.0, -126.0, -113.0, -100.0, -106.0, -128.0, -122.0, -112.0, -133.0, -112.0, -130.0, -103.0, -123.0, -195.0, -114.0, -105.0, -117.0, -83.0, -99.0, -101.0, -159.0, -161.0, -115.0, -108.0, -109.0, -180.0, -127.0, -136.0, -110.0, -122.0, -129.0, -129.0, -108.0, -109.0, -124.0, -158.0, -153.0, -126.0, -120.0, -126.0, -88.0, -107.0, -107.0, -81.0, -163.0, -110.0, -115.0, -126.0, -172.0, -214.0, -90.0, -116.0, -98.0, -116.0, -93.0, -141.0, -136.0, -86.0, -137.0, -87.0, -500.0, -95.0, -83.0, -124.0, -95.0, -84.0, -113.0, -119.0, -131.0, -134.0, -96.0, -114.0, -132.0, -94.0, -75.0, -90.0, -103.0, -108.0, -104.0, -119.0, -93.0, -108.0, -106.0, -84.0, -88.0, -127.0, -109.0, -81.0, -137.0, -89.0, -104.0, -149.0, -87.0, -103.0, -109.0, -147.0, -167.0, -102.0, -100.0, -117.0, -127.0, -116.0, -122.0, -103.0, -174.0, -82.0, -104.0, -103.0, -141.0, -116.0, -90.0, -98.0, -120.0, -116.0, -109.0, -94.0, -171.0, -88.0, -95.0, -121.0, -500.0, -90.0, -103.0, -100.0, -96.0, -112.0, -113.0, -140.0, -87.0, -87.0, -123.0, -83.0, -107.0, -132.0, -85.0, -62.0, -103.0, -82.0, -104.0, -90.0, -119.0, -120.0, -90.0, -174.0, -81.0, -108.0, -63.0, -70.0, -74.0, -95.0, -105.0, -96.0, -141.0, -96.0, -77.0, -101.0, -118.0, -169.0, -91.0, -132.0, -85.0, -74.0, -135.0, -152.0, -130.0, -85.0, -75.0, -76.0, -80.0, -103.0, -105.0, -155.0, -114.0, -88.0, -101.0, -135.0, -75.0, -70.0, -78.0, -91.0, -104.0, -133.0, -91.0, -101.0, -115.0, -70.0, -62.0, -91.0, -132.0, -92.0, -70.0, -83.0, -74.0, -102.0, -73.0, -132.0, -102.0, -93.0, -76.0, -76.0, -103.0, -130.0, -97.0, -84.0, -89.0, -81.0, -132.0, -90.0, -77.0, -78.0, -77.0, -143.0, -108.0, -115.0, -88.0, -71.0, -75.0, -78.0, -74.0, -99.0, -77.0, -117.0, -128.0, -106.0, -91.0, -64.0, -104.0, -84.0, -90.0, -93.0, -86.0, -99.0, -88.0, -77.0, -83.0, -92.0, -112.0, -69.0, -120.0, -78.0, -92.0, -125.0, -107.0, -104.0, -82.0, -78.0, -106.0, -95.0, -100.0, -104.0, -93.0, -76.0, -83.0, -85.0, -71.0, -111.0, -150.0, -80.0, -124.0, -143.0, -80.0, -75.0, -133.0, -97.0, -81.0, -112.0, -92.0, -99.0, -76.0, -128.0, -89.0, -91.0, -87.0, -96.0, -103.0, -94.0, -93.0, -96.0, -95.0, -82.0, -74.0, -92.0, -71.0, -97.0, -79.0, -96.0, -120.0, -93.0, -68.0, -108.0, -64.0, -79.0, -89.0, -83.0, -73.0, -89.0, -98.0, -95.0, -88.0, -102.0, -81.0, -88.0, -76.0, -110.0, -85.0, -75.0, -100.0, -70.0, -70.0, -71.0, -77.0, -102.0, -76.0, -63.0, -81.0, -80.0, -86.0, -88.0, -95.0, -91.0, -105.0, -102.0, -74.0, -94.0, -96.0, -75.0, -71.0, -100.0, -111.0, -95.0, -77.0, -83.0, -63.0, -86.0, -75.0, -92.0, -71.0, -104.0, -70.0, -103.0, -79.0, -90.0, -86.0, -69.0, -69.0, -88.0, -82.0, -101.0, -78.0, -88.0, -84.0, -70.0, -99.0, -63.0, -91.0, -87.0, -71.0, -80.0, -121.0, -96.0, -70.0, -94.0, -71.0, -92.0, -70.0, -112.0, -76.0, -80.0, -116.0, -125.0, -70.0, -72.0, -63.0, -93.0, -93.0, -63.0, -75.0, -86.0, -93.0, -90.0, -74.0, -63.0, -93.0, -90.0, -71.0, -63.0, -72.0, -72.0, -74.0, -88.0, -71.0, -71.0, -71.0, -78.0, -69.0, -62.0, -63.0, -117.0, -63.0, -82.0, -84.0, -97.0, -79.0, -104.0, -106.0, -105.0, -70.0, -77.0, -73.0, -63.0, -93.0, -62.0, -77.0, -93.0, -84.0, -82.0, -62.0, -124.0, -63.0, -69.0, -79.0, -70.0, -85.0, -77.0, -70.0, -79.0, -105.0, -78.0, -71.0, -69.0, -70.0, -85.0, -63.0, -105.0, -70.0, -70.0, -70.0, -72.0, -86.0, -71.0, -98.0, -72.0, -82.0, -100.0, -79.0, -93.0, -104.0, -92.0, -70.0, -114.0, -81.0, -81.0, -80.0, -110.0, -71.0, -70.0, -71.0, -70.0, -71.0, -70.0, -64.0, -76.0, -72.0, -93.0, -98.0, -107.0, -84.0, -171.0, -68.0, -86.0, -81.0, -127.0, -95.0, -70.0, -70.0, -84.0, -62.0, -75.0, -72.0, -90.0, -75.0, -70.0, -71.0, -92.0, -78.0, -89.0, -76.0, -70.0, -73.0, -62.0, -63.0, -86.0, -62.0, -72.0, -86.0, -118.0, -85.0, -79.0, -64.0, -70.0, -62.0, -81.0, -70.0, -82.0, -99.0, -71.0, -76.0, -69.0, -70.0, -64.0, -64.0, -95.0, -70.0, -69.0, -74.0, -71.0, -70.0, -98.0], [-500.0, -500.0, -220.0, -500.0, -500.0, -500.0, -500.0, -500.0, -500.0, -500.0, -500.0, -500.0, -406.0, -500.0, -447.0, -389.0, -353.0, -500.0, -500.0, -490.0, -500.0, -494.0, -252.0, -284.0, -332.0, -363.0, -500.0, -374.0, -500.0, -495.0, -463.0, -459.0, -357.0, -471.0, -500.0, -387.0, -500.0, -280.0, -500.0, -277.0, -422.0, -289.0, -306.0, -349.0, -385.0, -372.0, -260.0, -221.0, -284.0, -220.0, -175.0, -430.0, -362.0, -370.0, -350.0, -224.0, -229.0, -206.0, -265.0, -263.0, -157.0, -225.0, -176.0, -140.0, -171.0, -184.0, -414.0, -195.0, -155.0, -178.0, -178.0, -135.0, -153.0, -162.0, -182.0, -219.0, -190.0, -252.0, -198.0, -213.0, -186.0, -186.0, -264.0, -126.0, -157.0, -144.0, -144.0, -179.0, -94.0, -83.0, -174.0, -154.0, -148.0, -184.0, -102.0, -159.0, -126.0, -148.0, -137.0, -204.0, -271.0, -175.0, -162.0, -135.0, -144.0, -103.0, -133.0, -183.0, -118.0, -121.0, -130.0, -171.0, -166.0, -147.0, -153.0, -103.0, -145.0, -188.0, -105.0, -128.0, -129.0, -201.0, -162.0, -147.0, -147.0, -177.0, -127.0, -107.0, -173.0, -100.0, -165.0, -168.0, -112.0, -157.0, -171.0, -190.0, -171.0, -135.0, -104.0, -110.0, -102.0, -151.0, -228.0, -183.0, -94.0, -100.0, -125.0, -123.0, -114.0, -123.0, -88.0, -97.0, -99.0, -212.0, -100.0, -109.0, -377.0, -69.0, -118.0, -94.0, -116.0, -112.0, -126.0, -139.0, -149.0, -114.0, -122.0, -144.0, -85.0, -97.0, -103.0, -102.0, -91.0, -116.0, -91.0, -98.0, -116.0, -134.0, -84.0, -121.0, -101.0, -97.0, -125.0, -110.0, -111.0, -120.0, -94.0, -82.0, -153.0, -146.0, -99.0, -102.0, -64.0, -92.0, -160.0, -97.0, -85.0, -138.0, -97.0, -99.0, -265.0, -97.0, -199.0, -152.0, -136.0, -126.0, -89.0, -95.0, -97.0, -89.0, -123.0, -93.0, -97.0, -141.0, -95.0, -154.0, -94.0, -122.0, -95.0, -111.0, -139.0, -178.0, -82.0, -124.0, -97.0, -109.0, -97.0, -96.0, -140.0, -95.0, -118.0, -125.0, -95.0, -100.0, -104.0, -75.0, -195.0, -89.0, -118.0, -80.0, -87.0, -132.0, -101.0, -108.0, -87.0, -145.0, -104.0, -103.0, -114.0, -139.0, -101.0, -86.0, -97.0, -104.0, -109.0, -120.0, -112.0, -100.0, -89.0, -117.0, -120.0, -87.0, -129.0, -82.0, -140.0, -85.0, -101.0, -105.0, -91.0, -86.0, -116.0, -94.0, -104.0, -116.0, -87.0, -135.0, -118.0, -85.0, -87.0, -118.0, -121.0, -110.0, -78.0, -183.0, -96.0, -70.0, -96.0, -118.0, -101.0, -93.0, -105.0, -84.0, -76.0, -89.0, -85.0, -99.0, -123.0, -146.0, -88.0, -95.0, -84.0, -98.0, -114.0, -75.0, -86.0, -82.0, -103.0, -97.0, -75.0, -116.0, -101.0, -131.0, -93.0, -83.0, -82.0, -114.0, -103.0, -84.0, -81.0, -89.0, -77.0, -104.0, -123.0, -100.0, -80.0, -105.0, -105.0, -92.0, -104.0, -86.0, -159.0, -100.0, -138.0, -115.0, -105.0, -77.0, -120.0, -87.0, -112.0, -130.0, -105.0, -89.0, -93.0, -92.0, -147.0, -100.0, -122.0, -95.0, -86.0, -106.0, -88.0, -136.0, -94.0, -127.0, -94.0, -113.0, -89.0, -76.0, -122.0, -124.0, -74.0, -146.0, -107.0, -121.0, -187.0, -86.0, -153.0, -76.0, -91.0, -119.0, -103.0, -99.0, -83.0, -130.0, -75.0, -128.0, -116.0, -76.0, -100.0, -94.0, -84.0, -148.0, -88.0, -107.0, -127.0, -96.0, -79.0, -121.0, -94.0, -94.0, -125.0, -123.0, -117.0, -102.0, -85.0, -85.0, -121.0, -123.0, -115.0, -99.0, -98.0, -96.0, -109.0, -119.0, -107.0, -100.0, -77.0, -113.0, -105.0, -79.0, -110.0, -79.0, -70.0, -64.0, -105.0, -105.0, -132.0, -98.0, -137.0, -85.0, -122.0, -89.0, -127.0, -103.0, -70.0, -101.0, -129.0, -121.0, -103.0, -114.0, -128.0, -79.0, -100.0, -93.0, -101.0, -82.0, -101.0, -98.0, -96.0, -82.0, -71.0, -115.0, -82.0, -86.0, -129.0, -83.0, -83.0, -83.0, -76.0, -82.0, -93.0, -82.0, -99.0, -73.0, -71.0, -89.0, -74.0, -96.0, -75.0, -85.0, -102.0, -82.0, -79.0, -129.0, -123.0, -71.0, -63.0, -77.0, -82.0, -79.0, -79.0, -77.0, -71.0, -78.0, -72.0, -83.0, -72.0, -63.0, -79.0, -71.0, -76.0, -108.0, -87.0, -62.0, -87.0, -74.0, -85.0, -78.0, -75.0, -97.0, -88.0, -80.0, -142.0, -125.0, -110.0, -104.0, -81.0, -74.0, -63.0, -90.0, -69.0, -86.0, -95.0, -81.0, -76.0, -78.0, -87.0, -74.0, -71.0, -79.0, -69.0, -87.0, -78.0, -72.0, -83.0, -89.0, -70.0, -70.0, -95.0, -75.0, -88.0, -91.0, -69.0, -104.0, -83.0, -81.0, -71.0, -83.0, -74.0, -89.0, -84.0, -110.0, -72.0, -73.0, -83.0, -61.0, -94.0, -79.0, -94.0, -87.0, -95.0, -61.0, -97.0, -70.0, -80.0, -77.0, -80.0, -79.0, -62.0, -78.0, -87.0, -97.0, -100.0, -79.0, -70.0, -86.0, -62.0, -71.0, -70.0, -76.0, -77.0, -62.0, -81.0, -79.0, -85.0, -61.0, -85.0, -89.0, -86.0, -71.0, -90.0, -63.0, -83.0, -68.0, -87.0, -73.0, -93.0, -75.0, -83.0, -72.0, -83.0, -82.0, -71.0, -84.0, -72.0, -70.0, -70.0, -70.0, -62.0, -91.0, -83.0, -92.0, -62.0, -96.0, -62.0]]\n"
     ]
    }
   ],
   "source": [
    "print(np.mean(solved_episodes))\n",
    "print(solved_episodes)\n",
    "print(np.mean(solved_episodes))\n",
    "print(rewards)"
   ]
  }
 ],
 "metadata": {
  "accelerator": "GPU",
  "colab": {
   "collapsed_sections": [
    "5LBh6_lOVBdN"
   ],
   "name": "Tutorial_4.ipynb",
   "provenance": []
  },
  "kernelspec": {
   "display_name": "Python 3 (ipykernel)",
   "language": "python",
   "name": "python3"
  },
  "language_info": {
   "codemirror_mode": {
    "name": "ipython",
    "version": 3
   },
   "file_extension": ".py",
   "mimetype": "text/x-python",
   "name": "python",
   "nbconvert_exporter": "python",
   "pygments_lexer": "ipython3",
   "version": "3.9.2"
  }
 },
 "nbformat": 4,
 "nbformat_minor": 1
}
